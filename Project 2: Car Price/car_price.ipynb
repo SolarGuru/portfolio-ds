{
 "cells": [
  {
   "cell_type": "markdown",
   "metadata": {},
   "source": [
    "# Проект: Определение стоимости автомобилей"
   ]
  },
  {
   "cell_type": "markdown",
   "metadata": {},
   "source": [
    "## Постановка задачи (кратко)"
   ]
  },
  {
   "cell_type": "markdown",
   "metadata": {},
   "source": [
    "Сервис по продаже автомобилей с пробегом «Не бит, не крашен» разрабатывает приложение для привлечения новых клиентов. В нём можно быстро узнать рыночную стоимость своего автомобиля. В вашем распоряжении исторические данные: технические характеристики, комплектации и цены автомобилей. Вам нужно построить модель для определения стоимости. \n",
    "\n",
    "Метрика конечной модели RMSE не должна превышать 2500.\n",
    "\n",
    "Заказчику важны:\n",
    "\n",
    "- качество предсказания;\n",
    "- скорость предсказания;\n",
    "- время обучения."
   ]
  },
  {
   "cell_type": "markdown",
   "metadata": {},
   "source": [
    "## Подготовка данных"
   ]
  },
  {
   "cell_type": "code",
   "execution_count": 1,
   "metadata": {},
   "outputs": [],
   "source": [
    "import pandas as pd\n",
    "import numpy as np\n",
    "from sklearn.model_selection import train_test_split\n",
    "from sklearn.preprocessing import StandardScaler\n",
    "\n",
    "import lightgbm as lgb\n",
    "from sklearn.ensemble import RandomForestRegressor\n",
    "from sklearn.linear_model import LinearRegression\n",
    "from sklearn.linear_model import SGDRegressor\n",
    "\n",
    "from sklearn.metrics import mean_squared_error"
   ]
  },
  {
   "cell_type": "markdown",
   "metadata": {},
   "source": [
    "Загрузим и изучим данные:"
   ]
  },
  {
   "cell_type": "code",
   "execution_count": 2,
   "metadata": {},
   "outputs": [
    {
     "name": "stdout",
     "output_type": "stream",
     "text": [
      "<class 'pandas.core.frame.DataFrame'>\n",
      "RangeIndex: 354369 entries, 0 to 354368\n",
      "Data columns (total 16 columns):\n",
      " #   Column             Non-Null Count   Dtype \n",
      "---  ------             --------------   ----- \n",
      " 0   DateCrawled        354369 non-null  object\n",
      " 1   Price              354369 non-null  int64 \n",
      " 2   VehicleType        316879 non-null  object\n",
      " 3   RegistrationYear   354369 non-null  int64 \n",
      " 4   Gearbox            334536 non-null  object\n",
      " 5   Power              354369 non-null  int64 \n",
      " 6   Model              334664 non-null  object\n",
      " 7   Kilometer          354369 non-null  int64 \n",
      " 8   RegistrationMonth  354369 non-null  int64 \n",
      " 9   FuelType           321474 non-null  object\n",
      " 10  Brand              354369 non-null  object\n",
      " 11  Repaired           283215 non-null  object\n",
      " 12  DateCreated        354369 non-null  object\n",
      " 13  NumberOfPictures   354369 non-null  int64 \n",
      " 14  PostalCode         354369 non-null  int64 \n",
      " 15  LastSeen           354369 non-null  object\n",
      "dtypes: int64(7), object(9)\n",
      "memory usage: 43.3+ MB\n"
     ]
    }
   ],
   "source": [
    "df = pd.read_csv('/datasets/autos.csv')\n",
    "df.info()"
   ]
  },
  {
   "cell_type": "code",
   "execution_count": 3,
   "metadata": {},
   "outputs": [
    {
     "data": {
      "text/html": [
       "<div>\n",
       "<style scoped>\n",
       "    .dataframe tbody tr th:only-of-type {\n",
       "        vertical-align: middle;\n",
       "    }\n",
       "\n",
       "    .dataframe tbody tr th {\n",
       "        vertical-align: top;\n",
       "    }\n",
       "\n",
       "    .dataframe thead th {\n",
       "        text-align: right;\n",
       "    }\n",
       "</style>\n",
       "<table border=\"1\" class=\"dataframe\">\n",
       "  <thead>\n",
       "    <tr style=\"text-align: right;\">\n",
       "      <th></th>\n",
       "      <th>DateCrawled</th>\n",
       "      <th>Price</th>\n",
       "      <th>VehicleType</th>\n",
       "      <th>RegistrationYear</th>\n",
       "      <th>Gearbox</th>\n",
       "      <th>Power</th>\n",
       "      <th>Model</th>\n",
       "      <th>Kilometer</th>\n",
       "      <th>RegistrationMonth</th>\n",
       "      <th>FuelType</th>\n",
       "      <th>Brand</th>\n",
       "      <th>Repaired</th>\n",
       "      <th>DateCreated</th>\n",
       "      <th>NumberOfPictures</th>\n",
       "      <th>PostalCode</th>\n",
       "      <th>LastSeen</th>\n",
       "    </tr>\n",
       "  </thead>\n",
       "  <tbody>\n",
       "    <tr>\n",
       "      <th>0</th>\n",
       "      <td>2016-03-24 11:52:17</td>\n",
       "      <td>480</td>\n",
       "      <td>NaN</td>\n",
       "      <td>1993</td>\n",
       "      <td>manual</td>\n",
       "      <td>0</td>\n",
       "      <td>golf</td>\n",
       "      <td>150000</td>\n",
       "      <td>0</td>\n",
       "      <td>petrol</td>\n",
       "      <td>volkswagen</td>\n",
       "      <td>NaN</td>\n",
       "      <td>2016-03-24 00:00:00</td>\n",
       "      <td>0</td>\n",
       "      <td>70435</td>\n",
       "      <td>2016-04-07 03:16:57</td>\n",
       "    </tr>\n",
       "    <tr>\n",
       "      <th>1</th>\n",
       "      <td>2016-03-24 10:58:45</td>\n",
       "      <td>18300</td>\n",
       "      <td>coupe</td>\n",
       "      <td>2011</td>\n",
       "      <td>manual</td>\n",
       "      <td>190</td>\n",
       "      <td>NaN</td>\n",
       "      <td>125000</td>\n",
       "      <td>5</td>\n",
       "      <td>gasoline</td>\n",
       "      <td>audi</td>\n",
       "      <td>yes</td>\n",
       "      <td>2016-03-24 00:00:00</td>\n",
       "      <td>0</td>\n",
       "      <td>66954</td>\n",
       "      <td>2016-04-07 01:46:50</td>\n",
       "    </tr>\n",
       "    <tr>\n",
       "      <th>2</th>\n",
       "      <td>2016-03-14 12:52:21</td>\n",
       "      <td>9800</td>\n",
       "      <td>suv</td>\n",
       "      <td>2004</td>\n",
       "      <td>auto</td>\n",
       "      <td>163</td>\n",
       "      <td>grand</td>\n",
       "      <td>125000</td>\n",
       "      <td>8</td>\n",
       "      <td>gasoline</td>\n",
       "      <td>jeep</td>\n",
       "      <td>NaN</td>\n",
       "      <td>2016-03-14 00:00:00</td>\n",
       "      <td>0</td>\n",
       "      <td>90480</td>\n",
       "      <td>2016-04-05 12:47:46</td>\n",
       "    </tr>\n",
       "    <tr>\n",
       "      <th>3</th>\n",
       "      <td>2016-03-17 16:54:04</td>\n",
       "      <td>1500</td>\n",
       "      <td>small</td>\n",
       "      <td>2001</td>\n",
       "      <td>manual</td>\n",
       "      <td>75</td>\n",
       "      <td>golf</td>\n",
       "      <td>150000</td>\n",
       "      <td>6</td>\n",
       "      <td>petrol</td>\n",
       "      <td>volkswagen</td>\n",
       "      <td>no</td>\n",
       "      <td>2016-03-17 00:00:00</td>\n",
       "      <td>0</td>\n",
       "      <td>91074</td>\n",
       "      <td>2016-03-17 17:40:17</td>\n",
       "    </tr>\n",
       "    <tr>\n",
       "      <th>4</th>\n",
       "      <td>2016-03-31 17:25:20</td>\n",
       "      <td>3600</td>\n",
       "      <td>small</td>\n",
       "      <td>2008</td>\n",
       "      <td>manual</td>\n",
       "      <td>69</td>\n",
       "      <td>fabia</td>\n",
       "      <td>90000</td>\n",
       "      <td>7</td>\n",
       "      <td>gasoline</td>\n",
       "      <td>skoda</td>\n",
       "      <td>no</td>\n",
       "      <td>2016-03-31 00:00:00</td>\n",
       "      <td>0</td>\n",
       "      <td>60437</td>\n",
       "      <td>2016-04-06 10:17:21</td>\n",
       "    </tr>\n",
       "  </tbody>\n",
       "</table>\n",
       "</div>"
      ],
      "text/plain": [
       "           DateCrawled  Price VehicleType  RegistrationYear Gearbox  Power  \\\n",
       "0  2016-03-24 11:52:17    480         NaN              1993  manual      0   \n",
       "1  2016-03-24 10:58:45  18300       coupe              2011  manual    190   \n",
       "2  2016-03-14 12:52:21   9800         suv              2004    auto    163   \n",
       "3  2016-03-17 16:54:04   1500       small              2001  manual     75   \n",
       "4  2016-03-31 17:25:20   3600       small              2008  manual     69   \n",
       "\n",
       "   Model  Kilometer  RegistrationMonth  FuelType       Brand Repaired  \\\n",
       "0   golf     150000                  0    petrol  volkswagen      NaN   \n",
       "1    NaN     125000                  5  gasoline        audi      yes   \n",
       "2  grand     125000                  8  gasoline        jeep      NaN   \n",
       "3   golf     150000                  6    petrol  volkswagen       no   \n",
       "4  fabia      90000                  7  gasoline       skoda       no   \n",
       "\n",
       "           DateCreated  NumberOfPictures  PostalCode             LastSeen  \n",
       "0  2016-03-24 00:00:00                 0       70435  2016-04-07 03:16:57  \n",
       "1  2016-03-24 00:00:00                 0       66954  2016-04-07 01:46:50  \n",
       "2  2016-03-14 00:00:00                 0       90480  2016-04-05 12:47:46  \n",
       "3  2016-03-17 00:00:00                 0       91074  2016-03-17 17:40:17  \n",
       "4  2016-03-31 00:00:00                 0       60437  2016-04-06 10:17:21  "
      ]
     },
     "execution_count": 3,
     "metadata": {},
     "output_type": "execute_result"
    }
   ],
   "source": [
    "df.head()"
   ]
  },
  {
   "cell_type": "code",
   "execution_count": 4,
   "metadata": {},
   "outputs": [
    {
     "data": {
      "text/html": [
       "<div>\n",
       "<style scoped>\n",
       "    .dataframe tbody tr th:only-of-type {\n",
       "        vertical-align: middle;\n",
       "    }\n",
       "\n",
       "    .dataframe tbody tr th {\n",
       "        vertical-align: top;\n",
       "    }\n",
       "\n",
       "    .dataframe thead th {\n",
       "        text-align: right;\n",
       "    }\n",
       "</style>\n",
       "<table border=\"1\" class=\"dataframe\">\n",
       "  <thead>\n",
       "    <tr style=\"text-align: right;\">\n",
       "      <th></th>\n",
       "      <th>Price</th>\n",
       "      <th>RegistrationYear</th>\n",
       "      <th>Power</th>\n",
       "      <th>Kilometer</th>\n",
       "      <th>RegistrationMonth</th>\n",
       "      <th>NumberOfPictures</th>\n",
       "      <th>PostalCode</th>\n",
       "    </tr>\n",
       "  </thead>\n",
       "  <tbody>\n",
       "    <tr>\n",
       "      <th>count</th>\n",
       "      <td>354369.000000</td>\n",
       "      <td>354369.000000</td>\n",
       "      <td>354369.000000</td>\n",
       "      <td>354369.000000</td>\n",
       "      <td>354369.000000</td>\n",
       "      <td>354369.0</td>\n",
       "      <td>354369.000000</td>\n",
       "    </tr>\n",
       "    <tr>\n",
       "      <th>mean</th>\n",
       "      <td>4416.656776</td>\n",
       "      <td>2004.234448</td>\n",
       "      <td>110.094337</td>\n",
       "      <td>128211.172535</td>\n",
       "      <td>5.714645</td>\n",
       "      <td>0.0</td>\n",
       "      <td>50508.689087</td>\n",
       "    </tr>\n",
       "    <tr>\n",
       "      <th>std</th>\n",
       "      <td>4514.158514</td>\n",
       "      <td>90.227958</td>\n",
       "      <td>189.850405</td>\n",
       "      <td>37905.341530</td>\n",
       "      <td>3.726421</td>\n",
       "      <td>0.0</td>\n",
       "      <td>25783.096248</td>\n",
       "    </tr>\n",
       "    <tr>\n",
       "      <th>min</th>\n",
       "      <td>0.000000</td>\n",
       "      <td>1000.000000</td>\n",
       "      <td>0.000000</td>\n",
       "      <td>5000.000000</td>\n",
       "      <td>0.000000</td>\n",
       "      <td>0.0</td>\n",
       "      <td>1067.000000</td>\n",
       "    </tr>\n",
       "    <tr>\n",
       "      <th>25%</th>\n",
       "      <td>1050.000000</td>\n",
       "      <td>1999.000000</td>\n",
       "      <td>69.000000</td>\n",
       "      <td>125000.000000</td>\n",
       "      <td>3.000000</td>\n",
       "      <td>0.0</td>\n",
       "      <td>30165.000000</td>\n",
       "    </tr>\n",
       "    <tr>\n",
       "      <th>50%</th>\n",
       "      <td>2700.000000</td>\n",
       "      <td>2003.000000</td>\n",
       "      <td>105.000000</td>\n",
       "      <td>150000.000000</td>\n",
       "      <td>6.000000</td>\n",
       "      <td>0.0</td>\n",
       "      <td>49413.000000</td>\n",
       "    </tr>\n",
       "    <tr>\n",
       "      <th>75%</th>\n",
       "      <td>6400.000000</td>\n",
       "      <td>2008.000000</td>\n",
       "      <td>143.000000</td>\n",
       "      <td>150000.000000</td>\n",
       "      <td>9.000000</td>\n",
       "      <td>0.0</td>\n",
       "      <td>71083.000000</td>\n",
       "    </tr>\n",
       "    <tr>\n",
       "      <th>max</th>\n",
       "      <td>20000.000000</td>\n",
       "      <td>9999.000000</td>\n",
       "      <td>20000.000000</td>\n",
       "      <td>150000.000000</td>\n",
       "      <td>12.000000</td>\n",
       "      <td>0.0</td>\n",
       "      <td>99998.000000</td>\n",
       "    </tr>\n",
       "  </tbody>\n",
       "</table>\n",
       "</div>"
      ],
      "text/plain": [
       "               Price  RegistrationYear          Power      Kilometer  \\\n",
       "count  354369.000000     354369.000000  354369.000000  354369.000000   \n",
       "mean     4416.656776       2004.234448     110.094337  128211.172535   \n",
       "std      4514.158514         90.227958     189.850405   37905.341530   \n",
       "min         0.000000       1000.000000       0.000000    5000.000000   \n",
       "25%      1050.000000       1999.000000      69.000000  125000.000000   \n",
       "50%      2700.000000       2003.000000     105.000000  150000.000000   \n",
       "75%      6400.000000       2008.000000     143.000000  150000.000000   \n",
       "max     20000.000000       9999.000000   20000.000000  150000.000000   \n",
       "\n",
       "       RegistrationMonth  NumberOfPictures     PostalCode  \n",
       "count      354369.000000          354369.0  354369.000000  \n",
       "mean            5.714645               0.0   50508.689087  \n",
       "std             3.726421               0.0   25783.096248  \n",
       "min             0.000000               0.0    1067.000000  \n",
       "25%             3.000000               0.0   30165.000000  \n",
       "50%             6.000000               0.0   49413.000000  \n",
       "75%             9.000000               0.0   71083.000000  \n",
       "max            12.000000               0.0   99998.000000  "
      ]
     },
     "execution_count": 4,
     "metadata": {},
     "output_type": "execute_result"
    }
   ],
   "source": [
    "df.describe()"
   ]
  },
  {
   "cell_type": "markdown",
   "metadata": {},
   "source": [
    "В данных присутствуют категориальные и количественные признаки, есть пропуски и аномалии, необходима предобработка. Выполним её:"
   ]
  },
  {
   "cell_type": "code",
   "execution_count": 5,
   "metadata": {},
   "outputs": [
    {
     "data": {
      "text/plain": [
       "0       10772\n",
       "500      5670\n",
       "1500     5394\n",
       "1000     4649\n",
       "1200     4594\n",
       "Name: Price, dtype: int64"
      ]
     },
     "execution_count": 5,
     "metadata": {},
     "output_type": "execute_result"
    }
   ],
   "source": [
    "df.Price.value_counts().head(5)"
   ]
  },
  {
   "cell_type": "code",
   "execution_count": 6,
   "metadata": {},
   "outputs": [
    {
     "data": {
      "text/plain": [
       "0    10772\n",
       "1     1189\n",
       "5       26\n",
       "2       12\n",
       "8        9\n",
       "9        8\n",
       "3        8\n",
       "7        3\n",
       "4        1\n",
       "Name: Price, dtype: int64"
      ]
     },
     "execution_count": 6,
     "metadata": {},
     "output_type": "execute_result"
    }
   ],
   "source": [
    "df[df['Price'] < 10].Price.value_counts()"
   ]
  },
  {
   "cell_type": "markdown",
   "metadata": {},
   "source": [
    "Найдены аномально низкие цены в целевом признаке. Действительно ли авто отдаются даром или за символическую плату - не известно. Пока оставим как есть, продолжим EDA."
   ]
  },
  {
   "cell_type": "markdown",
   "metadata": {},
   "source": [
    "Для удобства заменим пропуски в категориальных признаках на *unknown*:"
   ]
  },
  {
   "cell_type": "code",
   "execution_count": 7,
   "metadata": {},
   "outputs": [],
   "source": [
    "cat_features = ['VehicleType', 'Gearbox', 'Model', 'FuelType', 'Brand', 'Repaired']\n",
    "num_features = ['RegistrationYear', 'Power', 'Kilometer', 'RegistrationMonth']\n",
    "exc_features = ['DateCrawled', 'DateCreated', 'NumberOfPictures', 'PostalCode', 'LastSeen']"
   ]
  },
  {
   "cell_type": "code",
   "execution_count": 8,
   "metadata": {},
   "outputs": [],
   "source": [
    "df = df.fillna(value=dict(zip(cat_features, ['unknown'] * len(cat_features))))"
   ]
  },
  {
   "cell_type": "markdown",
   "metadata": {},
   "source": [
    "Столбцы модели и марки автомобиля тесно связаны. Объединим их в один признак:"
   ]
  },
  {
   "cell_type": "code",
   "execution_count": 9,
   "metadata": {},
   "outputs": [],
   "source": [
    "df['Model'] = df['Brand'] + ' ' + df['Model']\n",
    "df = df.drop('Brand', axis=1)\n",
    "cat_features.remove('Brand')"
   ]
  },
  {
   "cell_type": "markdown",
   "metadata": {},
   "source": [
    "Столбцы года и месяца регистрации также объединим в один:"
   ]
  },
  {
   "cell_type": "code",
   "execution_count": 10,
   "metadata": {},
   "outputs": [],
   "source": [
    "df.loc[df['RegistrationMonth'] == 0, 'RegistrationMonth'] = 1\n",
    "df['RegistrationYear'] = df['RegistrationYear'] + (df['RegistrationMonth'] - 1) / 12\n",
    "df = df.drop('RegistrationMonth', axis=1)\n",
    "num_features.remove('RegistrationMonth')"
   ]
  },
  {
   "cell_type": "markdown",
   "metadata": {},
   "source": [
    "Остальные количественные признаки намеренно **изменять не будем**: если такие неоднозначные данные пришли в продакшн, то модель всё равно должна уметь работать с аномальными данными.\n",
    "\n",
    "Отбросим неинформативные столбцы:"
   ]
  },
  {
   "cell_type": "code",
   "execution_count": 11,
   "metadata": {},
   "outputs": [],
   "source": [
    "df = df.drop(exc_features, axis=1)"
   ]
  },
  {
   "cell_type": "code",
   "execution_count": 12,
   "metadata": {},
   "outputs": [
    {
     "name": "stdout",
     "output_type": "stream",
     "text": [
      "<class 'pandas.core.frame.DataFrame'>\n",
      "RangeIndex: 354369 entries, 0 to 354368\n",
      "Data columns (total 9 columns):\n",
      " #   Column            Non-Null Count   Dtype  \n",
      "---  ------            --------------   -----  \n",
      " 0   Price             354369 non-null  int64  \n",
      " 1   VehicleType       354369 non-null  object \n",
      " 2   RegistrationYear  354369 non-null  float64\n",
      " 3   Gearbox           354369 non-null  object \n",
      " 4   Power             354369 non-null  int64  \n",
      " 5   Model             354369 non-null  object \n",
      " 6   Kilometer         354369 non-null  int64  \n",
      " 7   FuelType          354369 non-null  object \n",
      " 8   Repaired          354369 non-null  object \n",
      "dtypes: float64(1), int64(3), object(5)\n",
      "memory usage: 24.3+ MB\n"
     ]
    }
   ],
   "source": [
    "df.info()"
   ]
  },
  {
   "cell_type": "markdown",
   "metadata": {},
   "source": [
    "Пропусков не осталось, но есть подозрения на пропущенные аномалии. Проведем анализ тщательнее с использованием дополнительных библиотек."
   ]
  },
  {
   "cell_type": "code",
   "execution_count": 13,
   "metadata": {},
   "outputs": [
    {
     "name": "stdout",
     "output_type": "stream",
     "text": [
      "Requirement already satisfied: pandas-profiling[notebook] in /opt/conda/lib/python3.9/site-packages (3.6.6)\n",
      "Requirement already satisfied: ydata-profiling in /opt/conda/lib/python3.9/site-packages (from pandas-profiling[notebook]) (4.1.2)\n",
      "Requirement already satisfied: jupyter-core>=4.6.3 in /opt/conda/lib/python3.9/site-packages (from pandas-profiling[notebook]) (4.7.1)\n",
      "Requirement already satisfied: jupyter-client>=5.3.4 in /opt/conda/lib/python3.9/site-packages (from pandas-profiling[notebook]) (6.1.12)\n",
      "Requirement already satisfied: ipywidgets>=7.5.1 in /opt/conda/lib/python3.9/site-packages (from pandas-profiling[notebook]) (7.6.3)\n",
      "Requirement already satisfied: ipython>=4.0.0 in /opt/conda/lib/python3.9/site-packages (from ipywidgets>=7.5.1->pandas-profiling[notebook]) (7.25.0)\n",
      "Requirement already satisfied: ipykernel>=4.5.1 in /opt/conda/lib/python3.9/site-packages (from ipywidgets>=7.5.1->pandas-profiling[notebook]) (6.0.1)\n",
      "Requirement already satisfied: nbformat>=4.2.0 in /opt/conda/lib/python3.9/site-packages (from ipywidgets>=7.5.1->pandas-profiling[notebook]) (5.1.3)\n",
      "Requirement already satisfied: widgetsnbextension~=3.5.0 in /opt/conda/lib/python3.9/site-packages (from ipywidgets>=7.5.1->pandas-profiling[notebook]) (3.5.2)\n",
      "Requirement already satisfied: jupyterlab-widgets>=1.0.0 in /opt/conda/lib/python3.9/site-packages (from ipywidgets>=7.5.1->pandas-profiling[notebook]) (3.0.2)\n",
      "Requirement already satisfied: traitlets>=4.3.1 in /opt/conda/lib/python3.9/site-packages (from ipywidgets>=7.5.1->pandas-profiling[notebook]) (5.0.5)\n",
      "Requirement already satisfied: tornado>=4.2 in /opt/conda/lib/python3.9/site-packages (from ipykernel>=4.5.1->ipywidgets>=7.5.1->pandas-profiling[notebook]) (6.1)\n",
      "Requirement already satisfied: debugpy>=1.0.0 in /opt/conda/lib/python3.9/site-packages (from ipykernel>=4.5.1->ipywidgets>=7.5.1->pandas-profiling[notebook]) (1.3.0)\n",
      "Requirement already satisfied: pickleshare in /opt/conda/lib/python3.9/site-packages (from ipython>=4.0.0->ipywidgets>=7.5.1->pandas-profiling[notebook]) (0.7.5)\n",
      "Requirement already satisfied: decorator in /opt/conda/lib/python3.9/site-packages (from ipython>=4.0.0->ipywidgets>=7.5.1->pandas-profiling[notebook]) (5.0.9)\n",
      "Requirement already satisfied: matplotlib-inline in /opt/conda/lib/python3.9/site-packages (from ipython>=4.0.0->ipywidgets>=7.5.1->pandas-profiling[notebook]) (0.1.2)\n",
      "Requirement already satisfied: setuptools>=18.5 in /opt/conda/lib/python3.9/site-packages (from ipython>=4.0.0->ipywidgets>=7.5.1->pandas-profiling[notebook]) (49.6.0.post20210108)\n",
      "Requirement already satisfied: backcall in /opt/conda/lib/python3.9/site-packages (from ipython>=4.0.0->ipywidgets>=7.5.1->pandas-profiling[notebook]) (0.2.0)\n",
      "Requirement already satisfied: jedi>=0.16 in /opt/conda/lib/python3.9/site-packages (from ipython>=4.0.0->ipywidgets>=7.5.1->pandas-profiling[notebook]) (0.18.0)\n",
      "Requirement already satisfied: pygments in /opt/conda/lib/python3.9/site-packages (from ipython>=4.0.0->ipywidgets>=7.5.1->pandas-profiling[notebook]) (2.9.0)\n",
      "Requirement already satisfied: pexpect>4.3 in /opt/conda/lib/python3.9/site-packages (from ipython>=4.0.0->ipywidgets>=7.5.1->pandas-profiling[notebook]) (4.8.0)\n",
      "Requirement already satisfied: prompt-toolkit!=3.0.0,!=3.0.1,<3.1.0,>=2.0.0 in /opt/conda/lib/python3.9/site-packages (from ipython>=4.0.0->ipywidgets>=7.5.1->pandas-profiling[notebook]) (3.0.19)\n",
      "Requirement already satisfied: parso<0.9.0,>=0.8.0 in /opt/conda/lib/python3.9/site-packages (from jedi>=0.16->ipython>=4.0.0->ipywidgets>=7.5.1->pandas-profiling[notebook]) (0.8.2)\n",
      "Requirement already satisfied: pyzmq>=13 in /opt/conda/lib/python3.9/site-packages (from jupyter-client>=5.3.4->pandas-profiling[notebook]) (22.1.0)\n",
      "Requirement already satisfied: python-dateutil>=2.1 in /opt/conda/lib/python3.9/site-packages (from jupyter-client>=5.3.4->pandas-profiling[notebook]) (2.8.1)\n",
      "Requirement already satisfied: ipython-genutils in /opt/conda/lib/python3.9/site-packages (from nbformat>=4.2.0->ipywidgets>=7.5.1->pandas-profiling[notebook]) (0.2.0)\n",
      "Requirement already satisfied: jsonschema!=2.5.0,>=2.4 in /opt/conda/lib/python3.9/site-packages (from nbformat>=4.2.0->ipywidgets>=7.5.1->pandas-profiling[notebook]) (3.2.0)\n",
      "Requirement already satisfied: pyrsistent>=0.14.0 in /opt/conda/lib/python3.9/site-packages (from jsonschema!=2.5.0,>=2.4->nbformat>=4.2.0->ipywidgets>=7.5.1->pandas-profiling[notebook]) (0.17.3)\n",
      "Requirement already satisfied: six>=1.11.0 in /opt/conda/lib/python3.9/site-packages (from jsonschema!=2.5.0,>=2.4->nbformat>=4.2.0->ipywidgets>=7.5.1->pandas-profiling[notebook]) (1.16.0)\n",
      "Requirement already satisfied: attrs>=17.4.0 in /opt/conda/lib/python3.9/site-packages (from jsonschema!=2.5.0,>=2.4->nbformat>=4.2.0->ipywidgets>=7.5.1->pandas-profiling[notebook]) (21.2.0)\n",
      "Requirement already satisfied: ptyprocess>=0.5 in /opt/conda/lib/python3.9/site-packages (from pexpect>4.3->ipython>=4.0.0->ipywidgets>=7.5.1->pandas-profiling[notebook]) (0.7.0)\n",
      "Requirement already satisfied: wcwidth in /opt/conda/lib/python3.9/site-packages (from prompt-toolkit!=3.0.0,!=3.0.1,<3.1.0,>=2.0.0->ipython>=4.0.0->ipywidgets>=7.5.1->pandas-profiling[notebook]) (0.2.5)\n",
      "Requirement already satisfied: notebook>=4.4.1 in /opt/conda/lib/python3.9/site-packages (from widgetsnbextension~=3.5.0->ipywidgets>=7.5.1->pandas-profiling[notebook]) (6.4.0)\n",
      "Requirement already satisfied: nbconvert in /opt/conda/lib/python3.9/site-packages (from notebook>=4.4.1->widgetsnbextension~=3.5.0->ipywidgets>=7.5.1->pandas-profiling[notebook]) (6.1.0)\n",
      "Requirement already satisfied: terminado>=0.8.3 in /opt/conda/lib/python3.9/site-packages (from notebook>=4.4.1->widgetsnbextension~=3.5.0->ipywidgets>=7.5.1->pandas-profiling[notebook]) (0.10.1)\n",
      "Requirement already satisfied: prometheus-client in /opt/conda/lib/python3.9/site-packages (from notebook>=4.4.1->widgetsnbextension~=3.5.0->ipywidgets>=7.5.1->pandas-profiling[notebook]) (0.11.0)\n",
      "Requirement already satisfied: argon2-cffi in /opt/conda/lib/python3.9/site-packages (from notebook>=4.4.1->widgetsnbextension~=3.5.0->ipywidgets>=7.5.1->pandas-profiling[notebook]) (20.1.0)\n",
      "Requirement already satisfied: jinja2 in /opt/conda/lib/python3.9/site-packages (from notebook>=4.4.1->widgetsnbextension~=3.5.0->ipywidgets>=7.5.1->pandas-profiling[notebook]) (3.0.1)\n",
      "Requirement already satisfied: Send2Trash>=1.5.0 in /opt/conda/lib/python3.9/site-packages (from notebook>=4.4.1->widgetsnbextension~=3.5.0->ipywidgets>=7.5.1->pandas-profiling[notebook]) (1.7.1)\n",
      "Requirement already satisfied: cffi>=1.0.0 in /opt/conda/lib/python3.9/site-packages (from argon2-cffi->notebook>=4.4.1->widgetsnbextension~=3.5.0->ipywidgets>=7.5.1->pandas-profiling[notebook]) (1.14.5)\n",
      "Requirement already satisfied: pycparser in /opt/conda/lib/python3.9/site-packages (from cffi>=1.0.0->argon2-cffi->notebook>=4.4.1->widgetsnbextension~=3.5.0->ipywidgets>=7.5.1->pandas-profiling[notebook]) (2.20)\n",
      "Requirement already satisfied: MarkupSafe>=2.0 in /opt/conda/lib/python3.9/site-packages (from jinja2->notebook>=4.4.1->widgetsnbextension~=3.5.0->ipywidgets>=7.5.1->pandas-profiling[notebook]) (2.1.1)\n",
      "Requirement already satisfied: testpath in /opt/conda/lib/python3.9/site-packages (from nbconvert->notebook>=4.4.1->widgetsnbextension~=3.5.0->ipywidgets>=7.5.1->pandas-profiling[notebook]) (0.5.0)\n",
      "Requirement already satisfied: entrypoints>=0.2.2 in /opt/conda/lib/python3.9/site-packages (from nbconvert->notebook>=4.4.1->widgetsnbextension~=3.5.0->ipywidgets>=7.5.1->pandas-profiling[notebook]) (0.3)\n",
      "Requirement already satisfied: nbclient<0.6.0,>=0.5.0 in /opt/conda/lib/python3.9/site-packages (from nbconvert->notebook>=4.4.1->widgetsnbextension~=3.5.0->ipywidgets>=7.5.1->pandas-profiling[notebook]) (0.5.3)\n",
      "Requirement already satisfied: defusedxml in /opt/conda/lib/python3.9/site-packages (from nbconvert->notebook>=4.4.1->widgetsnbextension~=3.5.0->ipywidgets>=7.5.1->pandas-profiling[notebook]) (0.7.1)\n",
      "Requirement already satisfied: mistune<2,>=0.8.1 in /opt/conda/lib/python3.9/site-packages (from nbconvert->notebook>=4.4.1->widgetsnbextension~=3.5.0->ipywidgets>=7.5.1->pandas-profiling[notebook]) (0.8.4)\n",
      "Requirement already satisfied: pandocfilters>=1.4.1 in /opt/conda/lib/python3.9/site-packages (from nbconvert->notebook>=4.4.1->widgetsnbextension~=3.5.0->ipywidgets>=7.5.1->pandas-profiling[notebook]) (1.4.2)\n",
      "Requirement already satisfied: bleach in /opt/conda/lib/python3.9/site-packages (from nbconvert->notebook>=4.4.1->widgetsnbextension~=3.5.0->ipywidgets>=7.5.1->pandas-profiling[notebook]) (3.3.0)\n",
      "Requirement already satisfied: jupyterlab-pygments in /opt/conda/lib/python3.9/site-packages (from nbconvert->notebook>=4.4.1->widgetsnbextension~=3.5.0->ipywidgets>=7.5.1->pandas-profiling[notebook]) (0.1.2)\n",
      "Requirement already satisfied: async-generator in /opt/conda/lib/python3.9/site-packages (from nbclient<0.6.0,>=0.5.0->nbconvert->notebook>=4.4.1->widgetsnbextension~=3.5.0->ipywidgets>=7.5.1->pandas-profiling[notebook]) (1.10)\n",
      "Requirement already satisfied: nest-asyncio in /opt/conda/lib/python3.9/site-packages (from nbclient<0.6.0,>=0.5.0->nbconvert->notebook>=4.4.1->widgetsnbextension~=3.5.0->ipywidgets>=7.5.1->pandas-profiling[notebook]) (1.5.1)\n",
      "Requirement already satisfied: webencodings in /opt/conda/lib/python3.9/site-packages (from bleach->nbconvert->notebook>=4.4.1->widgetsnbextension~=3.5.0->ipywidgets>=7.5.1->pandas-profiling[notebook]) (0.5.1)\n",
      "Requirement already satisfied: packaging in /opt/conda/lib/python3.9/site-packages (from bleach->nbconvert->notebook>=4.4.1->widgetsnbextension~=3.5.0->ipywidgets>=7.5.1->pandas-profiling[notebook]) (21.3)\n",
      "Requirement already satisfied: pyparsing!=3.0.5,>=2.0.2 in /opt/conda/lib/python3.9/site-packages (from packaging->bleach->nbconvert->notebook>=4.4.1->widgetsnbextension~=3.5.0->ipywidgets>=7.5.1->pandas-profiling[notebook]) (2.4.7)\n",
      "Requirement already satisfied: phik<0.13,>=0.11.1 in /opt/conda/lib/python3.9/site-packages (from ydata-profiling->pandas-profiling[notebook]) (0.12.3)\n",
      "Requirement already satisfied: PyYAML<6.1,>=5.0.0 in /opt/conda/lib/python3.9/site-packages (from ydata-profiling->pandas-profiling[notebook]) (6.0)\n",
      "Requirement already satisfied: pandas!=1.4.0,<1.6,>1.1 in /opt/conda/lib/python3.9/site-packages (from ydata-profiling->pandas-profiling[notebook]) (1.2.4)\n",
      "Requirement already satisfied: htmlmin==0.1.12 in /opt/conda/lib/python3.9/site-packages (from ydata-profiling->pandas-profiling[notebook]) (0.1.12)\n",
      "Requirement already satisfied: numpy<1.24,>=1.16.0 in /opt/conda/lib/python3.9/site-packages (from ydata-profiling->pandas-profiling[notebook]) (1.21.1)\n",
      "Requirement already satisfied: matplotlib<3.7,>=3.2 in /opt/conda/lib/python3.9/site-packages (from ydata-profiling->pandas-profiling[notebook]) (3.3.4)\n",
      "Requirement already satisfied: scipy<1.10,>=1.4.1 in /opt/conda/lib/python3.9/site-packages (from ydata-profiling->pandas-profiling[notebook]) (1.9.1)\n",
      "Requirement already satisfied: typeguard<2.14,>=2.13.2 in /opt/conda/lib/python3.9/site-packages (from ydata-profiling->pandas-profiling[notebook]) (2.13.3)\n",
      "Requirement already satisfied: seaborn<0.13,>=0.10.1 in /opt/conda/lib/python3.9/site-packages (from ydata-profiling->pandas-profiling[notebook]) (0.11.1)\n",
      "Requirement already satisfied: tqdm<4.65,>=4.48.2 in /opt/conda/lib/python3.9/site-packages (from ydata-profiling->pandas-profiling[notebook]) (4.61.2)\n",
      "Requirement already satisfied: requests<2.29,>=2.24.0 in /opt/conda/lib/python3.9/site-packages (from ydata-profiling->pandas-profiling[notebook]) (2.25.1)\n",
      "Requirement already satisfied: multimethod<1.10,>=1.4 in /opt/conda/lib/python3.9/site-packages (from ydata-profiling->pandas-profiling[notebook]) (1.9.1)\n",
      "Requirement already satisfied: statsmodels<0.14,>=0.13.2 in /opt/conda/lib/python3.9/site-packages (from ydata-profiling->pandas-profiling[notebook]) (0.13.2)\n",
      "Requirement already satisfied: pydantic<1.11,>=1.8.1 in /opt/conda/lib/python3.9/site-packages (from ydata-profiling->pandas-profiling[notebook]) (1.8.2)\n",
      "Requirement already satisfied: imagehash==4.3.1 in /opt/conda/lib/python3.9/site-packages (from ydata-profiling->pandas-profiling[notebook]) (4.3.1)\n",
      "Requirement already satisfied: visions[type_image_path]==0.7.5 in /opt/conda/lib/python3.9/site-packages (from ydata-profiling->pandas-profiling[notebook]) (0.7.5)\n",
      "Requirement already satisfied: pillow in /opt/conda/lib/python3.9/site-packages (from imagehash==4.3.1->ydata-profiling->pandas-profiling[notebook]) (8.4.0)\n",
      "Requirement already satisfied: PyWavelets in /opt/conda/lib/python3.9/site-packages (from imagehash==4.3.1->ydata-profiling->pandas-profiling[notebook]) (1.4.1)\n",
      "Requirement already satisfied: tangled-up-in-unicode>=0.0.4 in /opt/conda/lib/python3.9/site-packages (from visions[type_image_path]==0.7.5->ydata-profiling->pandas-profiling[notebook]) (0.2.0)\n",
      "Requirement already satisfied: networkx>=2.4 in /opt/conda/lib/python3.9/site-packages (from visions[type_image_path]==0.7.5->ydata-profiling->pandas-profiling[notebook]) (3.1)\n",
      "Requirement already satisfied: cycler>=0.10 in /opt/conda/lib/python3.9/site-packages (from matplotlib<3.7,>=3.2->ydata-profiling->pandas-profiling[notebook]) (0.11.0)\n",
      "Requirement already satisfied: kiwisolver>=1.0.1 in /opt/conda/lib/python3.9/site-packages (from matplotlib<3.7,>=3.2->ydata-profiling->pandas-profiling[notebook]) (1.4.4)\n",
      "Requirement already satisfied: pytz>=2017.3 in /opt/conda/lib/python3.9/site-packages (from pandas!=1.4.0,<1.6,>1.1->ydata-profiling->pandas-profiling[notebook]) (2021.1)\n",
      "Requirement already satisfied: joblib>=0.14.1 in /opt/conda/lib/python3.9/site-packages (from phik<0.13,>=0.11.1->ydata-profiling->pandas-profiling[notebook]) (1.1.0)\n",
      "Requirement already satisfied: typing-extensions>=3.7.4.3 in /opt/conda/lib/python3.9/site-packages (from pydantic<1.11,>=1.8.1->ydata-profiling->pandas-profiling[notebook]) (4.3.0)\n",
      "Requirement already satisfied: urllib3<1.27,>=1.21.1 in /opt/conda/lib/python3.9/site-packages (from requests<2.29,>=2.24.0->ydata-profiling->pandas-profiling[notebook]) (1.26.6)\n",
      "Requirement already satisfied: certifi>=2017.4.17 in /opt/conda/lib/python3.9/site-packages (from requests<2.29,>=2.24.0->ydata-profiling->pandas-profiling[notebook]) (2022.6.15)\n",
      "Requirement already satisfied: chardet<5,>=3.0.2 in /opt/conda/lib/python3.9/site-packages (from requests<2.29,>=2.24.0->ydata-profiling->pandas-profiling[notebook]) (4.0.0)\n",
      "Requirement already satisfied: idna<3,>=2.5 in /opt/conda/lib/python3.9/site-packages (from requests<2.29,>=2.24.0->ydata-profiling->pandas-profiling[notebook]) (2.10)\n",
      "Requirement already satisfied: patsy>=0.5.2 in /opt/conda/lib/python3.9/site-packages (from statsmodels<0.14,>=0.13.2->ydata-profiling->pandas-profiling[notebook]) (0.5.2)\n",
      "Note: you may need to restart the kernel to use updated packages.\n"
     ]
    }
   ],
   "source": [
    "pip install pandas-profiling[notebook]"
   ]
  },
  {
   "cell_type": "code",
   "execution_count": 14,
   "metadata": {},
   "outputs": [
    {
     "name": "stderr",
     "output_type": "stream",
     "text": [
      "/tmp/ipykernel_854/1591302161.py:1: DeprecationWarning: `import pandas_profiling` is going to be deprecated by April 1st. Please use `import ydata_profiling` instead.\n",
      "  import pandas_profiling\n"
     ]
    }
   ],
   "source": [
    "import pandas_profiling"
   ]
  },
  {
   "cell_type": "code",
   "execution_count": 15,
   "metadata": {},
   "outputs": [],
   "source": [
    "#pandas_profiling.ProfileReport(df)"
   ]
  },
  {
   "cell_type": "markdown",
   "metadata": {},
   "source": [
    "Из отчета видны аномальные значения в RegistrationYear и Power. Эти признаки кореллируют с целевым, поэтому избавимся от аномалий.\n",
    "\n",
    "Машины из будущего и альтернативного прошлого исключим из анализа:"
   ]
  },
  {
   "cell_type": "code",
   "execution_count": 16,
   "metadata": {},
   "outputs": [
    {
     "data": {
      "text/plain": [
       "105"
      ]
     },
     "execution_count": 16,
     "metadata": {},
     "output_type": "execute_result"
    }
   ],
   "source": [
    "df[df['RegistrationYear'] > 2020]['RegistrationYear'].sort_values().count()"
   ]
  },
  {
   "cell_type": "code",
   "execution_count": 17,
   "metadata": {},
   "outputs": [
    {
     "data": {
      "text/plain": [
       "66"
      ]
     },
     "execution_count": 17,
     "metadata": {},
     "output_type": "execute_result"
    }
   ],
   "source": [
    "df[df['RegistrationYear'] < 1900]['RegistrationYear'].sort_values().count()"
   ]
  },
  {
   "cell_type": "code",
   "execution_count": 18,
   "metadata": {},
   "outputs": [],
   "source": [
    "df = df.drop(df[df['RegistrationYear'] > 2020].index)\n",
    "df = df.drop(df[df['RegistrationYear'] < 1900].index)"
   ]
  },
  {
   "cell_type": "markdown",
   "metadata": {},
   "source": [
    "Карьерный самосвал (самый мощный автомобиль) имеет мощность 4000 л.с., а автомобили начала XX-го века - не менее 10:"
   ]
  },
  {
   "cell_type": "code",
   "execution_count": 19,
   "metadata": {},
   "outputs": [
    {
     "data": {
      "text/plain": [
       "87"
      ]
     },
     "execution_count": 19,
     "metadata": {},
     "output_type": "execute_result"
    }
   ],
   "source": [
    "df[df['Power'] > 4000]['Power'].sort_values().count()"
   ]
  },
  {
   "cell_type": "code",
   "execution_count": 20,
   "metadata": {},
   "outputs": [
    {
     "data": {
      "text/plain": [
       "40317"
      ]
     },
     "execution_count": 20,
     "metadata": {},
     "output_type": "execute_result"
    }
   ],
   "source": [
    "df[df['Power'] < 10]['Power'].sort_values().count()"
   ]
  },
  {
   "cell_type": "code",
   "execution_count": 21,
   "metadata": {},
   "outputs": [],
   "source": [
    "df = df.drop(df[df['Power'] > 4000].index)\n",
    "df = df.drop(df[df['Power'] < 10].index)"
   ]
  },
  {
   "cell_type": "markdown",
   "metadata": {},
   "source": [
    "Также избавимся от всех записей со странными ценами:"
   ]
  },
  {
   "cell_type": "code",
   "execution_count": 22,
   "metadata": {},
   "outputs": [
    {
     "data": {
      "text/plain": [
       "7607"
      ]
     },
     "execution_count": 22,
     "metadata": {},
     "output_type": "execute_result"
    }
   ],
   "source": [
    "df[df['Price'] < 10]['Price'].sort_values().count()"
   ]
  },
  {
   "cell_type": "code",
   "execution_count": 23,
   "metadata": {},
   "outputs": [],
   "source": [
    "df = df.drop(df[df['Price'] < 10].index)"
   ]
  },
  {
   "cell_type": "code",
   "execution_count": 24,
   "metadata": {},
   "outputs": [
    {
     "data": {
      "text/plain": [
       "(306187, 9)"
      ]
     },
     "execution_count": 24,
     "metadata": {},
     "output_type": "execute_result"
    }
   ],
   "source": [
    "df.shape"
   ]
  },
  {
   "cell_type": "markdown",
   "metadata": {},
   "source": [
    "## Обучение моделей"
   ]
  },
  {
   "cell_type": "markdown",
   "metadata": {},
   "source": [
    "### Подготовка данных"
   ]
  },
  {
   "cell_type": "markdown",
   "metadata": {},
   "source": [
    "Подготовим данные для обучения моделей. \n",
    "\n",
    "Разобьем категориальные признаки техникой OHE:"
   ]
  },
  {
   "cell_type": "code",
   "execution_count": 25,
   "metadata": {},
   "outputs": [],
   "source": [
    "df = pd.get_dummies(df, drop_first=True)"
   ]
  },
  {
   "cell_type": "markdown",
   "metadata": {},
   "source": [
    "Разделим данные на обучающую, валидационную и тестовую выборки:"
   ]
  },
  {
   "cell_type": "code",
   "execution_count": 26,
   "metadata": {},
   "outputs": [],
   "source": [
    "features = df.drop('Price', axis=1)\n",
    "target = df['Price']\n",
    "\n",
    "features_train, features_test, target_train, target_test = train_test_split(\n",
    "    features, target, test_size=0.2, random_state=42)\n",
    "features_train, features_valid, target_train, target_valid = train_test_split(\n",
    "    features_train, target_train, test_size=0.25, random_state=42)"
   ]
  },
  {
   "cell_type": "markdown",
   "metadata": {},
   "source": [
    "Стандартизируем количественные признаки:"
   ]
  },
  {
   "cell_type": "code",
   "execution_count": 27,
   "metadata": {},
   "outputs": [],
   "source": [
    "scaler = StandardScaler()\n",
    "scaler.fit(features_train[num_features])\n",
    "\n",
    "features_train_scaled = pd.DataFrame(scaler.transform(features_train[num_features]), columns=num_features)\n",
    "features_valid_scaled = pd.DataFrame(scaler.transform(features_valid[num_features]), columns=num_features)\n",
    "features_test_scaled = pd.DataFrame(scaler.transform(features_test[num_features]), columns=num_features)\n",
    "\n",
    "features_train = features_train_scaled.join(features_train.drop(num_features, axis=1).reset_index(drop=True))\n",
    "features_valid = features_valid_scaled.join(features_valid.drop(num_features, axis=1).reset_index(drop=True))\n",
    "features_test = features_test_scaled.join(features_test.drop(num_features, axis=1).reset_index(drop=True))\n",
    "\n",
    "target_train = target_train.reset_index(drop=True)\n",
    "target_valid = target_valid.reset_index(drop=True)\n",
    "target_test = target_test.reset_index(drop=True)"
   ]
  },
  {
   "cell_type": "markdown",
   "metadata": {},
   "source": [
    "Далее обучим модели."
   ]
  },
  {
   "cell_type": "markdown",
   "metadata": {},
   "source": [
    "### Модель №1"
   ]
  },
  {
   "cell_type": "code",
   "execution_count": 28,
   "metadata": {},
   "outputs": [],
   "source": [
    "# LightGBM случайный лес, обученный градиентным бустингом\n",
    "\n",
    "lgb_train = lgb.Dataset(features_train, target_train)\n",
    "lgb_valid = lgb.Dataset(features_valid, target_valid, reference=lgb_train)"
   ]
  },
  {
   "cell_type": "code",
   "execution_count": 29,
   "metadata": {},
   "outputs": [
    {
     "name": "stderr",
     "output_type": "stream",
     "text": [
      "/opt/conda/lib/python3.9/site-packages/lightgbm/engine.py:177: UserWarning: Found `n_estimators` in params. Will use it instead of argument\n",
      "  _log_warning(f\"Found `{alias}` in params. Will use it instead of argument\")\n"
     ]
    },
    {
     "name": "stdout",
     "output_type": "stream",
     "text": [
      "[LightGBM] [Warning] Found whitespace in feature_names, replace with underlines\n",
      "[LightGBM] [Warning] Auto-choosing row-wise multi-threading, the overhead of testing was 0.676166 seconds.\n",
      "You can set `force_row_wise=true` to remove the overhead.\n",
      "And if memory is not enough, you can set `force_col_wise=true`.\n",
      "[LightGBM] [Info] Total Bins 1160\n",
      "[LightGBM] [Info] Number of data points in the train set: 183711, number of used features: 321\n",
      "[LightGBM] [Warning] Found whitespace in feature_names, replace with underlines\n",
      "[LightGBM] [Info] Start training from score 4821.436011\n",
      "[1]\tvalid_0's rmse: 4280.34\n",
      "[2]\tvalid_0's rmse: 4022.28\n",
      "[3]\tvalid_0's rmse: 3799.25\n",
      "[4]\tvalid_0's rmse: 3586.83\n",
      "[5]\tvalid_0's rmse: 3407.64\n",
      "CPU times: user 15.2 s, sys: 456 ms, total: 15.6 s\n",
      "Wall time: 15.7 s\n"
     ]
    }
   ],
   "source": [
    "%%time\n",
    "\n",
    "params = {'metric' : 'rmse',\n",
    "          'num_leaves' : 15,\n",
    "          'max_depth' : 5,\n",
    "          'learning_rate' : 0.1,\n",
    "          'n_estimators' : 5\n",
    "}\n",
    "\n",
    "model_lgb = lgb.train(params, lgb_train, valid_sets=[lgb_valid])"
   ]
  },
  {
   "cell_type": "markdown",
   "metadata": {},
   "source": [
    "Попробуем изменить параметры модели:"
   ]
  },
  {
   "cell_type": "code",
   "execution_count": 30,
   "metadata": {
    "scrolled": true
   },
   "outputs": [
    {
     "name": "stdout",
     "output_type": "stream",
     "text": [
      "[LightGBM] [Warning] Accuracy may be bad since you didn't explicitly set num_leaves OR 2^max_depth > num_leaves. (num_leaves=31).\n",
      "[LightGBM] [Warning] Accuracy may be bad since you didn't explicitly set num_leaves OR 2^max_depth > num_leaves. (num_leaves=31).\n",
      "[LightGBM] [Warning] Found whitespace in feature_names, replace with underlines\n",
      "[LightGBM] [Warning] Accuracy may be bad since you didn't explicitly set num_leaves OR 2^max_depth > num_leaves. (num_leaves=31).\n",
      "[LightGBM] [Warning] Auto-choosing row-wise multi-threading, the overhead of testing was 0.594699 seconds.\n",
      "You can set `force_row_wise=true` to remove the overhead.\n",
      "And if memory is not enough, you can set `force_col_wise=true`.\n",
      "[LightGBM] [Info] Total Bins 1160\n",
      "[LightGBM] [Info] Number of data points in the train set: 183711, number of used features: 321\n",
      "[LightGBM] [Info] Start training from score 4821.436011\n",
      "[1]\tvalid_0's rmse: 4257.93\n",
      "[2]\tvalid_0's rmse: 3977.71\n",
      "[3]\tvalid_0's rmse: 3730.16\n",
      "[4]\tvalid_0's rmse: 3511.32\n",
      "[5]\tvalid_0's rmse: 3323.24\n",
      "CPU times: user 15.3 s, sys: 176 ms, total: 15.5 s\n",
      "Wall time: 15.7 s\n"
     ]
    }
   ],
   "source": [
    "%%time\n",
    "\n",
    "# повысим макс. число листьев на одном дереве (num_leaves)\n",
    "params = {'metric' : 'rmse',\n",
    "          'num_leaves' : 31,\n",
    "          'max_depth' : 5,\n",
    "          'learning_rate' : 0.1,\n",
    "          'n_estimators' : 5\n",
    "}\n",
    "\n",
    "model_lgb = lgb.train(params, lgb_train, valid_sets=[lgb_valid])"
   ]
  },
  {
   "cell_type": "code",
   "execution_count": 31,
   "metadata": {},
   "outputs": [
    {
     "name": "stdout",
     "output_type": "stream",
     "text": [
      "[LightGBM] [Warning] Accuracy may be bad since you didn't explicitly set num_leaves OR 2^max_depth > num_leaves. (num_leaves=31).\n",
      "[LightGBM] [Warning] Accuracy may be bad since you didn't explicitly set num_leaves OR 2^max_depth > num_leaves. (num_leaves=31).\n",
      "[LightGBM] [Warning] Found whitespace in feature_names, replace with underlines\n",
      "[LightGBM] [Warning] Accuracy may be bad since you didn't explicitly set num_leaves OR 2^max_depth > num_leaves. (num_leaves=31).\n",
      "[LightGBM] [Warning] Auto-choosing row-wise multi-threading, the overhead of testing was 0.673639 seconds.\n",
      "You can set `force_row_wise=true` to remove the overhead.\n",
      "And if memory is not enough, you can set `force_col_wise=true`.\n",
      "[LightGBM] [Info] Total Bins 1160\n",
      "[LightGBM] [Info] Number of data points in the train set: 183711, number of used features: 321\n",
      "[LightGBM] [Info] Start training from score 4821.436011\n",
      "[1]\tvalid_0's rmse: 3660.04\n",
      "[2]\tvalid_0's rmse: 3072.03\n",
      "[3]\tvalid_0's rmse: 2680.21\n",
      "[4]\tvalid_0's rmse: 2440.47\n",
      "[5]\tvalid_0's rmse: 2287.09\n",
      "CPU times: user 13.5 s, sys: 96.4 ms, total: 13.6 s\n",
      "Wall time: 13.7 s\n"
     ]
    }
   ],
   "source": [
    "%%time\n",
    "\n",
    "# увеличим коэф. скорости обучения (learning_rate)\n",
    "params = {'metric' : 'rmse',\n",
    "          'num_leaves' : 31,\n",
    "          'max_depth' : 5,\n",
    "          'learning_rate' : 0.3,\n",
    "          'n_estimators' : 5\n",
    "}\n",
    "\n",
    "model_lgb = lgb.train(params, lgb_train, valid_sets=[lgb_valid])"
   ]
  },
  {
   "cell_type": "code",
   "execution_count": 32,
   "metadata": {},
   "outputs": [
    {
     "name": "stdout",
     "output_type": "stream",
     "text": [
      "[LightGBM] [Warning] Accuracy may be bad since you didn't explicitly set num_leaves OR 2^max_depth > num_leaves. (num_leaves=31).\n",
      "[LightGBM] [Warning] Accuracy may be bad since you didn't explicitly set num_leaves OR 2^max_depth > num_leaves. (num_leaves=31).\n",
      "[LightGBM] [Warning] Found whitespace in feature_names, replace with underlines\n",
      "[LightGBM] [Warning] Accuracy may be bad since you didn't explicitly set num_leaves OR 2^max_depth > num_leaves. (num_leaves=31).\n",
      "[LightGBM] [Warning] Auto-choosing row-wise multi-threading, the overhead of testing was 0.503797 seconds.\n",
      "You can set `force_row_wise=true` to remove the overhead.\n",
      "And if memory is not enough, you can set `force_col_wise=true`.\n",
      "[LightGBM] [Info] Total Bins 1160\n",
      "[LightGBM] [Info] Number of data points in the train set: 183711, number of used features: 321\n",
      "[LightGBM] [Info] Start training from score 4821.436011\n",
      "[1]\tvalid_0's rmse: 3635.24\n",
      "[2]\tvalid_0's rmse: 3030.28\n",
      "[3]\tvalid_0's rmse: 2650.62\n",
      "[4]\tvalid_0's rmse: 2399.51\n",
      "[5]\tvalid_0's rmse: 2249.74\n",
      "CPU times: user 19.6 s, sys: 153 ms, total: 19.8 s\n",
      "Wall time: 20 s\n"
     ]
    }
   ],
   "source": [
    "%%time\n",
    "\n",
    "# добавим макс. глубины деревьям (max_depth)\n",
    "params = {'metric' : 'rmse',\n",
    "          'num_leaves' : 31,\n",
    "          'max_depth' : 10,\n",
    "          'learning_rate' : 0.3,\n",
    "          'n_estimators' : 5\n",
    "}\n",
    "\n",
    "model_lgb = lgb.train(params, lgb_train, valid_sets=[lgb_valid])"
   ]
  },
  {
   "cell_type": "code",
   "execution_count": 33,
   "metadata": {},
   "outputs": [
    {
     "name": "stdout",
     "output_type": "stream",
     "text": [
      "[LightGBM] [Warning] Accuracy may be bad since you didn't explicitly set num_leaves OR 2^max_depth > num_leaves. (num_leaves=31).\n",
      "[LightGBM] [Warning] Accuracy may be bad since you didn't explicitly set num_leaves OR 2^max_depth > num_leaves. (num_leaves=31).\n",
      "[LightGBM] [Warning] Found whitespace in feature_names, replace with underlines\n",
      "[LightGBM] [Warning] Accuracy may be bad since you didn't explicitly set num_leaves OR 2^max_depth > num_leaves. (num_leaves=31).\n",
      "[LightGBM] [Warning] Auto-choosing row-wise multi-threading, the overhead of testing was 0.588304 seconds.\n",
      "You can set `force_row_wise=true` to remove the overhead.\n",
      "And if memory is not enough, you can set `force_col_wise=true`.\n",
      "[LightGBM] [Info] Total Bins 1160\n",
      "[LightGBM] [Info] Number of data points in the train set: 183711, number of used features: 321\n",
      "[LightGBM] [Info] Start training from score 4821.436011\n",
      "[1]\tvalid_0's rmse: 3635.24\n",
      "[2]\tvalid_0's rmse: 3030.28\n",
      "[3]\tvalid_0's rmse: 2650.62\n",
      "[4]\tvalid_0's rmse: 2399.51\n",
      "[5]\tvalid_0's rmse: 2249.74\n",
      "[6]\tvalid_0's rmse: 2145.8\n",
      "[7]\tvalid_0's rmse: 2076.01\n",
      "[8]\tvalid_0's rmse: 2025.64\n",
      "[9]\tvalid_0's rmse: 1989.1\n",
      "[10]\tvalid_0's rmse: 1959.66\n",
      "CPU times: user 24.2 s, sys: 227 ms, total: 24.4 s\n",
      "Wall time: 24.6 s\n"
     ]
    }
   ],
   "source": [
    "%%time\n",
    "\n",
    "# увеличим число деревьев (n_estimators)\n",
    "params = {'metric' : 'rmse',\n",
    "          'num_leaves' : 31,\n",
    "          'max_depth' : 10,\n",
    "          'learning_rate' : 0.3,\n",
    "          'n_estimators' : 10\n",
    "}\n",
    "\n",
    "model_lgb = lgb.train(params, lgb_train, valid_sets=[lgb_valid])"
   ]
  },
  {
   "cell_type": "code",
   "execution_count": 34,
   "metadata": {
    "scrolled": true
   },
   "outputs": [
    {
     "name": "stdout",
     "output_type": "stream",
     "text": [
      "CPU times: user 218 ms, sys: 93.7 ms, total: 311 ms\n",
      "Wall time: 299 ms\n"
     ]
    }
   ],
   "source": [
    "%%time\n",
    "pred_lgb = model_lgb.predict(features_valid)"
   ]
  },
  {
   "cell_type": "markdown",
   "metadata": {},
   "source": [
    "### Модель №2"
   ]
  },
  {
   "cell_type": "code",
   "execution_count": 35,
   "metadata": {},
   "outputs": [],
   "source": [
    "# Случайный лес с параметрами предыдущей модели\n",
    "\n",
    "model_forest = RandomForestRegressor(max_leaf_nodes=31,\n",
    "                                     max_depth=10,\n",
    "                                     n_estimators=10,\n",
    "                                     random_state=42)"
   ]
  },
  {
   "cell_type": "code",
   "execution_count": 36,
   "metadata": {},
   "outputs": [
    {
     "name": "stdout",
     "output_type": "stream",
     "text": [
      "CPU times: user 19.3 s, sys: 224 ms, total: 19.6 s\n",
      "Wall time: 19.6 s\n"
     ]
    },
    {
     "data": {
      "text/plain": [
       "RandomForestRegressor(max_depth=10, max_leaf_nodes=31, n_estimators=10,\n",
       "                      random_state=42)"
      ]
     },
     "execution_count": 36,
     "metadata": {},
     "output_type": "execute_result"
    }
   ],
   "source": [
    "%%time\n",
    "model_forest.fit(features_train, target_train)"
   ]
  },
  {
   "cell_type": "code",
   "execution_count": 37,
   "metadata": {},
   "outputs": [
    {
     "name": "stdout",
     "output_type": "stream",
     "text": [
      "CPU times: user 83.1 ms, sys: 53.6 ms, total: 137 ms\n",
      "Wall time: 146 ms\n"
     ]
    }
   ],
   "source": [
    "%%time\n",
    "pred_forest = model_forest.predict(features_valid)"
   ]
  },
  {
   "cell_type": "code",
   "execution_count": 38,
   "metadata": {},
   "outputs": [
    {
     "data": {
      "text/plain": [
       "2383.5138749591356"
      ]
     },
     "execution_count": 38,
     "metadata": {},
     "output_type": "execute_result"
    }
   ],
   "source": [
    "mean_squared_error(target_valid, pred_forest, squared=False)"
   ]
  },
  {
   "cell_type": "markdown",
   "metadata": {},
   "source": [
    "### Модель №3"
   ]
  },
  {
   "cell_type": "code",
   "execution_count": 39,
   "metadata": {},
   "outputs": [],
   "source": [
    "# Линейная модель, обученная стохастическим градиентным спуском\n",
    "\n",
    "model_sgdregr = SGDRegressor(max_iter=1000, shuffle=True, random_state=42)"
   ]
  },
  {
   "cell_type": "code",
   "execution_count": 40,
   "metadata": {},
   "outputs": [
    {
     "name": "stdout",
     "output_type": "stream",
     "text": [
      "CPU times: user 14.7 s, sys: 275 ms, total: 15 s\n",
      "Wall time: 15 s\n"
     ]
    },
    {
     "data": {
      "text/plain": [
       "SGDRegressor(random_state=42)"
      ]
     },
     "execution_count": 40,
     "metadata": {},
     "output_type": "execute_result"
    }
   ],
   "source": [
    "%%time\n",
    "model_sgdregr.fit(features_train, target_train)"
   ]
  },
  {
   "cell_type": "code",
   "execution_count": 41,
   "metadata": {},
   "outputs": [
    {
     "name": "stdout",
     "output_type": "stream",
     "text": [
      "CPU times: user 59.1 ms, sys: 68.9 ms, total: 128 ms\n",
      "Wall time: 89.6 ms\n"
     ]
    }
   ],
   "source": [
    "%%time\n",
    "pred_sgdregr = model_sgdregr.predict(features_valid)"
   ]
  },
  {
   "cell_type": "code",
   "execution_count": 42,
   "metadata": {},
   "outputs": [
    {
     "data": {
      "text/plain": [
       "2725.934638262295"
      ]
     },
     "execution_count": 42,
     "metadata": {},
     "output_type": "execute_result"
    }
   ],
   "source": [
    "mean_squared_error(target_valid, pred_sgdregr, squared=False)"
   ]
  },
  {
   "cell_type": "markdown",
   "metadata": {},
   "source": [
    "### Модель №4"
   ]
  },
  {
   "cell_type": "code",
   "execution_count": 43,
   "metadata": {},
   "outputs": [],
   "source": [
    "# Обычная линейная регрессия\n",
    "\n",
    "model_regr = LinearRegression()"
   ]
  },
  {
   "cell_type": "code",
   "execution_count": 44,
   "metadata": {},
   "outputs": [
    {
     "name": "stdout",
     "output_type": "stream",
     "text": [
      "CPU times: user 12.8 s, sys: 5.19 s, total: 18 s\n",
      "Wall time: 18 s\n"
     ]
    },
    {
     "data": {
      "text/plain": [
       "LinearRegression()"
      ]
     },
     "execution_count": 44,
     "metadata": {},
     "output_type": "execute_result"
    }
   ],
   "source": [
    "%%time\n",
    "model_regr.fit(features_train, target_train)"
   ]
  },
  {
   "cell_type": "code",
   "execution_count": 45,
   "metadata": {},
   "outputs": [
    {
     "name": "stdout",
     "output_type": "stream",
     "text": [
      "CPU times: user 64.9 ms, sys: 68.8 ms, total: 134 ms\n",
      "Wall time: 102 ms\n"
     ]
    }
   ],
   "source": [
    "%%time\n",
    "pred_regr = model_regr.predict(features_valid)"
   ]
  },
  {
   "cell_type": "code",
   "execution_count": 46,
   "metadata": {},
   "outputs": [
    {
     "data": {
      "text/plain": [
       "2708.428009913883"
      ]
     },
     "execution_count": 46,
     "metadata": {},
     "output_type": "execute_result"
    }
   ],
   "source": [
    "mean_squared_error(target_valid, pred_regr, squared=False)"
   ]
  },
  {
   "cell_type": "markdown",
   "metadata": {},
   "source": [
    "## Анализ моделей"
   ]
  },
  {
   "cell_type": "markdown",
   "metadata": {},
   "source": [
    "Критерии оценивания моделей:\n",
    "- качество предсказания;\n",
    "- время обучения модели;\n",
    "- время предсказания модели."
   ]
  },
  {
   "cell_type": "code",
   "execution_count": 50,
   "metadata": {
    "scrolled": false
   },
   "outputs": [
    {
     "data": {
      "text/html": [
       "<div>\n",
       "<style scoped>\n",
       "    .dataframe tbody tr th:only-of-type {\n",
       "        vertical-align: middle;\n",
       "    }\n",
       "\n",
       "    .dataframe tbody tr th {\n",
       "        vertical-align: top;\n",
       "    }\n",
       "\n",
       "    .dataframe thead th {\n",
       "        text-align: right;\n",
       "    }\n",
       "</style>\n",
       "<table border=\"1\" class=\"dataframe\">\n",
       "  <thead>\n",
       "    <tr style=\"text-align: right;\">\n",
       "      <th></th>\n",
       "      <th>RMSE</th>\n",
       "      <th>Время обучения, сек</th>\n",
       "      <th>Время предсказания, сек</th>\n",
       "    </tr>\n",
       "  </thead>\n",
       "  <tbody>\n",
       "    <tr>\n",
       "      <th>LightGBM лес</th>\n",
       "      <td>1959.66</td>\n",
       "      <td>24.6</td>\n",
       "      <td>0.299</td>\n",
       "    </tr>\n",
       "    <tr>\n",
       "      <th>sklearn лес</th>\n",
       "      <td>2383.51</td>\n",
       "      <td>19.6</td>\n",
       "      <td>0.146</td>\n",
       "    </tr>\n",
       "    <tr>\n",
       "      <th>sklearn SGD регрессия</th>\n",
       "      <td>2725.93</td>\n",
       "      <td>15.0</td>\n",
       "      <td>0.090</td>\n",
       "    </tr>\n",
       "    <tr>\n",
       "      <th>sklearn лин. регрессия</th>\n",
       "      <td>2708.42</td>\n",
       "      <td>18.0</td>\n",
       "      <td>0.102</td>\n",
       "    </tr>\n",
       "  </tbody>\n",
       "</table>\n",
       "</div>"
      ],
      "text/plain": [
       "                           RMSE  Время обучения, сек  Время предсказания, сек\n",
       "LightGBM лес            1959.66                 24.6                    0.299\n",
       "sklearn лес             2383.51                 19.6                    0.146\n",
       "sklearn SGD регрессия   2725.93                 15.0                    0.090\n",
       "sklearn лин. регрессия  2708.42                 18.0                    0.102"
      ]
     },
     "execution_count": 50,
     "metadata": {},
     "output_type": "execute_result"
    }
   ],
   "source": [
    "labels = ['RMSE', 'Время обучения, сек', 'Время предсказания, сек']\n",
    "rows = [[1959.66, 24.6, 0.299],\n",
    "        [2383.51, 19.6, 0.146],\n",
    "        [2725.93, 15, 0.09],\n",
    "        [2708.42, 18, 0.102]\n",
    "       ]\n",
    "index = ['LightGBM лес', 'sklearn лес', 'sklearn SGD регрессия', 'sklearn лин. регрессия']\n",
    "pd.DataFrame(data=rows, columns=labels, index=index)"
   ]
  },
  {
   "cell_type": "markdown",
   "metadata": {},
   "source": [
    "LightGBM лес показал наилучшие параметры в точности, средние в скорости обучения и худшие во времени предсказания. Тем не менее, время предсказания для конечного пользователя меньше секунды и пренебрежимо мало."
   ]
  },
  {
   "cell_type": "markdown",
   "metadata": {},
   "source": [
    "Проведем окончательную проверку для наилучшей модели на тестовой выборке:"
   ]
  },
  {
   "cell_type": "code",
   "execution_count": 48,
   "metadata": {},
   "outputs": [
    {
     "name": "stderr",
     "output_type": "stream",
     "text": [
      "/opt/conda/lib/python3.9/site-packages/lightgbm/engine.py:177: UserWarning: Found `n_estimators` in params. Will use it instead of argument\n",
      "  _log_warning(f\"Found `{alias}` in params. Will use it instead of argument\")\n"
     ]
    },
    {
     "name": "stdout",
     "output_type": "stream",
     "text": [
      "[LightGBM] [Warning] Accuracy may be bad since you didn't explicitly set num_leaves OR 2^max_depth > num_leaves. (num_leaves=31).\n",
      "[LightGBM] [Warning] Accuracy may be bad since you didn't explicitly set num_leaves OR 2^max_depth > num_leaves. (num_leaves=31).\n",
      "[LightGBM] [Warning] Auto-choosing col-wise multi-threading, the overhead of testing was 0.284941 seconds.\n",
      "You can set `force_col_wise=true` to remove the overhead.\n",
      "[LightGBM] [Info] Total Bins 1160\n",
      "[LightGBM] [Info] Number of data points in the train set: 183711, number of used features: 321\n",
      "[LightGBM] [Warning] Accuracy may be bad since you didn't explicitly set num_leaves OR 2^max_depth > num_leaves. (num_leaves=31).\n",
      "[LightGBM] [Warning] Found whitespace in feature_names, replace with underlines\n",
      "[LightGBM] [Info] Start training from score 4821.436011\n",
      "[1]\tvalid_0's rmse: 3651.5\n",
      "[2]\tvalid_0's rmse: 3049.14\n",
      "[3]\tvalid_0's rmse: 2669.43\n",
      "[4]\tvalid_0's rmse: 2421.19\n",
      "[5]\tvalid_0's rmse: 2270.12\n",
      "[6]\tvalid_0's rmse: 2166.06\n",
      "[7]\tvalid_0's rmse: 2093.76\n",
      "[8]\tvalid_0's rmse: 2045.14\n",
      "[9]\tvalid_0's rmse: 2008.93\n",
      "[10]\tvalid_0's rmse: 1979.02\n"
     ]
    },
    {
     "data": {
      "text/plain": [
       "<lightgbm.basic.Booster at 0x7efd2c6b7100>"
      ]
     },
     "execution_count": 48,
     "metadata": {},
     "output_type": "execute_result"
    }
   ],
   "source": [
    "lgb_test = lgb.Dataset(features_test, target_test)\n",
    "\n",
    "lgb.train(params, lgb_train, valid_sets=[lgb_test])"
   ]
  },
  {
   "cell_type": "markdown",
   "metadata": {},
   "source": [
    "Значение метрики RMSE не превышает порог в 2500. Модель подтвердила свою точность на тестовой выборке, её можно рекомендовать к внедрению."
   ]
  },
  {
   "cell_type": "markdown",
   "metadata": {},
   "source": [
    "## Выводы"
   ]
  },
  {
   "cell_type": "markdown",
   "metadata": {},
   "source": [
    "### Результаты"
   ]
  },
  {
   "cell_type": "markdown",
   "metadata": {},
   "source": [
    "Cоздан прототип модели машинного обучения, определяющей стоимость автомобиля. \n",
    "- Лучшая модель: LightGBM\n",
    "- Параметры модели: num_leaves=31, max_depth=10, n_estimators=10, learning_rate=0.3\n",
    "- Проверка на тестовых данных: RMSE=1959.66, время обучения = 24.6 сек, время предсказания = 0.299 сек"
   ]
  },
  {
   "cell_type": "markdown",
   "metadata": {},
   "source": [
    "### Что можно улучшить"
   ]
  },
  {
   "cell_type": "markdown",
   "metadata": {},
   "source": [
    "1. Визуализировать важность факторов при моделировании: показать feature_importances_ модели.\n",
    "2. Feature Engineering: у разных машин разный возраст, что может влиять на ценообразование."
   ]
  },
  {
   "cell_type": "code",
   "execution_count": null,
   "metadata": {},
   "outputs": [],
   "source": []
  }
 ],
 "metadata": {
  "ExecuteTimeLog": [
   {
    "duration": 386,
    "start_time": "2023-04-19T05:57:15.645Z"
   },
   {
    "duration": 1035,
    "start_time": "2023-04-19T05:57:34.641Z"
   },
   {
    "duration": 134,
    "start_time": "2023-04-19T05:57:49.194Z"
   },
   {
    "duration": 942,
    "start_time": "2023-04-19T05:58:00.736Z"
   },
   {
    "duration": 78,
    "start_time": "2023-04-19T05:58:22.858Z"
   },
   {
    "duration": 12,
    "start_time": "2023-04-19T05:58:29.475Z"
   },
   {
    "duration": 81,
    "start_time": "2023-04-19T06:02:10.880Z"
   },
   {
    "duration": 266,
    "start_time": "2023-04-19T06:02:19.137Z"
   },
   {
    "duration": 44,
    "start_time": "2023-04-19T06:02:33.299Z"
   },
   {
    "duration": 41,
    "start_time": "2023-04-19T06:02:37.328Z"
   },
   {
    "duration": 6,
    "start_time": "2023-04-19T06:02:52.028Z"
   },
   {
    "duration": 60,
    "start_time": "2023-04-19T06:03:26.221Z"
   },
   {
    "duration": 36,
    "start_time": "2023-04-19T06:03:42.616Z"
   },
   {
    "duration": 5,
    "start_time": "2023-04-19T06:04:43.229Z"
   },
   {
    "duration": 31,
    "start_time": "2023-04-19T06:04:49.520Z"
   },
   {
    "duration": 34,
    "start_time": "2023-04-19T06:04:55.388Z"
   },
   {
    "duration": 33,
    "start_time": "2023-04-19T06:04:58.718Z"
   },
   {
    "duration": 52,
    "start_time": "2023-04-19T06:06:19.679Z"
   },
   {
    "duration": 68,
    "start_time": "2023-04-19T06:06:34.219Z"
   },
   {
    "duration": 71,
    "start_time": "2023-04-19T06:06:38.163Z"
   },
   {
    "duration": 8,
    "start_time": "2023-04-19T06:07:04.379Z"
   },
   {
    "duration": 35,
    "start_time": "2023-04-19T06:07:29.508Z"
   },
   {
    "duration": 9,
    "start_time": "2023-04-19T06:07:48.088Z"
   },
   {
    "duration": 8,
    "start_time": "2023-04-19T06:08:04.132Z"
   },
   {
    "duration": 8,
    "start_time": "2023-04-19T06:08:18.979Z"
   },
   {
    "duration": 8,
    "start_time": "2023-04-19T06:45:52.712Z"
   },
   {
    "duration": 7,
    "start_time": "2023-04-19T06:46:22.022Z"
   },
   {
    "duration": 7,
    "start_time": "2023-04-19T06:46:34.833Z"
   },
   {
    "duration": 16,
    "start_time": "2023-04-19T06:46:48.513Z"
   },
   {
    "duration": 26,
    "start_time": "2023-04-19T06:46:57.163Z"
   },
   {
    "duration": 14,
    "start_time": "2023-04-19T06:47:05.573Z"
   },
   {
    "duration": 14,
    "start_time": "2023-04-19T06:51:06.914Z"
   },
   {
    "duration": 15,
    "start_time": "2023-04-19T06:51:10.585Z"
   },
   {
    "duration": 6,
    "start_time": "2023-04-19T06:52:29.815Z"
   },
   {
    "duration": 21,
    "start_time": "2023-04-19T06:52:36.285Z"
   },
   {
    "duration": 30,
    "start_time": "2023-04-19T06:53:01.815Z"
   },
   {
    "duration": 21,
    "start_time": "2023-04-19T06:53:31.675Z"
   },
   {
    "duration": 54,
    "start_time": "2023-04-19T06:54:52.195Z"
   },
   {
    "duration": 72,
    "start_time": "2023-04-19T06:55:01.551Z"
   },
   {
    "duration": 24,
    "start_time": "2023-04-19T06:55:10.246Z"
   },
   {
    "duration": 5,
    "start_time": "2023-04-19T06:55:35.126Z"
   },
   {
    "duration": 19,
    "start_time": "2023-04-19T06:55:42.067Z"
   },
   {
    "duration": 18,
    "start_time": "2023-04-19T06:56:02.887Z"
   },
   {
    "duration": 29,
    "start_time": "2023-04-19T06:56:30.536Z"
   },
   {
    "duration": 19,
    "start_time": "2023-04-19T06:57:02.457Z"
   },
   {
    "duration": 21,
    "start_time": "2023-04-19T06:57:21.877Z"
   },
   {
    "duration": 22,
    "start_time": "2023-04-19T06:57:42.536Z"
   },
   {
    "duration": 3,
    "start_time": "2023-04-19T07:01:31.499Z"
   },
   {
    "duration": 129,
    "start_time": "2023-04-19T07:02:06.109Z"
   },
   {
    "duration": 918,
    "start_time": "2023-04-19T07:03:04.922Z"
   },
   {
    "duration": 20,
    "start_time": "2023-04-19T07:05:46.747Z"
   },
   {
    "duration": 4,
    "start_time": "2023-04-19T07:06:04.290Z"
   },
   {
    "duration": 7,
    "start_time": "2023-04-19T07:06:10.010Z"
   },
   {
    "duration": 7,
    "start_time": "2023-04-19T07:06:59.692Z"
   },
   {
    "duration": 62,
    "start_time": "2023-04-19T07:07:05.260Z"
   },
   {
    "duration": 6,
    "start_time": "2023-04-19T07:07:06.901Z"
   },
   {
    "duration": 7,
    "start_time": "2023-04-19T07:07:11.670Z"
   },
   {
    "duration": 11,
    "start_time": "2023-04-19T07:07:38.930Z"
   },
   {
    "duration": 118,
    "start_time": "2023-04-19T07:09:04.012Z"
   },
   {
    "duration": 79,
    "start_time": "2023-04-19T07:09:26.411Z"
   },
   {
    "duration": 78,
    "start_time": "2023-04-19T07:09:30.001Z"
   },
   {
    "duration": 69,
    "start_time": "2023-04-19T07:09:58.242Z"
   },
   {
    "duration": 85,
    "start_time": "2023-04-19T07:10:07.322Z"
   },
   {
    "duration": 55,
    "start_time": "2023-04-19T07:11:05.283Z"
   },
   {
    "duration": 34,
    "start_time": "2023-04-19T07:12:13.533Z"
   },
   {
    "duration": 29,
    "start_time": "2023-04-19T07:12:18.613Z"
   },
   {
    "duration": 4,
    "start_time": "2023-04-19T07:18:36.904Z"
   },
   {
    "duration": 16,
    "start_time": "2023-04-19T07:18:47.085Z"
   },
   {
    "duration": 15,
    "start_time": "2023-04-19T07:19:06.516Z"
   },
   {
    "duration": 5,
    "start_time": "2023-04-19T07:19:15.450Z"
   },
   {
    "duration": 5,
    "start_time": "2023-04-19T07:19:24.374Z"
   },
   {
    "duration": 47,
    "start_time": "2023-04-19T07:19:36.106Z"
   },
   {
    "duration": 33,
    "start_time": "2023-04-19T07:19:53.376Z"
   },
   {
    "duration": 16,
    "start_time": "2023-04-19T07:20:10.356Z"
   },
   {
    "duration": 13,
    "start_time": "2023-04-19T07:20:20.806Z"
   },
   {
    "duration": 92,
    "start_time": "2023-04-19T07:20:23.995Z"
   },
   {
    "duration": 5,
    "start_time": "2023-04-19T07:21:05.597Z"
   },
   {
    "duration": 21,
    "start_time": "2023-04-19T07:21:11.244Z"
   },
   {
    "duration": 3,
    "start_time": "2023-04-19T07:21:29.245Z"
   },
   {
    "duration": 24,
    "start_time": "2023-04-19T07:21:30.466Z"
   },
   {
    "duration": 18,
    "start_time": "2023-04-19T07:21:32.849Z"
   },
   {
    "duration": 4,
    "start_time": "2023-04-19T07:21:52.997Z"
   },
   {
    "duration": 4,
    "start_time": "2023-04-19T07:23:22.557Z"
   },
   {
    "duration": 4,
    "start_time": "2023-04-19T07:23:33.607Z"
   },
   {
    "duration": 111,
    "start_time": "2023-04-19T07:23:48.028Z"
   },
   {
    "duration": 13,
    "start_time": "2023-04-19T07:23:52.694Z"
   },
   {
    "duration": 81,
    "start_time": "2023-04-19T07:23:53.457Z"
   },
   {
    "duration": 27,
    "start_time": "2023-04-19T07:24:26.437Z"
   },
   {
    "duration": 1062,
    "start_time": "2023-04-19T07:26:24.628Z"
   },
   {
    "duration": 886,
    "start_time": "2023-04-19T07:27:50.728Z"
   },
   {
    "duration": 37,
    "start_time": "2023-04-19T07:28:01.948Z"
   },
   {
    "duration": 92,
    "start_time": "2023-04-19T07:28:03.029Z"
   },
   {
    "duration": 116,
    "start_time": "2023-04-19T07:28:09.759Z"
   },
   {
    "duration": 93,
    "start_time": "2023-04-19T07:28:11.089Z"
   },
   {
    "duration": 170,
    "start_time": "2023-04-19T07:29:40.780Z"
   },
   {
    "duration": 4,
    "start_time": "2023-04-19T07:29:49.753Z"
   },
   {
    "duration": 4,
    "start_time": "2023-04-19T07:29:56.689Z"
   },
   {
    "duration": 5,
    "start_time": "2023-04-19T07:30:00.499Z"
   },
   {
    "duration": 86,
    "start_time": "2023-04-19T07:31:10.345Z"
   },
   {
    "duration": 62,
    "start_time": "2023-04-19T07:58:54.853Z"
   },
   {
    "duration": 77,
    "start_time": "2023-04-19T07:59:12.671Z"
   },
   {
    "duration": 52,
    "start_time": "2023-04-19T07:59:23.232Z"
   },
   {
    "duration": 22,
    "start_time": "2023-04-19T08:00:01.361Z"
   },
   {
    "duration": 4,
    "start_time": "2023-04-19T08:00:31.871Z"
   },
   {
    "duration": 34,
    "start_time": "2023-04-19T08:01:13.752Z"
   },
   {
    "duration": 20,
    "start_time": "2023-04-19T08:04:26.504Z"
   },
   {
    "duration": 39,
    "start_time": "2023-04-19T08:04:46.794Z"
   },
   {
    "duration": 36,
    "start_time": "2023-04-19T08:04:52.435Z"
   },
   {
    "duration": 35,
    "start_time": "2023-04-19T08:05:00.864Z"
   },
   {
    "duration": 35,
    "start_time": "2023-04-19T08:05:06.404Z"
   },
   {
    "duration": 54,
    "start_time": "2023-04-19T08:13:45.606Z"
   },
   {
    "duration": 5,
    "start_time": "2023-04-19T08:15:57.447Z"
   },
   {
    "duration": 1015,
    "start_time": "2023-04-19T08:16:06.978Z"
   },
   {
    "duration": 6,
    "start_time": "2023-04-19T08:16:12.668Z"
   },
   {
    "duration": 20,
    "start_time": "2023-04-19T08:19:24.049Z"
   },
   {
    "duration": 3,
    "start_time": "2023-04-19T08:19:29.329Z"
   },
   {
    "duration": 148,
    "start_time": "2023-04-19T08:19:31.418Z"
   },
   {
    "duration": 19,
    "start_time": "2023-04-19T08:19:33.685Z"
   },
   {
    "duration": 8,
    "start_time": "2023-04-19T08:19:51.289Z"
   },
   {
    "duration": 46,
    "start_time": "2023-04-19T08:20:23.429Z"
   },
   {
    "duration": 42,
    "start_time": "2023-04-19T08:20:35.550Z"
   },
   {
    "duration": 85,
    "start_time": "2023-04-19T08:20:47.900Z"
   },
   {
    "duration": 53,
    "start_time": "2023-04-19T08:21:37.760Z"
   },
   {
    "duration": 97,
    "start_time": "2023-04-19T08:21:43.030Z"
   },
   {
    "duration": 22,
    "start_time": "2023-04-19T08:21:46.060Z"
   },
   {
    "duration": 969,
    "start_time": "2023-04-19T08:22:08.490Z"
   },
   {
    "duration": 141,
    "start_time": "2023-04-19T08:22:15.030Z"
   },
   {
    "duration": 125,
    "start_time": "2023-04-19T08:22:16.750Z"
   },
   {
    "duration": 135,
    "start_time": "2023-04-19T08:22:21.510Z"
   },
   {
    "duration": 23,
    "start_time": "2023-04-19T08:22:23.270Z"
   },
   {
    "duration": 784,
    "start_time": "2023-04-19T08:22:26.590Z"
   },
   {
    "duration": 153,
    "start_time": "2023-04-19T08:22:30.830Z"
   },
   {
    "duration": 112,
    "start_time": "2023-04-19T08:22:31.779Z"
   },
   {
    "duration": 20,
    "start_time": "2023-04-19T08:22:32.850Z"
   },
   {
    "duration": 23,
    "start_time": "2023-04-19T08:23:57.051Z"
   },
   {
    "duration": 37,
    "start_time": "2023-04-19T08:24:39.758Z"
   },
   {
    "duration": 39,
    "start_time": "2023-04-19T08:25:00.811Z"
   },
   {
    "duration": 5,
    "start_time": "2023-04-19T08:25:18.381Z"
   },
   {
    "duration": 6,
    "start_time": "2023-04-19T08:25:27.412Z"
   },
   {
    "duration": 69,
    "start_time": "2023-04-19T08:25:37.971Z"
   },
   {
    "duration": 7,
    "start_time": "2023-04-19T08:25:58.253Z"
   },
   {
    "duration": 71,
    "start_time": "2023-04-19T08:26:21.482Z"
   },
   {
    "duration": 62,
    "start_time": "2023-04-19T08:26:24.931Z"
   },
   {
    "duration": 929,
    "start_time": "2023-04-19T08:26:28.821Z"
   },
   {
    "duration": 78,
    "start_time": "2023-04-19T08:26:36.403Z"
   },
   {
    "duration": 30,
    "start_time": "2023-04-19T08:26:40.222Z"
   },
   {
    "duration": 17,
    "start_time": "2023-04-19T08:26:52.782Z"
   },
   {
    "duration": 826,
    "start_time": "2023-04-19T08:27:29.241Z"
   },
   {
    "duration": 17,
    "start_time": "2023-04-19T08:27:31.263Z"
   },
   {
    "duration": 17,
    "start_time": "2023-04-19T08:27:42.092Z"
   },
   {
    "duration": 12,
    "start_time": "2023-04-19T08:27:48.937Z"
   },
   {
    "duration": 15,
    "start_time": "2023-04-19T08:27:53.163Z"
   },
   {
    "duration": 21,
    "start_time": "2023-04-19T08:28:05.753Z"
   },
   {
    "duration": 18,
    "start_time": "2023-04-19T08:28:22.123Z"
   },
   {
    "duration": 14,
    "start_time": "2023-04-19T08:29:18.734Z"
   },
   {
    "duration": 15,
    "start_time": "2023-04-19T08:30:19.154Z"
   },
   {
    "duration": 18,
    "start_time": "2023-04-19T08:30:34.263Z"
   },
   {
    "duration": 45,
    "start_time": "2023-04-19T08:30:53.812Z"
   },
   {
    "duration": 40,
    "start_time": "2023-04-19T08:31:20.354Z"
   },
   {
    "duration": 39,
    "start_time": "2023-04-19T08:31:32.031Z"
   },
   {
    "duration": 28,
    "start_time": "2023-04-19T08:31:35.104Z"
   },
   {
    "duration": 31,
    "start_time": "2023-04-19T08:31:41.423Z"
   },
   {
    "duration": 21,
    "start_time": "2023-04-19T08:32:04.903Z"
   },
   {
    "duration": 28,
    "start_time": "2023-04-19T08:32:07.553Z"
   },
   {
    "duration": 21,
    "start_time": "2023-04-19T08:32:09.094Z"
   },
   {
    "duration": 892,
    "start_time": "2023-04-19T08:33:18.703Z"
   },
   {
    "duration": 8,
    "start_time": "2023-04-19T08:34:11.005Z"
   },
   {
    "duration": 7,
    "start_time": "2023-04-19T08:34:16.724Z"
   },
   {
    "duration": 21,
    "start_time": "2023-04-19T08:34:18.247Z"
   },
   {
    "duration": 17,
    "start_time": "2023-04-19T08:34:39.136Z"
   },
   {
    "duration": 16,
    "start_time": "2023-04-19T08:34:41.465Z"
   },
   {
    "duration": 845,
    "start_time": "2023-04-19T08:35:23.095Z"
   },
   {
    "duration": 3,
    "start_time": "2023-04-19T08:35:32.495Z"
   },
   {
    "duration": 159,
    "start_time": "2023-04-19T08:35:34.536Z"
   },
   {
    "duration": 159,
    "start_time": "2023-04-19T08:35:35.425Z"
   },
   {
    "duration": 63,
    "start_time": "2023-04-19T08:35:36.385Z"
   },
   {
    "duration": 48,
    "start_time": "2023-04-19T08:35:39.995Z"
   },
   {
    "duration": 906,
    "start_time": "2023-04-19T08:35:43.955Z"
   },
   {
    "duration": 127,
    "start_time": "2023-04-19T08:35:46.525Z"
   },
   {
    "duration": 143,
    "start_time": "2023-04-19T08:35:47.164Z"
   },
   {
    "duration": 51,
    "start_time": "2023-04-19T08:35:47.934Z"
   },
   {
    "duration": 24,
    "start_time": "2023-04-19T08:35:52.385Z"
   },
   {
    "duration": 5,
    "start_time": "2023-04-19T08:42:33.384Z"
   },
   {
    "duration": 14,
    "start_time": "2023-04-19T08:43:29.989Z"
   },
   {
    "duration": 17,
    "start_time": "2023-04-19T08:43:33.229Z"
   },
   {
    "duration": 72,
    "start_time": "2023-04-19T08:43:57.918Z"
   },
   {
    "duration": 36,
    "start_time": "2023-04-19T08:44:09.179Z"
   },
   {
    "duration": 32,
    "start_time": "2023-04-19T08:48:43.281Z"
   },
   {
    "duration": 936,
    "start_time": "2023-04-19T08:49:32.811Z"
   },
   {
    "duration": 864,
    "start_time": "2023-04-19T08:50:20.850Z"
   },
   {
    "duration": 829,
    "start_time": "2023-04-19T08:50:32.041Z"
   },
   {
    "duration": 872,
    "start_time": "2023-04-19T08:50:43.072Z"
   },
   {
    "duration": 9,
    "start_time": "2023-04-19T08:51:32.102Z"
   },
   {
    "duration": 914,
    "start_time": "2023-04-19T08:51:42.761Z"
   },
   {
    "duration": 15,
    "start_time": "2023-04-19T08:51:54.070Z"
   },
   {
    "duration": 877,
    "start_time": "2023-04-19T08:52:58.092Z"
   },
   {
    "duration": 45657,
    "start_time": "2023-04-19T08:53:01.391Z"
   },
   {
    "duration": 23467,
    "start_time": "2023-04-19T08:54:07.583Z"
   },
   {
    "duration": 14105,
    "start_time": "2023-04-19T08:55:07.833Z"
   },
   {
    "duration": 10469,
    "start_time": "2023-04-19T08:55:32.284Z"
   },
   {
    "duration": 13199,
    "start_time": "2023-04-19T08:55:45.947Z"
   },
   {
    "duration": 20577,
    "start_time": "2023-04-19T08:56:08.273Z"
   },
   {
    "duration": 13180,
    "start_time": "2023-04-19T08:56:33.263Z"
   },
   {
    "duration": 11088,
    "start_time": "2023-04-19T08:56:51.654Z"
   },
   {
    "duration": 17556,
    "start_time": "2023-04-19T08:57:10.194Z"
   },
   {
    "duration": 32308,
    "start_time": "2023-04-19T08:58:01.135Z"
   },
   {
    "duration": 40942,
    "start_time": "2023-04-19T08:58:35.994Z"
   },
   {
    "duration": 15829,
    "start_time": "2023-04-19T08:59:22.108Z"
   },
   {
    "duration": 5,
    "start_time": "2023-04-19T09:01:17.626Z"
   },
   {
    "duration": 10802,
    "start_time": "2023-04-19T09:01:27.645Z"
   },
   {
    "duration": 7689,
    "start_time": "2023-04-19T09:04:03.555Z"
   },
   {
    "duration": 9945,
    "start_time": "2023-04-19T09:04:14.319Z"
   },
   {
    "duration": 8597,
    "start_time": "2023-04-19T09:04:25.655Z"
   },
   {
    "duration": 6121,
    "start_time": "2023-04-19T09:04:39.229Z"
   },
   {
    "duration": 6489,
    "start_time": "2023-04-19T09:04:47.557Z"
   },
   {
    "duration": 1186,
    "start_time": "2023-04-19T09:10:39.696Z"
   },
   {
    "duration": 1034,
    "start_time": "2023-04-19T09:10:40.884Z"
   },
   {
    "duration": 26,
    "start_time": "2023-04-19T09:10:41.919Z"
   },
   {
    "duration": 133,
    "start_time": "2023-04-19T09:10:41.952Z"
   },
   {
    "duration": 8,
    "start_time": "2023-04-19T09:10:42.087Z"
   },
   {
    "duration": 16,
    "start_time": "2023-04-19T09:10:42.096Z"
   },
   {
    "duration": 3,
    "start_time": "2023-04-19T09:10:42.114Z"
   },
   {
    "duration": 187,
    "start_time": "2023-04-19T09:10:42.118Z"
   },
   {
    "duration": 170,
    "start_time": "2023-04-19T09:10:42.307Z"
   },
   {
    "duration": 77,
    "start_time": "2023-04-19T09:10:42.479Z"
   },
   {
    "duration": 27,
    "start_time": "2023-04-19T09:10:42.560Z"
   },
   {
    "duration": 93,
    "start_time": "2023-04-19T09:10:42.589Z"
   },
   {
    "duration": 23,
    "start_time": "2023-04-19T09:10:42.684Z"
   },
   {
    "duration": 204,
    "start_time": "2023-04-19T09:10:42.710Z"
   },
   {
    "duration": 212,
    "start_time": "2023-04-19T09:10:42.916Z"
   },
   {
    "duration": 150,
    "start_time": "2023-04-19T09:11:15.583Z"
   },
   {
    "duration": 5,
    "start_time": "2023-04-19T09:11:34.312Z"
   },
   {
    "duration": 15,
    "start_time": "2023-04-19T09:11:38.593Z"
   },
   {
    "duration": 8,
    "start_time": "2023-04-19T09:11:40.822Z"
   },
   {
    "duration": 8,
    "start_time": "2023-04-19T09:11:51.872Z"
   },
   {
    "duration": 8,
    "start_time": "2023-04-19T09:11:54.523Z"
   },
   {
    "duration": 4,
    "start_time": "2023-04-19T09:11:58.063Z"
   },
   {
    "duration": 4,
    "start_time": "2023-04-19T09:13:38.293Z"
   },
   {
    "duration": 8,
    "start_time": "2023-04-19T09:13:42.893Z"
   },
   {
    "duration": 5,
    "start_time": "2023-04-19T09:13:45.324Z"
   },
   {
    "duration": 4,
    "start_time": "2023-04-19T09:13:50.583Z"
   },
   {
    "duration": 9,
    "start_time": "2023-04-19T09:14:45.913Z"
   },
   {
    "duration": 4,
    "start_time": "2023-04-19T09:14:49.674Z"
   },
   {
    "duration": 5,
    "start_time": "2023-04-19T09:14:51.834Z"
   },
   {
    "duration": 8,
    "start_time": "2023-04-19T09:16:30.905Z"
   },
   {
    "duration": 9,
    "start_time": "2023-04-19T09:17:45.805Z"
   },
   {
    "duration": 3,
    "start_time": "2023-04-19T09:17:53.026Z"
   },
   {
    "duration": 5,
    "start_time": "2023-04-19T09:18:09.999Z"
   },
   {
    "duration": 95,
    "start_time": "2023-04-19T09:19:16.966Z"
   },
   {
    "duration": 1063,
    "start_time": "2023-04-19T09:20:04.897Z"
   },
   {
    "duration": 3,
    "start_time": "2023-04-19T09:20:08.206Z"
   },
   {
    "duration": 126,
    "start_time": "2023-04-19T09:20:09.378Z"
   },
   {
    "duration": 155,
    "start_time": "2023-04-19T09:20:10.216Z"
   },
   {
    "duration": 923,
    "start_time": "2023-04-19T09:20:46.798Z"
   },
   {
    "duration": 1105,
    "start_time": "2023-04-19T09:20:57.786Z"
   },
   {
    "duration": 4,
    "start_time": "2023-04-19T09:21:06.897Z"
   },
   {
    "duration": 8,
    "start_time": "2023-04-19T09:21:12.488Z"
   },
   {
    "duration": 3,
    "start_time": "2023-04-19T09:21:20.651Z"
   },
   {
    "duration": 4,
    "start_time": "2023-04-19T09:21:29.587Z"
   },
   {
    "duration": 989,
    "start_time": "2023-04-19T09:21:42.168Z"
   },
   {
    "duration": 2,
    "start_time": "2023-04-19T09:21:50.707Z"
   },
   {
    "duration": 847,
    "start_time": "2023-04-19T09:21:51.948Z"
   },
   {
    "duration": 3,
    "start_time": "2023-04-19T09:21:54.707Z"
   },
   {
    "duration": 133,
    "start_time": "2023-04-19T09:21:55.516Z"
   },
   {
    "duration": 137,
    "start_time": "2023-04-19T09:21:56.727Z"
   },
   {
    "duration": 51,
    "start_time": "2023-04-19T09:22:02.916Z"
   },
   {
    "duration": 42,
    "start_time": "2023-04-19T09:22:07.907Z"
   },
   {
    "duration": 89,
    "start_time": "2023-04-19T09:22:08.857Z"
   },
   {
    "duration": 4,
    "start_time": "2023-04-19T09:22:17.153Z"
   },
   {
    "duration": 71,
    "start_time": "2023-04-19T09:22:32.628Z"
   },
   {
    "duration": 109,
    "start_time": "2023-04-19T09:23:23.358Z"
   },
   {
    "duration": 97,
    "start_time": "2023-04-19T09:23:33.786Z"
   },
   {
    "duration": 94,
    "start_time": "2023-04-19T09:24:30.279Z"
   },
   {
    "duration": 5,
    "start_time": "2023-04-19T09:24:39.619Z"
   },
   {
    "duration": 118,
    "start_time": "2023-04-19T09:24:45.559Z"
   },
   {
    "duration": 61,
    "start_time": "2023-04-19T09:25:06.153Z"
   },
   {
    "duration": 65,
    "start_time": "2023-04-19T09:25:41.252Z"
   },
   {
    "duration": 5,
    "start_time": "2023-04-19T09:29:46.530Z"
   },
   {
    "duration": 120,
    "start_time": "2023-04-19T09:33:16.991Z"
   },
   {
    "duration": 5,
    "start_time": "2023-04-19T09:33:35.972Z"
   },
   {
    "duration": 141,
    "start_time": "2023-04-19T09:36:26.531Z"
   },
   {
    "duration": 220,
    "start_time": "2023-04-19T09:41:42.433Z"
   },
   {
    "duration": 23,
    "start_time": "2023-04-19T09:41:47.671Z"
   },
   {
    "duration": 18,
    "start_time": "2023-04-19T09:41:52.948Z"
   },
   {
    "duration": 171,
    "start_time": "2023-04-19T09:42:06.603Z"
   },
   {
    "duration": 166,
    "start_time": "2023-04-19T09:42:38.503Z"
   },
   {
    "duration": 167,
    "start_time": "2023-04-19T09:43:32.303Z"
   },
   {
    "duration": 214,
    "start_time": "2023-04-19T09:45:06.603Z"
   },
   {
    "duration": 210,
    "start_time": "2023-04-19T09:45:12.052Z"
   },
   {
    "duration": 1219,
    "start_time": "2023-04-19T09:45:53.612Z"
   },
   {
    "duration": 1374,
    "start_time": "2023-04-19T09:45:54.834Z"
   },
   {
    "duration": 37,
    "start_time": "2023-04-19T09:45:56.210Z"
   },
   {
    "duration": 98,
    "start_time": "2023-04-19T09:45:56.250Z"
   },
   {
    "duration": 7,
    "start_time": "2023-04-19T09:45:56.350Z"
   },
   {
    "duration": 17,
    "start_time": "2023-04-19T09:45:56.359Z"
   },
   {
    "duration": 3,
    "start_time": "2023-04-19T09:45:56.378Z"
   },
   {
    "duration": 152,
    "start_time": "2023-04-19T09:45:56.382Z"
   },
   {
    "duration": 149,
    "start_time": "2023-04-19T09:45:56.543Z"
   },
   {
    "duration": 60,
    "start_time": "2023-04-19T09:45:56.695Z"
   },
   {
    "duration": 33,
    "start_time": "2023-04-19T09:45:56.757Z"
   },
   {
    "duration": 87,
    "start_time": "2023-04-19T09:45:56.791Z"
   },
   {
    "duration": 2,
    "start_time": "2023-04-19T09:45:56.880Z"
   },
   {
    "duration": 222,
    "start_time": "2023-04-19T09:45:56.883Z"
   },
   {
    "duration": 4,
    "start_time": "2023-04-19T09:45:57.107Z"
   },
   {
    "duration": 124,
    "start_time": "2023-04-19T09:46:14.883Z"
   },
   {
    "duration": 1085,
    "start_time": "2023-04-19T09:46:22.957Z"
   },
   {
    "duration": 1266,
    "start_time": "2023-04-19T09:46:24.044Z"
   },
   {
    "duration": 35,
    "start_time": "2023-04-19T09:46:25.312Z"
   },
   {
    "duration": 105,
    "start_time": "2023-04-19T09:46:25.349Z"
   },
   {
    "duration": 7,
    "start_time": "2023-04-19T09:46:25.457Z"
   },
   {
    "duration": 17,
    "start_time": "2023-04-19T09:46:25.465Z"
   },
   {
    "duration": 7,
    "start_time": "2023-04-19T09:46:25.484Z"
   },
   {
    "duration": 171,
    "start_time": "2023-04-19T09:46:25.492Z"
   },
   {
    "duration": 134,
    "start_time": "2023-04-19T09:46:25.664Z"
   },
   {
    "duration": 63,
    "start_time": "2023-04-19T09:46:25.800Z"
   },
   {
    "duration": 26,
    "start_time": "2023-04-19T09:46:25.864Z"
   },
   {
    "duration": 83,
    "start_time": "2023-04-19T09:46:25.891Z"
   },
   {
    "duration": 14,
    "start_time": "2023-04-19T09:46:25.975Z"
   },
   {
    "duration": 204,
    "start_time": "2023-04-19T09:46:25.990Z"
   },
   {
    "duration": 4,
    "start_time": "2023-04-19T09:46:26.196Z"
   },
   {
    "duration": 1214,
    "start_time": "2023-04-19T09:46:44.804Z"
   },
   {
    "duration": 1282,
    "start_time": "2023-04-19T09:46:46.021Z"
   },
   {
    "duration": 17,
    "start_time": "2023-04-19T09:46:47.305Z"
   },
   {
    "duration": 118,
    "start_time": "2023-04-19T09:46:47.324Z"
   },
   {
    "duration": 8,
    "start_time": "2023-04-19T09:46:47.444Z"
   },
   {
    "duration": 31,
    "start_time": "2023-04-19T09:46:47.453Z"
   },
   {
    "duration": 5,
    "start_time": "2023-04-19T09:46:47.485Z"
   },
   {
    "duration": 156,
    "start_time": "2023-04-19T09:46:47.492Z"
   },
   {
    "duration": 139,
    "start_time": "2023-04-19T09:46:47.650Z"
   },
   {
    "duration": 61,
    "start_time": "2023-04-19T09:46:47.791Z"
   },
   {
    "duration": 25,
    "start_time": "2023-04-19T09:46:47.853Z"
   },
   {
    "duration": 83,
    "start_time": "2023-04-19T09:46:47.879Z"
   },
   {
    "duration": 38,
    "start_time": "2023-04-19T09:46:47.964Z"
   },
   {
    "duration": 238,
    "start_time": "2023-04-19T09:46:48.004Z"
   },
   {
    "duration": 5,
    "start_time": "2023-04-19T09:46:48.247Z"
   },
   {
    "duration": 74,
    "start_time": "2023-04-19T09:46:48.254Z"
   },
   {
    "duration": 93,
    "start_time": "2023-04-19T09:47:05.423Z"
   },
   {
    "duration": 226,
    "start_time": "2023-04-19T09:47:15.352Z"
   },
   {
    "duration": 20,
    "start_time": "2023-04-19T09:47:20.133Z"
   },
   {
    "duration": 7,
    "start_time": "2023-04-19T09:47:29.894Z"
   },
   {
    "duration": 276,
    "start_time": "2023-04-19T09:47:45.625Z"
   },
   {
    "duration": 190,
    "start_time": "2023-04-19T09:49:51.083Z"
   },
   {
    "duration": 221,
    "start_time": "2023-04-19T09:51:26.285Z"
   },
   {
    "duration": 7,
    "start_time": "2023-04-19T09:51:28.704Z"
   },
   {
    "duration": 180,
    "start_time": "2023-04-19T09:51:31.914Z"
   },
   {
    "duration": 228,
    "start_time": "2023-04-19T09:53:55.676Z"
   },
   {
    "duration": 198,
    "start_time": "2023-04-19T09:54:00.750Z"
   },
   {
    "duration": 248,
    "start_time": "2023-04-19T09:54:43.450Z"
   },
   {
    "duration": 185,
    "start_time": "2023-04-19T09:54:47.736Z"
   },
   {
    "duration": 231,
    "start_time": "2023-04-19T09:54:54.527Z"
   },
   {
    "duration": 7,
    "start_time": "2023-04-19T09:54:56.365Z"
   },
   {
    "duration": 169,
    "start_time": "2023-04-19T09:55:36.015Z"
   },
   {
    "duration": 4,
    "start_time": "2023-04-19T09:56:15.125Z"
   },
   {
    "duration": 157,
    "start_time": "2023-04-19T09:56:28.617Z"
   },
   {
    "duration": 204,
    "start_time": "2023-04-19T09:56:44.385Z"
   },
   {
    "duration": 18,
    "start_time": "2023-04-19T09:56:56.797Z"
   },
   {
    "duration": 4,
    "start_time": "2023-04-19T09:57:19.066Z"
   },
   {
    "duration": 208,
    "start_time": "2023-04-19T09:57:25.607Z"
   },
   {
    "duration": 173,
    "start_time": "2023-04-19T09:58:14.874Z"
   },
   {
    "duration": 161,
    "start_time": "2023-04-19T10:00:06.388Z"
   },
   {
    "duration": 264,
    "start_time": "2023-04-19T10:00:17.198Z"
   },
   {
    "duration": 1168,
    "start_time": "2023-04-19T10:01:45.926Z"
   },
   {
    "duration": 1305,
    "start_time": "2023-04-19T10:01:47.096Z"
   },
   {
    "duration": 18,
    "start_time": "2023-04-19T10:01:48.403Z"
   },
   {
    "duration": 100,
    "start_time": "2023-04-19T10:01:48.422Z"
   },
   {
    "duration": 24,
    "start_time": "2023-04-19T10:01:48.524Z"
   },
   {
    "duration": 17,
    "start_time": "2023-04-19T10:01:48.549Z"
   },
   {
    "duration": 7,
    "start_time": "2023-04-19T10:01:48.567Z"
   },
   {
    "duration": 154,
    "start_time": "2023-04-19T10:01:48.576Z"
   },
   {
    "duration": 148,
    "start_time": "2023-04-19T10:01:48.731Z"
   },
   {
    "duration": 62,
    "start_time": "2023-04-19T10:01:48.880Z"
   },
   {
    "duration": 33,
    "start_time": "2023-04-19T10:01:48.943Z"
   },
   {
    "duration": 85,
    "start_time": "2023-04-19T10:01:48.977Z"
   },
   {
    "duration": 13,
    "start_time": "2023-04-19T10:01:49.064Z"
   },
   {
    "duration": 212,
    "start_time": "2023-04-19T10:01:49.080Z"
   },
   {
    "duration": 21,
    "start_time": "2023-04-19T10:01:49.294Z"
   },
   {
    "duration": 4,
    "start_time": "2023-04-19T10:01:49.316Z"
   },
   {
    "duration": 295,
    "start_time": "2023-04-19T10:01:49.322Z"
   },
   {
    "duration": 500,
    "start_time": "2023-04-19T10:02:05.468Z"
   },
   {
    "duration": 1137,
    "start_time": "2023-04-19T10:03:11.178Z"
   },
   {
    "duration": 1324,
    "start_time": "2023-04-19T10:03:12.317Z"
   },
   {
    "duration": 18,
    "start_time": "2023-04-19T10:03:13.645Z"
   },
   {
    "duration": 113,
    "start_time": "2023-04-19T10:03:13.666Z"
   },
   {
    "duration": 8,
    "start_time": "2023-04-19T10:03:13.780Z"
   },
   {
    "duration": 30,
    "start_time": "2023-04-19T10:03:13.789Z"
   },
   {
    "duration": 7,
    "start_time": "2023-04-19T10:03:13.821Z"
   },
   {
    "duration": 175,
    "start_time": "2023-04-19T10:03:13.829Z"
   },
   {
    "duration": 142,
    "start_time": "2023-04-19T10:03:14.005Z"
   },
   {
    "duration": 53,
    "start_time": "2023-04-19T10:03:14.148Z"
   },
   {
    "duration": 43,
    "start_time": "2023-04-19T10:03:14.202Z"
   },
   {
    "duration": 78,
    "start_time": "2023-04-19T10:03:14.249Z"
   },
   {
    "duration": 2,
    "start_time": "2023-04-19T10:03:14.330Z"
   },
   {
    "duration": 225,
    "start_time": "2023-04-19T10:03:14.342Z"
   },
   {
    "duration": 17,
    "start_time": "2023-04-19T10:03:14.568Z"
   },
   {
    "duration": 10,
    "start_time": "2023-04-19T10:03:14.587Z"
   },
   {
    "duration": 1135,
    "start_time": "2023-04-19T10:03:37.161Z"
   },
   {
    "duration": 1354,
    "start_time": "2023-04-19T10:03:38.298Z"
   },
   {
    "duration": 18,
    "start_time": "2023-04-19T10:03:39.654Z"
   },
   {
    "duration": 113,
    "start_time": "2023-04-19T10:03:39.674Z"
   },
   {
    "duration": 9,
    "start_time": "2023-04-19T10:03:39.789Z"
   },
   {
    "duration": 28,
    "start_time": "2023-04-19T10:03:39.800Z"
   },
   {
    "duration": 12,
    "start_time": "2023-04-19T10:03:39.830Z"
   },
   {
    "duration": 173,
    "start_time": "2023-04-19T10:03:39.845Z"
   },
   {
    "duration": 151,
    "start_time": "2023-04-19T10:03:40.020Z"
   },
   {
    "duration": 52,
    "start_time": "2023-04-19T10:03:40.173Z"
   },
   {
    "duration": 39,
    "start_time": "2023-04-19T10:03:40.234Z"
   },
   {
    "duration": 77,
    "start_time": "2023-04-19T10:03:40.275Z"
   },
   {
    "duration": 10,
    "start_time": "2023-04-19T10:03:40.354Z"
   },
   {
    "duration": 249,
    "start_time": "2023-04-19T10:03:40.367Z"
   },
   {
    "duration": 36,
    "start_time": "2023-04-19T10:03:40.618Z"
   },
   {
    "duration": 4,
    "start_time": "2023-04-19T10:03:40.656Z"
   },
   {
    "duration": 318,
    "start_time": "2023-04-19T10:03:40.662Z"
   },
   {
    "duration": 202,
    "start_time": "2023-04-19T10:04:08.744Z"
   },
   {
    "duration": 259,
    "start_time": "2023-04-19T10:04:35.490Z"
   },
   {
    "duration": 377,
    "start_time": "2023-04-19T10:04:58.010Z"
   },
   {
    "duration": 174,
    "start_time": "2023-04-19T10:05:05.949Z"
   },
   {
    "duration": 228,
    "start_time": "2023-04-19T10:05:08.232Z"
   },
   {
    "duration": 204,
    "start_time": "2023-04-19T10:08:29.090Z"
   },
   {
    "duration": 967,
    "start_time": "2023-04-19T10:08:34.400Z"
   },
   {
    "duration": 913,
    "start_time": "2023-04-19T10:08:35.940Z"
   },
   {
    "duration": 712,
    "start_time": "2023-04-19T10:08:41.811Z"
   },
   {
    "duration": 2615,
    "start_time": "2023-04-19T10:09:18.621Z"
   },
   {
    "duration": 3251,
    "start_time": "2023-04-19T10:10:36.091Z"
   },
   {
    "duration": 3,
    "start_time": "2023-04-19T10:14:48.733Z"
   },
   {
    "duration": 13270,
    "start_time": "2023-04-19T10:15:35.674Z"
   },
   {
    "duration": 87,
    "start_time": "2023-04-19T10:18:40.185Z"
   },
   {
    "duration": 11892,
    "start_time": "2023-04-19T10:18:45.646Z"
   },
   {
    "duration": 20453,
    "start_time": "2023-04-19T10:19:22.595Z"
   },
   {
    "duration": 61,
    "start_time": "2023-04-19T10:21:57.625Z"
   },
   {
    "duration": 29292,
    "start_time": "2023-04-19T10:22:04.646Z"
   },
   {
    "duration": 29735,
    "start_time": "2023-04-19T10:22:37.216Z"
   },
   {
    "duration": 17565,
    "start_time": "2023-04-19T10:23:12.476Z"
   },
   {
    "duration": 21,
    "start_time": "2023-04-19T10:27:17.858Z"
   },
   {
    "duration": 1336,
    "start_time": "2023-04-19T10:28:00.920Z"
   },
   {
    "duration": 915,
    "start_time": "2023-04-19T10:28:02.258Z"
   },
   {
    "duration": 19,
    "start_time": "2023-04-19T10:28:03.174Z"
   },
   {
    "duration": 108,
    "start_time": "2023-04-19T10:28:03.195Z"
   },
   {
    "duration": 9,
    "start_time": "2023-04-19T10:28:03.305Z"
   },
   {
    "duration": 31,
    "start_time": "2023-04-19T10:28:03.316Z"
   },
   {
    "duration": 4,
    "start_time": "2023-04-19T10:28:03.348Z"
   },
   {
    "duration": 166,
    "start_time": "2023-04-19T10:28:03.354Z"
   },
   {
    "duration": 138,
    "start_time": "2023-04-19T10:28:03.522Z"
   },
   {
    "duration": 51,
    "start_time": "2023-04-19T10:28:03.661Z"
   },
   {
    "duration": 40,
    "start_time": "2023-04-19T10:28:03.714Z"
   },
   {
    "duration": 84,
    "start_time": "2023-04-19T10:28:03.756Z"
   },
   {
    "duration": 3,
    "start_time": "2023-04-19T10:28:03.841Z"
   },
   {
    "duration": 202,
    "start_time": "2023-04-19T10:28:03.846Z"
   },
   {
    "duration": 6795,
    "start_time": "2023-04-19T10:28:04.050Z"
   },
   {
    "duration": 345,
    "start_time": "2023-04-19T10:28:10.847Z"
   },
   {
    "duration": 1110,
    "start_time": "2023-04-19T10:29:06.594Z"
   },
   {
    "duration": 1021,
    "start_time": "2023-04-19T10:29:07.706Z"
   },
   {
    "duration": 36,
    "start_time": "2023-04-19T10:29:08.728Z"
   },
   {
    "duration": 97,
    "start_time": "2023-04-19T10:29:08.766Z"
   },
   {
    "duration": 9,
    "start_time": "2023-04-19T10:29:08.865Z"
   },
   {
    "duration": 16,
    "start_time": "2023-04-19T10:29:08.876Z"
   },
   {
    "duration": 3,
    "start_time": "2023-04-19T10:29:08.893Z"
   },
   {
    "duration": 181,
    "start_time": "2023-04-19T10:29:08.897Z"
   },
   {
    "duration": 171,
    "start_time": "2023-04-19T10:29:09.080Z"
   },
   {
    "duration": 58,
    "start_time": "2023-04-19T10:29:09.253Z"
   },
   {
    "duration": 46,
    "start_time": "2023-04-19T10:29:09.312Z"
   },
   {
    "duration": 87,
    "start_time": "2023-04-19T10:29:09.359Z"
   },
   {
    "duration": 915,
    "start_time": "2023-04-19T10:29:09.448Z"
   },
   {
    "duration": 957,
    "start_time": "2023-04-19T10:29:10.366Z"
   },
   {
    "duration": 9226,
    "start_time": "2023-04-19T10:29:11.325Z"
   },
   {
    "duration": 45490,
    "start_time": "2023-04-19T10:29:20.555Z"
   },
   {
    "duration": 106,
    "start_time": "2023-04-19T10:31:56.252Z"
   },
   {
    "duration": 5,
    "start_time": "2023-04-19T10:31:58.719Z"
   },
   {
    "duration": 315,
    "start_time": "2023-04-19T10:34:01.844Z"
   },
   {
    "duration": 387,
    "start_time": "2023-04-19T10:34:09.551Z"
   },
   {
    "duration": 5,
    "start_time": "2023-04-19T10:34:24.220Z"
   },
   {
    "duration": 208,
    "start_time": "2023-04-19T10:35:22.362Z"
   },
   {
    "duration": 532,
    "start_time": "2023-04-19T10:35:54.690Z"
   },
   {
    "duration": 35998,
    "start_time": "2023-04-19T10:36:38.751Z"
   },
   {
    "duration": 20555,
    "start_time": "2023-04-19T10:37:35.881Z"
   },
   {
    "duration": 36040,
    "start_time": "2023-04-19T10:37:59.501Z"
   },
   {
    "duration": 29813,
    "start_time": "2023-04-19T10:38:41.033Z"
   },
   {
    "duration": 3,
    "start_time": "2023-04-19T10:59:25.530Z"
   },
   {
    "duration": 9506,
    "start_time": "2023-04-19T10:59:30.432Z"
   },
   {
    "duration": 314,
    "start_time": "2023-04-19T10:59:39.940Z"
   },
   {
    "duration": 7,
    "start_time": "2023-04-19T10:59:41.360Z"
   },
   {
    "duration": 4,
    "start_time": "2023-04-19T11:09:19.264Z"
   },
   {
    "duration": 42,
    "start_time": "2023-04-19T11:11:04.725Z"
   },
   {
    "duration": 3479,
    "start_time": "2023-04-19T11:11:09.046Z"
   },
   {
    "duration": 4,
    "start_time": "2023-04-19T11:11:13.155Z"
   },
   {
    "duration": 12,
    "start_time": "2023-04-19T11:11:28.207Z"
   },
   {
    "duration": 37,
    "start_time": "2023-04-19T11:12:34.752Z"
   },
   {
    "duration": 198,
    "start_time": "2023-04-19T11:12:46.504Z"
   },
   {
    "duration": 143,
    "start_time": "2023-04-19T11:13:35.856Z"
   },
   {
    "duration": 3231,
    "start_time": "2023-04-19T11:14:03.817Z"
   },
   {
    "duration": 0,
    "start_time": "2023-04-19T11:14:07.050Z"
   },
   {
    "duration": 138,
    "start_time": "2023-04-19T11:14:19.366Z"
   },
   {
    "duration": 1211,
    "start_time": "2023-04-19T11:14:33.519Z"
   },
   {
    "duration": 1265,
    "start_time": "2023-04-19T11:14:34.734Z"
   },
   {
    "duration": 18,
    "start_time": "2023-04-19T11:14:36.001Z"
   },
   {
    "duration": 128,
    "start_time": "2023-04-19T11:14:36.021Z"
   },
   {
    "duration": 8,
    "start_time": "2023-04-19T11:14:36.152Z"
   },
   {
    "duration": 50,
    "start_time": "2023-04-19T11:14:36.161Z"
   },
   {
    "duration": 6,
    "start_time": "2023-04-19T11:14:36.213Z"
   },
   {
    "duration": 154,
    "start_time": "2023-04-19T11:14:36.220Z"
   },
   {
    "duration": 147,
    "start_time": "2023-04-19T11:14:36.375Z"
   },
   {
    "duration": 69,
    "start_time": "2023-04-19T11:14:36.523Z"
   },
   {
    "duration": 30,
    "start_time": "2023-04-19T11:14:36.594Z"
   },
   {
    "duration": 81,
    "start_time": "2023-04-19T11:14:36.626Z"
   },
   {
    "duration": 864,
    "start_time": "2023-04-19T11:14:36.708Z"
   },
   {
    "duration": 262,
    "start_time": "2023-04-19T11:14:37.577Z"
   },
   {
    "duration": 3201,
    "start_time": "2023-04-19T11:14:37.842Z"
   },
   {
    "duration": 0,
    "start_time": "2023-04-19T11:14:41.045Z"
   },
   {
    "duration": 0,
    "start_time": "2023-04-19T11:14:41.048Z"
   },
   {
    "duration": 0,
    "start_time": "2023-04-19T11:14:41.050Z"
   },
   {
    "duration": 0,
    "start_time": "2023-04-19T11:14:41.051Z"
   },
   {
    "duration": 0,
    "start_time": "2023-04-19T11:14:41.051Z"
   },
   {
    "duration": 0,
    "start_time": "2023-04-19T11:14:41.052Z"
   },
   {
    "duration": 0,
    "start_time": "2023-04-19T11:14:41.053Z"
   },
   {
    "duration": 0,
    "start_time": "2023-04-19T11:14:41.055Z"
   },
   {
    "duration": 0,
    "start_time": "2023-04-19T11:14:41.056Z"
   },
   {
    "duration": 0,
    "start_time": "2023-04-19T11:14:41.058Z"
   },
   {
    "duration": 0,
    "start_time": "2023-04-19T11:14:41.059Z"
   },
   {
    "duration": 3354,
    "start_time": "2023-04-19T11:15:02.777Z"
   },
   {
    "duration": 774,
    "start_time": "2023-04-19T11:17:20.042Z"
   },
   {
    "duration": 33,
    "start_time": "2023-04-19T11:18:17.768Z"
   },
   {
    "duration": 29,
    "start_time": "2023-04-19T11:19:42.949Z"
   },
   {
    "duration": 10,
    "start_time": "2023-04-19T11:19:52.584Z"
   },
   {
    "duration": 787,
    "start_time": "2023-04-19T11:19:58.669Z"
   },
   {
    "duration": 24,
    "start_time": "2023-04-19T11:19:59.459Z"
   },
   {
    "duration": 32,
    "start_time": "2023-04-19T11:20:42.150Z"
   },
   {
    "duration": 26,
    "start_time": "2023-04-19T11:20:44.390Z"
   },
   {
    "duration": 40,
    "start_time": "2023-04-19T11:21:07.070Z"
   },
   {
    "duration": 34,
    "start_time": "2023-04-19T11:23:52.842Z"
   },
   {
    "duration": 26,
    "start_time": "2023-04-19T11:24:11.161Z"
   },
   {
    "duration": 956,
    "start_time": "2023-04-19T11:24:52.542Z"
   },
   {
    "duration": 1374,
    "start_time": "2023-04-19T11:25:12.462Z"
   },
   {
    "duration": 1661,
    "start_time": "2023-04-19T11:25:32.761Z"
   },
   {
    "duration": 1072,
    "start_time": "2023-04-19T11:26:16.790Z"
   },
   {
    "duration": 911,
    "start_time": "2023-04-19T11:26:17.864Z"
   },
   {
    "duration": 17,
    "start_time": "2023-04-19T11:26:18.776Z"
   },
   {
    "duration": 95,
    "start_time": "2023-04-19T11:26:18.795Z"
   },
   {
    "duration": 11,
    "start_time": "2023-04-19T11:26:18.892Z"
   },
   {
    "duration": 36,
    "start_time": "2023-04-19T11:26:18.905Z"
   },
   {
    "duration": 3,
    "start_time": "2023-04-19T11:26:18.943Z"
   },
   {
    "duration": 7,
    "start_time": "2023-04-19T11:26:18.947Z"
   },
   {
    "duration": 178,
    "start_time": "2023-04-19T11:26:18.956Z"
   },
   {
    "duration": 62,
    "start_time": "2023-04-19T11:26:19.137Z"
   },
   {
    "duration": 44,
    "start_time": "2023-04-19T11:26:19.201Z"
   },
   {
    "duration": 92,
    "start_time": "2023-04-19T11:26:19.247Z"
   },
   {
    "duration": 836,
    "start_time": "2023-04-19T11:26:19.341Z"
   },
   {
    "duration": 766,
    "start_time": "2023-04-19T11:26:20.179Z"
   },
   {
    "duration": 30,
    "start_time": "2023-04-19T11:26:20.947Z"
   },
   {
    "duration": 38,
    "start_time": "2023-04-19T11:26:20.979Z"
   },
   {
    "duration": 1229,
    "start_time": "2023-04-19T11:26:21.018Z"
   },
   {
    "duration": 2,
    "start_time": "2023-04-19T11:26:22.249Z"
   },
   {
    "duration": 28390,
    "start_time": "2023-04-19T11:26:22.253Z"
   },
   {
    "duration": 497,
    "start_time": "2023-04-19T11:26:50.644Z"
   },
   {
    "duration": 5,
    "start_time": "2023-04-19T11:26:51.143Z"
   },
   {
    "duration": 29,
    "start_time": "2023-04-19T11:26:51.150Z"
   },
   {
    "duration": 796,
    "start_time": "2023-04-19T11:26:51.181Z"
   },
   {
    "duration": 110,
    "start_time": "2023-04-19T11:26:51.978Z"
   },
   {
    "duration": 5,
    "start_time": "2023-04-19T11:26:52.090Z"
   },
   {
    "duration": 10,
    "start_time": "2023-04-19T11:26:52.096Z"
   },
   {
    "duration": 7,
    "start_time": "2023-04-19T11:26:52.107Z"
   },
   {
    "duration": 0,
    "start_time": "2023-04-19T11:26:52.116Z"
   },
   {
    "duration": 905,
    "start_time": "2023-04-19T11:27:06.409Z"
   },
   {
    "duration": 1382,
    "start_time": "2023-04-19T11:28:41.019Z"
   },
   {
    "duration": 936,
    "start_time": "2023-04-19T11:28:42.403Z"
   },
   {
    "duration": 19,
    "start_time": "2023-04-19T11:28:43.341Z"
   },
   {
    "duration": 104,
    "start_time": "2023-04-19T11:28:43.362Z"
   },
   {
    "duration": 7,
    "start_time": "2023-04-19T11:28:43.468Z"
   },
   {
    "duration": 15,
    "start_time": "2023-04-19T11:28:43.477Z"
   },
   {
    "duration": 3,
    "start_time": "2023-04-19T11:28:43.493Z"
   },
   {
    "duration": 161,
    "start_time": "2023-04-19T11:28:43.497Z"
   },
   {
    "duration": 142,
    "start_time": "2023-04-19T11:28:43.660Z"
   },
   {
    "duration": 63,
    "start_time": "2023-04-19T11:28:43.803Z"
   },
   {
    "duration": 32,
    "start_time": "2023-04-19T11:28:43.868Z"
   },
   {
    "duration": 94,
    "start_time": "2023-04-19T11:28:43.901Z"
   },
   {
    "duration": 892,
    "start_time": "2023-04-19T11:28:43.996Z"
   },
   {
    "duration": 919,
    "start_time": "2023-04-19T11:28:44.892Z"
   },
   {
    "duration": 1429,
    "start_time": "2023-04-19T11:28:45.813Z"
   },
   {
    "duration": 3,
    "start_time": "2023-04-19T11:28:47.244Z"
   },
   {
    "duration": 30286,
    "start_time": "2023-04-19T11:28:47.249Z"
   },
   {
    "duration": 498,
    "start_time": "2023-04-19T11:29:17.537Z"
   },
   {
    "duration": 5,
    "start_time": "2023-04-19T11:29:18.037Z"
   },
   {
    "duration": 4,
    "start_time": "2023-04-19T11:29:18.044Z"
   },
   {
    "duration": 927,
    "start_time": "2023-04-19T11:29:18.049Z"
   },
   {
    "duration": 69,
    "start_time": "2023-04-19T11:29:18.977Z"
   },
   {
    "duration": 7,
    "start_time": "2023-04-19T11:29:19.048Z"
   },
   {
    "duration": 4,
    "start_time": "2023-04-19T11:29:19.056Z"
   },
   {
    "duration": 12,
    "start_time": "2023-04-19T11:29:19.062Z"
   },
   {
    "duration": 45,
    "start_time": "2023-04-19T11:30:35.494Z"
   },
   {
    "duration": 787,
    "start_time": "2023-04-19T11:31:46.064Z"
   },
   {
    "duration": 14,
    "start_time": "2023-04-19T11:31:55.904Z"
   },
   {
    "duration": 1572,
    "start_time": "2023-04-19T11:32:24.065Z"
   },
   {
    "duration": 25,
    "start_time": "2023-04-19T11:32:36.115Z"
   },
   {
    "duration": 769,
    "start_time": "2023-04-19T11:32:39.052Z"
   },
   {
    "duration": 13,
    "start_time": "2023-04-19T11:32:44.094Z"
   },
   {
    "duration": 32,
    "start_time": "2023-04-19T11:32:53.735Z"
   },
   {
    "duration": 12,
    "start_time": "2023-04-19T11:33:20.815Z"
   },
   {
    "duration": 12,
    "start_time": "2023-04-19T11:33:33.777Z"
   },
   {
    "duration": 1043,
    "start_time": "2023-04-19T11:33:45.635Z"
   },
   {
    "duration": 209,
    "start_time": "2023-04-19T11:34:57.395Z"
   },
   {
    "duration": 258,
    "start_time": "2023-04-19T11:35:05.706Z"
   },
   {
    "duration": 26,
    "start_time": "2023-04-19T11:35:11.148Z"
   },
   {
    "duration": 4,
    "start_time": "2023-04-19T11:35:19.175Z"
   },
   {
    "duration": 48,
    "start_time": "2023-04-19T11:35:32.675Z"
   },
   {
    "duration": 1203,
    "start_time": "2023-04-19T11:35:37.552Z"
   },
   {
    "duration": 1282,
    "start_time": "2023-04-19T11:35:38.758Z"
   },
   {
    "duration": 18,
    "start_time": "2023-04-19T11:35:40.042Z"
   },
   {
    "duration": 104,
    "start_time": "2023-04-19T11:35:40.062Z"
   },
   {
    "duration": 8,
    "start_time": "2023-04-19T11:35:40.169Z"
   },
   {
    "duration": 20,
    "start_time": "2023-04-19T11:35:40.179Z"
   },
   {
    "duration": 7,
    "start_time": "2023-04-19T11:35:40.201Z"
   },
   {
    "duration": 159,
    "start_time": "2023-04-19T11:35:40.209Z"
   },
   {
    "duration": 149,
    "start_time": "2023-04-19T11:35:40.370Z"
   },
   {
    "duration": 57,
    "start_time": "2023-04-19T11:35:40.521Z"
   },
   {
    "duration": 32,
    "start_time": "2023-04-19T11:35:40.580Z"
   },
   {
    "duration": 95,
    "start_time": "2023-04-19T11:35:40.614Z"
   },
   {
    "duration": 1056,
    "start_time": "2023-04-19T11:35:40.711Z"
   },
   {
    "duration": 913,
    "start_time": "2023-04-19T11:35:41.769Z"
   },
   {
    "duration": 279,
    "start_time": "2023-04-19T11:35:42.684Z"
   },
   {
    "duration": 4,
    "start_time": "2023-04-19T11:35:42.965Z"
   },
   {
    "duration": 29872,
    "start_time": "2023-04-19T11:35:42.970Z"
   },
   {
    "duration": 393,
    "start_time": "2023-04-19T11:36:12.844Z"
   },
   {
    "duration": 8,
    "start_time": "2023-04-19T11:36:13.239Z"
   },
   {
    "duration": 13,
    "start_time": "2023-04-19T11:36:13.249Z"
   },
   {
    "duration": 30780,
    "start_time": "2023-04-19T11:36:13.264Z"
   },
   {
    "duration": 207,
    "start_time": "2023-04-19T11:36:44.046Z"
   },
   {
    "duration": 12,
    "start_time": "2023-04-19T11:36:44.341Z"
   },
   {
    "duration": 6,
    "start_time": "2023-04-19T11:36:44.435Z"
   },
   {
    "duration": 7,
    "start_time": "2023-04-19T11:36:44.442Z"
   },
   {
    "duration": 3,
    "start_time": "2023-04-19T11:38:10.247Z"
   },
   {
    "duration": 5,
    "start_time": "2023-04-19T11:39:52.441Z"
   },
   {
    "duration": 14174,
    "start_time": "2023-04-19T11:40:02.647Z"
   },
   {
    "duration": 142,
    "start_time": "2023-04-19T11:40:25.117Z"
   },
   {
    "duration": 7,
    "start_time": "2023-04-19T11:40:30.308Z"
   },
   {
    "duration": 3,
    "start_time": "2023-04-19T11:41:38.650Z"
   },
   {
    "duration": 25116,
    "start_time": "2023-04-19T11:41:40.117Z"
   },
   {
    "duration": 110,
    "start_time": "2023-04-19T11:42:33.445Z"
   },
   {
    "duration": 6,
    "start_time": "2023-04-19T11:42:35.378Z"
   },
   {
    "duration": 3,
    "start_time": "2023-04-19T11:43:19.378Z"
   },
   {
    "duration": 3502,
    "start_time": "2023-04-19T11:43:21.546Z"
   },
   {
    "duration": 157,
    "start_time": "2023-04-19T11:43:42.089Z"
   },
   {
    "duration": 6,
    "start_time": "2023-04-19T11:43:44.555Z"
   },
   {
    "duration": 5,
    "start_time": "2023-04-19T11:44:24.559Z"
   },
   {
    "duration": 10826,
    "start_time": "2023-04-19T11:44:27.357Z"
   },
   {
    "duration": 187,
    "start_time": "2023-04-19T11:44:41.253Z"
   },
   {
    "duration": 5,
    "start_time": "2023-04-19T11:44:43.070Z"
   },
   {
    "duration": 2,
    "start_time": "2023-04-19T11:45:26.080Z"
   },
   {
    "duration": 31917,
    "start_time": "2023-04-19T11:45:27.679Z"
   },
   {
    "duration": 130,
    "start_time": "2023-04-19T11:46:22.019Z"
   },
   {
    "duration": 7,
    "start_time": "2023-04-19T11:46:24.464Z"
   },
   {
    "duration": 3,
    "start_time": "2023-04-19T11:48:13.854Z"
   },
   {
    "duration": 5455,
    "start_time": "2023-04-19T11:48:16.430Z"
   },
   {
    "duration": 126,
    "start_time": "2023-04-19T11:48:37.319Z"
   },
   {
    "duration": 7,
    "start_time": "2023-04-19T11:48:39.868Z"
   },
   {
    "duration": 2,
    "start_time": "2023-04-19T11:48:50.020Z"
   },
   {
    "duration": 2579,
    "start_time": "2023-04-19T11:48:51.420Z"
   },
   {
    "duration": 122,
    "start_time": "2023-04-19T11:49:06.732Z"
   },
   {
    "duration": 5,
    "start_time": "2023-04-19T11:49:08.301Z"
   },
   {
    "duration": 3,
    "start_time": "2023-04-19T11:49:13.192Z"
   },
   {
    "duration": 4124,
    "start_time": "2023-04-19T11:49:14.166Z"
   },
   {
    "duration": 106,
    "start_time": "2023-04-19T11:49:19.961Z"
   },
   {
    "duration": 8,
    "start_time": "2023-04-19T11:49:21.070Z"
   },
   {
    "duration": 3,
    "start_time": "2023-04-19T11:49:26.610Z"
   },
   {
    "duration": 5837,
    "start_time": "2023-04-19T11:49:27.565Z"
   },
   {
    "duration": 117,
    "start_time": "2023-04-19T11:49:35.730Z"
   },
   {
    "duration": 6,
    "start_time": "2023-04-19T11:49:36.669Z"
   },
   {
    "duration": 4,
    "start_time": "2023-04-19T11:49:46.365Z"
   },
   {
    "duration": 33562,
    "start_time": "2023-04-19T11:49:47.402Z"
   },
   {
    "duration": 116,
    "start_time": "2023-04-19T11:50:23.262Z"
   },
   {
    "duration": 6,
    "start_time": "2023-04-19T11:50:24.620Z"
   },
   {
    "duration": 2,
    "start_time": "2023-04-19T11:50:30.068Z"
   },
   {
    "duration": 18985,
    "start_time": "2023-04-19T11:51:18.212Z"
   },
   {
    "duration": 71,
    "start_time": "2023-04-19T11:56:43.062Z"
   },
   {
    "duration": 13680,
    "start_time": "2023-04-19T11:57:44.475Z"
   },
   {
    "duration": 1176,
    "start_time": "2023-04-19T11:58:22.176Z"
   },
   {
    "duration": 1088,
    "start_time": "2023-04-19T11:58:23.355Z"
   },
   {
    "duration": 29,
    "start_time": "2023-04-19T11:58:24.450Z"
   },
   {
    "duration": 108,
    "start_time": "2023-04-19T11:58:24.480Z"
   },
   {
    "duration": 7,
    "start_time": "2023-04-19T11:58:24.590Z"
   },
   {
    "duration": 18,
    "start_time": "2023-04-19T11:58:24.599Z"
   },
   {
    "duration": 6,
    "start_time": "2023-04-19T11:58:24.640Z"
   },
   {
    "duration": 259,
    "start_time": "2023-04-19T11:58:24.648Z"
   },
   {
    "duration": 169,
    "start_time": "2023-04-19T11:58:24.909Z"
   },
   {
    "duration": 50,
    "start_time": "2023-04-19T11:58:25.080Z"
   },
   {
    "duration": 45,
    "start_time": "2023-04-19T11:58:25.132Z"
   },
   {
    "duration": 90,
    "start_time": "2023-04-19T11:58:25.178Z"
   },
   {
    "duration": 942,
    "start_time": "2023-04-19T11:58:25.271Z"
   },
   {
    "duration": 963,
    "start_time": "2023-04-19T11:58:26.216Z"
   },
   {
    "duration": 268,
    "start_time": "2023-04-19T11:58:27.181Z"
   },
   {
    "duration": 9,
    "start_time": "2023-04-19T11:58:27.451Z"
   },
   {
    "duration": 21503,
    "start_time": "2023-04-19T11:58:27.463Z"
   },
   {
    "duration": 379,
    "start_time": "2023-04-19T11:58:48.967Z"
   },
   {
    "duration": 9,
    "start_time": "2023-04-19T11:58:49.352Z"
   },
   {
    "duration": 21,
    "start_time": "2023-04-19T11:58:49.365Z"
   },
   {
    "duration": 79292,
    "start_time": "2023-04-19T11:58:49.388Z"
   },
   {
    "duration": 264,
    "start_time": "2023-04-19T12:00:08.682Z"
   },
   {
    "duration": 12,
    "start_time": "2023-04-19T12:00:08.951Z"
   },
   {
    "duration": 36,
    "start_time": "2023-04-19T12:00:09.048Z"
   },
   {
    "duration": 10399,
    "start_time": "2023-04-19T12:00:09.085Z"
   },
   {
    "duration": 156,
    "start_time": "2023-04-19T12:00:19.485Z"
   },
   {
    "duration": 19,
    "start_time": "2023-04-19T12:00:19.643Z"
   },
   {
    "duration": 9,
    "start_time": "2023-04-19T12:01:19.667Z"
   },
   {
    "duration": 7482,
    "start_time": "2023-04-19T12:01:25.939Z"
   },
   {
    "duration": 9,
    "start_time": "2023-04-19T12:01:44.134Z"
   },
   {
    "duration": 19891,
    "start_time": "2023-04-19T12:01:45.662Z"
   },
   {
    "duration": 145,
    "start_time": "2023-04-19T12:02:42.916Z"
   },
   {
    "duration": 6,
    "start_time": "2023-04-19T12:02:44.905Z"
   },
   {
    "duration": 8,
    "start_time": "2023-04-19T12:03:33.354Z"
   },
   {
    "duration": 20123,
    "start_time": "2023-04-19T12:03:34.405Z"
   },
   {
    "duration": 148,
    "start_time": "2023-04-19T12:04:12.205Z"
   },
   {
    "duration": 6,
    "start_time": "2023-04-19T12:04:13.374Z"
   },
   {
    "duration": 3,
    "start_time": "2023-04-19T12:04:24.116Z"
   },
   {
    "duration": 5854,
    "start_time": "2023-04-19T12:04:25.886Z"
   },
   {
    "duration": 113,
    "start_time": "2023-04-19T12:04:34.977Z"
   },
   {
    "duration": 7,
    "start_time": "2023-04-19T12:04:36.563Z"
   },
   {
    "duration": 4,
    "start_time": "2023-04-19T12:04:48.666Z"
   },
   {
    "duration": 6200,
    "start_time": "2023-04-19T12:04:50.164Z"
   },
   {
    "duration": 104,
    "start_time": "2023-04-19T12:04:58.977Z"
   },
   {
    "duration": 7,
    "start_time": "2023-04-19T12:05:00.811Z"
   },
   {
    "duration": 2,
    "start_time": "2023-04-19T12:05:05.588Z"
   },
   {
    "duration": 19742,
    "start_time": "2023-04-19T12:05:06.677Z"
   },
   {
    "duration": 141,
    "start_time": "2023-04-19T12:05:27.517Z"
   },
   {
    "duration": 5,
    "start_time": "2023-04-19T12:05:29.226Z"
   },
   {
    "duration": 3,
    "start_time": "2023-04-19T12:05:34.706Z"
   },
   {
    "duration": 20002,
    "start_time": "2023-04-19T12:07:20.654Z"
   },
   {
    "duration": 27875,
    "start_time": "2023-04-19T12:07:54.762Z"
   },
   {
    "duration": 9,
    "start_time": "2023-04-19T12:08:45.853Z"
   },
   {
    "duration": 18309,
    "start_time": "2023-04-19T12:09:16.829Z"
   },
   {
    "duration": 11974,
    "start_time": "2023-04-19T12:09:52.088Z"
   },
   {
    "duration": 18015,
    "start_time": "2023-04-19T12:10:14.228Z"
   },
   {
    "duration": 18593,
    "start_time": "2023-04-19T12:11:24.554Z"
   },
   {
    "duration": 32837,
    "start_time": "2023-04-19T12:12:11.130Z"
   },
   {
    "duration": 22747,
    "start_time": "2023-04-19T12:12:52.019Z"
   },
   {
    "duration": 14616,
    "start_time": "2023-04-19T12:13:22.070Z"
   },
   {
    "duration": 22759,
    "start_time": "2023-04-19T12:13:43.279Z"
   },
   {
    "duration": 339,
    "start_time": "2023-04-19T12:14:39.030Z"
   },
   {
    "duration": 7,
    "start_time": "2023-04-19T12:14:41.770Z"
   },
   {
    "duration": 5,
    "start_time": "2023-04-19T12:16:43.210Z"
   },
   {
    "duration": 9,
    "start_time": "2023-04-19T12:16:47.621Z"
   },
   {
    "duration": 2,
    "start_time": "2023-04-19T12:16:56.371Z"
   },
   {
    "duration": 77075,
    "start_time": "2023-04-19T12:16:57.071Z"
   },
   {
    "duration": 214,
    "start_time": "2023-04-19T12:18:14.152Z"
   },
   {
    "duration": 15,
    "start_time": "2023-04-19T12:18:14.435Z"
   },
   {
    "duration": 16483,
    "start_time": "2023-04-19T12:23:16.755Z"
   },
   {
    "duration": 20502,
    "start_time": "2023-04-19T12:27:01.078Z"
   },
   {
    "duration": 74167,
    "start_time": "2023-04-19T12:27:40.807Z"
   },
   {
    "duration": 494,
    "start_time": "2023-04-19T12:29:05.354Z"
   },
   {
    "duration": 18013,
    "start_time": "2023-04-19T12:29:41.230Z"
   },
   {
    "duration": 22133,
    "start_time": "2023-04-19T12:30:04.130Z"
   },
   {
    "duration": 7765,
    "start_time": "2023-04-19T12:31:11.981Z"
   },
   {
    "duration": 6496,
    "start_time": "2023-04-19T12:31:22.261Z"
   },
   {
    "duration": 10648,
    "start_time": "2023-04-19T12:31:33.098Z"
   },
   {
    "duration": 7333,
    "start_time": "2023-04-19T12:31:55.510Z"
   },
   {
    "duration": 14066,
    "start_time": "2023-04-19T12:32:08.277Z"
   },
   {
    "duration": 338,
    "start_time": "2023-04-19T12:32:34.711Z"
   },
   {
    "duration": 8,
    "start_time": "2023-04-19T12:34:31.313Z"
   },
   {
    "duration": 90,
    "start_time": "2023-04-19T12:34:44.892Z"
   },
   {
    "duration": 10,
    "start_time": "2023-04-19T12:34:49.052Z"
   },
   {
    "duration": 25842,
    "start_time": "2023-04-19T12:35:02.284Z"
   },
   {
    "duration": 169,
    "start_time": "2023-04-19T12:35:31.159Z"
   },
   {
    "duration": 5,
    "start_time": "2023-04-19T12:35:33.360Z"
   },
   {
    "duration": 3,
    "start_time": "2023-04-19T12:36:55.664Z"
   },
   {
    "duration": 1165,
    "start_time": "2023-04-19T12:43:11.750Z"
   },
   {
    "duration": 965,
    "start_time": "2023-04-19T12:43:12.917Z"
   },
   {
    "duration": 18,
    "start_time": "2023-04-19T12:43:13.883Z"
   },
   {
    "duration": 104,
    "start_time": "2023-04-19T12:43:13.902Z"
   },
   {
    "duration": 9,
    "start_time": "2023-04-19T12:43:14.008Z"
   },
   {
    "duration": 30,
    "start_time": "2023-04-19T12:43:14.019Z"
   },
   {
    "duration": 4,
    "start_time": "2023-04-19T12:43:14.050Z"
   },
   {
    "duration": 149,
    "start_time": "2023-04-19T12:43:14.055Z"
   },
   {
    "duration": 146,
    "start_time": "2023-04-19T12:43:14.205Z"
   },
   {
    "duration": 53,
    "start_time": "2023-04-19T12:43:14.352Z"
   },
   {
    "duration": 45,
    "start_time": "2023-04-19T12:43:14.406Z"
   },
   {
    "duration": 68,
    "start_time": "2023-04-19T12:43:14.452Z"
   },
   {
    "duration": 1006,
    "start_time": "2023-04-19T12:43:14.521Z"
   },
   {
    "duration": 913,
    "start_time": "2023-04-19T12:43:15.530Z"
   },
   {
    "duration": 251,
    "start_time": "2023-04-19T12:43:16.446Z"
   },
   {
    "duration": 2,
    "start_time": "2023-04-19T12:43:16.699Z"
   },
   {
    "duration": 4143,
    "start_time": "2023-04-19T12:43:16.703Z"
   },
   {
    "duration": 3210,
    "start_time": "2023-04-19T12:43:20.848Z"
   },
   {
    "duration": 3190,
    "start_time": "2023-04-19T12:43:24.060Z"
   },
   {
    "duration": 4684,
    "start_time": "2023-04-19T12:43:27.252Z"
   },
   {
    "duration": 6114,
    "start_time": "2023-04-19T12:43:31.938Z"
   },
   {
    "duration": 393,
    "start_time": "2023-04-19T12:43:38.053Z"
   },
   {
    "duration": 4,
    "start_time": "2023-04-19T12:43:38.448Z"
   },
   {
    "duration": 24172,
    "start_time": "2023-04-19T12:43:38.453Z"
   },
   {
    "duration": 180,
    "start_time": "2023-04-19T12:44:02.627Z"
   },
   {
    "duration": 5,
    "start_time": "2023-04-19T12:44:02.808Z"
   },
   {
    "duration": 38,
    "start_time": "2023-04-19T12:44:02.815Z"
   },
   {
    "duration": 17892,
    "start_time": "2023-04-19T12:44:02.855Z"
   },
   {
    "duration": 108,
    "start_time": "2023-04-19T12:44:20.748Z"
   },
   {
    "duration": 12,
    "start_time": "2023-04-19T12:44:20.936Z"
   },
   {
    "duration": 108,
    "start_time": "2023-04-19T12:44:20.951Z"
   },
   {
    "duration": 59880,
    "start_time": "2023-04-19T12:44:21.061Z"
   },
   {
    "duration": 200,
    "start_time": "2023-04-19T12:45:20.943Z"
   },
   {
    "duration": 5,
    "start_time": "2023-04-19T12:45:21.145Z"
   },
   {
    "duration": 60,
    "start_time": "2023-04-19T13:02:18.266Z"
   },
   {
    "duration": 109,
    "start_time": "2023-04-19T13:02:23.395Z"
   },
   {
    "duration": 11,
    "start_time": "2023-04-19T13:02:41.243Z"
   },
   {
    "duration": 14,
    "start_time": "2023-04-19T13:02:49.756Z"
   },
   {
    "duration": 9,
    "start_time": "2023-04-19T13:03:08.467Z"
   },
   {
    "duration": 8,
    "start_time": "2023-04-19T13:03:27.800Z"
   },
   {
    "duration": 11,
    "start_time": "2023-04-19T13:03:34.656Z"
   },
   {
    "duration": 10,
    "start_time": "2023-04-19T13:04:31.191Z"
   },
   {
    "duration": 10,
    "start_time": "2023-04-19T13:04:37.499Z"
   },
   {
    "duration": 14,
    "start_time": "2023-04-19T13:04:46.047Z"
   },
   {
    "duration": 17,
    "start_time": "2023-04-19T13:04:50.337Z"
   },
   {
    "duration": 11,
    "start_time": "2023-04-19T13:05:45.803Z"
   },
   {
    "duration": 233,
    "start_time": "2023-04-19T13:08:18.209Z"
   },
   {
    "duration": 10,
    "start_time": "2023-04-19T13:08:25.748Z"
   },
   {
    "duration": 10,
    "start_time": "2023-04-19T13:08:38.686Z"
   },
   {
    "duration": 418,
    "start_time": "2023-04-19T13:20:41.664Z"
   },
   {
    "duration": 327,
    "start_time": "2023-04-19T13:25:24.607Z"
   },
   {
    "duration": 49340,
    "start_time": "2023-04-19T13:28:04.203Z"
   },
   {
    "duration": 1247,
    "start_time": "2023-04-19T13:29:47.129Z"
   },
   {
    "duration": 1126,
    "start_time": "2023-04-19T13:29:48.378Z"
   },
   {
    "duration": 36,
    "start_time": "2023-04-19T13:29:49.506Z"
   },
   {
    "duration": 104,
    "start_time": "2023-04-19T13:29:49.545Z"
   },
   {
    "duration": 11,
    "start_time": "2023-04-19T13:29:49.654Z"
   },
   {
    "duration": 30,
    "start_time": "2023-04-19T13:29:49.667Z"
   },
   {
    "duration": 8,
    "start_time": "2023-04-19T13:29:49.699Z"
   },
   {
    "duration": 212,
    "start_time": "2023-04-19T13:29:49.708Z"
   },
   {
    "duration": 170,
    "start_time": "2023-04-19T13:29:49.922Z"
   },
   {
    "duration": 74,
    "start_time": "2023-04-19T13:29:50.095Z"
   },
   {
    "duration": 32,
    "start_time": "2023-04-19T13:29:50.171Z"
   },
   {
    "duration": 107,
    "start_time": "2023-04-19T13:29:50.205Z"
   },
   {
    "duration": 1299,
    "start_time": "2023-04-19T13:29:50.313Z"
   },
   {
    "duration": 966,
    "start_time": "2023-04-19T13:29:51.615Z"
   },
   {
    "duration": 281,
    "start_time": "2023-04-19T13:29:52.583Z"
   },
   {
    "duration": 3,
    "start_time": "2023-04-19T13:29:52.865Z"
   },
   {
    "duration": 21079,
    "start_time": "2023-04-19T13:29:52.870Z"
   },
   {
    "duration": 18089,
    "start_time": "2023-04-19T13:30:13.954Z"
   },
   {
    "duration": 14900,
    "start_time": "2023-04-19T13:30:32.046Z"
   },
   {
    "duration": 19089,
    "start_time": "2023-04-19T13:30:46.948Z"
   },
   {
    "duration": 37205,
    "start_time": "2023-04-19T13:31:06.040Z"
   },
   {
    "duration": 408,
    "start_time": "2023-04-19T13:31:43.247Z"
   },
   {
    "duration": 3,
    "start_time": "2023-04-19T13:31:43.657Z"
   },
   {
    "duration": 24653,
    "start_time": "2023-04-19T13:31:43.662Z"
   },
   {
    "duration": 187,
    "start_time": "2023-04-19T13:32:08.318Z"
   },
   {
    "duration": 5,
    "start_time": "2023-04-19T13:32:08.507Z"
   },
   {
    "duration": 5,
    "start_time": "2023-04-19T13:32:08.513Z"
   },
   {
    "duration": 18484,
    "start_time": "2023-04-19T13:32:08.537Z"
   },
   {
    "duration": 139,
    "start_time": "2023-04-19T13:32:27.023Z"
   },
   {
    "duration": 73,
    "start_time": "2023-04-19T13:32:27.165Z"
   },
   {
    "duration": 18,
    "start_time": "2023-04-19T13:32:27.241Z"
   },
   {
    "duration": 57698,
    "start_time": "2023-04-19T13:32:27.261Z"
   },
   {
    "duration": 281,
    "start_time": "2023-04-19T13:33:24.961Z"
   },
   {
    "duration": 7,
    "start_time": "2023-04-19T13:33:25.244Z"
   },
   {
    "duration": 198,
    "start_time": "2023-04-19T13:33:25.254Z"
   },
   {
    "duration": 45809,
    "start_time": "2023-04-19T13:33:25.454Z"
   },
   {
    "duration": 10,
    "start_time": "2023-04-19T13:35:30.448Z"
   },
   {
    "duration": 46235,
    "start_time": "2023-04-19T13:35:40.420Z"
   },
   {
    "duration": 8244,
    "start_time": "2023-04-20T10:00:58.555Z"
   },
   {
    "duration": 866,
    "start_time": "2023-04-20T10:01:06.801Z"
   },
   {
    "duration": 17,
    "start_time": "2023-04-20T10:01:07.669Z"
   },
   {
    "duration": 106,
    "start_time": "2023-04-20T10:01:07.688Z"
   },
   {
    "duration": 7,
    "start_time": "2023-04-20T10:01:07.796Z"
   },
   {
    "duration": 18,
    "start_time": "2023-04-20T10:01:07.805Z"
   },
   {
    "duration": 8,
    "start_time": "2023-04-20T10:01:07.825Z"
   },
   {
    "duration": 139,
    "start_time": "2023-04-20T10:01:07.835Z"
   },
   {
    "duration": 132,
    "start_time": "2023-04-20T10:01:07.976Z"
   },
   {
    "duration": 53,
    "start_time": "2023-04-20T10:01:08.111Z"
   },
   {
    "duration": 31,
    "start_time": "2023-04-20T10:01:08.165Z"
   },
   {
    "duration": 80,
    "start_time": "2023-04-20T10:01:08.198Z"
   },
   {
    "duration": 75,
    "start_time": "2023-04-20T10:01:08.279Z"
   },
   {
    "duration": 93,
    "start_time": "2023-04-20T11:06:24.534Z"
   },
   {
    "duration": 3,
    "start_time": "2023-04-20T11:07:05.700Z"
   },
   {
    "duration": 871,
    "start_time": "2023-04-20T11:07:05.705Z"
   },
   {
    "duration": 17,
    "start_time": "2023-04-20T11:07:06.578Z"
   },
   {
    "duration": 101,
    "start_time": "2023-04-20T11:07:06.597Z"
   },
   {
    "duration": 6,
    "start_time": "2023-04-20T11:07:06.701Z"
   },
   {
    "duration": 26,
    "start_time": "2023-04-20T11:07:06.709Z"
   },
   {
    "duration": 3,
    "start_time": "2023-04-20T11:07:06.737Z"
   },
   {
    "duration": 132,
    "start_time": "2023-04-20T11:07:06.742Z"
   },
   {
    "duration": 145,
    "start_time": "2023-04-20T11:07:06.876Z"
   },
   {
    "duration": 51,
    "start_time": "2023-04-20T11:07:07.023Z"
   },
   {
    "duration": 26,
    "start_time": "2023-04-20T11:07:07.076Z"
   },
   {
    "duration": 94,
    "start_time": "2023-04-20T11:07:07.104Z"
   },
   {
    "duration": 9,
    "start_time": "2023-04-20T11:07:11.197Z"
   },
   {
    "duration": 9,
    "start_time": "2023-04-20T11:07:31.434Z"
   },
   {
    "duration": 8,
    "start_time": "2023-04-20T11:07:58.675Z"
   },
   {
    "duration": 8,
    "start_time": "2023-04-20T11:08:02.109Z"
   },
   {
    "duration": 8,
    "start_time": "2023-04-20T11:08:04.273Z"
   },
   {
    "duration": 15400,
    "start_time": "2023-04-20T11:08:18.207Z"
   },
   {
    "duration": 983,
    "start_time": "2023-04-20T11:08:41.973Z"
   },
   {
    "duration": 84,
    "start_time": "2023-04-20T11:08:56.465Z"
   },
   {
    "duration": 3,
    "start_time": "2023-04-20T11:08:59.104Z"
   },
   {
    "duration": 2780,
    "start_time": "2023-04-20T11:09:05.098Z"
   },
   {
    "duration": 1291,
    "start_time": "2023-04-20T11:09:29.523Z"
   },
   {
    "duration": 957,
    "start_time": "2023-04-20T11:09:30.817Z"
   },
   {
    "duration": 20,
    "start_time": "2023-04-20T11:09:31.776Z"
   },
   {
    "duration": 113,
    "start_time": "2023-04-20T11:09:31.798Z"
   },
   {
    "duration": 8,
    "start_time": "2023-04-20T11:09:31.915Z"
   },
   {
    "duration": 26,
    "start_time": "2023-04-20T11:09:31.925Z"
   },
   {
    "duration": 15,
    "start_time": "2023-04-20T11:09:31.952Z"
   },
   {
    "duration": 149,
    "start_time": "2023-04-20T11:09:31.969Z"
   },
   {
    "duration": 150,
    "start_time": "2023-04-20T11:09:32.119Z"
   },
   {
    "duration": 64,
    "start_time": "2023-04-20T11:09:32.271Z"
   },
   {
    "duration": 42,
    "start_time": "2023-04-20T11:09:32.337Z"
   },
   {
    "duration": 86,
    "start_time": "2023-04-20T11:09:32.380Z"
   },
   {
    "duration": 2725,
    "start_time": "2023-04-20T11:09:35.837Z"
   },
   {
    "duration": 889,
    "start_time": "2023-04-20T11:09:44.395Z"
   },
   {
    "duration": 15438,
    "start_time": "2023-04-20T11:10:20.727Z"
   },
   {
    "duration": 14,
    "start_time": "2023-04-20T11:16:34.126Z"
   },
   {
    "duration": 13,
    "start_time": "2023-04-20T11:16:38.638Z"
   },
   {
    "duration": 8,
    "start_time": "2023-04-20T11:16:44.202Z"
   },
   {
    "duration": 10,
    "start_time": "2023-04-20T11:16:47.103Z"
   },
   {
    "duration": 7,
    "start_time": "2023-04-20T11:16:50.118Z"
   },
   {
    "duration": 7,
    "start_time": "2023-04-20T11:16:53.782Z"
   },
   {
    "duration": 8,
    "start_time": "2023-04-20T11:17:02.395Z"
   },
   {
    "duration": 9,
    "start_time": "2023-04-20T11:17:10.438Z"
   },
   {
    "duration": 7,
    "start_time": "2023-04-20T11:17:16.198Z"
   },
   {
    "duration": 195,
    "start_time": "2023-04-20T11:17:50.772Z"
   },
   {
    "duration": 58,
    "start_time": "2023-04-20T11:18:01.438Z"
   },
   {
    "duration": 6,
    "start_time": "2023-04-20T11:18:19.419Z"
   },
   {
    "duration": 16,
    "start_time": "2023-04-20T11:41:00.059Z"
   },
   {
    "duration": 6,
    "start_time": "2023-04-20T11:41:04.167Z"
   },
   {
    "duration": 15,
    "start_time": "2023-04-20T11:41:11.812Z"
   },
   {
    "duration": 8,
    "start_time": "2023-04-20T11:41:15.374Z"
   },
   {
    "duration": 43,
    "start_time": "2023-04-20T11:41:23.292Z"
   },
   {
    "duration": 17,
    "start_time": "2023-04-20T11:41:30.631Z"
   },
   {
    "duration": 7,
    "start_time": "2023-04-20T11:42:21.330Z"
   },
   {
    "duration": 8,
    "start_time": "2023-04-20T11:42:26.007Z"
   },
   {
    "duration": 9,
    "start_time": "2023-04-20T11:42:37.319Z"
   },
   {
    "duration": 8,
    "start_time": "2023-04-20T11:43:45.698Z"
   },
   {
    "duration": 7,
    "start_time": "2023-04-20T11:43:51.462Z"
   },
   {
    "duration": 7,
    "start_time": "2023-04-20T11:43:53.656Z"
   },
   {
    "duration": 7,
    "start_time": "2023-04-20T11:43:56.018Z"
   },
   {
    "duration": 7,
    "start_time": "2023-04-20T11:43:59.542Z"
   },
   {
    "duration": 8,
    "start_time": "2023-04-20T11:44:03.768Z"
   },
   {
    "duration": 7,
    "start_time": "2023-04-20T11:44:10.931Z"
   },
   {
    "duration": 85,
    "start_time": "2023-04-20T11:44:59.750Z"
   },
   {
    "duration": 6,
    "start_time": "2023-04-20T11:45:04.418Z"
   },
   {
    "duration": 7,
    "start_time": "2023-04-20T11:45:05.478Z"
   },
   {
    "duration": 8,
    "start_time": "2023-04-20T11:47:56.734Z"
   },
   {
    "duration": 7,
    "start_time": "2023-04-20T11:48:02.743Z"
   },
   {
    "duration": 20,
    "start_time": "2023-04-20T11:48:21.001Z"
   },
   {
    "duration": 15,
    "start_time": "2023-04-20T11:48:27.007Z"
   },
   {
    "duration": 16,
    "start_time": "2023-04-20T11:48:36.567Z"
   },
   {
    "duration": 18,
    "start_time": "2023-04-20T11:48:41.216Z"
   },
   {
    "duration": 3,
    "start_time": "2023-04-20T11:49:57.257Z"
   },
   {
    "duration": 863,
    "start_time": "2023-04-20T11:49:57.261Z"
   },
   {
    "duration": 16,
    "start_time": "2023-04-20T11:49:58.125Z"
   },
   {
    "duration": 84,
    "start_time": "2023-04-20T11:49:58.142Z"
   },
   {
    "duration": 8,
    "start_time": "2023-04-20T11:49:58.234Z"
   },
   {
    "duration": 12,
    "start_time": "2023-04-20T11:49:58.244Z"
   },
   {
    "duration": 3,
    "start_time": "2023-04-20T11:49:58.258Z"
   },
   {
    "duration": 119,
    "start_time": "2023-04-20T11:49:58.262Z"
   },
   {
    "duration": 112,
    "start_time": "2023-04-20T11:49:58.382Z"
   },
   {
    "duration": 53,
    "start_time": "2023-04-20T11:49:58.496Z"
   },
   {
    "duration": 24,
    "start_time": "2023-04-20T11:49:58.551Z"
   },
   {
    "duration": 82,
    "start_time": "2023-04-20T11:49:58.577Z"
   },
   {
    "duration": 2706,
    "start_time": "2023-04-20T11:49:58.660Z"
   },
   {
    "duration": 3,
    "start_time": "2023-04-20T11:50:01.369Z"
   },
   {
    "duration": 15215,
    "start_time": "2023-04-20T11:50:01.374Z"
   },
   {
    "duration": 6,
    "start_time": "2023-04-20T11:50:16.591Z"
   },
   {
    "duration": 37,
    "start_time": "2023-04-20T11:50:16.598Z"
   },
   {
    "duration": 4,
    "start_time": "2023-04-20T11:52:23.441Z"
   },
   {
    "duration": 28,
    "start_time": "2023-04-20T11:53:51.717Z"
   },
   {
    "duration": 48,
    "start_time": "2023-04-20T11:53:57.003Z"
   },
   {
    "duration": 11,
    "start_time": "2023-04-20T11:54:02.783Z"
   },
   {
    "duration": 67,
    "start_time": "2023-04-20T11:54:10.982Z"
   },
   {
    "duration": 50,
    "start_time": "2023-04-20T11:54:24.503Z"
   },
   {
    "duration": 49,
    "start_time": "2023-04-20T11:54:29.092Z"
   },
   {
    "duration": 45,
    "start_time": "2023-04-20T11:54:35.486Z"
   },
   {
    "duration": 49,
    "start_time": "2023-04-20T11:55:31.278Z"
   },
   {
    "duration": 46,
    "start_time": "2023-04-20T11:55:57.887Z"
   },
   {
    "duration": 78,
    "start_time": "2023-04-20T11:56:05.233Z"
   },
   {
    "duration": 53,
    "start_time": "2023-04-20T11:56:25.537Z"
   },
   {
    "duration": 5,
    "start_time": "2023-04-20T11:58:02.855Z"
   },
   {
    "duration": 6,
    "start_time": "2023-04-20T11:58:09.264Z"
   },
   {
    "duration": 123,
    "start_time": "2023-04-20T11:58:51.565Z"
   },
   {
    "duration": 73,
    "start_time": "2023-04-20T11:58:57.738Z"
   },
   {
    "duration": 16,
    "start_time": "2023-04-20T11:59:43.736Z"
   },
   {
    "duration": 75,
    "start_time": "2023-04-20T11:59:47.549Z"
   },
   {
    "duration": 14,
    "start_time": "2023-04-20T11:59:50.977Z"
   },
   {
    "duration": 47,
    "start_time": "2023-04-20T11:59:52.815Z"
   },
   {
    "duration": 52,
    "start_time": "2023-04-20T11:59:56.150Z"
   },
   {
    "duration": 58,
    "start_time": "2023-04-20T11:59:58.644Z"
   },
   {
    "duration": 16,
    "start_time": "2023-04-20T12:00:00.484Z"
   },
   {
    "duration": 14,
    "start_time": "2023-04-20T12:00:12.794Z"
   },
   {
    "duration": 13,
    "start_time": "2023-04-20T12:00:15.968Z"
   },
   {
    "duration": 94,
    "start_time": "2023-04-20T12:00:19.592Z"
   },
   {
    "duration": 390,
    "start_time": "2023-04-20T12:00:21.979Z"
   },
   {
    "duration": 13,
    "start_time": "2023-04-20T12:00:27.796Z"
   },
   {
    "duration": 278,
    "start_time": "2023-04-20T12:00:32.359Z"
   },
   {
    "duration": 12,
    "start_time": "2023-04-20T12:00:39.645Z"
   },
   {
    "duration": 12,
    "start_time": "2023-04-20T12:01:16.620Z"
   },
   {
    "duration": 58,
    "start_time": "2023-04-20T12:01:24.965Z"
   },
   {
    "duration": 6,
    "start_time": "2023-04-20T12:01:28.235Z"
   },
   {
    "duration": 7,
    "start_time": "2023-04-20T12:06:10.280Z"
   },
   {
    "duration": 7,
    "start_time": "2023-04-20T12:06:13.839Z"
   },
   {
    "duration": 25,
    "start_time": "2023-04-20T12:06:38.600Z"
   },
   {
    "duration": 7,
    "start_time": "2023-04-20T12:06:39.467Z"
   },
   {
    "duration": 13,
    "start_time": "2023-04-20T12:07:38.968Z"
   },
   {
    "duration": 17,
    "start_time": "2023-04-20T12:07:48.908Z"
   },
   {
    "duration": 18,
    "start_time": "2023-04-20T12:07:54.794Z"
   },
   {
    "duration": 23,
    "start_time": "2023-04-20T12:07:57.568Z"
   },
   {
    "duration": 20,
    "start_time": "2023-04-20T12:08:06.918Z"
   },
   {
    "duration": 32,
    "start_time": "2023-04-20T12:08:39.329Z"
   },
   {
    "duration": 13,
    "start_time": "2023-04-20T12:14:53.600Z"
   },
   {
    "duration": 88,
    "start_time": "2023-04-20T12:15:03.594Z"
   },
   {
    "duration": 9,
    "start_time": "2023-04-20T12:17:21.863Z"
   },
   {
    "duration": 9,
    "start_time": "2023-04-20T12:17:25.635Z"
   },
   {
    "duration": 9,
    "start_time": "2023-04-20T12:17:28.212Z"
   },
   {
    "duration": 9,
    "start_time": "2023-04-20T12:17:31.122Z"
   },
   {
    "duration": 9,
    "start_time": "2023-04-20T12:17:33.942Z"
   },
   {
    "duration": 10,
    "start_time": "2023-04-20T12:17:35.776Z"
   },
   {
    "duration": 9,
    "start_time": "2023-04-20T12:17:38.121Z"
   },
   {
    "duration": 9,
    "start_time": "2023-04-20T12:17:41.303Z"
   },
   {
    "duration": 38,
    "start_time": "2023-04-20T12:17:53.492Z"
   },
   {
    "duration": 5,
    "start_time": "2023-04-20T12:17:57.794Z"
   },
   {
    "duration": 1233,
    "start_time": "2023-04-20T12:19:17.589Z"
   },
   {
    "duration": 925,
    "start_time": "2023-04-20T12:19:18.824Z"
   },
   {
    "duration": 17,
    "start_time": "2023-04-20T12:19:19.750Z"
   },
   {
    "duration": 97,
    "start_time": "2023-04-20T12:19:19.769Z"
   },
   {
    "duration": 7,
    "start_time": "2023-04-20T12:19:19.868Z"
   },
   {
    "duration": 25,
    "start_time": "2023-04-20T12:19:19.877Z"
   },
   {
    "duration": 3,
    "start_time": "2023-04-20T12:19:19.904Z"
   },
   {
    "duration": 153,
    "start_time": "2023-04-20T12:19:19.909Z"
   },
   {
    "duration": 149,
    "start_time": "2023-04-20T12:19:20.063Z"
   },
   {
    "duration": 61,
    "start_time": "2023-04-20T12:19:20.215Z"
   },
   {
    "duration": 32,
    "start_time": "2023-04-20T12:19:20.278Z"
   },
   {
    "duration": 138,
    "start_time": "2023-04-20T12:19:20.312Z"
   },
   {
    "duration": 2579,
    "start_time": "2023-04-20T12:19:20.451Z"
   },
   {
    "duration": 755,
    "start_time": "2023-04-20T12:19:23.032Z"
   },
   {
    "duration": 2,
    "start_time": "2023-04-20T12:19:23.789Z"
   },
   {
    "duration": 14,
    "start_time": "2023-04-20T12:19:23.793Z"
   },
   {
    "duration": 12,
    "start_time": "2023-04-20T12:19:23.808Z"
   },
   {
    "duration": 97,
    "start_time": "2023-04-20T12:19:23.821Z"
   },
   {
    "duration": 18,
    "start_time": "2023-04-20T12:19:23.920Z"
   },
   {
    "duration": 18,
    "start_time": "2023-04-20T12:19:23.940Z"
   },
   {
    "duration": 107,
    "start_time": "2023-04-20T12:19:23.960Z"
   },
   {
    "duration": 11,
    "start_time": "2023-04-20T12:19:24.070Z"
   },
   {
    "duration": 92,
    "start_time": "2023-04-20T12:19:24.083Z"
   },
   {
    "duration": 5,
    "start_time": "2023-04-20T12:19:24.176Z"
   },
   {
    "duration": 809,
    "start_time": "2023-04-20T12:19:24.183Z"
   },
   {
    "duration": 772,
    "start_time": "2023-04-20T12:19:24.994Z"
   },
   {
    "duration": 222,
    "start_time": "2023-04-20T12:19:25.768Z"
   },
   {
    "duration": 2,
    "start_time": "2023-04-20T12:19:25.994Z"
   },
   {
    "duration": 15744,
    "start_time": "2023-04-20T12:19:25.998Z"
   },
   {
    "duration": 15694,
    "start_time": "2023-04-20T12:19:41.744Z"
   },
   {
    "duration": 13707,
    "start_time": "2023-04-20T12:19:57.440Z"
   },
   {
    "duration": 19988,
    "start_time": "2023-04-20T12:20:11.150Z"
   },
   {
    "duration": 24602,
    "start_time": "2023-04-20T12:20:31.140Z"
   },
   {
    "duration": 390,
    "start_time": "2023-04-20T12:20:55.744Z"
   },
   {
    "duration": 2,
    "start_time": "2023-04-20T12:20:56.136Z"
   },
   {
    "duration": 19618,
    "start_time": "2023-04-20T12:20:56.140Z"
   },
   {
    "duration": 149,
    "start_time": "2023-04-20T12:21:15.760Z"
   },
   {
    "duration": 4,
    "start_time": "2023-04-20T12:21:15.911Z"
   },
   {
    "duration": 12,
    "start_time": "2023-04-20T12:21:15.916Z"
   },
   {
    "duration": 15044,
    "start_time": "2023-04-20T12:21:15.930Z"
   },
   {
    "duration": 160,
    "start_time": "2023-04-20T12:21:30.976Z"
   },
   {
    "duration": 97,
    "start_time": "2023-04-20T12:21:31.138Z"
   },
   {
    "duration": 3,
    "start_time": "2023-04-20T12:21:31.236Z"
   },
   {
    "duration": 18000,
    "start_time": "2023-04-20T12:21:31.240Z"
   },
   {
    "duration": 195,
    "start_time": "2023-04-20T12:21:49.245Z"
   },
   {
    "duration": 94,
    "start_time": "2023-04-20T12:21:49.442Z"
   },
   {
    "duration": 103,
    "start_time": "2023-04-20T12:21:49.538Z"
   },
   {
    "duration": 2398,
    "start_time": "2023-04-20T12:21:49.643Z"
   },
   {
    "duration": 10,
    "start_time": "2023-04-20T12:24:59.224Z"
   },
   {
    "duration": 10,
    "start_time": "2023-04-20T12:26:43.379Z"
   }
  ],
  "kernelspec": {
   "display_name": "Python 3 (ipykernel)",
   "language": "python",
   "name": "python3"
  },
  "language_info": {
   "codemirror_mode": {
    "name": "ipython",
    "version": 3
   },
   "file_extension": ".py",
   "mimetype": "text/x-python",
   "name": "python",
   "nbconvert_exporter": "python",
   "pygments_lexer": "ipython3",
   "version": "3.9.5"
  },
  "toc": {
   "base_numbering": 1,
   "nav_menu": {},
   "number_sections": true,
   "sideBar": true,
   "skip_h1_title": true,
   "title_cell": "Table of Contents",
   "title_sidebar": "Contents",
   "toc_cell": false,
   "toc_position": {},
   "toc_section_display": true,
   "toc_window_display": false
  }
 },
 "nbformat": 4,
 "nbformat_minor": 2
}
