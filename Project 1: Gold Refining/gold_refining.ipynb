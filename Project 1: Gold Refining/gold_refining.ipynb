{
 "cells": [
  {
   "cell_type": "markdown",
   "metadata": {},
   "source": [
    "# Проект: Восстановление золота из руды"
   ]
  },
  {
   "cell_type": "markdown",
   "metadata": {},
   "source": [
    "## Постановка задачи (кратко)"
   ]
  },
  {
   "cell_type": "markdown",
   "metadata": {},
   "source": [
    "Подготовьте прототип модели машинного обучения для «Цифры». Компания разрабатывает решения для эффективной работы промышленных предприятий.\n",
    "\n",
    "Модель должна предсказать коэффициент восстановления золота из золотосодержащей руды. Используйте данные с параметрами добычи и очистки. \n",
    "\n",
    "Модель поможет оптимизировать производство, чтобы не запускать предприятие с убыточными характеристиками.\n",
    "\n",
    "Вам нужно:\n",
    "\n",
    "1. Подготовить данные;\n",
    "2. Провести исследовательский анализ данных;\n",
    "3. Построить и обучить модель."
   ]
  },
  {
   "cell_type": "markdown",
   "metadata": {},
   "source": [
    "## Подготовка данных"
   ]
  },
  {
   "cell_type": "markdown",
   "metadata": {},
   "source": [
    "### Первичное изучение данных"
   ]
  },
  {
   "cell_type": "code",
   "execution_count": 1,
   "metadata": {},
   "outputs": [],
   "source": [
    "import pandas as pd\n",
    "import seaborn as sns\n",
    "import matplotlib.pyplot as plt\n",
    "from scipy import stats as st\n",
    "import numpy as np\n",
    "\n",
    "from sklearn.metrics import mean_absolute_error\n",
    "from sklearn.metrics import make_scorer\n",
    "from sklearn.model_selection import cross_val_score\n",
    "from sklearn.preprocessing import StandardScaler\n",
    "from sklearn.tree import DecisionTreeRegressor\n",
    "from sklearn.ensemble import RandomForestRegressor\n",
    "from sklearn.linear_model import LinearRegression"
   ]
  },
  {
   "cell_type": "code",
   "execution_count": 2,
   "metadata": {},
   "outputs": [],
   "source": [
    "df_train = pd.read_csv('/datasets/gold_recovery_train_new.csv')\n",
    "df_test  = pd.read_csv('/datasets/gold_recovery_test_new.csv')\n",
    "df_full  = pd.read_csv('/datasets/gold_recovery_full_new.csv')"
   ]
  },
  {
   "cell_type": "code",
   "execution_count": 3,
   "metadata": {
    "scrolled": true
   },
   "outputs": [
    {
     "name": "stdout",
     "output_type": "stream",
     "text": [
      "<class 'pandas.core.frame.DataFrame'>\n",
      "RangeIndex: 19439 entries, 0 to 19438\n",
      "Data columns (total 87 columns):\n",
      " #   Column                                              Non-Null Count  Dtype  \n",
      "---  ------                                              --------------  -----  \n",
      " 0   date                                                19439 non-null  object \n",
      " 1   final.output.concentrate_ag                         19438 non-null  float64\n",
      " 2   final.output.concentrate_pb                         19438 non-null  float64\n",
      " 3   final.output.concentrate_sol                        19228 non-null  float64\n",
      " 4   final.output.concentrate_au                         19439 non-null  float64\n",
      " 5   final.output.recovery                               19439 non-null  float64\n",
      " 6   final.output.tail_ag                                19438 non-null  float64\n",
      " 7   final.output.tail_pb                                19338 non-null  float64\n",
      " 8   final.output.tail_sol                               19433 non-null  float64\n",
      " 9   final.output.tail_au                                19439 non-null  float64\n",
      " 10  primary_cleaner.input.sulfate                       19415 non-null  float64\n",
      " 11  primary_cleaner.input.depressant                    19402 non-null  float64\n",
      " 12  primary_cleaner.input.feed_size                     19439 non-null  float64\n",
      " 13  primary_cleaner.input.xanthate                      19335 non-null  float64\n",
      " 14  primary_cleaner.output.concentrate_ag               19439 non-null  float64\n",
      " 15  primary_cleaner.output.concentrate_pb               19323 non-null  float64\n",
      " 16  primary_cleaner.output.concentrate_sol              19069 non-null  float64\n",
      " 17  primary_cleaner.output.concentrate_au               19439 non-null  float64\n",
      " 18  primary_cleaner.output.tail_ag                      19435 non-null  float64\n",
      " 19  primary_cleaner.output.tail_pb                      19418 non-null  float64\n",
      " 20  primary_cleaner.output.tail_sol                     19377 non-null  float64\n",
      " 21  primary_cleaner.output.tail_au                      19439 non-null  float64\n",
      " 22  primary_cleaner.state.floatbank8_a_air              19435 non-null  float64\n",
      " 23  primary_cleaner.state.floatbank8_a_level            19438 non-null  float64\n",
      " 24  primary_cleaner.state.floatbank8_b_air              19435 non-null  float64\n",
      " 25  primary_cleaner.state.floatbank8_b_level            19438 non-null  float64\n",
      " 26  primary_cleaner.state.floatbank8_c_air              19437 non-null  float64\n",
      " 27  primary_cleaner.state.floatbank8_c_level            19438 non-null  float64\n",
      " 28  primary_cleaner.state.floatbank8_d_air              19436 non-null  float64\n",
      " 29  primary_cleaner.state.floatbank8_d_level            19438 non-null  float64\n",
      " 30  rougher.calculation.sulfate_to_au_concentrate       19437 non-null  float64\n",
      " 31  rougher.calculation.floatbank10_sulfate_to_au_feed  19437 non-null  float64\n",
      " 32  rougher.calculation.floatbank11_sulfate_to_au_feed  19437 non-null  float64\n",
      " 33  rougher.calculation.au_pb_ratio                     19439 non-null  float64\n",
      " 34  rougher.input.feed_ag                               19439 non-null  float64\n",
      " 35  rougher.input.feed_pb                               19339 non-null  float64\n",
      " 36  rougher.input.feed_rate                             19428 non-null  float64\n",
      " 37  rougher.input.feed_size                             19294 non-null  float64\n",
      " 38  rougher.input.feed_sol                              19340 non-null  float64\n",
      " 39  rougher.input.feed_au                               19439 non-null  float64\n",
      " 40  rougher.input.floatbank10_sulfate                   19405 non-null  float64\n",
      " 41  rougher.input.floatbank10_xanthate                  19431 non-null  float64\n",
      " 42  rougher.input.floatbank11_sulfate                   19395 non-null  float64\n",
      " 43  rougher.input.floatbank11_xanthate                  18986 non-null  float64\n",
      " 44  rougher.output.concentrate_ag                       19439 non-null  float64\n",
      " 45  rougher.output.concentrate_pb                       19439 non-null  float64\n",
      " 46  rougher.output.concentrate_sol                      19416 non-null  float64\n",
      " 47  rougher.output.concentrate_au                       19439 non-null  float64\n",
      " 48  rougher.output.recovery                             19439 non-null  float64\n",
      " 49  rougher.output.tail_ag                              19438 non-null  float64\n",
      " 50  rougher.output.tail_pb                              19439 non-null  float64\n",
      " 51  rougher.output.tail_sol                             19439 non-null  float64\n",
      " 52  rougher.output.tail_au                              19439 non-null  float64\n",
      " 53  rougher.state.floatbank10_a_air                     19438 non-null  float64\n",
      " 54  rougher.state.floatbank10_a_level                   19438 non-null  float64\n",
      " 55  rougher.state.floatbank10_b_air                     19438 non-null  float64\n",
      " 56  rougher.state.floatbank10_b_level                   19438 non-null  float64\n",
      " 57  rougher.state.floatbank10_c_air                     19438 non-null  float64\n",
      " 58  rougher.state.floatbank10_c_level                   19438 non-null  float64\n",
      " 59  rougher.state.floatbank10_d_air                     19439 non-null  float64\n",
      " 60  rougher.state.floatbank10_d_level                   19439 non-null  float64\n",
      " 61  rougher.state.floatbank10_e_air                     19003 non-null  float64\n",
      " 62  rougher.state.floatbank10_e_level                   19439 non-null  float64\n",
      " 63  rougher.state.floatbank10_f_air                     19439 non-null  float64\n",
      " 64  rougher.state.floatbank10_f_level                   19439 non-null  float64\n",
      " 65  secondary_cleaner.output.tail_ag                    19437 non-null  float64\n",
      " 66  secondary_cleaner.output.tail_pb                    19427 non-null  float64\n",
      " 67  secondary_cleaner.output.tail_sol                   17691 non-null  float64\n",
      " 68  secondary_cleaner.output.tail_au                    19439 non-null  float64\n",
      " 69  secondary_cleaner.state.floatbank2_a_air            19219 non-null  float64\n",
      " 70  secondary_cleaner.state.floatbank2_a_level          19438 non-null  float64\n",
      " 71  secondary_cleaner.state.floatbank2_b_air            19416 non-null  float64\n",
      " 72  secondary_cleaner.state.floatbank2_b_level          19438 non-null  float64\n",
      " 73  secondary_cleaner.state.floatbank3_a_air            19426 non-null  float64\n",
      " 74  secondary_cleaner.state.floatbank3_a_level          19438 non-null  float64\n",
      " 75  secondary_cleaner.state.floatbank3_b_air            19438 non-null  float64\n",
      " 76  secondary_cleaner.state.floatbank3_b_level          19438 non-null  float64\n",
      " 77  secondary_cleaner.state.floatbank4_a_air            19433 non-null  float64\n",
      " 78  secondary_cleaner.state.floatbank4_a_level          19438 non-null  float64\n",
      " 79  secondary_cleaner.state.floatbank4_b_air            19438 non-null  float64\n",
      " 80  secondary_cleaner.state.floatbank4_b_level          19438 non-null  float64\n",
      " 81  secondary_cleaner.state.floatbank5_a_air            19438 non-null  float64\n",
      " 82  secondary_cleaner.state.floatbank5_a_level          19438 non-null  float64\n",
      " 83  secondary_cleaner.state.floatbank5_b_air            19438 non-null  float64\n",
      " 84  secondary_cleaner.state.floatbank5_b_level          19438 non-null  float64\n",
      " 85  secondary_cleaner.state.floatbank6_a_air            19437 non-null  float64\n",
      " 86  secondary_cleaner.state.floatbank6_a_level          19438 non-null  float64\n",
      "dtypes: float64(86), object(1)\n",
      "memory usage: 12.9+ MB\n"
     ]
    }
   ],
   "source": [
    "df_full.info()"
   ]
  },
  {
   "cell_type": "markdown",
   "metadata": {},
   "source": [
    "Исходный датасет содержит в себе тренировочный и тестовый. Во всех датасетах присутствуют пропуски."
   ]
  },
  {
   "cell_type": "markdown",
   "metadata": {},
   "source": [
    "### Проверка расчетов в датасете"
   ]
  },
  {
   "cell_type": "markdown",
   "metadata": {},
   "source": [
    "Проверим правильность расчетов эффективности обогащения (recovery) в датасете:"
   ]
  },
  {
   "attachments": {
    "image.png": {
     "image/png": "[encoded data removed]"
    }
   },
   "cell_type": "markdown",
   "metadata": {},
   "source": [
    "![image.png](attachment:image.png)"
   ]
  },
  {
   "cell_type": "code",
   "execution_count": 4,
   "metadata": {},
   "outputs": [
    {
     "data": {
      "text/plain": [
       "9.874045668302637e-15"
      ]
     },
     "execution_count": 4,
     "metadata": {},
     "output_type": "execute_result"
    }
   ],
   "source": [
    "# доля золота в концентрате после флотации/очистки\n",
    "C = df_full['rougher.output.concentrate_au']\n",
    "# доля золота в сырье/концентрате до флотации/очистки\n",
    "F = df_full['rougher.input.feed_au']\n",
    "# доля золота в отвальных хвостах после флотации/очистки\n",
    "T = df_full['rougher.output.tail_au']\n",
    "\n",
    "recovery = (C * (F - T) / (F * (C - T)) * 100)\n",
    "\n",
    "mean_absolute_error(df_full['rougher.output.recovery'], recovery)"
   ]
  },
  {
   "cell_type": "markdown",
   "metadata": {},
   "source": [
    "Различия в расчетах recovery на уровне 15-го знака после запятой - rougher.output.recovery в исходных данных расчитан верно."
   ]
  },
  {
   "cell_type": "markdown",
   "metadata": {},
   "source": [
    "### Анализ отсутствующих в тестовой выборке признаков"
   ]
  },
  {
   "cell_type": "markdown",
   "metadata": {},
   "source": [
    "Найдем отсутствующие в тестовой выборке признаки:"
   ]
  },
  {
   "cell_type": "code",
   "execution_count": 5,
   "metadata": {},
   "outputs": [
    {
     "data": {
      "text/plain": [
       "['final.output.concentrate_ag',\n",
       " 'final.output.concentrate_pb',\n",
       " 'final.output.concentrate_sol',\n",
       " 'final.output.concentrate_au',\n",
       " 'final.output.recovery',\n",
       " 'final.output.tail_ag',\n",
       " 'final.output.tail_pb',\n",
       " 'final.output.tail_sol',\n",
       " 'final.output.tail_au',\n",
       " 'primary_cleaner.output.concentrate_ag',\n",
       " 'primary_cleaner.output.concentrate_pb',\n",
       " 'primary_cleaner.output.concentrate_sol',\n",
       " 'primary_cleaner.output.concentrate_au',\n",
       " 'primary_cleaner.output.tail_ag',\n",
       " 'primary_cleaner.output.tail_pb',\n",
       " 'primary_cleaner.output.tail_sol',\n",
       " 'primary_cleaner.output.tail_au',\n",
       " 'rougher.calculation.sulfate_to_au_concentrate',\n",
       " 'rougher.calculation.floatbank10_sulfate_to_au_feed',\n",
       " 'rougher.calculation.floatbank11_sulfate_to_au_feed',\n",
       " 'rougher.calculation.au_pb_ratio',\n",
       " 'rougher.output.concentrate_ag',\n",
       " 'rougher.output.concentrate_pb',\n",
       " 'rougher.output.concentrate_sol',\n",
       " 'rougher.output.concentrate_au',\n",
       " 'rougher.output.recovery',\n",
       " 'rougher.output.tail_ag',\n",
       " 'rougher.output.tail_pb',\n",
       " 'rougher.output.tail_sol',\n",
       " 'rougher.output.tail_au',\n",
       " 'secondary_cleaner.output.tail_ag',\n",
       " 'secondary_cleaner.output.tail_pb',\n",
       " 'secondary_cleaner.output.tail_sol',\n",
       " 'secondary_cleaner.output.tail_au']"
      ]
     },
     "execution_count": 5,
     "metadata": {},
     "output_type": "execute_result"
    }
   ],
   "source": [
    "missing_features = list(df_full.columns.drop(df_test.columns))\n",
    "missing_features"
   ]
  },
  {
   "cell_type": "markdown",
   "metadata": {},
   "source": [
    "В тестовой выборке отсутствует 34 признака:"
   ]
  },
  {
   "cell_type": "markdown",
   "metadata": {},
   "source": [
    "По этапам:\n",
    "- 13 rougher - флотация\n",
    "- 8 primary_cleaner - первичная очистка\n",
    "- 4 secondary_cleaner - вторичная очистка\n",
    "- 9 final - финальные характеристики"
   ]
  },
  {
   "cell_type": "markdown",
   "metadata": {},
   "source": [
    "По типу параметра:\n",
    "- 30 output - параметры продукта\n",
    "- 4 calculation - расчетные характеристики"
   ]
  },
  {
   "cell_type": "markdown",
   "metadata": {},
   "source": [
    "По названию параметра:\n",
    "- tail (все 4 этапа) - отвальные хвосты\n",
    "- concentrate (кроме этапа secondary_cleaner) - концентрат металла\n",
    "- recovery (целевые признаки) - эффективность обогащения"
   ]
  },
  {
   "cell_type": "markdown",
   "metadata": {},
   "source": [
    "Значения 2/3 ключевых параметров для расчета recovery в тестовой выборке неизвестны."
   ]
  },
  {
   "cell_type": "markdown",
   "metadata": {},
   "source": [
    "### Предобработка данных"
   ]
  },
  {
   "cell_type": "markdown",
   "metadata": {},
   "source": [
    "Обработаем пропуски. Проверим количество пропусков и логику расположения данных:"
   ]
  },
  {
   "cell_type": "code",
   "execution_count": 6,
   "metadata": {
    "scrolled": true
   },
   "outputs": [
    {
     "data": {
      "text/plain": [
       "date                                        0\n",
       "final.output.concentrate_ag                 1\n",
       "final.output.concentrate_pb                 1\n",
       "final.output.concentrate_sol              211\n",
       "final.output.concentrate_au                 0\n",
       "final.output.recovery                       0\n",
       "final.output.tail_ag                        1\n",
       "final.output.tail_pb                      101\n",
       "final.output.tail_sol                       6\n",
       "final.output.tail_au                        0\n",
       "primary_cleaner.input.sulfate              24\n",
       "primary_cleaner.input.depressant           37\n",
       "primary_cleaner.input.feed_size             0\n",
       "primary_cleaner.input.xanthate            104\n",
       "primary_cleaner.output.concentrate_ag       0\n",
       "primary_cleaner.output.concentrate_pb     116\n",
       "primary_cleaner.output.concentrate_sol    370\n",
       "primary_cleaner.output.concentrate_au       0\n",
       "primary_cleaner.output.tail_ag              4\n",
       "primary_cleaner.output.tail_pb             21\n",
       "dtype: int64"
      ]
     },
     "execution_count": 6,
     "metadata": {},
     "output_type": "execute_result"
    }
   ],
   "source": [
    "# посмотрим на пропуски первых 20 столбцов\n",
    "df_full.isna().sum().head(20)"
   ]
  },
  {
   "cell_type": "code",
   "execution_count": 7,
   "metadata": {},
   "outputs": [
    {
     "data": {
      "text/plain": [
       "4481"
      ]
     },
     "execution_count": 7,
     "metadata": {},
     "output_type": "execute_result"
    }
   ],
   "source": [
    "# посчитаем все поля с пропусками\n",
    "df_full.isna().sum().sum()"
   ]
  },
  {
   "cell_type": "code",
   "execution_count": 8,
   "metadata": {},
   "outputs": [
    {
     "data": {
      "text/plain": [
       "0    2016-01-15 00:00:00\n",
       "1    2016-01-15 01:00:00\n",
       "2    2016-01-15 02:00:00\n",
       "3    2016-01-15 03:00:00\n",
       "4    2016-01-15 04:00:00\n",
       "5    2016-01-15 05:00:00\n",
       "6    2016-01-15 06:00:00\n",
       "7    2016-01-15 07:00:00\n",
       "8    2016-01-15 08:00:00\n",
       "9    2016-01-15 09:00:00\n",
       "Name: date, dtype: object"
      ]
     },
     "execution_count": 8,
     "metadata": {},
     "output_type": "execute_result"
    }
   ],
   "source": [
    "# проверим хронологичность\n",
    "df_full['date'].head(10)"
   ]
  },
  {
   "cell_type": "code",
   "execution_count": 9,
   "metadata": {},
   "outputs": [
    {
     "data": {
      "image/png": "[encoded data removed]",
      "text/plain": [
       "<Figure size 720x360 with 1 Axes>"
      ]
     },
     "metadata": {
      "needs_background": "light"
     },
     "output_type": "display_data"
    }
   ],
   "source": [
    "# проверим регулярность на случайном признаке с пропусками\n",
    "df_full.loc[:1000,'primary_cleaner.output.concentrate_sol'].plot(\n",
    "    grid=True, figsize=(10,5));"
   ]
  },
  {
   "cell_type": "markdown",
   "metadata": {},
   "source": [
    "Данные расположены в хронологическом порядке. Параметры со временем меняются плавно, с сохранением тренда. Наблюдаются возможные выбросы. Пропуски можно заполнить историческими значениями:"
   ]
  },
  {
   "cell_type": "code",
   "execution_count": 10,
   "metadata": {},
   "outputs": [
    {
     "data": {
      "text/plain": [
       "0"
      ]
     },
     "execution_count": 10,
     "metadata": {},
     "output_type": "execute_result"
    }
   ],
   "source": [
    "df = df_full.ffill()\n",
    "df.isna().sum().sum()"
   ]
  },
  {
   "cell_type": "markdown",
   "metadata": {},
   "source": [
    "## Анализ данных"
   ]
  },
  {
   "cell_type": "markdown",
   "metadata": {},
   "source": [
    "### Динамика концентрации металлов"
   ]
  },
  {
   "cell_type": "markdown",
   "metadata": {},
   "source": [
    "Посмотрим, как меняется концентрация металлов на разных стадиях технологического процесса:"
   ]
  },
  {
   "cell_type": "code",
   "execution_count": 11,
   "metadata": {},
   "outputs": [
    {
     "data": {
      "image/png": "[encoded data removed]",
      "text/plain": [
       "<Figure size 432x288 with 2 Axes>"
      ]
     },
     "metadata": {
      "needs_background": "light"
     },
     "output_type": "display_data"
    }
   ],
   "source": [
    "metals = pd.DataFrame({\n",
    "    'Ag (серебро)' : [df['rougher.input.feed_ag'].mean(),\n",
    "                        df['rougher.output.concentrate_ag'].mean(),\n",
    "                        df['primary_cleaner.output.concentrate_ag'].mean(),\n",
    "                        df['final.output.concentrate_ag'].mean()],\n",
    "    'Au (золото)' : [df['rougher.input.feed_au'].mean(),\n",
    "                        df['rougher.output.concentrate_au'].mean(),\n",
    "                        df['primary_cleaner.output.concentrate_au'].mean(),\n",
    "                        df['final.output.concentrate_au'].mean()],\n",
    "    'Pb (свинец)' : [df['rougher.input.feed_pb'].mean(),\n",
    "                        df['rougher.output.concentrate_pb'].mean(),\n",
    "                        df['primary_cleaner.output.concentrate_pb'].mean(),\n",
    "                        df['final.output.concentrate_pb'].mean()]},\n",
    "    index=['rougher.input (до флотации)', \n",
    "           'rougher.output (после флотации)', \n",
    "           'primary_cleaner.output (после первичной очистки)', \n",
    "           'secondary_cleaner.output (после вторичной очистки)'])\n",
    "\n",
    "sns.heatmap(metals, annot=True, square=True);"
   ]
  },
  {
   "cell_type": "markdown",
   "metadata": {},
   "source": [
    "Концентрация золота значительно повышается с каждым этапом обработки. \n",
    "<br>Концентрация серебра снижается с каждым этапом после флотации.\n",
    "<br>Концентрация свинца повышается с каждым этапом до вторичной очистки."
   ]
  },
  {
   "cell_type": "markdown",
   "metadata": {},
   "source": [
    "### Распределение размеров гранул сырья"
   ]
  },
  {
   "cell_type": "markdown",
   "metadata": {},
   "source": [
    "Изучим, как распределен размер гранул сырья в обучающей и тестовой выборках:"
   ]
  },
  {
   "cell_type": "code",
   "execution_count": 12,
   "metadata": {},
   "outputs": [
    {
     "data": {
      "image/png": "[encoded data removed]",
      "text/plain": [
       "<Figure size 432x288 with 1 Axes>"
      ]
     },
     "metadata": {
      "needs_background": "light"
     },
     "output_type": "display_data"
    }
   ],
   "source": [
    "dates_train = df_train['date']\n",
    "dates_test  = df_test['date']\n",
    "\n",
    "train_feed_size = df[df['date'].isin(dates_train)]['rougher.input.feed_size']\n",
    "test_feed_size  = df[df['date'].isin(dates_test)]['rougher.input.feed_size']\n",
    "\n",
    "train_feed_size.plot(kind='density')\n",
    "test_feed_size.plot(kind='density')\n",
    "plt.title('Размер гранул сырья')\n",
    "plt.xlim(0, 120)\n",
    "plt.xlabel('rougher.input.feed_size (размер гранул)')\n",
    "plt.legend(['Обучающая выборка','Тестовая выборка'])\n",
    "plt.grid();"
   ]
  },
  {
   "cell_type": "markdown",
   "metadata": {},
   "source": [
    "Проверим гипотезу о равенстве средних размеров гранул сырья в обучающей и тестовой выборках.\n",
    "<br><b>Нулевая гипотеза:</b> Средний размер гранул сырья в выборках одинаковый\n",
    "<br><b>Альтернативна гипотеза:</b> Средний размер гранул сырья в выборках различается\n",
    "<br>Критический уровень значимости: 0.01"
   ]
  },
  {
   "cell_type": "code",
   "execution_count": 13,
   "metadata": {},
   "outputs": [
    {
     "data": {
      "text/plain": [
       "3.134338776805464e-39"
      ]
     },
     "execution_count": 13,
     "metadata": {},
     "output_type": "execute_result"
    }
   ],
   "source": [
    "results = st.ttest_ind(train_feed_size, test_feed_size, equal_var=False)\n",
    "results.pvalue"
   ]
  },
  {
   "cell_type": "markdown",
   "metadata": {},
   "source": [
    "P-value значительно меньше критического уровня значимости. Отвергаем нулевую гипотезу. Средний размер гранул сырья в выборках значимо различается. \n",
    "\n",
    "Тем не менее, сравнение графиков \"на глаз\" позволяет сопоставить обучающие и тестовые выборки и принять нулевую гипотезу, так как заказкик гарантирует равенство среднего размера гранул сырья в производстве размеру гранул обучающей выборки."
   ]
  },
  {
   "cell_type": "markdown",
   "metadata": {},
   "source": [
    "### Динамика суммарной концентрации металлов"
   ]
  },
  {
   "cell_type": "markdown",
   "metadata": {},
   "source": [
    "Взглянем, как меняется суммарная концентрация металлов на разных стадиях технологического процесса:"
   ]
  },
  {
   "cell_type": "code",
   "execution_count": 14,
   "metadata": {},
   "outputs": [
    {
     "data": {
      "image/png": "[encoded data removed]",
      "text/plain": [
       "<Figure size 432x288 with 1 Axes>"
      ]
     },
     "metadata": {
      "needs_background": "light"
     },
     "output_type": "display_data"
    }
   ],
   "source": [
    "stages = ['rougher.input.feed_',\n",
    "         'rougher.output.concentrate_',\n",
    "         'primary_cleaner.output.concentrate_',\n",
    "         'final.output.concentrate_']\n",
    "agents = ['ag', 'au', 'pb', 'sol']\n",
    "\n",
    "concentrations = pd.DataFrame()\n",
    "for stage in stages:\n",
    "    concentration = 0\n",
    "    for agent in agents:\n",
    "        concentration += df[stage+agent]\n",
    "    concentrations.insert(concentrations.shape[1], stage, value=concentration)\n",
    "\n",
    "concentrations.columns = ['rougher.input', \n",
    "                          'rougher.output', \n",
    "                          'primary_cleaner.output',\n",
    "                          'final.output']\n",
    "\n",
    "\n",
    "concentrations.plot(kind='density',)\n",
    "plt.title('Суммарная концентрация всех веществ на разных стадиях')\n",
    "plt.xlim(-10, 100)\n",
    "plt.xlabel('Суммарная концентрация веществ')\n",
    "plt.grid();"
   ]
  },
  {
   "cell_type": "markdown",
   "metadata": {},
   "source": [
    "Исследование распределения суммарной концентрации всех веществ на разных стадиях выявило выбросы в данных около ноля. Такие данные аномальны и могут негативно повлиять на обучаемую модель. Избавимся от этих строк:"
   ]
  },
  {
   "cell_type": "code",
   "execution_count": 15,
   "metadata": {},
   "outputs": [],
   "source": [
    "df = df.drop(concentrations[(concentrations['rougher.input'] <= 5) |\n",
    "               (concentrations['rougher.output'] <= 5) |\n",
    "               (concentrations['primary_cleaner.output'] <= 5) |\n",
    "               (concentrations['final.output'] <= 5) ].index)"
   ]
  },
  {
   "cell_type": "code",
   "execution_count": 16,
   "metadata": {},
   "outputs": [
    {
     "data": {
      "image/png": "[encoded data removed]",
      "text/plain": [
       "<Figure size 432x288 with 1 Axes>"
      ]
     },
     "metadata": {
      "needs_background": "light"
     },
     "output_type": "display_data"
    }
   ],
   "source": [
    "concentrations = pd.DataFrame()\n",
    "for stage in stages:\n",
    "    concentration = 0\n",
    "    for agent in agents:\n",
    "        concentration += df[stage+agent]\n",
    "    concentrations.insert(concentrations.shape[1], stage, value=concentration)\n",
    "\n",
    "concentrations.columns = ['rougher.input', \n",
    "                          'rougher.output', \n",
    "                          'primary_cleaner.output',\n",
    "                          'final.output']\n",
    "\n",
    "\n",
    "concentrations.plot(kind='density',)\n",
    "plt.title('Суммарная концентрация всех веществ на разных стадиях')\n",
    "plt.xlim(-10, 100)\n",
    "plt.xlabel('Суммарная концентрация веществ')\n",
    "plt.grid();"
   ]
  },
  {
   "cell_type": "markdown",
   "metadata": {},
   "source": [
    "От выбросов в районе нуля избавились."
   ]
  },
  {
   "cell_type": "markdown",
   "metadata": {},
   "source": [
    "## Модель"
   ]
  },
  {
   "cell_type": "markdown",
   "metadata": {},
   "source": [
    "### Метрика sMAPE"
   ]
  },
  {
   "cell_type": "markdown",
   "metadata": {},
   "source": [
    "Напишем функцию расчета итоговой кастомной метрики sMAPE:"
   ]
  },
  {
   "attachments": {
    "image.png": {
     "image/png": "[encoded data removed]"
    }
   },
   "cell_type": "markdown",
   "metadata": {},
   "source": [
    "![image.png](attachment:image.png)"
   ]
  },
  {
   "attachments": {
    "image.png": {
     "image/png": "[encoded data removed]"
    }
   },
   "cell_type": "markdown",
   "metadata": {},
   "source": [
    "![image.png](attachment:image.png)"
   ]
  },
  {
   "cell_type": "code",
   "execution_count": 17,
   "metadata": {},
   "outputs": [],
   "source": [
    "def smape(target, predicted):\n",
    "    error = 100 * (abs(target - predicted) / \n",
    "             ((abs(target) + abs(predicted)) / 2)).mean()\n",
    "    return .25 * error[0] + .75 * error[1]"
   ]
  },
  {
   "cell_type": "markdown",
   "metadata": {},
   "source": [
    "Сразу создадим скорер для дальнейшей кросс-валидации:"
   ]
  },
  {
   "cell_type": "code",
   "execution_count": 18,
   "metadata": {},
   "outputs": [],
   "source": [
    "smape_scorer = make_scorer(smape, greater_is_better=False)"
   ]
  },
  {
   "cell_type": "markdown",
   "metadata": {},
   "source": [
    "### Обучение моделей"
   ]
  },
  {
   "cell_type": "markdown",
   "metadata": {},
   "source": [
    "Подготовим данные к обучению. Разделим целевые и остальные признаки:"
   ]
  },
  {
   "cell_type": "code",
   "execution_count": 19,
   "metadata": {},
   "outputs": [],
   "source": [
    "features_train = df[df['date'].isin(dates_train)] \\\n",
    "                    .drop(missing_features, axis=1) \\\n",
    "                    .drop('date', axis=1)\n",
    "target_train = df[df['date'].isin(dates_train)][['rougher.output.recovery', \n",
    "                                                 'final.output.recovery']]\n",
    "features_test = df[df['date'].isin(dates_test)] \\\n",
    "                    .drop(missing_features, axis=1) \\\n",
    "                    .drop('date', axis=1)\n",
    "target_test = df[df['date'].isin(dates_test)][['rougher.output.recovery', \n",
    "                                               'final.output.recovery']]"
   ]
  },
  {
   "cell_type": "markdown",
   "metadata": {},
   "source": [
    "Нормализуем признаки:"
   ]
  },
  {
   "cell_type": "code",
   "execution_count": 20,
   "metadata": {},
   "outputs": [],
   "source": [
    "scaler = StandardScaler()\n",
    "scaler.fit(features_train)\n",
    "\n",
    "features_train_scaled = scaler.transform(features_train)\n",
    "features_test_scaled = scaler.transform(features_test)"
   ]
  },
  {
   "cell_type": "markdown",
   "metadata": {},
   "source": [
    "Обучим модели и оценим их качество кросс-валидацией.\n",
    "<br>Случайный лес:"
   ]
  },
  {
   "cell_type": "code",
   "execution_count": 21,
   "metadata": {},
   "outputs": [
    {
     "name": "stdout",
     "output_type": "stream",
     "text": [
      "Max_depth: 1 \tScore: -9.10954005660283\n",
      "Max_depth: 2 \tScore: -9.116756029159635\n",
      "Max_depth: 3 \tScore: -8.80922509102025\n",
      "Max_depth: 4 \tScore: -8.95724254984301\n",
      "Max_depth: 5 \tScore: -9.376186788897973\n",
      "CPU times: user 55.7 s, sys: 154 ms, total: 55.9 s\n",
      "Wall time: 55.9 s\n"
     ]
    }
   ],
   "source": [
    "%%time\n",
    "# для экономии времени сперва найдем оптимальную глубину, а затем число деревьев\n",
    "for depth in range(1, 6):\n",
    "    model = RandomForestRegressor(n_estimators=20, max_depth=depth, random_state=42)\n",
    "    score = cross_val_score(\n",
    "        model, features_train_scaled, target_train, scoring=smape_scorer).mean()\n",
    "    print('Max_depth:', depth, '\\tScore:', score)"
   ]
  },
  {
   "cell_type": "code",
   "execution_count": 22,
   "metadata": {},
   "outputs": [
    {
     "name": "stdout",
     "output_type": "stream",
     "text": [
      "Estimators: 10 \tScore: -8.879535474077922\n",
      "Estimators: 20 \tScore: -8.80922509102025\n",
      "Estimators: 30 \tScore: -8.777982818310127\n",
      "Estimators: 40 \tScore: -8.79015445443618\n",
      "Estimators: 50 \tScore: -8.764894362993491\n",
      "CPU times: user 1min 22s, sys: 191 ms, total: 1min 23s\n",
      "Wall time: 1min 23s\n"
     ]
    }
   ],
   "source": [
    "%%time\n",
    "for est in range(10, 51, 10):\n",
    "    model = RandomForestRegressor(n_estimators=est, max_depth=3, random_state=42)\n",
    "    score = cross_val_score(\n",
    "        model, features_train_scaled, target_train, scoring=smape_scorer).mean()\n",
    "    print('Estimators:', est, '\\tScore:', score)"
   ]
  },
  {
   "cell_type": "markdown",
   "metadata": {},
   "source": [
    "Линейная регрессия:"
   ]
  },
  {
   "cell_type": "code",
   "execution_count": 23,
   "metadata": {},
   "outputs": [
    {
     "name": "stdout",
     "output_type": "stream",
     "text": [
      "Score: -10.103896741353381\n"
     ]
    }
   ],
   "source": [
    "model = LinearRegression()\n",
    "score = cross_val_score(\n",
    "        model, features_train_scaled, target_train, scoring=smape_scorer).mean()\n",
    "print('Score:', score)"
   ]
  },
  {
   "cell_type": "markdown",
   "metadata": {},
   "source": [
    "Лучший результат показала модель случайного леса с максимальной глубиной 3 и 50 деревьями, ее кросс-валидационный sMAPE равен -8.76.\n",
    "<br>Применим полученную модель на тестовой выборке и сравним результат:"
   ]
  },
  {
   "cell_type": "code",
   "execution_count": 24,
   "metadata": {},
   "outputs": [
    {
     "name": "stdout",
     "output_type": "stream",
     "text": [
      "CPU times: user 6.92 s, sys: 71.9 ms, total: 6.99 s\n",
      "Wall time: 7.08 s\n"
     ]
    },
    {
     "data": {
      "text/plain": [
       "7.232993763969147"
      ]
     },
     "execution_count": 24,
     "metadata": {},
     "output_type": "execute_result"
    }
   ],
   "source": [
    "%%time\n",
    "model = RandomForestRegressor(n_estimators=50, max_depth=3, random_state=42)\n",
    "model.fit(features_train_scaled, target_train)\n",
    "predicted = model.predict(features_test_scaled)\n",
    "smape(target_test, predicted)"
   ]
  },
  {
   "cell_type": "markdown",
   "metadata": {},
   "source": [
    "### Проверка модели на вменяемость"
   ]
  },
  {
   "cell_type": "markdown",
   "metadata": {},
   "source": [
    "Проверим нашу лучшую модель на вменяемость. Напишем функцию, которая будет сравнивать ошибки sMAPE разных типов dummy-моделей с ошибкой лучшей модели и возвращать разницу. Если значения положительны - наша модель лучше константной:"
   ]
  },
  {
   "cell_type": "code",
   "execution_count": 41,
   "metadata": {},
   "outputs": [],
   "source": [
    "from sklearn.dummy import DummyRegressor"
   ]
  },
  {
   "cell_type": "code",
   "execution_count": 42,
   "metadata": {},
   "outputs": [],
   "source": [
    "def sanity_check(strat, best_result):\n",
    "    dummy = DummyRegressor(strategy=strat)\n",
    "    dummy.fit(features_train_scaled, target_train)\n",
    "    predicted_dummy = dummy.predict(features_test_scaled)\n",
    "    \n",
    "    return abs(smape(target_test, predicted_dummy)) - abs(best_result)"
   ]
  },
  {
   "cell_type": "code",
   "execution_count": 43,
   "metadata": {},
   "outputs": [
    {
     "data": {
      "text/plain": [
       "0.5378313314838516"
      ]
     },
     "execution_count": 43,
     "metadata": {},
     "output_type": "execute_result"
    }
   ],
   "source": [
    "sanity_check('mean', 7.232993763969147)"
   ]
  },
  {
   "cell_type": "code",
   "execution_count": 44,
   "metadata": {},
   "outputs": [
    {
     "data": {
      "text/plain": [
       "0.13659678275934173"
      ]
     },
     "execution_count": 44,
     "metadata": {},
     "output_type": "execute_result"
    }
   ],
   "source": [
    "sanity_check('median', 7.232993763969147)"
   ]
  },
  {
   "cell_type": "markdown",
   "metadata": {},
   "source": [
    "Ошибка лучшей модели меньше, чем ошибка константной модели со средними и медианными значениями. Тест на вменяемость пройден."
   ]
  },
  {
   "cell_type": "markdown",
   "metadata": {},
   "source": [
    "## Выводы"
   ]
  },
  {
   "cell_type": "markdown",
   "metadata": {},
   "source": [
    "### Результаты"
   ]
  },
  {
   "cell_type": "markdown",
   "metadata": {},
   "source": [
    "Cоздан прототип модели машинного обучения, предсказывающей коэффициент восстановления золота из золотосодержащей руды. \n",
    "- Лучшая модель: RandomForestRegressor\n",
    "- Параметры модели: n_estimators=50, max_depth=3\n",
    "- Ошибка модели на тестовых данных (Final sMAPE): 7.23\n",
    "- Модель прошла проверку на вменяемость"
   ]
  },
  {
   "cell_type": "markdown",
   "metadata": {},
   "source": [
    "### Что можно улучшить"
   ]
  },
  {
   "cell_type": "markdown",
   "metadata": {},
   "source": [
    "Заметно, что разность метрик качества (константной и нашей модели) -  не слишком большая (всего 0.14 или 2%). Заказчик допустил такое расхождение метрик, но для дальнейшего улучшения качества моделирования можно пересмотреть и углубить некоторые этапы анализа:\n",
    "1. Качество данных на входе модели машинного обучения: повторно оценить аномалии, пропуски, соответствие законам химии и физики.\n",
    "2. Features Engineering: возможно, стоит обратиться к технологу производства и ещё раз пробежаться по бизнес-цепочке процесса.\n",
    "3. Отбор моделей: расширить круг проверяемых моделей, провести Grid Search гиперпараметров."
   ]
  },
  {
   "cell_type": "code",
   "execution_count": null,
   "metadata": {},
   "outputs": [],
   "source": []
  }
 ],
 "metadata": {
  "ExecuteTimeLog": [
   {
    "duration": 421,
    "start_time": "2023-02-24T04:22:57.546Z"
   },
   {
    "duration": 2,
    "start_time": "2023-02-24T04:23:02.615Z"
   },
   {
    "duration": 2995,
    "start_time": "2023-02-24T04:26:44.032Z"
   },
   {
    "duration": 699,
    "start_time": "2023-02-24T04:27:22.777Z"
   },
   {
    "duration": 17,
    "start_time": "2023-02-24T04:27:42.166Z"
   },
   {
    "duration": 11,
    "start_time": "2023-02-24T04:27:47.396Z"
   },
   {
    "duration": 18,
    "start_time": "2023-02-24T04:32:16.848Z"
   },
   {
    "duration": 638,
    "start_time": "2023-02-24T04:33:08.053Z"
   },
   {
    "duration": 34,
    "start_time": "2023-02-24T04:35:31.100Z"
   },
   {
    "duration": 21,
    "start_time": "2023-02-24T04:36:43.130Z"
   },
   {
    "duration": 20,
    "start_time": "2023-02-24T04:36:51.690Z"
   },
   {
    "duration": 95,
    "start_time": "2023-02-24T04:41:37.491Z"
   },
   {
    "duration": 6,
    "start_time": "2023-02-24T04:41:48.836Z"
   },
   {
    "duration": 18,
    "start_time": "2023-02-24T04:50:54.025Z"
   },
   {
    "duration": 24,
    "start_time": "2023-02-24T04:52:16.915Z"
   },
   {
    "duration": 32,
    "start_time": "2023-02-24T04:52:28.426Z"
   },
   {
    "duration": 11,
    "start_time": "2023-02-24T04:52:32.642Z"
   },
   {
    "duration": 12,
    "start_time": "2023-02-24T04:52:39.331Z"
   },
   {
    "duration": 11,
    "start_time": "2023-02-24T04:52:50.456Z"
   },
   {
    "duration": 7,
    "start_time": "2023-02-24T04:53:09.869Z"
   },
   {
    "duration": 10,
    "start_time": "2023-02-24T04:53:19.205Z"
   },
   {
    "duration": 12,
    "start_time": "2023-02-24T04:53:24.165Z"
   },
   {
    "duration": 9,
    "start_time": "2023-02-24T04:53:39.845Z"
   },
   {
    "duration": 20,
    "start_time": "2023-02-24T04:53:58.379Z"
   },
   {
    "duration": 5,
    "start_time": "2023-02-24T04:54:36.906Z"
   },
   {
    "duration": 30,
    "start_time": "2023-02-24T04:55:22.946Z"
   },
   {
    "duration": 6,
    "start_time": "2023-02-24T04:55:43.018Z"
   },
   {
    "duration": 6,
    "start_time": "2023-02-24T04:56:16.956Z"
   },
   {
    "duration": 4,
    "start_time": "2023-02-24T04:56:20.156Z"
   },
   {
    "duration": 11,
    "start_time": "2023-02-24T04:56:27.876Z"
   },
   {
    "duration": 11,
    "start_time": "2023-02-24T04:56:36.926Z"
   },
   {
    "duration": 10,
    "start_time": "2023-02-24T04:56:52.057Z"
   },
   {
    "duration": 10,
    "start_time": "2023-02-24T04:57:21.017Z"
   },
   {
    "duration": 6,
    "start_time": "2023-02-24T04:59:24.409Z"
   },
   {
    "duration": 4,
    "start_time": "2023-02-24T04:59:29.528Z"
   },
   {
    "duration": 5,
    "start_time": "2023-02-24T04:59:36.528Z"
   },
   {
    "duration": 6,
    "start_time": "2023-02-24T04:59:42.488Z"
   },
   {
    "duration": 4,
    "start_time": "2023-02-24T04:59:48.968Z"
   },
   {
    "duration": 7,
    "start_time": "2023-02-24T05:00:27.928Z"
   },
   {
    "duration": 8,
    "start_time": "2023-02-24T05:00:38.718Z"
   },
   {
    "duration": 8,
    "start_time": "2023-02-24T05:00:44.059Z"
   },
   {
    "duration": 6,
    "start_time": "2023-02-24T05:00:46.909Z"
   },
   {
    "duration": 7,
    "start_time": "2023-02-24T05:00:56.058Z"
   },
   {
    "duration": 7,
    "start_time": "2023-02-24T05:01:00.488Z"
   },
   {
    "duration": 8,
    "start_time": "2023-02-24T05:01:04.339Z"
   },
   {
    "duration": 7,
    "start_time": "2023-02-24T05:01:18.371Z"
   },
   {
    "duration": 7,
    "start_time": "2023-02-24T05:01:24.959Z"
   },
   {
    "duration": 8,
    "start_time": "2023-02-24T05:01:34.359Z"
   },
   {
    "duration": 8,
    "start_time": "2023-02-24T05:02:13.659Z"
   },
   {
    "duration": 8,
    "start_time": "2023-02-24T05:02:31.842Z"
   },
   {
    "duration": 9,
    "start_time": "2023-02-24T05:02:38.888Z"
   },
   {
    "duration": 7,
    "start_time": "2023-02-24T05:02:47.430Z"
   },
   {
    "duration": 7,
    "start_time": "2023-02-24T05:02:50.609Z"
   },
   {
    "duration": 8,
    "start_time": "2023-02-24T05:02:55.839Z"
   },
   {
    "duration": 7,
    "start_time": "2023-02-24T05:03:00.229Z"
   },
   {
    "duration": 8,
    "start_time": "2023-02-24T05:03:24.589Z"
   },
   {
    "duration": 7,
    "start_time": "2023-02-24T05:03:39.010Z"
   },
   {
    "duration": 8,
    "start_time": "2023-02-24T05:03:55.029Z"
   },
   {
    "duration": 8,
    "start_time": "2023-02-24T05:04:01.001Z"
   },
   {
    "duration": 8,
    "start_time": "2023-02-24T05:04:04.009Z"
   },
   {
    "duration": 7,
    "start_time": "2023-02-24T05:04:27.390Z"
   },
   {
    "duration": 7,
    "start_time": "2023-02-24T05:04:31.400Z"
   },
   {
    "duration": 9,
    "start_time": "2023-02-24T05:05:03.841Z"
   },
   {
    "duration": 7,
    "start_time": "2023-02-24T05:06:11.731Z"
   },
   {
    "duration": 55,
    "start_time": "2023-02-24T06:08:59.531Z"
   },
   {
    "duration": 8,
    "start_time": "2023-02-24T06:09:11.292Z"
   },
   {
    "duration": 7,
    "start_time": "2023-02-24T06:10:38.752Z"
   },
   {
    "duration": 7,
    "start_time": "2023-02-24T06:11:16.252Z"
   },
   {
    "duration": 13,
    "start_time": "2023-02-24T06:11:44.513Z"
   },
   {
    "duration": 14,
    "start_time": "2023-02-24T06:11:49.763Z"
   },
   {
    "duration": 15,
    "start_time": "2023-02-24T06:11:54.703Z"
   },
   {
    "duration": 8,
    "start_time": "2023-02-24T06:12:01.472Z"
   },
   {
    "duration": 6,
    "start_time": "2023-02-24T06:12:12.973Z"
   },
   {
    "duration": 5,
    "start_time": "2023-02-24T06:12:20.013Z"
   },
   {
    "duration": 8,
    "start_time": "2023-02-24T06:17:30.454Z"
   },
   {
    "duration": 7,
    "start_time": "2023-02-24T06:18:22.195Z"
   },
   {
    "duration": 7,
    "start_time": "2023-02-24T06:19:00.124Z"
   },
   {
    "duration": 7,
    "start_time": "2023-02-24T06:19:54.276Z"
   },
   {
    "duration": 7,
    "start_time": "2023-02-24T06:21:07.866Z"
   },
   {
    "duration": 4,
    "start_time": "2023-02-24T06:25:02.948Z"
   },
   {
    "duration": 7,
    "start_time": "2023-02-24T06:25:09.408Z"
   },
   {
    "duration": 4,
    "start_time": "2023-02-24T06:25:23.708Z"
   },
   {
    "duration": 5,
    "start_time": "2023-02-24T06:25:35.126Z"
   },
   {
    "duration": 3,
    "start_time": "2023-02-24T06:26:37.498Z"
   },
   {
    "duration": 5,
    "start_time": "2023-02-24T06:26:52.338Z"
   },
   {
    "duration": 4,
    "start_time": "2023-02-24T06:26:58.739Z"
   },
   {
    "duration": 6,
    "start_time": "2023-02-24T06:27:02.439Z"
   },
   {
    "duration": 8,
    "start_time": "2023-02-24T07:04:48.703Z"
   },
   {
    "duration": 6,
    "start_time": "2023-02-24T07:05:15.583Z"
   },
   {
    "duration": 5,
    "start_time": "2023-02-24T07:08:42.093Z"
   },
   {
    "duration": 4,
    "start_time": "2023-02-24T07:08:49.274Z"
   },
   {
    "duration": 5,
    "start_time": "2023-02-24T07:09:00.424Z"
   },
   {
    "duration": 6,
    "start_time": "2023-02-24T08:15:43.071Z"
   },
   {
    "duration": 1529,
    "start_time": "2023-02-24T08:19:45.963Z"
   },
   {
    "duration": 6,
    "start_time": "2023-02-24T08:20:01.424Z"
   },
   {
    "duration": 11,
    "start_time": "2023-02-24T08:21:16.414Z"
   },
   {
    "duration": 8,
    "start_time": "2023-02-24T08:21:25.515Z"
   },
   {
    "duration": 5,
    "start_time": "2023-02-24T08:21:34.304Z"
   },
   {
    "duration": 6,
    "start_time": "2023-02-24T08:21:37.575Z"
   },
   {
    "duration": 585,
    "start_time": "2023-02-24T08:22:07.584Z"
   },
   {
    "duration": 193,
    "start_time": "2023-02-24T08:22:19.755Z"
   },
   {
    "duration": 876,
    "start_time": "2023-02-24T08:22:25.486Z"
   },
   {
    "duration": 179,
    "start_time": "2023-02-24T08:22:36.975Z"
   },
   {
    "duration": 146,
    "start_time": "2023-02-24T08:22:58.806Z"
   },
   {
    "duration": 158,
    "start_time": "2023-02-24T08:23:33.775Z"
   },
   {
    "duration": 115,
    "start_time": "2023-02-24T08:23:39.165Z"
   },
   {
    "duration": 202,
    "start_time": "2023-02-24T08:23:54.626Z"
   },
   {
    "duration": 127,
    "start_time": "2023-02-24T08:23:58.696Z"
   },
   {
    "duration": 134,
    "start_time": "2023-02-24T08:24:14.677Z"
   },
   {
    "duration": 124,
    "start_time": "2023-02-24T08:24:19.755Z"
   },
   {
    "duration": 145,
    "start_time": "2023-02-24T08:24:24.815Z"
   },
   {
    "duration": 147,
    "start_time": "2023-02-24T08:24:41.925Z"
   },
   {
    "duration": 135,
    "start_time": "2023-02-24T08:24:46.765Z"
   },
   {
    "duration": 156,
    "start_time": "2023-02-24T08:26:53.126Z"
   },
   {
    "duration": 145,
    "start_time": "2023-02-24T08:26:56.907Z"
   },
   {
    "duration": 155,
    "start_time": "2023-02-24T08:27:00.347Z"
   },
   {
    "duration": 162,
    "start_time": "2023-02-24T08:27:02.667Z"
   },
   {
    "duration": 9,
    "start_time": "2023-02-24T08:27:27.428Z"
   },
   {
    "duration": 128,
    "start_time": "2023-02-24T08:27:29.957Z"
   },
   {
    "duration": 144,
    "start_time": "2023-02-24T08:27:46.257Z"
   },
   {
    "duration": 167,
    "start_time": "2023-02-24T08:27:54.298Z"
   },
   {
    "duration": 229,
    "start_time": "2023-02-24T08:27:58.346Z"
   },
   {
    "duration": 189,
    "start_time": "2023-02-24T08:28:05.150Z"
   },
   {
    "duration": 147,
    "start_time": "2023-02-24T08:28:10.972Z"
   },
   {
    "duration": 144,
    "start_time": "2023-02-24T08:28:18.708Z"
   },
   {
    "duration": 11,
    "start_time": "2023-02-24T08:28:57.108Z"
   },
   {
    "duration": 9,
    "start_time": "2023-02-24T08:28:59.538Z"
   },
   {
    "duration": 10,
    "start_time": "2023-02-24T08:29:05.498Z"
   },
   {
    "duration": 10,
    "start_time": "2023-02-24T08:29:10.787Z"
   },
   {
    "duration": 10,
    "start_time": "2023-02-24T08:29:16.027Z"
   },
   {
    "duration": 11,
    "start_time": "2023-02-24T08:29:18.239Z"
   },
   {
    "duration": 10,
    "start_time": "2023-02-24T08:29:20.528Z"
   },
   {
    "duration": 128,
    "start_time": "2023-02-24T08:29:29.468Z"
   },
   {
    "duration": 5,
    "start_time": "2023-02-24T08:30:14.208Z"
   },
   {
    "duration": 5,
    "start_time": "2023-02-24T08:30:17.818Z"
   },
   {
    "duration": 10,
    "start_time": "2023-02-24T08:30:36.908Z"
   },
   {
    "duration": 10,
    "start_time": "2023-02-24T08:31:03.478Z"
   },
   {
    "duration": 10,
    "start_time": "2023-02-24T08:31:12.228Z"
   },
   {
    "duration": 10,
    "start_time": "2023-02-24T08:31:19.328Z"
   },
   {
    "duration": 5,
    "start_time": "2023-02-24T08:31:22.109Z"
   },
   {
    "duration": 135,
    "start_time": "2023-02-24T08:31:28.949Z"
   },
   {
    "duration": 12,
    "start_time": "2023-02-24T08:35:40.364Z"
   },
   {
    "duration": 9,
    "start_time": "2023-02-24T08:35:42.620Z"
   },
   {
    "duration": 162,
    "start_time": "2023-02-24T08:37:22.762Z"
   },
   {
    "duration": 131,
    "start_time": "2023-02-24T08:37:26.251Z"
   },
   {
    "duration": 4,
    "start_time": "2023-02-24T08:38:19.552Z"
   },
   {
    "duration": 5,
    "start_time": "2023-02-24T08:38:46.801Z"
   },
   {
    "duration": 4,
    "start_time": "2023-02-24T08:38:53.602Z"
   },
   {
    "duration": 5,
    "start_time": "2023-02-24T08:38:56.771Z"
   },
   {
    "duration": 4,
    "start_time": "2023-02-24T08:39:01.222Z"
   },
   {
    "duration": 894,
    "start_time": "2023-02-24T08:39:04.222Z"
   },
   {
    "duration": 5,
    "start_time": "2023-02-24T08:39:07.882Z"
   },
   {
    "duration": 10,
    "start_time": "2023-02-24T08:52:12.017Z"
   },
   {
    "duration": 7,
    "start_time": "2023-02-24T08:52:16.707Z"
   },
   {
    "duration": 10,
    "start_time": "2023-02-24T08:52:23.379Z"
   },
   {
    "duration": 9,
    "start_time": "2023-02-24T08:52:29.527Z"
   },
   {
    "duration": 6,
    "start_time": "2023-02-24T08:52:33.716Z"
   },
   {
    "duration": 133,
    "start_time": "2023-02-24T08:52:42.256Z"
   },
   {
    "duration": 125,
    "start_time": "2023-02-24T08:52:59.296Z"
   },
   {
    "duration": 11,
    "start_time": "2023-02-24T08:53:03.417Z"
   },
   {
    "duration": 136,
    "start_time": "2023-02-24T08:53:06.692Z"
   },
   {
    "duration": 46,
    "start_time": "2023-02-24T08:55:28.907Z"
   },
   {
    "duration": 22,
    "start_time": "2023-02-24T08:55:35.594Z"
   },
   {
    "duration": 18,
    "start_time": "2023-02-24T08:55:40.195Z"
   },
   {
    "duration": 11,
    "start_time": "2023-02-24T08:55:55.138Z"
   },
   {
    "duration": 23,
    "start_time": "2023-02-24T08:56:12.618Z"
   },
   {
    "duration": 123,
    "start_time": "2023-02-24T08:59:07.029Z"
   },
   {
    "duration": 70,
    "start_time": "2023-02-24T09:02:21.190Z"
   },
   {
    "duration": 3,
    "start_time": "2023-02-24T09:03:48.578Z"
   },
   {
    "duration": 704,
    "start_time": "2023-02-24T09:03:48.584Z"
   },
   {
    "duration": 18,
    "start_time": "2023-02-24T09:03:49.290Z"
   },
   {
    "duration": 8,
    "start_time": "2023-02-24T09:03:49.311Z"
   },
   {
    "duration": 30,
    "start_time": "2023-02-24T09:03:49.321Z"
   },
   {
    "duration": 29,
    "start_time": "2023-02-24T09:03:49.352Z"
   },
   {
    "duration": 16,
    "start_time": "2023-02-24T09:03:49.384Z"
   },
   {
    "duration": 7,
    "start_time": "2023-02-24T09:03:49.402Z"
   },
   {
    "duration": 163,
    "start_time": "2023-02-24T09:03:49.412Z"
   },
   {
    "duration": 18,
    "start_time": "2023-02-24T09:03:52.290Z"
   },
   {
    "duration": 51,
    "start_time": "2023-02-24T09:05:42.511Z"
   },
   {
    "duration": 16,
    "start_time": "2023-02-24T09:05:55.792Z"
   },
   {
    "duration": 54,
    "start_time": "2023-02-24T09:07:39.458Z"
   },
   {
    "duration": 9,
    "start_time": "2023-02-24T09:07:46.703Z"
   },
   {
    "duration": 35,
    "start_time": "2023-02-24T09:08:11.922Z"
   },
   {
    "duration": 35,
    "start_time": "2023-02-24T09:08:27.683Z"
   },
   {
    "duration": 34,
    "start_time": "2023-02-24T09:09:21.813Z"
   },
   {
    "duration": 25,
    "start_time": "2023-02-24T09:10:15.473Z"
   },
   {
    "duration": 23,
    "start_time": "2023-02-24T09:12:30.314Z"
   },
   {
    "duration": 36,
    "start_time": "2023-02-24T09:12:43.065Z"
   },
   {
    "duration": 38,
    "start_time": "2023-02-24T09:12:45.785Z"
   },
   {
    "duration": 12,
    "start_time": "2023-02-24T09:13:08.662Z"
   },
   {
    "duration": 44,
    "start_time": "2023-02-24T09:13:12.860Z"
   },
   {
    "duration": 36,
    "start_time": "2023-02-24T09:13:16.500Z"
   },
   {
    "duration": 16,
    "start_time": "2023-02-24T09:13:23.768Z"
   },
   {
    "duration": 24,
    "start_time": "2023-02-24T09:13:37.888Z"
   },
   {
    "duration": 2,
    "start_time": "2023-02-24T09:13:56.926Z"
   },
   {
    "duration": 22,
    "start_time": "2023-02-24T09:14:02.642Z"
   },
   {
    "duration": 17,
    "start_time": "2023-02-24T09:14:07.564Z"
   },
   {
    "duration": 21,
    "start_time": "2023-02-24T09:14:20.469Z"
   },
   {
    "duration": 33,
    "start_time": "2023-02-24T09:15:16.062Z"
   },
   {
    "duration": 13,
    "start_time": "2023-02-24T09:15:53.646Z"
   },
   {
    "duration": 346,
    "start_time": "2023-02-24T09:16:12.256Z"
   },
   {
    "duration": 373,
    "start_time": "2023-02-24T09:16:14.577Z"
   },
   {
    "duration": 324,
    "start_time": "2023-02-24T09:18:17.007Z"
   },
   {
    "duration": 111,
    "start_time": "2023-02-24T09:21:19.508Z"
   },
   {
    "duration": 102,
    "start_time": "2023-02-24T09:21:22.960Z"
   },
   {
    "duration": 359,
    "start_time": "2023-02-24T09:21:25.180Z"
   },
   {
    "duration": 8,
    "start_time": "2023-02-24T09:23:45.640Z"
   },
   {
    "duration": 5,
    "start_time": "2023-02-24T09:24:56.842Z"
   },
   {
    "duration": 7,
    "start_time": "2023-02-24T09:27:15.230Z"
   },
   {
    "duration": 10,
    "start_time": "2023-02-24T09:27:19.469Z"
   },
   {
    "duration": 4,
    "start_time": "2023-02-24T09:27:39.150Z"
   },
   {
    "duration": 15,
    "start_time": "2023-02-24T09:27:48.005Z"
   },
   {
    "duration": 15,
    "start_time": "2023-02-24T09:27:55.091Z"
   },
   {
    "duration": 12,
    "start_time": "2023-02-24T09:27:57.591Z"
   },
   {
    "duration": 4,
    "start_time": "2023-02-24T09:28:05.018Z"
   },
   {
    "duration": 14,
    "start_time": "2023-02-24T09:28:31.271Z"
   },
   {
    "duration": 8,
    "start_time": "2023-02-24T09:28:36.241Z"
   },
   {
    "duration": 12,
    "start_time": "2023-02-24T09:28:45.264Z"
   },
   {
    "duration": 42,
    "start_time": "2023-02-24T09:28:48.352Z"
   },
   {
    "duration": 14,
    "start_time": "2023-02-24T09:28:51.652Z"
   },
   {
    "duration": 2,
    "start_time": "2023-02-24T09:29:03.222Z"
   },
   {
    "duration": 12,
    "start_time": "2023-02-24T09:32:04.162Z"
   },
   {
    "duration": 17,
    "start_time": "2023-02-24T09:32:34.013Z"
   },
   {
    "duration": 21,
    "start_time": "2023-02-24T09:32:38.454Z"
   },
   {
    "duration": 121,
    "start_time": "2023-02-24T09:33:10.153Z"
   },
   {
    "duration": 43,
    "start_time": "2023-02-24T09:33:25.923Z"
   },
   {
    "duration": 151,
    "start_time": "2023-02-24T09:33:31.433Z"
   },
   {
    "duration": 450,
    "start_time": "2023-02-24T09:33:56.274Z"
   },
   {
    "duration": 529,
    "start_time": "2023-02-24T09:34:36.954Z"
   },
   {
    "duration": 535,
    "start_time": "2023-02-24T09:35:00.055Z"
   },
   {
    "duration": 565,
    "start_time": "2023-02-24T09:35:05.834Z"
   },
   {
    "duration": 62,
    "start_time": "2023-02-24T09:36:07.065Z"
   },
   {
    "duration": 558,
    "start_time": "2023-02-24T09:36:13.325Z"
   },
   {
    "duration": 593,
    "start_time": "2023-02-24T09:36:24.003Z"
   },
   {
    "duration": 512,
    "start_time": "2023-02-24T09:36:32.274Z"
   },
   {
    "duration": 558,
    "start_time": "2023-02-24T09:36:36.094Z"
   },
   {
    "duration": 565,
    "start_time": "2023-02-24T09:36:47.935Z"
   },
   {
    "duration": 744,
    "start_time": "2023-02-24T09:37:14.374Z"
   },
   {
    "duration": 622,
    "start_time": "2023-02-24T09:37:25.446Z"
   },
   {
    "duration": 566,
    "start_time": "2023-02-24T09:37:44.546Z"
   },
   {
    "duration": 572,
    "start_time": "2023-02-24T09:38:19.055Z"
   },
   {
    "duration": 585,
    "start_time": "2023-02-24T09:38:26.905Z"
   },
   {
    "duration": 3,
    "start_time": "2023-02-24T09:38:43.345Z"
   },
   {
    "duration": 532,
    "start_time": "2023-02-24T09:39:00.686Z"
   },
   {
    "duration": 539,
    "start_time": "2023-02-24T09:39:16.774Z"
   },
   {
    "duration": 671,
    "start_time": "2023-02-24T09:39:32.425Z"
   },
   {
    "duration": 3,
    "start_time": "2023-02-24T09:39:52.516Z"
   },
   {
    "duration": 507,
    "start_time": "2023-02-24T09:39:57.686Z"
   },
   {
    "duration": 623,
    "start_time": "2023-02-24T09:40:18.396Z"
   },
   {
    "duration": 557,
    "start_time": "2023-02-24T09:40:32.727Z"
   },
   {
    "duration": 588,
    "start_time": "2023-02-24T09:40:41.416Z"
   },
   {
    "duration": 591,
    "start_time": "2023-02-24T09:40:56.606Z"
   },
   {
    "duration": 592,
    "start_time": "2023-02-24T09:41:47.637Z"
   },
   {
    "duration": 551,
    "start_time": "2023-02-24T09:42:11.067Z"
   },
   {
    "duration": 658,
    "start_time": "2023-02-24T09:43:01.957Z"
   },
   {
    "duration": 590,
    "start_time": "2023-02-24T09:43:28.018Z"
   },
   {
    "duration": 577,
    "start_time": "2023-02-24T09:43:30.947Z"
   },
   {
    "duration": 614,
    "start_time": "2023-02-24T09:43:40.127Z"
   },
   {
    "duration": 689,
    "start_time": "2023-02-24T09:47:32.499Z"
   },
   {
    "duration": 642,
    "start_time": "2023-02-24T09:47:36.221Z"
   },
   {
    "duration": 4,
    "start_time": "2023-02-24T09:48:34.009Z"
   },
   {
    "duration": 6,
    "start_time": "2023-02-24T09:49:14.539Z"
   },
   {
    "duration": 6,
    "start_time": "2023-02-24T09:49:51.129Z"
   },
   {
    "duration": 595,
    "start_time": "2023-02-24T09:55:28.136Z"
   },
   {
    "duration": 6,
    "start_time": "2023-02-24T09:59:15.242Z"
   },
   {
    "duration": 12,
    "start_time": "2023-02-24T10:12:46.118Z"
   },
   {
    "duration": 7,
    "start_time": "2023-02-24T10:12:54.672Z"
   },
   {
    "duration": 980,
    "start_time": "2023-02-24T10:14:35.317Z"
   },
   {
    "duration": 7,
    "start_time": "2023-02-24T10:14:56.468Z"
   },
   {
    "duration": 6,
    "start_time": "2023-02-24T10:15:08.508Z"
   },
   {
    "duration": 5,
    "start_time": "2023-02-24T10:15:18.038Z"
   },
   {
    "duration": 5,
    "start_time": "2023-02-24T10:15:22.547Z"
   },
   {
    "duration": 1130,
    "start_time": "2023-02-24T10:15:29.718Z"
   },
   {
    "duration": 12,
    "start_time": "2023-02-24T10:15:54.465Z"
   },
   {
    "duration": 5,
    "start_time": "2023-02-24T10:15:59.648Z"
   },
   {
    "duration": 12,
    "start_time": "2023-02-24T10:16:17.837Z"
   },
   {
    "duration": 5,
    "start_time": "2023-02-24T10:16:38.808Z"
   },
   {
    "duration": 68,
    "start_time": "2023-02-24T10:17:02.328Z"
   },
   {
    "duration": 4,
    "start_time": "2023-02-24T10:17:05.138Z"
   },
   {
    "duration": 4,
    "start_time": "2023-02-24T10:17:10.718Z"
   },
   {
    "duration": 3,
    "start_time": "2023-02-24T10:17:24.619Z"
   },
   {
    "duration": 809,
    "start_time": "2023-02-24T10:17:39.876Z"
   },
   {
    "duration": 864,
    "start_time": "2023-02-24T10:17:51.539Z"
   },
   {
    "duration": 12,
    "start_time": "2023-02-24T10:18:00.148Z"
   },
   {
    "duration": 7,
    "start_time": "2023-02-24T10:18:16.925Z"
   },
   {
    "duration": 8,
    "start_time": "2023-02-24T10:59:55.246Z"
   },
   {
    "duration": 8,
    "start_time": "2023-02-24T11:05:04.977Z"
   },
   {
    "duration": 65,
    "start_time": "2023-02-24T11:07:46.932Z"
   },
   {
    "duration": 25,
    "start_time": "2023-02-24T11:08:07.375Z"
   },
   {
    "duration": 63,
    "start_time": "2023-02-24T11:08:28.315Z"
   },
   {
    "duration": 72,
    "start_time": "2023-02-24T11:08:38.032Z"
   },
   {
    "duration": 59,
    "start_time": "2023-02-24T11:08:48.638Z"
   },
   {
    "duration": 21,
    "start_time": "2023-02-24T11:11:03.962Z"
   },
   {
    "duration": 21,
    "start_time": "2023-02-24T11:11:14.902Z"
   },
   {
    "duration": 358,
    "start_time": "2023-02-24T11:11:30.760Z"
   },
   {
    "duration": 5,
    "start_time": "2023-02-24T11:16:45.342Z"
   },
   {
    "duration": 15,
    "start_time": "2023-02-24T11:17:33.139Z"
   },
   {
    "duration": 5,
    "start_time": "2023-02-24T11:18:04.722Z"
   },
   {
    "duration": 7,
    "start_time": "2023-02-24T11:18:15.396Z"
   },
   {
    "duration": 6,
    "start_time": "2023-02-24T11:18:21.072Z"
   },
   {
    "duration": 6,
    "start_time": "2023-02-24T11:18:27.191Z"
   },
   {
    "duration": 12,
    "start_time": "2023-02-24T11:26:33.425Z"
   },
   {
    "duration": 12,
    "start_time": "2023-02-24T11:27:11.035Z"
   },
   {
    "duration": 11,
    "start_time": "2023-02-24T11:27:23.016Z"
   },
   {
    "duration": 22,
    "start_time": "2023-02-24T11:27:29.755Z"
   },
   {
    "duration": 70,
    "start_time": "2023-02-24T11:27:37.322Z"
   },
   {
    "duration": 60,
    "start_time": "2023-02-24T11:27:39.737Z"
   },
   {
    "duration": 22,
    "start_time": "2023-02-24T11:27:41.775Z"
   },
   {
    "duration": 19,
    "start_time": "2023-02-24T11:28:47.618Z"
   },
   {
    "duration": 433,
    "start_time": "2023-02-24T11:29:02.526Z"
   },
   {
    "duration": 210,
    "start_time": "2023-02-24T11:29:13.227Z"
   },
   {
    "duration": 1956,
    "start_time": "2023-02-24T11:29:19.726Z"
   },
   {
    "duration": 2033,
    "start_time": "2023-02-24T11:30:52.444Z"
   },
   {
    "duration": 2112,
    "start_time": "2023-02-24T11:31:28.916Z"
   },
   {
    "duration": 2041,
    "start_time": "2023-02-24T11:31:46.018Z"
   },
   {
    "duration": 604,
    "start_time": "2023-02-24T11:32:03.017Z"
   },
   {
    "duration": 1852,
    "start_time": "2023-02-24T11:32:08.527Z"
   },
   {
    "duration": 1955,
    "start_time": "2023-02-24T11:32:21.347Z"
   },
   {
    "duration": 2080,
    "start_time": "2023-02-24T11:32:29.168Z"
   },
   {
    "duration": 1980,
    "start_time": "2023-02-24T11:33:12.378Z"
   },
   {
    "duration": 2077,
    "start_time": "2023-02-24T11:34:05.799Z"
   },
   {
    "duration": 2062,
    "start_time": "2023-02-24T11:34:16.149Z"
   },
   {
    "duration": 2055,
    "start_time": "2023-02-24T11:34:21.938Z"
   },
   {
    "duration": 2051,
    "start_time": "2023-02-24T11:34:31.037Z"
   },
   {
    "duration": 1887,
    "start_time": "2023-02-24T11:34:36.403Z"
   },
   {
    "duration": 2306,
    "start_time": "2023-02-24T11:34:44.609Z"
   },
   {
    "duration": 282,
    "start_time": "2023-02-24T11:35:25.259Z"
   },
   {
    "duration": 206,
    "start_time": "2023-02-24T11:35:28.160Z"
   },
   {
    "duration": 651,
    "start_time": "2023-02-24T11:35:47.629Z"
   },
   {
    "duration": 670,
    "start_time": "2023-02-24T11:36:00.551Z"
   },
   {
    "duration": 559,
    "start_time": "2023-02-24T11:36:02.979Z"
   },
   {
    "duration": 12,
    "start_time": "2023-02-24T11:38:10.720Z"
   },
   {
    "duration": 197,
    "start_time": "2023-02-24T11:39:42.456Z"
   },
   {
    "duration": 8,
    "start_time": "2023-02-24T11:39:59.340Z"
   },
   {
    "duration": 10,
    "start_time": "2023-02-24T11:40:12.231Z"
   },
   {
    "duration": 10,
    "start_time": "2023-02-24T11:43:15.345Z"
   },
   {
    "duration": 11,
    "start_time": "2023-02-24T11:43:20.103Z"
   },
   {
    "duration": 4,
    "start_time": "2023-02-24T11:43:55.032Z"
   },
   {
    "duration": 189,
    "start_time": "2023-02-24T11:43:58.942Z"
   },
   {
    "duration": 14,
    "start_time": "2023-02-24T11:44:12.582Z"
   },
   {
    "duration": 14,
    "start_time": "2023-02-24T11:44:44.754Z"
   },
   {
    "duration": 12,
    "start_time": "2023-02-24T11:44:54.783Z"
   },
   {
    "duration": 14,
    "start_time": "2023-02-24T11:45:17.243Z"
   },
   {
    "duration": 14,
    "start_time": "2023-02-24T11:45:27.974Z"
   },
   {
    "duration": 12,
    "start_time": "2023-02-24T11:46:18.841Z"
   },
   {
    "duration": 18,
    "start_time": "2023-02-24T11:46:40.753Z"
   },
   {
    "duration": 34,
    "start_time": "2023-02-24T11:47:04.373Z"
   },
   {
    "duration": 8,
    "start_time": "2023-02-24T11:47:12.674Z"
   },
   {
    "duration": 10,
    "start_time": "2023-02-24T11:47:23.783Z"
   },
   {
    "duration": 2038,
    "start_time": "2023-02-24T11:47:46.038Z"
   },
   {
    "duration": 12,
    "start_time": "2023-02-24T11:48:18.254Z"
   },
   {
    "duration": 3,
    "start_time": "2023-02-24T11:48:24.113Z"
   },
   {
    "duration": 617,
    "start_time": "2023-02-24T11:48:24.119Z"
   },
   {
    "duration": 23,
    "start_time": "2023-02-24T11:48:24.738Z"
   },
   {
    "duration": 7,
    "start_time": "2023-02-24T11:48:24.763Z"
   },
   {
    "duration": 5,
    "start_time": "2023-02-24T11:48:24.772Z"
   },
   {
    "duration": 11,
    "start_time": "2023-02-24T11:48:24.779Z"
   },
   {
    "duration": 10,
    "start_time": "2023-02-24T11:48:24.792Z"
   },
   {
    "duration": 6,
    "start_time": "2023-02-24T11:48:24.803Z"
   },
   {
    "duration": 171,
    "start_time": "2023-02-24T11:48:24.810Z"
   },
   {
    "duration": 19,
    "start_time": "2023-02-24T11:48:24.982Z"
   },
   {
    "duration": 399,
    "start_time": "2023-02-24T11:48:25.003Z"
   },
   {
    "duration": 632,
    "start_time": "2023-02-24T11:48:25.404Z"
   },
   {
    "duration": 10,
    "start_time": "2023-02-24T11:48:26.038Z"
   },
   {
    "duration": 2024,
    "start_time": "2023-02-24T11:48:26.051Z"
   },
   {
    "duration": 10,
    "start_time": "2023-02-24T11:48:31.894Z"
   },
   {
    "duration": 1938,
    "start_time": "2023-02-24T11:48:33.935Z"
   },
   {
    "duration": 11,
    "start_time": "2023-02-24T11:48:45.994Z"
   },
   {
    "duration": 1969,
    "start_time": "2023-02-24T11:48:47.464Z"
   },
   {
    "duration": 3,
    "start_time": "2023-02-24T11:54:10.414Z"
   },
   {
    "duration": 54,
    "start_time": "2023-02-24T12:08:40.877Z"
   },
   {
    "duration": 4,
    "start_time": "2023-02-24T12:13:29.379Z"
   },
   {
    "duration": 4,
    "start_time": "2023-02-24T12:13:41.020Z"
   },
   {
    "duration": 3,
    "start_time": "2023-02-24T12:19:36.191Z"
   },
   {
    "duration": 5,
    "start_time": "2023-02-24T12:24:03.915Z"
   },
   {
    "duration": 4,
    "start_time": "2023-02-24T12:24:10.196Z"
   },
   {
    "duration": 6,
    "start_time": "2023-02-24T12:24:14.166Z"
   },
   {
    "duration": 18,
    "start_time": "2023-02-24T12:25:05.381Z"
   },
   {
    "duration": 6,
    "start_time": "2023-02-24T12:25:45.175Z"
   },
   {
    "duration": 4,
    "start_time": "2023-02-24T12:25:57.916Z"
   },
   {
    "duration": 32,
    "start_time": "2023-02-24T12:26:46.387Z"
   },
   {
    "duration": 35,
    "start_time": "2023-02-24T12:26:51.303Z"
   },
   {
    "duration": 30,
    "start_time": "2023-02-24T12:29:40.218Z"
   },
   {
    "duration": 4,
    "start_time": "2023-02-24T12:29:43.369Z"
   },
   {
    "duration": 14,
    "start_time": "2023-02-24T12:30:11.887Z"
   },
   {
    "duration": 29,
    "start_time": "2023-02-24T12:31:10.369Z"
   },
   {
    "duration": 30,
    "start_time": "2023-02-24T12:34:00.561Z"
   },
   {
    "duration": 12,
    "start_time": "2023-02-24T12:34:06.491Z"
   },
   {
    "duration": 31,
    "start_time": "2023-02-24T12:34:22.582Z"
   },
   {
    "duration": 4,
    "start_time": "2023-02-24T12:35:18.170Z"
   },
   {
    "duration": 16,
    "start_time": "2023-02-24T12:35:30.834Z"
   },
   {
    "duration": 5,
    "start_time": "2023-02-24T12:35:39.281Z"
   },
   {
    "duration": 5,
    "start_time": "2023-02-24T12:36:14.830Z"
   },
   {
    "duration": 27,
    "start_time": "2023-02-24T12:36:34.772Z"
   },
   {
    "duration": 10,
    "start_time": "2023-02-24T12:36:55.303Z"
   },
   {
    "duration": 32,
    "start_time": "2023-02-24T12:37:00.841Z"
   },
   {
    "duration": 19,
    "start_time": "2023-02-24T12:37:06.351Z"
   },
   {
    "duration": 35,
    "start_time": "2023-02-24T12:37:16.052Z"
   },
   {
    "duration": 26,
    "start_time": "2023-02-24T12:37:29.941Z"
   },
   {
    "duration": 34,
    "start_time": "2023-02-24T12:37:40.913Z"
   },
   {
    "duration": 11,
    "start_time": "2023-02-24T12:37:47.533Z"
   },
   {
    "duration": 718,
    "start_time": "2023-02-24T12:55:29.289Z"
   },
   {
    "duration": 16,
    "start_time": "2023-02-24T12:55:49.058Z"
   },
   {
    "duration": 746,
    "start_time": "2023-02-24T12:56:00.669Z"
   },
   {
    "duration": 16,
    "start_time": "2023-02-24T12:56:07.099Z"
   },
   {
    "duration": 23,
    "start_time": "2023-02-24T12:56:13.488Z"
   },
   {
    "duration": 39,
    "start_time": "2023-02-24T12:56:21.319Z"
   },
   {
    "duration": 22,
    "start_time": "2023-02-24T12:56:36.780Z"
   },
   {
    "duration": 44,
    "start_time": "2023-02-24T12:56:45.029Z"
   },
   {
    "duration": 16,
    "start_time": "2023-02-24T12:56:56.130Z"
   },
   {
    "duration": 4,
    "start_time": "2023-02-24T13:22:44.636Z"
   },
   {
    "duration": 61,
    "start_time": "2023-02-24T13:26:30.509Z"
   },
   {
    "duration": 28,
    "start_time": "2023-02-24T13:26:41.968Z"
   },
   {
    "duration": 23,
    "start_time": "2023-02-24T13:27:13.188Z"
   },
   {
    "duration": 33,
    "start_time": "2023-02-24T13:27:40.669Z"
   },
   {
    "duration": 23,
    "start_time": "2023-02-24T13:28:20.888Z"
   },
   {
    "duration": 23,
    "start_time": "2023-02-24T13:28:27.939Z"
   },
   {
    "duration": 23,
    "start_time": "2023-02-24T13:28:34.108Z"
   },
   {
    "duration": 23,
    "start_time": "2023-02-24T13:29:25.959Z"
   },
   {
    "duration": 50,
    "start_time": "2023-02-24T13:29:33.994Z"
   },
   {
    "duration": 45,
    "start_time": "2023-02-24T13:29:51.161Z"
   },
   {
    "duration": 57,
    "start_time": "2023-02-24T13:30:00.959Z"
   },
   {
    "duration": 29,
    "start_time": "2023-02-24T13:30:07.799Z"
   },
   {
    "duration": 24,
    "start_time": "2023-02-24T13:30:12.578Z"
   },
   {
    "duration": 53,
    "start_time": "2023-02-24T13:31:24.522Z"
   },
   {
    "duration": 56,
    "start_time": "2023-02-24T13:31:33.589Z"
   },
   {
    "duration": 33,
    "start_time": "2023-02-24T13:32:24.231Z"
   },
   {
    "duration": 20,
    "start_time": "2023-02-24T13:32:26.329Z"
   },
   {
    "duration": 28,
    "start_time": "2023-02-24T13:32:31.991Z"
   },
   {
    "duration": 18,
    "start_time": "2023-02-24T13:32:45.160Z"
   },
   {
    "duration": 11,
    "start_time": "2023-02-24T16:50:05.177Z"
   },
   {
    "duration": 3,
    "start_time": "2023-02-24T16:50:07.987Z"
   },
   {
    "duration": 546,
    "start_time": "2023-02-24T16:50:11.036Z"
   },
   {
    "duration": 3,
    "start_time": "2023-02-24T16:51:39.577Z"
   },
   {
    "duration": 578,
    "start_time": "2023-02-24T16:51:42.457Z"
   },
   {
    "duration": 3,
    "start_time": "2023-02-24T16:52:06.629Z"
   },
   {
    "duration": 612,
    "start_time": "2023-02-24T16:52:08.108Z"
   },
   {
    "duration": 213,
    "start_time": "2023-02-24T16:56:51.398Z"
   },
   {
    "duration": 611,
    "start_time": "2023-02-24T16:58:20.452Z"
   },
   {
    "duration": 9,
    "start_time": "2023-02-24T16:59:00.079Z"
   },
   {
    "duration": 10,
    "start_time": "2023-02-24T16:59:10.619Z"
   },
   {
    "duration": 12,
    "start_time": "2023-02-24T17:00:09.291Z"
   },
   {
    "duration": 4,
    "start_time": "2023-02-24T17:01:25.361Z"
   },
   {
    "duration": 8,
    "start_time": "2023-02-24T17:01:29.176Z"
   },
   {
    "duration": 3,
    "start_time": "2023-02-24T17:01:37.991Z"
   },
   {
    "duration": 2690,
    "start_time": "2023-02-24T17:01:42.821Z"
   },
   {
    "duration": 12,
    "start_time": "2023-02-24T17:11:57.026Z"
   },
   {
    "duration": 2104,
    "start_time": "2023-02-24T17:12:08.895Z"
   },
   {
    "duration": 10,
    "start_time": "2023-02-24T17:13:39.506Z"
   },
   {
    "duration": 11,
    "start_time": "2023-02-24T17:14:02.725Z"
   },
   {
    "duration": 10,
    "start_time": "2023-02-24T17:14:31.687Z"
   },
   {
    "duration": 519,
    "start_time": "2023-02-24T17:14:38.227Z"
   },
   {
    "duration": 554,
    "start_time": "2023-02-24T17:14:44.758Z"
   },
   {
    "duration": 539,
    "start_time": "2023-02-24T17:14:47.246Z"
   },
   {
    "duration": 532,
    "start_time": "2023-02-24T17:14:51.697Z"
   },
   {
    "duration": 524,
    "start_time": "2023-02-24T17:14:55.796Z"
   },
   {
    "duration": 2186,
    "start_time": "2023-02-24T17:15:00.748Z"
   },
   {
    "duration": 2149,
    "start_time": "2023-02-24T17:15:31.628Z"
   },
   {
    "duration": 4,
    "start_time": "2023-02-24T17:15:50.487Z"
   },
   {
    "duration": 2138,
    "start_time": "2023-02-24T17:15:55.057Z"
   },
   {
    "duration": 23723,
    "start_time": "2023-02-24T17:16:17.169Z"
   },
   {
    "duration": 30194,
    "start_time": "2023-02-24T17:17:10.248Z"
   },
   {
    "duration": 4188,
    "start_time": "2023-02-24T17:20:39.148Z"
   },
   {
    "duration": 0,
    "start_time": "2023-02-24T17:22:12.754Z"
   },
   {
    "duration": 58536,
    "start_time": "2023-02-24T17:22:15.790Z"
   },
   {
    "duration": 55512,
    "start_time": "2023-02-24T17:23:44.561Z"
   },
   {
    "duration": 78463,
    "start_time": "2023-02-24T17:26:09.033Z"
   },
   {
    "duration": 3,
    "start_time": "2023-02-24T17:27:51.311Z"
   },
   {
    "duration": 10,
    "start_time": "2023-02-24T17:29:39.632Z"
   },
   {
    "duration": 1620,
    "start_time": "2023-02-24T17:29:48.134Z"
   },
   {
    "duration": 1372,
    "start_time": "2023-02-24T17:30:14.285Z"
   },
   {
    "duration": 9888,
    "start_time": "2023-02-24T17:32:35.374Z"
   },
   {
    "duration": 6849,
    "start_time": "2023-02-24T17:44:53.741Z"
   },
   {
    "duration": 6639,
    "start_time": "2023-02-24T17:46:02.165Z"
   },
   {
    "duration": 6715,
    "start_time": "2023-02-24T17:46:35.349Z"
   },
   {
    "duration": 1293,
    "start_time": "2023-02-24T17:52:58.389Z"
   },
   {
    "duration": 681,
    "start_time": "2023-02-24T17:52:59.684Z"
   },
   {
    "duration": 18,
    "start_time": "2023-02-24T17:53:00.367Z"
   },
   {
    "duration": 23,
    "start_time": "2023-02-24T17:53:00.387Z"
   },
   {
    "duration": 34,
    "start_time": "2023-02-24T17:53:00.411Z"
   },
   {
    "duration": 38,
    "start_time": "2023-02-24T17:53:00.447Z"
   },
   {
    "duration": 19,
    "start_time": "2023-02-24T17:53:00.487Z"
   },
   {
    "duration": 26,
    "start_time": "2023-02-24T17:53:00.508Z"
   },
   {
    "duration": 174,
    "start_time": "2023-02-24T17:53:00.536Z"
   },
   {
    "duration": 21,
    "start_time": "2023-02-24T17:53:00.711Z"
   },
   {
    "duration": 382,
    "start_time": "2023-02-24T17:53:00.735Z"
   },
   {
    "duration": 622,
    "start_time": "2023-02-24T17:53:01.119Z"
   },
   {
    "duration": 5,
    "start_time": "2023-02-24T17:53:01.748Z"
   },
   {
    "duration": 2002,
    "start_time": "2023-02-24T17:53:01.755Z"
   },
   {
    "duration": 15,
    "start_time": "2023-02-24T17:53:03.758Z"
   },
   {
    "duration": 2427,
    "start_time": "2023-02-24T17:53:03.774Z"
   },
   {
    "duration": 3,
    "start_time": "2023-02-24T17:53:06.203Z"
   },
   {
    "duration": 7,
    "start_time": "2023-02-24T17:53:06.208Z"
   },
   {
    "duration": 42,
    "start_time": "2023-02-24T17:53:06.217Z"
   },
   {
    "duration": 17,
    "start_time": "2023-02-24T17:53:06.260Z"
   },
   {
    "duration": 53023,
    "start_time": "2023-02-24T17:53:06.278Z"
   },
   {
    "duration": 79021,
    "start_time": "2023-02-24T17:53:59.302Z"
   },
   {
    "duration": 1530,
    "start_time": "2023-02-24T17:55:18.324Z"
   },
   {
    "duration": 7115,
    "start_time": "2023-02-24T17:55:19.856Z"
   },
   {
    "duration": 936,
    "start_time": "2023-02-26T11:41:16.124Z"
   },
   {
    "duration": 1586,
    "start_time": "2023-02-26T11:41:27.659Z"
   },
   {
    "duration": 1925,
    "start_time": "2023-02-26T11:41:29.247Z"
   },
   {
    "duration": 21,
    "start_time": "2023-02-26T11:41:31.174Z"
   },
   {
    "duration": 14,
    "start_time": "2023-02-26T11:41:31.197Z"
   },
   {
    "duration": 31,
    "start_time": "2023-02-26T11:41:31.214Z"
   },
   {
    "duration": 87,
    "start_time": "2023-02-26T11:41:31.247Z"
   },
   {
    "duration": 14,
    "start_time": "2023-02-26T11:41:31.336Z"
   },
   {
    "duration": 6,
    "start_time": "2023-02-26T11:41:31.352Z"
   },
   {
    "duration": 179,
    "start_time": "2023-02-26T11:41:31.360Z"
   },
   {
    "duration": 25,
    "start_time": "2023-02-26T11:41:31.541Z"
   },
   {
    "duration": 411,
    "start_time": "2023-02-26T11:41:31.567Z"
   },
   {
    "duration": 652,
    "start_time": "2023-02-26T11:41:31.981Z"
   },
   {
    "duration": 6,
    "start_time": "2023-02-26T11:41:32.636Z"
   },
   {
    "duration": 2243,
    "start_time": "2023-02-26T11:41:32.645Z"
   },
   {
    "duration": 23,
    "start_time": "2023-02-26T11:41:34.890Z"
   },
   {
    "duration": 2127,
    "start_time": "2023-02-26T11:41:34.915Z"
   },
   {
    "duration": 3,
    "start_time": "2023-02-26T11:41:37.044Z"
   },
   {
    "duration": 9,
    "start_time": "2023-02-26T11:41:37.049Z"
   },
   {
    "duration": 52,
    "start_time": "2023-02-26T11:41:37.060Z"
   },
   {
    "duration": 22,
    "start_time": "2023-02-26T11:41:37.114Z"
   },
   {
    "duration": 55946,
    "start_time": "2023-02-26T11:41:37.138Z"
   },
   {
    "duration": 83166,
    "start_time": "2023-02-26T11:42:33.085Z"
   },
   {
    "duration": 1660,
    "start_time": "2023-02-26T11:43:56.254Z"
   },
   {
    "duration": 7084,
    "start_time": "2023-02-26T11:43:57.918Z"
   },
   {
    "duration": 3,
    "start_time": "2023-02-26T11:44:05.004Z"
   },
   {
    "duration": 8,
    "start_time": "2023-02-26T11:47:38.753Z"
   },
   {
    "duration": 8,
    "start_time": "2023-02-26T11:47:46.093Z"
   },
   {
    "duration": 8,
    "start_time": "2023-02-26T11:47:51.243Z"
   },
   {
    "duration": 111,
    "start_time": "2023-02-26T11:47:59.284Z"
   },
   {
    "duration": 7,
    "start_time": "2023-02-26T11:48:03.328Z"
   },
   {
    "duration": 13,
    "start_time": "2023-02-26T11:48:19.074Z"
   },
   {
    "duration": 71,
    "start_time": "2023-02-26T11:53:15.360Z"
   },
   {
    "duration": 72,
    "start_time": "2023-02-26T11:53:28.706Z"
   },
   {
    "duration": 4,
    "start_time": "2023-02-26T11:53:41.371Z"
   },
   {
    "duration": 9,
    "start_time": "2023-02-26T11:54:11.316Z"
   },
   {
    "duration": 9,
    "start_time": "2023-02-26T11:54:18.726Z"
   },
   {
    "duration": 9,
    "start_time": "2023-02-26T11:56:24.957Z"
   },
   {
    "duration": 16,
    "start_time": "2023-02-26T11:56:27.596Z"
   },
   {
    "duration": 3,
    "start_time": "2023-02-26T11:56:58.138Z"
   },
   {
    "duration": 4,
    "start_time": "2023-02-26T11:57:03.993Z"
   },
   {
    "duration": 3,
    "start_time": "2023-02-26T12:04:39.921Z"
   },
   {
    "duration": 4,
    "start_time": "2023-02-26T12:04:41.613Z"
   },
   {
    "duration": 11,
    "start_time": "2023-02-26T12:04:43.364Z"
   },
   {
    "duration": 8,
    "start_time": "2023-02-26T12:04:45.041Z"
   }
  ],
  "kernelspec": {
   "display_name": "Python 3 (ipykernel)",
   "language": "python",
   "name": "python3"
  },
  "language_info": {
   "codemirror_mode": {
    "name": "ipython",
    "version": 3
   },
   "file_extension": ".py",
   "mimetype": "text/x-python",
   "name": "python",
   "nbconvert_exporter": "python",
   "pygments_lexer": "ipython3",
   "version": "3.9.5"
  },
  "toc": {
   "base_numbering": 1,
   "nav_menu": {},
   "number_sections": true,
   "sideBar": true,
   "skip_h1_title": true,
   "title_cell": "Содержание",
   "title_sidebar": "Contents",
   "toc_cell": true,
   "toc_position": {
    "height": "calc(100% - 180px)",
    "left": "10px",
    "top": "150px",
    "width": "165px"
   },
   "toc_section_display": true,
   "toc_window_display": true
  }
 },
 "nbformat": 4,
 "nbformat_minor": 2
}
