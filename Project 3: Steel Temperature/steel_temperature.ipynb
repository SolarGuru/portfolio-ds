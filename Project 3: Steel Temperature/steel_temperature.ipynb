{
 "cells": [
  {
   "cell_type": "markdown",
   "metadata": {},
   "source": [
    "# Проект: Прогнозирование температуры плавления стали"
   ]
  },
  {
   "cell_type": "markdown",
   "metadata": {},
   "source": [
    "## Постановка задачи заказчиком"
   ]
  },
  {
   "cell_type": "markdown",
   "metadata": {},
   "source": [
    "Чтобы оптимизировать производственные расходы, металлургический комбинат ООО «Так закаляем сталь» решил уменьшить потребление электроэнергии на этапе обработки стали. Вам предстоит построить модель, которая предскажет температуру стали."
   ]
  },
  {
   "cell_type": "markdown",
   "metadata": {},
   "source": [
    "### Описание этапа обработки"
   ]
  },
  {
   "cell_type": "markdown",
   "metadata": {},
   "source": [
    "Сталь обрабатывают в металлическом ковше вместимостью около 100 тонн. Чтобы ковш выдерживал высокие температуры, изнутри его облицовывают огнеупорным кирпичом. Расплавленную сталь заливают в ковш и подогревают до нужной температуры графитовыми электродами. Они установлены в крышке ковша. \n",
    "\n",
    "Из сплава выводится сера (десульфурация), добавлением примесей корректируется химический состав и отбираются пробы. Сталь легируют — изменяют её состав — подавая куски сплава из бункера для сыпучих материалов или проволоку через специальный трайб-аппарат (англ. tribe, «масса»).\n",
    "\n",
    "Перед тем как первый раз ввести легирующие добавки, измеряют температуру стали и производят её химический анализ. Потом температуру на несколько минут повышают, добавляют легирующие материалы и продувают сплав инертным газом. Затем его перемешивают и снова проводят измерения. Такой цикл повторяется до достижения целевого химического состава и оптимальной температуры плавки.\n",
    "\n",
    "Тогда расплавленная сталь отправляется на доводку металла или поступает в машину непрерывной разливки. Оттуда готовый продукт выходит в виде заготовок-слябов (англ. slab, «плита»)."
   ]
  },
  {
   "cell_type": "markdown",
   "metadata": {},
   "source": [
    "### Описание данных"
   ]
  },
  {
   "cell_type": "markdown",
   "metadata": {},
   "source": [
    "Данные состоят из файлов, полученных из разных источников:\n",
    "\n",
    "- `data_arc_new.csv` — данные об электродах;\n",
    "- `data_bulk_new.csv` — данные о подаче сыпучих материалов (объём);\n",
    "- `data_bulk_time_new.csv` — данные о подаче сыпучих материалов (время);\n",
    "- `data_gas_new.csv` — данные о продувке сплава газом;\n",
    "- `data_temp_new.csv` — результаты измерения температуры;\n",
    "- `data_wire_new.csv` — данные о проволочных материалах (объём);\n",
    "- `data_wire_time_new.csv` — данные о проволочных материалах (время).\n",
    "\n",
    "Во всех файлах столбец key содержит номер партии. В файлах может быть несколько строк с одинаковым значением key: они соответствуют разным итерациям обработки."
   ]
  },
  {
   "cell_type": "markdown",
   "metadata": {},
   "source": [
    "### Ограничения"
   ]
  },
  {
   "cell_type": "markdown",
   "metadata": {},
   "source": [
    "Заказчик хочет увидеть качество выполнения проекта при одних и тех же условиях.\n",
    "\n",
    "RANDOM_STATE = 310723"
   ]
  },
  {
   "cell_type": "markdown",
   "metadata": {},
   "source": [
    "## Формализация задачи"
   ]
  },
  {
   "cell_type": "markdown",
   "metadata": {},
   "source": [
    "<b>Цель:</b> \n",
    "\n",
    "Построение модели предсказания температуры стали (задача регресии) на этапе обработки на основе имеющихся данных.\n",
    "\n",
    "<b>Этапы:</b>\n",
    "1. Разведочный анализ данных (EDA) и составление плана работы.\n",
    "2. Уточнение задачи с заказчиком.\n",
    "3. Разработка и тестирование модели.\n",
    "4. Формирование итогового отчета.\n",
    "\n",
    "<b>План работы:</b>\n",
    "1. Разведочный анализ данных (EDA).\n",
    "    - Изучение предоставленных заказчиком данных на предмет полноты, достаточности и непротиворечивости. \n",
    "    - Предобработка данных: устранение пропусков, дубликатов, аномалий, форматирование названий и типов данных.\n",
    "    - Восстановление хронологии технологического процесса.\n",
    "2. Уточнение и формализация задачи с заказчиком.\n",
    "    - Выявление конечного потребителя разрабатываемой модели.\n",
    "    - Определение требований, ограничений и формата выходных данных модели.\n",
    "    - Формирование образа конечного результата.\n",
    "    - Согласование плана и сроков работы.\n",
    "3. Обучение модели.\n",
    "    - Определение набора данных для формирования признаков, проверка на мультиколлинеарность.\n",
    "    - Написание функций для выделения признаков из исходных данных, создание синтетических признаков.\n",
    "    - Обучение разных моделей. Подбор гиперпараметров.\n",
    "    - Тестирование лучшей модели.\n",
    "    - Проверка модели на адекватность. Сравнение результата с константной моделью.\n",
    "4. Написание отчета.\n",
    "    - Описание достигнутых результатов."
   ]
  },
  {
   "cell_type": "markdown",
   "metadata": {},
   "source": [
    "## Разведочный анализ данных (EDA)"
   ]
  },
  {
   "cell_type": "markdown",
   "metadata": {},
   "source": [
    "### Подготовка"
   ]
  },
  {
   "cell_type": "markdown",
   "metadata": {},
   "source": [
    "Перед составлением плана работы проведем разведочный анализ (EDA) предоставленных заказчиком исходных данных на предмет полноты, достаточности и непротиворечивости для решения задачи."
   ]
  },
  {
   "cell_type": "markdown",
   "metadata": {},
   "source": [
    "Подключим необходимые библиотеки:"
   ]
  },
  {
   "cell_type": "code",
   "execution_count": 91,
   "metadata": {},
   "outputs": [],
   "source": [
    "import pandas as pd\n",
    "import numpy as np\n",
    "import scipy\n",
    "from datetime import datetime"
   ]
  },
  {
   "cell_type": "markdown",
   "metadata": {},
   "source": [
    "Импортируем данные:"
   ]
  },
  {
   "cell_type": "code",
   "execution_count": 92,
   "metadata": {},
   "outputs": [],
   "source": [
    "arc         = pd.read_csv('/datasets/data_arc_new.csv')\n",
    "bulk        = pd.read_csv('/datasets/data_bulk_new.csv')\n",
    "bulk_time   = pd.read_csv('/datasets/data_bulk_time_new.csv')\n",
    "gas         = pd.read_csv('/datasets/data_gas_new.csv')\n",
    "temp        = pd.read_csv('/datasets/data_temp_new.csv')\n",
    "wire        = pd.read_csv('/datasets/data_wire_new.csv')\n",
    "wire_time   = pd.read_csv('/datasets/data_wire_time_new.csv')"
   ]
  },
  {
   "cell_type": "markdown",
   "metadata": {},
   "source": [
    "### Изучение исходных данных"
   ]
  },
  {
   "cell_type": "markdown",
   "metadata": {},
   "source": [
    "Последовательно изучим все таблицы."
   ]
  },
  {
   "cell_type": "markdown",
   "metadata": {},
   "source": [
    "#### data_arc_new"
   ]
  },
  {
   "cell_type": "code",
   "execution_count": 93,
   "metadata": {},
   "outputs": [
    {
     "data": {
      "text/html": [
       "<div>\n",
       "<style scoped>\n",
       "    .dataframe tbody tr th:only-of-type {\n",
       "        vertical-align: middle;\n",
       "    }\n",
       "\n",
       "    .dataframe tbody tr th {\n",
       "        vertical-align: top;\n",
       "    }\n",
       "\n",
       "    .dataframe thead th {\n",
       "        text-align: right;\n",
       "    }\n",
       "</style>\n",
       "<table border=\"1\" class=\"dataframe\">\n",
       "  <thead>\n",
       "    <tr style=\"text-align: right;\">\n",
       "      <th></th>\n",
       "      <th>key</th>\n",
       "      <th>Начало нагрева дугой</th>\n",
       "      <th>Конец нагрева дугой</th>\n",
       "      <th>Активная мощность</th>\n",
       "      <th>Реактивная мощность</th>\n",
       "    </tr>\n",
       "  </thead>\n",
       "  <tbody>\n",
       "    <tr>\n",
       "      <th>0</th>\n",
       "      <td>1</td>\n",
       "      <td>2019-05-03 11:02:14</td>\n",
       "      <td>2019-05-03 11:06:02</td>\n",
       "      <td>0.305130</td>\n",
       "      <td>0.211253</td>\n",
       "    </tr>\n",
       "    <tr>\n",
       "      <th>1</th>\n",
       "      <td>1</td>\n",
       "      <td>2019-05-03 11:07:28</td>\n",
       "      <td>2019-05-03 11:10:33</td>\n",
       "      <td>0.765658</td>\n",
       "      <td>0.477438</td>\n",
       "    </tr>\n",
       "    <tr>\n",
       "      <th>2</th>\n",
       "      <td>1</td>\n",
       "      <td>2019-05-03 11:11:44</td>\n",
       "      <td>2019-05-03 11:14:36</td>\n",
       "      <td>0.580313</td>\n",
       "      <td>0.430460</td>\n",
       "    </tr>\n",
       "    <tr>\n",
       "      <th>3</th>\n",
       "      <td>1</td>\n",
       "      <td>2019-05-03 11:18:14</td>\n",
       "      <td>2019-05-03 11:24:19</td>\n",
       "      <td>0.518496</td>\n",
       "      <td>0.379979</td>\n",
       "    </tr>\n",
       "    <tr>\n",
       "      <th>4</th>\n",
       "      <td>1</td>\n",
       "      <td>2019-05-03 11:26:09</td>\n",
       "      <td>2019-05-03 11:28:37</td>\n",
       "      <td>0.867133</td>\n",
       "      <td>0.643691</td>\n",
       "    </tr>\n",
       "    <tr>\n",
       "      <th>5</th>\n",
       "      <td>2</td>\n",
       "      <td>2019-05-03 11:34:14</td>\n",
       "      <td>2019-05-03 11:36:31</td>\n",
       "      <td>0.381124</td>\n",
       "      <td>0.220351</td>\n",
       "    </tr>\n",
       "    <tr>\n",
       "      <th>6</th>\n",
       "      <td>2</td>\n",
       "      <td>2019-05-03 11:38:50</td>\n",
       "      <td>2019-05-03 11:44:28</td>\n",
       "      <td>0.261665</td>\n",
       "      <td>0.205527</td>\n",
       "    </tr>\n",
       "    <tr>\n",
       "      <th>7</th>\n",
       "      <td>2</td>\n",
       "      <td>2019-05-03 11:46:19</td>\n",
       "      <td>2019-05-03 11:48:25</td>\n",
       "      <td>0.710297</td>\n",
       "      <td>0.484962</td>\n",
       "    </tr>\n",
       "    <tr>\n",
       "      <th>8</th>\n",
       "      <td>2</td>\n",
       "      <td>2019-05-03 11:49:48</td>\n",
       "      <td>2019-05-03 11:53:18</td>\n",
       "      <td>0.786322</td>\n",
       "      <td>0.542517</td>\n",
       "    </tr>\n",
       "    <tr>\n",
       "      <th>9</th>\n",
       "      <td>3</td>\n",
       "      <td>2019-05-03 12:06:54</td>\n",
       "      <td>2019-05-03 12:11:34</td>\n",
       "      <td>1.101678</td>\n",
       "      <td>0.820856</td>\n",
       "    </tr>\n",
       "  </tbody>\n",
       "</table>\n",
       "</div>"
      ],
      "text/plain": [
       "   key Начало нагрева дугой  Конец нагрева дугой  Активная мощность  \\\n",
       "0    1  2019-05-03 11:02:14  2019-05-03 11:06:02           0.305130   \n",
       "1    1  2019-05-03 11:07:28  2019-05-03 11:10:33           0.765658   \n",
       "2    1  2019-05-03 11:11:44  2019-05-03 11:14:36           0.580313   \n",
       "3    1  2019-05-03 11:18:14  2019-05-03 11:24:19           0.518496   \n",
       "4    1  2019-05-03 11:26:09  2019-05-03 11:28:37           0.867133   \n",
       "5    2  2019-05-03 11:34:14  2019-05-03 11:36:31           0.381124   \n",
       "6    2  2019-05-03 11:38:50  2019-05-03 11:44:28           0.261665   \n",
       "7    2  2019-05-03 11:46:19  2019-05-03 11:48:25           0.710297   \n",
       "8    2  2019-05-03 11:49:48  2019-05-03 11:53:18           0.786322   \n",
       "9    3  2019-05-03 12:06:54  2019-05-03 12:11:34           1.101678   \n",
       "\n",
       "   Реактивная мощность  \n",
       "0             0.211253  \n",
       "1             0.477438  \n",
       "2             0.430460  \n",
       "3             0.379979  \n",
       "4             0.643691  \n",
       "5             0.220351  \n",
       "6             0.205527  \n",
       "7             0.484962  \n",
       "8             0.542517  \n",
       "9             0.820856  "
      ]
     },
     "execution_count": 93,
     "metadata": {},
     "output_type": "execute_result"
    }
   ],
   "source": [
    "arc.head(10)"
   ]
  },
  {
   "cell_type": "markdown",
   "metadata": {},
   "source": [
    "Таблица `data_arc_new` содержит временные интервалы нагрева стали в ковше и скорость расхода энергии на разных этапах обработки очередной партии `key`. Этапов нагрева для каждой партии может быть несколько."
   ]
  },
  {
   "cell_type": "markdown",
   "metadata": {},
   "source": [
    "Приведем к единому стилю названия столбцов:"
   ]
  },
  {
   "cell_type": "code",
   "execution_count": 94,
   "metadata": {},
   "outputs": [],
   "source": [
    "arc.columns = ['key', 'heating_start', 'heating_end', 'power_active', 'power_reactive']"
   ]
  },
  {
   "cell_type": "markdown",
   "metadata": {},
   "source": [
    "Проверим данные на полноту:"
   ]
  },
  {
   "cell_type": "code",
   "execution_count": 95,
   "metadata": {},
   "outputs": [
    {
     "name": "stdout",
     "output_type": "stream",
     "text": [
      "<class 'pandas.core.frame.DataFrame'>\n",
      "RangeIndex: 14876 entries, 0 to 14875\n",
      "Data columns (total 5 columns):\n",
      " #   Column          Non-Null Count  Dtype  \n",
      "---  ------          --------------  -----  \n",
      " 0   key             14876 non-null  int64  \n",
      " 1   heating_start   14876 non-null  object \n",
      " 2   heating_end     14876 non-null  object \n",
      " 3   power_active    14876 non-null  float64\n",
      " 4   power_reactive  14876 non-null  float64\n",
      "dtypes: float64(2), int64(1), object(2)\n",
      "memory usage: 581.2+ KB\n"
     ]
    }
   ],
   "source": [
    "arc.info()"
   ]
  },
  {
   "cell_type": "markdown",
   "metadata": {},
   "source": [
    "Данные полные, пропуски отсутствуют. Тип данных в столбцах со временем приведем к типу `datetime`:"
   ]
  },
  {
   "cell_type": "code",
   "execution_count": 96,
   "metadata": {},
   "outputs": [],
   "source": [
    "arc['heating_start'] = pd.to_datetime(arc['heating_start'])\n",
    "arc['heating_end']   = pd.to_datetime(arc['heating_end'])"
   ]
  },
  {
   "cell_type": "markdown",
   "metadata": {},
   "source": [
    "Проверим данные на аномалии:"
   ]
  },
  {
   "cell_type": "code",
   "execution_count": 97,
   "metadata": {},
   "outputs": [
    {
     "data": {
      "text/html": [
       "<div>\n",
       "<style scoped>\n",
       "    .dataframe tbody tr th:only-of-type {\n",
       "        vertical-align: middle;\n",
       "    }\n",
       "\n",
       "    .dataframe tbody tr th {\n",
       "        vertical-align: top;\n",
       "    }\n",
       "\n",
       "    .dataframe thead th {\n",
       "        text-align: right;\n",
       "    }\n",
       "</style>\n",
       "<table border=\"1\" class=\"dataframe\">\n",
       "  <thead>\n",
       "    <tr style=\"text-align: right;\">\n",
       "      <th></th>\n",
       "      <th>key</th>\n",
       "      <th>power_active</th>\n",
       "      <th>power_reactive</th>\n",
       "    </tr>\n",
       "  </thead>\n",
       "  <tbody>\n",
       "    <tr>\n",
       "      <th>count</th>\n",
       "      <td>14876.000000</td>\n",
       "      <td>14876.000000</td>\n",
       "      <td>14876.000000</td>\n",
       "    </tr>\n",
       "    <tr>\n",
       "      <th>mean</th>\n",
       "      <td>1615.220422</td>\n",
       "      <td>0.662752</td>\n",
       "      <td>0.438986</td>\n",
       "    </tr>\n",
       "    <tr>\n",
       "      <th>std</th>\n",
       "      <td>934.571502</td>\n",
       "      <td>0.258885</td>\n",
       "      <td>5.873485</td>\n",
       "    </tr>\n",
       "    <tr>\n",
       "      <th>min</th>\n",
       "      <td>1.000000</td>\n",
       "      <td>0.223120</td>\n",
       "      <td>-715.479924</td>\n",
       "    </tr>\n",
       "    <tr>\n",
       "      <th>25%</th>\n",
       "      <td>806.000000</td>\n",
       "      <td>0.467115</td>\n",
       "      <td>0.337175</td>\n",
       "    </tr>\n",
       "    <tr>\n",
       "      <th>50%</th>\n",
       "      <td>1617.000000</td>\n",
       "      <td>0.599587</td>\n",
       "      <td>0.441639</td>\n",
       "    </tr>\n",
       "    <tr>\n",
       "      <th>75%</th>\n",
       "      <td>2429.000000</td>\n",
       "      <td>0.830070</td>\n",
       "      <td>0.608201</td>\n",
       "    </tr>\n",
       "    <tr>\n",
       "      <th>max</th>\n",
       "      <td>3241.000000</td>\n",
       "      <td>1.463773</td>\n",
       "      <td>1.270284</td>\n",
       "    </tr>\n",
       "  </tbody>\n",
       "</table>\n",
       "</div>"
      ],
      "text/plain": [
       "                key  power_active  power_reactive\n",
       "count  14876.000000  14876.000000    14876.000000\n",
       "mean    1615.220422      0.662752        0.438986\n",
       "std      934.571502      0.258885        5.873485\n",
       "min        1.000000      0.223120     -715.479924\n",
       "25%      806.000000      0.467115        0.337175\n",
       "50%     1617.000000      0.599587        0.441639\n",
       "75%     2429.000000      0.830070        0.608201\n",
       "max     3241.000000      1.463773        1.270284"
      ]
     },
     "execution_count": 97,
     "metadata": {},
     "output_type": "execute_result"
    }
   ],
   "source": [
    "arc.describe()"
   ]
  },
  {
   "cell_type": "code",
   "execution_count": 98,
   "metadata": {},
   "outputs": [
    {
     "data": {
      "text/html": [
       "<div>\n",
       "<style scoped>\n",
       "    .dataframe tbody tr th:only-of-type {\n",
       "        vertical-align: middle;\n",
       "    }\n",
       "\n",
       "    .dataframe tbody tr th {\n",
       "        vertical-align: top;\n",
       "    }\n",
       "\n",
       "    .dataframe thead th {\n",
       "        text-align: right;\n",
       "    }\n",
       "</style>\n",
       "<table border=\"1\" class=\"dataframe\">\n",
       "  <thead>\n",
       "    <tr style=\"text-align: right;\">\n",
       "      <th></th>\n",
       "      <th>key</th>\n",
       "      <th>heating_start</th>\n",
       "      <th>heating_end</th>\n",
       "      <th>power_active</th>\n",
       "      <th>power_reactive</th>\n",
       "    </tr>\n",
       "  </thead>\n",
       "  <tbody>\n",
       "    <tr>\n",
       "      <th>9780</th>\n",
       "      <td>2116</td>\n",
       "      <td>2019-07-28 02:22:08</td>\n",
       "      <td>2019-07-28 02:23:57</td>\n",
       "      <td>0.705344</td>\n",
       "      <td>-715.479924</td>\n",
       "    </tr>\n",
       "    <tr>\n",
       "      <th>709</th>\n",
       "      <td>152</td>\n",
       "      <td>2019-05-09 11:26:58</td>\n",
       "      <td>2019-05-09 11:29:41</td>\n",
       "      <td>0.228852</td>\n",
       "      <td>0.153777</td>\n",
       "    </tr>\n",
       "    <tr>\n",
       "      <th>3290</th>\n",
       "      <td>711</td>\n",
       "      <td>2019-05-31 07:16:01</td>\n",
       "      <td>2019-05-31 07:20:05</td>\n",
       "      <td>0.242989</td>\n",
       "      <td>0.153921</td>\n",
       "    </tr>\n",
       "    <tr>\n",
       "      <th>11794</th>\n",
       "      <td>2567</td>\n",
       "      <td>2019-08-13 05:51:16</td>\n",
       "      <td>2019-08-13 05:52:22</td>\n",
       "      <td>0.288314</td>\n",
       "      <td>0.155221</td>\n",
       "    </tr>\n",
       "    <tr>\n",
       "      <th>6130</th>\n",
       "      <td>1336</td>\n",
       "      <td>2019-06-22 15:46:26</td>\n",
       "      <td>2019-06-22 15:47:50</td>\n",
       "      <td>0.244191</td>\n",
       "      <td>0.156525</td>\n",
       "    </tr>\n",
       "  </tbody>\n",
       "</table>\n",
       "</div>"
      ],
      "text/plain": [
       "        key       heating_start         heating_end  power_active  \\\n",
       "9780   2116 2019-07-28 02:22:08 2019-07-28 02:23:57      0.705344   \n",
       "709     152 2019-05-09 11:26:58 2019-05-09 11:29:41      0.228852   \n",
       "3290    711 2019-05-31 07:16:01 2019-05-31 07:20:05      0.242989   \n",
       "11794  2567 2019-08-13 05:51:16 2019-08-13 05:52:22      0.288314   \n",
       "6130   1336 2019-06-22 15:46:26 2019-06-22 15:47:50      0.244191   \n",
       "\n",
       "       power_reactive  \n",
       "9780      -715.479924  \n",
       "709          0.153777  \n",
       "3290         0.153921  \n",
       "11794        0.155221  \n",
       "6130         0.156525  "
      ]
     },
     "execution_count": 98,
     "metadata": {},
     "output_type": "execute_result"
    }
   ],
   "source": [
    "arc.sort_values('power_reactive').head()"
   ]
  },
  {
   "cell_type": "code",
   "execution_count": 99,
   "metadata": {},
   "outputs": [
    {
     "data": {
      "text/html": [
       "<div>\n",
       "<style scoped>\n",
       "    .dataframe tbody tr th:only-of-type {\n",
       "        vertical-align: middle;\n",
       "    }\n",
       "\n",
       "    .dataframe tbody tr th {\n",
       "        vertical-align: top;\n",
       "    }\n",
       "\n",
       "    .dataframe thead th {\n",
       "        text-align: right;\n",
       "    }\n",
       "</style>\n",
       "<table border=\"1\" class=\"dataframe\">\n",
       "  <thead>\n",
       "    <tr style=\"text-align: right;\">\n",
       "      <th></th>\n",
       "      <th>key</th>\n",
       "      <th>heating_start</th>\n",
       "      <th>heating_end</th>\n",
       "      <th>power_active</th>\n",
       "      <th>power_reactive</th>\n",
       "    </tr>\n",
       "  </thead>\n",
       "  <tbody>\n",
       "    <tr>\n",
       "      <th>9778</th>\n",
       "      <td>2116</td>\n",
       "      <td>2019-07-28 02:07:12</td>\n",
       "      <td>2019-07-28 02:09:14</td>\n",
       "      <td>0.787549</td>\n",
       "      <td>0.693881</td>\n",
       "    </tr>\n",
       "    <tr>\n",
       "      <th>9779</th>\n",
       "      <td>2116</td>\n",
       "      <td>2019-07-28 02:13:10</td>\n",
       "      <td>2019-07-28 02:15:25</td>\n",
       "      <td>0.580263</td>\n",
       "      <td>0.411498</td>\n",
       "    </tr>\n",
       "    <tr>\n",
       "      <th>9780</th>\n",
       "      <td>2116</td>\n",
       "      <td>2019-07-28 02:22:08</td>\n",
       "      <td>2019-07-28 02:23:57</td>\n",
       "      <td>0.705344</td>\n",
       "      <td>-715.479924</td>\n",
       "    </tr>\n",
       "    <tr>\n",
       "      <th>9781</th>\n",
       "      <td>2116</td>\n",
       "      <td>2019-07-28 02:29:11</td>\n",
       "      <td>2019-07-28 02:30:18</td>\n",
       "      <td>0.563641</td>\n",
       "      <td>0.408513</td>\n",
       "    </tr>\n",
       "  </tbody>\n",
       "</table>\n",
       "</div>"
      ],
      "text/plain": [
       "       key       heating_start         heating_end  power_active  \\\n",
       "9778  2116 2019-07-28 02:07:12 2019-07-28 02:09:14      0.787549   \n",
       "9779  2116 2019-07-28 02:13:10 2019-07-28 02:15:25      0.580263   \n",
       "9780  2116 2019-07-28 02:22:08 2019-07-28 02:23:57      0.705344   \n",
       "9781  2116 2019-07-28 02:29:11 2019-07-28 02:30:18      0.563641   \n",
       "\n",
       "      power_reactive  \n",
       "9778        0.693881  \n",
       "9779        0.411498  \n",
       "9780     -715.479924  \n",
       "9781        0.408513  "
      ]
     },
     "execution_count": 99,
     "metadata": {},
     "output_type": "execute_result"
    }
   ],
   "source": [
    "arc[arc['key'] == 2116]"
   ]
  },
  {
   "cell_type": "markdown",
   "metadata": {},
   "source": [
    "Найдена аномалия с реактивной мощностью. Отрицательная мощность могла бы говорить о накоплении энергии вместо ее расхода, однако абсолютная величина слишком велика и не типична как для партии, так и для всего датасета. Прослеживается сохранение пропорций между активной и реактивной мощностью, поэтому, чтобы не исключать всю партию из обучающей выборки, заменим аномалию типичным значением на основе линейной корреляции мощностей проблемной партии:"
   ]
  },
  {
   "cell_type": "code",
   "execution_count": 100,
   "metadata": {},
   "outputs": [
    {
     "data": {
      "text/html": [
       "<div>\n",
       "<style scoped>\n",
       "    .dataframe tbody tr th:only-of-type {\n",
       "        vertical-align: middle;\n",
       "    }\n",
       "\n",
       "    .dataframe tbody tr th {\n",
       "        vertical-align: top;\n",
       "    }\n",
       "\n",
       "    .dataframe thead th {\n",
       "        text-align: right;\n",
       "    }\n",
       "</style>\n",
       "<table border=\"1\" class=\"dataframe\">\n",
       "  <thead>\n",
       "    <tr style=\"text-align: right;\">\n",
       "      <th></th>\n",
       "      <th>key</th>\n",
       "      <th>heating_start</th>\n",
       "      <th>heating_end</th>\n",
       "      <th>power_active</th>\n",
       "      <th>power_reactive</th>\n",
       "    </tr>\n",
       "  </thead>\n",
       "  <tbody>\n",
       "    <tr>\n",
       "      <th>9778</th>\n",
       "      <td>2116</td>\n",
       "      <td>2019-07-28 02:07:12</td>\n",
       "      <td>2019-07-28 02:09:14</td>\n",
       "      <td>0.787549</td>\n",
       "      <td>0.693881</td>\n",
       "    </tr>\n",
       "    <tr>\n",
       "      <th>9779</th>\n",
       "      <td>2116</td>\n",
       "      <td>2019-07-28 02:13:10</td>\n",
       "      <td>2019-07-28 02:15:25</td>\n",
       "      <td>0.580263</td>\n",
       "      <td>0.411498</td>\n",
       "    </tr>\n",
       "    <tr>\n",
       "      <th>9780</th>\n",
       "      <td>2116</td>\n",
       "      <td>2019-07-28 02:22:08</td>\n",
       "      <td>2019-07-28 02:23:57</td>\n",
       "      <td>0.705344</td>\n",
       "      <td>0.585332</td>\n",
       "    </tr>\n",
       "    <tr>\n",
       "      <th>9781</th>\n",
       "      <td>2116</td>\n",
       "      <td>2019-07-28 02:29:11</td>\n",
       "      <td>2019-07-28 02:30:18</td>\n",
       "      <td>0.563641</td>\n",
       "      <td>0.408513</td>\n",
       "    </tr>\n",
       "  </tbody>\n",
       "</table>\n",
       "</div>"
      ],
      "text/plain": [
       "       key       heating_start         heating_end  power_active  \\\n",
       "9778  2116 2019-07-28 02:07:12 2019-07-28 02:09:14      0.787549   \n",
       "9779  2116 2019-07-28 02:13:10 2019-07-28 02:15:25      0.580263   \n",
       "9780  2116 2019-07-28 02:22:08 2019-07-28 02:23:57      0.705344   \n",
       "9781  2116 2019-07-28 02:29:11 2019-07-28 02:30:18      0.563641   \n",
       "\n",
       "      power_reactive  \n",
       "9778        0.693881  \n",
       "9779        0.411498  \n",
       "9780        0.585332  \n",
       "9781        0.408513  "
      ]
     },
     "execution_count": 100,
     "metadata": {},
     "output_type": "execute_result"
    }
   ],
   "source": [
    "params = arc.loc[[9778, 9779, 9781]]\n",
    "reg = scipy.stats.linregress(params['power_active'], params['power_reactive'])\n",
    "# y = slope * x + intercept\n",
    "arc.loc[[9780],'power_reactive'] = reg.slope * arc.loc[9780, 'power_active'] + reg.intercept\n",
    "arc[arc['key'] == 2116]"
   ]
  },
  {
   "cell_type": "markdown",
   "metadata": {},
   "source": [
    "Посмотрим на длительность периодов нагрева:"
   ]
  },
  {
   "cell_type": "code",
   "execution_count": 101,
   "metadata": {},
   "outputs": [
    {
     "data": {
      "text/plain": [
       "count                        14876\n",
       "mean     0 days 00:02:51.670946490\n",
       "std      0 days 00:01:38.186802680\n",
       "min                0 days 00:00:11\n",
       "25%                0 days 00:01:47\n",
       "50%                0 days 00:02:27\n",
       "75%                0 days 00:03:34\n",
       "max                0 days 00:15:07\n",
       "Name: heating_time, dtype: object"
      ]
     },
     "execution_count": 101,
     "metadata": {},
     "output_type": "execute_result"
    }
   ],
   "source": [
    "arc['heating_time'] = arc['heating_end'] - arc['heating_start']\n",
    "arc['heating_time'].describe()"
   ]
  },
  {
   "cell_type": "markdown",
   "metadata": {},
   "source": [
    "Длительность нагрева выглядит нормально."
   ]
  },
  {
   "cell_type": "markdown",
   "metadata": {},
   "source": [
    "Посмотрим на коэфициент реактивной мощности:"
   ]
  },
  {
   "cell_type": "code",
   "execution_count": 102,
   "metadata": {},
   "outputs": [
    {
     "data": {
      "text/plain": [
       "count    14876.000000\n",
       "mean         0.734930\n",
       "std          0.072419\n",
       "min          0.538375\n",
       "25%          0.679710\n",
       "50%          0.724759\n",
       "75%          0.781194\n",
       "max          0.998261\n",
       "dtype: float64"
      ]
     },
     "execution_count": 102,
     "metadata": {},
     "output_type": "execute_result"
    }
   ],
   "source": [
    "(arc['power_reactive'] / arc['power_active']).describe()"
   ]
  },
  {
   "cell_type": "markdown",
   "metadata": {},
   "source": [
    "Реактивная мощность лежит в разумных пределах."
   ]
  },
  {
   "cell_type": "markdown",
   "metadata": {},
   "source": [
    "Узнаем количество партий:"
   ]
  },
  {
   "cell_type": "code",
   "execution_count": 103,
   "metadata": {},
   "outputs": [
    {
     "data": {
      "text/plain": [
       "3214"
      ]
     },
     "execution_count": 103,
     "metadata": {},
     "output_type": "execute_result"
    }
   ],
   "source": [
    "len(arc['key'].unique())"
   ]
  },
  {
   "cell_type": "markdown",
   "metadata": {},
   "source": [
    "Нагрев производился в 3214 партиях."
   ]
  },
  {
   "cell_type": "markdown",
   "metadata": {},
   "source": [
    "Посчитаем количество итераций нагрева в партиях:"
   ]
  },
  {
   "cell_type": "code",
   "execution_count": 104,
   "metadata": {},
   "outputs": [
    {
     "data": {
      "image/png": "[encoded data removed]",
      "text/plain": [
       "<Figure size 576x144 with 1 Axes>"
      ]
     },
     "metadata": {
      "needs_background": "light"
     },
     "output_type": "display_data"
    }
   ],
   "source": [
    "arc.groupby('key')['heating_start'].count().plot(kind='hist', bins=15, figsize=(8, 2),\n",
    "                                                 title='Распределение количества операций нагрева на партию',\n",
    "                                                 xlabel='Операций нагрева', ylabel='Кол-во партий');"
   ]
  },
  {
   "cell_type": "markdown",
   "metadata": {},
   "source": [
    "Посмотрим на распределение мощности на графике:"
   ]
  },
  {
   "cell_type": "code",
   "execution_count": 105,
   "metadata": {},
   "outputs": [
    {
     "data": {
      "image/png": "[encoded data removed]",
      "text/plain": [
       "<Figure size 576x216 with 1 Axes>"
      ]
     },
     "metadata": {
      "needs_background": "light"
     },
     "output_type": "display_data"
    }
   ],
   "source": [
    "arc['power_active'].plot(kind='hist', alpha=0.5, bins=15, figsize=(8, 3), legend=True)\n",
    "arc['power_reactive'].plot(kind='hist', alpha=0.5, bins=15, legend=True,\n",
    "                         title='Распределение мощности', \n",
    "                         xlabel='Мощность',\n",
    "                         ylabel='Количество записей');"
   ]
  },
  {
   "cell_type": "markdown",
   "metadata": {},
   "source": [
    "Все диаграммы распределения выглядят нормально, данные в таблице предобработаны."
   ]
  },
  {
   "cell_type": "markdown",
   "metadata": {},
   "source": [
    "#### data_bulk_new"
   ]
  },
  {
   "cell_type": "code",
   "execution_count": 106,
   "metadata": {},
   "outputs": [
    {
     "data": {
      "text/html": [
       "<div>\n",
       "<style scoped>\n",
       "    .dataframe tbody tr th:only-of-type {\n",
       "        vertical-align: middle;\n",
       "    }\n",
       "\n",
       "    .dataframe tbody tr th {\n",
       "        vertical-align: top;\n",
       "    }\n",
       "\n",
       "    .dataframe thead th {\n",
       "        text-align: right;\n",
       "    }\n",
       "</style>\n",
       "<table border=\"1\" class=\"dataframe\">\n",
       "  <thead>\n",
       "    <tr style=\"text-align: right;\">\n",
       "      <th></th>\n",
       "      <th>key</th>\n",
       "      <th>Bulk 1</th>\n",
       "      <th>Bulk 2</th>\n",
       "      <th>Bulk 3</th>\n",
       "      <th>Bulk 4</th>\n",
       "      <th>Bulk 5</th>\n",
       "      <th>Bulk 6</th>\n",
       "      <th>Bulk 7</th>\n",
       "      <th>Bulk 8</th>\n",
       "      <th>Bulk 9</th>\n",
       "      <th>Bulk 10</th>\n",
       "      <th>Bulk 11</th>\n",
       "      <th>Bulk 12</th>\n",
       "      <th>Bulk 13</th>\n",
       "      <th>Bulk 14</th>\n",
       "      <th>Bulk 15</th>\n",
       "    </tr>\n",
       "  </thead>\n",
       "  <tbody>\n",
       "    <tr>\n",
       "      <th>0</th>\n",
       "      <td>1</td>\n",
       "      <td>NaN</td>\n",
       "      <td>NaN</td>\n",
       "      <td>NaN</td>\n",
       "      <td>43.0</td>\n",
       "      <td>NaN</td>\n",
       "      <td>NaN</td>\n",
       "      <td>NaN</td>\n",
       "      <td>NaN</td>\n",
       "      <td>NaN</td>\n",
       "      <td>NaN</td>\n",
       "      <td>NaN</td>\n",
       "      <td>206.0</td>\n",
       "      <td>NaN</td>\n",
       "      <td>150.0</td>\n",
       "      <td>154.0</td>\n",
       "    </tr>\n",
       "    <tr>\n",
       "      <th>1</th>\n",
       "      <td>2</td>\n",
       "      <td>NaN</td>\n",
       "      <td>NaN</td>\n",
       "      <td>NaN</td>\n",
       "      <td>73.0</td>\n",
       "      <td>NaN</td>\n",
       "      <td>NaN</td>\n",
       "      <td>NaN</td>\n",
       "      <td>NaN</td>\n",
       "      <td>NaN</td>\n",
       "      <td>NaN</td>\n",
       "      <td>NaN</td>\n",
       "      <td>206.0</td>\n",
       "      <td>NaN</td>\n",
       "      <td>149.0</td>\n",
       "      <td>154.0</td>\n",
       "    </tr>\n",
       "    <tr>\n",
       "      <th>2</th>\n",
       "      <td>3</td>\n",
       "      <td>NaN</td>\n",
       "      <td>NaN</td>\n",
       "      <td>NaN</td>\n",
       "      <td>34.0</td>\n",
       "      <td>NaN</td>\n",
       "      <td>NaN</td>\n",
       "      <td>NaN</td>\n",
       "      <td>NaN</td>\n",
       "      <td>NaN</td>\n",
       "      <td>NaN</td>\n",
       "      <td>NaN</td>\n",
       "      <td>205.0</td>\n",
       "      <td>NaN</td>\n",
       "      <td>152.0</td>\n",
       "      <td>153.0</td>\n",
       "    </tr>\n",
       "    <tr>\n",
       "      <th>3</th>\n",
       "      <td>4</td>\n",
       "      <td>NaN</td>\n",
       "      <td>NaN</td>\n",
       "      <td>NaN</td>\n",
       "      <td>81.0</td>\n",
       "      <td>NaN</td>\n",
       "      <td>NaN</td>\n",
       "      <td>NaN</td>\n",
       "      <td>NaN</td>\n",
       "      <td>NaN</td>\n",
       "      <td>NaN</td>\n",
       "      <td>NaN</td>\n",
       "      <td>207.0</td>\n",
       "      <td>NaN</td>\n",
       "      <td>153.0</td>\n",
       "      <td>154.0</td>\n",
       "    </tr>\n",
       "    <tr>\n",
       "      <th>4</th>\n",
       "      <td>5</td>\n",
       "      <td>NaN</td>\n",
       "      <td>NaN</td>\n",
       "      <td>NaN</td>\n",
       "      <td>78.0</td>\n",
       "      <td>NaN</td>\n",
       "      <td>NaN</td>\n",
       "      <td>NaN</td>\n",
       "      <td>NaN</td>\n",
       "      <td>NaN</td>\n",
       "      <td>NaN</td>\n",
       "      <td>NaN</td>\n",
       "      <td>203.0</td>\n",
       "      <td>NaN</td>\n",
       "      <td>151.0</td>\n",
       "      <td>152.0</td>\n",
       "    </tr>\n",
       "    <tr>\n",
       "      <th>5</th>\n",
       "      <td>6</td>\n",
       "      <td>NaN</td>\n",
       "      <td>NaN</td>\n",
       "      <td>NaN</td>\n",
       "      <td>117.0</td>\n",
       "      <td>NaN</td>\n",
       "      <td>NaN</td>\n",
       "      <td>NaN</td>\n",
       "      <td>NaN</td>\n",
       "      <td>NaN</td>\n",
       "      <td>NaN</td>\n",
       "      <td>NaN</td>\n",
       "      <td>204.0</td>\n",
       "      <td>NaN</td>\n",
       "      <td>201.0</td>\n",
       "      <td>154.0</td>\n",
       "    </tr>\n",
       "    <tr>\n",
       "      <th>6</th>\n",
       "      <td>7</td>\n",
       "      <td>NaN</td>\n",
       "      <td>NaN</td>\n",
       "      <td>NaN</td>\n",
       "      <td>117.0</td>\n",
       "      <td>NaN</td>\n",
       "      <td>NaN</td>\n",
       "      <td>NaN</td>\n",
       "      <td>NaN</td>\n",
       "      <td>NaN</td>\n",
       "      <td>NaN</td>\n",
       "      <td>NaN</td>\n",
       "      <td>204.0</td>\n",
       "      <td>NaN</td>\n",
       "      <td>152.0</td>\n",
       "      <td>154.0</td>\n",
       "    </tr>\n",
       "    <tr>\n",
       "      <th>7</th>\n",
       "      <td>8</td>\n",
       "      <td>NaN</td>\n",
       "      <td>NaN</td>\n",
       "      <td>NaN</td>\n",
       "      <td>99.0</td>\n",
       "      <td>NaN</td>\n",
       "      <td>NaN</td>\n",
       "      <td>NaN</td>\n",
       "      <td>NaN</td>\n",
       "      <td>NaN</td>\n",
       "      <td>NaN</td>\n",
       "      <td>NaN</td>\n",
       "      <td>410.0</td>\n",
       "      <td>NaN</td>\n",
       "      <td>252.0</td>\n",
       "      <td>153.0</td>\n",
       "    </tr>\n",
       "    <tr>\n",
       "      <th>8</th>\n",
       "      <td>9</td>\n",
       "      <td>NaN</td>\n",
       "      <td>NaN</td>\n",
       "      <td>NaN</td>\n",
       "      <td>117.0</td>\n",
       "      <td>NaN</td>\n",
       "      <td>NaN</td>\n",
       "      <td>NaN</td>\n",
       "      <td>NaN</td>\n",
       "      <td>NaN</td>\n",
       "      <td>NaN</td>\n",
       "      <td>NaN</td>\n",
       "      <td>107.0</td>\n",
       "      <td>NaN</td>\n",
       "      <td>99.0</td>\n",
       "      <td>203.0</td>\n",
       "    </tr>\n",
       "    <tr>\n",
       "      <th>9</th>\n",
       "      <td>10</td>\n",
       "      <td>NaN</td>\n",
       "      <td>NaN</td>\n",
       "      <td>NaN</td>\n",
       "      <td>NaN</td>\n",
       "      <td>NaN</td>\n",
       "      <td>NaN</td>\n",
       "      <td>NaN</td>\n",
       "      <td>NaN</td>\n",
       "      <td>NaN</td>\n",
       "      <td>NaN</td>\n",
       "      <td>NaN</td>\n",
       "      <td>203.0</td>\n",
       "      <td>NaN</td>\n",
       "      <td>102.0</td>\n",
       "      <td>204.0</td>\n",
       "    </tr>\n",
       "  </tbody>\n",
       "</table>\n",
       "</div>"
      ],
      "text/plain": [
       "   key  Bulk 1  Bulk 2  Bulk 3  Bulk 4  Bulk 5  Bulk 6  Bulk 7  Bulk 8  \\\n",
       "0    1     NaN     NaN     NaN    43.0     NaN     NaN     NaN     NaN   \n",
       "1    2     NaN     NaN     NaN    73.0     NaN     NaN     NaN     NaN   \n",
       "2    3     NaN     NaN     NaN    34.0     NaN     NaN     NaN     NaN   \n",
       "3    4     NaN     NaN     NaN    81.0     NaN     NaN     NaN     NaN   \n",
       "4    5     NaN     NaN     NaN    78.0     NaN     NaN     NaN     NaN   \n",
       "5    6     NaN     NaN     NaN   117.0     NaN     NaN     NaN     NaN   \n",
       "6    7     NaN     NaN     NaN   117.0     NaN     NaN     NaN     NaN   \n",
       "7    8     NaN     NaN     NaN    99.0     NaN     NaN     NaN     NaN   \n",
       "8    9     NaN     NaN     NaN   117.0     NaN     NaN     NaN     NaN   \n",
       "9   10     NaN     NaN     NaN     NaN     NaN     NaN     NaN     NaN   \n",
       "\n",
       "   Bulk 9  Bulk 10  Bulk 11  Bulk 12  Bulk 13  Bulk 14  Bulk 15  \n",
       "0     NaN      NaN      NaN    206.0      NaN    150.0    154.0  \n",
       "1     NaN      NaN      NaN    206.0      NaN    149.0    154.0  \n",
       "2     NaN      NaN      NaN    205.0      NaN    152.0    153.0  \n",
       "3     NaN      NaN      NaN    207.0      NaN    153.0    154.0  \n",
       "4     NaN      NaN      NaN    203.0      NaN    151.0    152.0  \n",
       "5     NaN      NaN      NaN    204.0      NaN    201.0    154.0  \n",
       "6     NaN      NaN      NaN    204.0      NaN    152.0    154.0  \n",
       "7     NaN      NaN      NaN    410.0      NaN    252.0    153.0  \n",
       "8     NaN      NaN      NaN    107.0      NaN     99.0    203.0  \n",
       "9     NaN      NaN      NaN    203.0      NaN    102.0    204.0  "
      ]
     },
     "execution_count": 106,
     "metadata": {},
     "output_type": "execute_result"
    }
   ],
   "source": [
    "bulk.head(10)"
   ]
  },
  {
   "cell_type": "markdown",
   "metadata": {},
   "source": [
    "Таблица `data_bulk_new` содержит информацию об объемах добавляемых сыпучих материалах. Отсутствующие значения говорят о том, что в данной партии конкретный материал не добавлялся."
   ]
  },
  {
   "cell_type": "markdown",
   "metadata": {},
   "source": [
    "Приведем названия столбцов к единому стилю:"
   ]
  },
  {
   "cell_type": "code",
   "execution_count": 107,
   "metadata": {},
   "outputs": [],
   "source": [
    "bulk_cols = ['key']\n",
    "for col in bulk.columns.drop('key'):\n",
    "    bulk_cols.append(col.lower().replace(' ', '_'))\n",
    "bulk.columns = bulk_cols"
   ]
  },
  {
   "cell_type": "code",
   "execution_count": 108,
   "metadata": {},
   "outputs": [
    {
     "name": "stdout",
     "output_type": "stream",
     "text": [
      "<class 'pandas.core.frame.DataFrame'>\n",
      "RangeIndex: 3129 entries, 0 to 3128\n",
      "Data columns (total 16 columns):\n",
      " #   Column   Non-Null Count  Dtype  \n",
      "---  ------   --------------  -----  \n",
      " 0   key      3129 non-null   int64  \n",
      " 1   bulk_1   252 non-null    float64\n",
      " 2   bulk_2   22 non-null     float64\n",
      " 3   bulk_3   1298 non-null   float64\n",
      " 4   bulk_4   1014 non-null   float64\n",
      " 5   bulk_5   77 non-null     float64\n",
      " 6   bulk_6   576 non-null    float64\n",
      " 7   bulk_7   25 non-null     float64\n",
      " 8   bulk_8   1 non-null      float64\n",
      " 9   bulk_9   19 non-null     float64\n",
      " 10  bulk_10  176 non-null    float64\n",
      " 11  bulk_11  177 non-null    float64\n",
      " 12  bulk_12  2450 non-null   float64\n",
      " 13  bulk_13  18 non-null     float64\n",
      " 14  bulk_14  2806 non-null   float64\n",
      " 15  bulk_15  2248 non-null   float64\n",
      "dtypes: float64(15), int64(1)\n",
      "memory usage: 391.2 KB\n"
     ]
    }
   ],
   "source": [
    "bulk.info()"
   ]
  },
  {
   "cell_type": "code",
   "execution_count": 109,
   "metadata": {},
   "outputs": [
    {
     "data": {
      "text/plain": [
       "3129"
      ]
     },
     "execution_count": 109,
     "metadata": {},
     "output_type": "execute_result"
    }
   ],
   "source": [
    "len(bulk['key'].unique())"
   ]
  },
  {
   "cell_type": "markdown",
   "metadata": {},
   "source": [
    "3129 записей и столько же ключей - для каждой партии только одна строка с уникальным ключом содержит информацию о добавках без повторов и пропусков."
   ]
  },
  {
   "cell_type": "code",
   "execution_count": 110,
   "metadata": {},
   "outputs": [
    {
     "data": {
      "text/html": [
       "<div>\n",
       "<style scoped>\n",
       "    .dataframe tbody tr th:only-of-type {\n",
       "        vertical-align: middle;\n",
       "    }\n",
       "\n",
       "    .dataframe tbody tr th {\n",
       "        vertical-align: top;\n",
       "    }\n",
       "\n",
       "    .dataframe thead th {\n",
       "        text-align: right;\n",
       "    }\n",
       "</style>\n",
       "<table border=\"1\" class=\"dataframe\">\n",
       "  <thead>\n",
       "    <tr style=\"text-align: right;\">\n",
       "      <th></th>\n",
       "      <th>key</th>\n",
       "      <th>bulk_1</th>\n",
       "      <th>bulk_2</th>\n",
       "      <th>bulk_3</th>\n",
       "      <th>bulk_4</th>\n",
       "      <th>bulk_5</th>\n",
       "      <th>bulk_6</th>\n",
       "      <th>bulk_7</th>\n",
       "      <th>bulk_8</th>\n",
       "      <th>bulk_9</th>\n",
       "      <th>bulk_10</th>\n",
       "      <th>bulk_11</th>\n",
       "      <th>bulk_12</th>\n",
       "      <th>bulk_13</th>\n",
       "      <th>bulk_14</th>\n",
       "      <th>bulk_15</th>\n",
       "    </tr>\n",
       "  </thead>\n",
       "  <tbody>\n",
       "    <tr>\n",
       "      <th>count</th>\n",
       "      <td>3129.00</td>\n",
       "      <td>252.00</td>\n",
       "      <td>22.00</td>\n",
       "      <td>1298.00</td>\n",
       "      <td>1014.00</td>\n",
       "      <td>77.00</td>\n",
       "      <td>576.00</td>\n",
       "      <td>25.00</td>\n",
       "      <td>1.0</td>\n",
       "      <td>19.00</td>\n",
       "      <td>176.00</td>\n",
       "      <td>177.00</td>\n",
       "      <td>2450.00</td>\n",
       "      <td>18.00</td>\n",
       "      <td>2806.00</td>\n",
       "      <td>2248.00</td>\n",
       "    </tr>\n",
       "    <tr>\n",
       "      <th>mean</th>\n",
       "      <td>1624.38</td>\n",
       "      <td>39.24</td>\n",
       "      <td>253.05</td>\n",
       "      <td>113.88</td>\n",
       "      <td>104.39</td>\n",
       "      <td>107.03</td>\n",
       "      <td>118.93</td>\n",
       "      <td>305.60</td>\n",
       "      <td>49.0</td>\n",
       "      <td>76.32</td>\n",
       "      <td>83.28</td>\n",
       "      <td>76.82</td>\n",
       "      <td>260.47</td>\n",
       "      <td>181.11</td>\n",
       "      <td>170.28</td>\n",
       "      <td>160.51</td>\n",
       "    </tr>\n",
       "    <tr>\n",
       "      <th>std</th>\n",
       "      <td>933.34</td>\n",
       "      <td>18.28</td>\n",
       "      <td>21.18</td>\n",
       "      <td>75.48</td>\n",
       "      <td>48.18</td>\n",
       "      <td>81.79</td>\n",
       "      <td>72.06</td>\n",
       "      <td>191.02</td>\n",
       "      <td>NaN</td>\n",
       "      <td>21.72</td>\n",
       "      <td>26.06</td>\n",
       "      <td>59.66</td>\n",
       "      <td>120.65</td>\n",
       "      <td>46.09</td>\n",
       "      <td>65.87</td>\n",
       "      <td>51.77</td>\n",
       "    </tr>\n",
       "    <tr>\n",
       "      <th>min</th>\n",
       "      <td>1.00</td>\n",
       "      <td>10.00</td>\n",
       "      <td>228.00</td>\n",
       "      <td>6.00</td>\n",
       "      <td>12.00</td>\n",
       "      <td>11.00</td>\n",
       "      <td>17.00</td>\n",
       "      <td>47.00</td>\n",
       "      <td>49.0</td>\n",
       "      <td>63.00</td>\n",
       "      <td>24.00</td>\n",
       "      <td>8.00</td>\n",
       "      <td>53.00</td>\n",
       "      <td>151.00</td>\n",
       "      <td>16.00</td>\n",
       "      <td>1.00</td>\n",
       "    </tr>\n",
       "    <tr>\n",
       "      <th>25%</th>\n",
       "      <td>816.00</td>\n",
       "      <td>27.00</td>\n",
       "      <td>242.00</td>\n",
       "      <td>58.00</td>\n",
       "      <td>72.00</td>\n",
       "      <td>70.00</td>\n",
       "      <td>69.75</td>\n",
       "      <td>155.00</td>\n",
       "      <td>49.0</td>\n",
       "      <td>66.00</td>\n",
       "      <td>64.00</td>\n",
       "      <td>25.00</td>\n",
       "      <td>204.00</td>\n",
       "      <td>153.25</td>\n",
       "      <td>119.00</td>\n",
       "      <td>105.00</td>\n",
       "    </tr>\n",
       "    <tr>\n",
       "      <th>50%</th>\n",
       "      <td>1622.00</td>\n",
       "      <td>31.00</td>\n",
       "      <td>251.50</td>\n",
       "      <td>97.50</td>\n",
       "      <td>102.00</td>\n",
       "      <td>86.00</td>\n",
       "      <td>100.00</td>\n",
       "      <td>298.00</td>\n",
       "      <td>49.0</td>\n",
       "      <td>68.00</td>\n",
       "      <td>86.50</td>\n",
       "      <td>64.00</td>\n",
       "      <td>208.00</td>\n",
       "      <td>155.50</td>\n",
       "      <td>151.00</td>\n",
       "      <td>160.00</td>\n",
       "    </tr>\n",
       "    <tr>\n",
       "      <th>75%</th>\n",
       "      <td>2431.00</td>\n",
       "      <td>46.00</td>\n",
       "      <td>257.75</td>\n",
       "      <td>152.00</td>\n",
       "      <td>133.00</td>\n",
       "      <td>132.00</td>\n",
       "      <td>157.00</td>\n",
       "      <td>406.00</td>\n",
       "      <td>49.0</td>\n",
       "      <td>70.50</td>\n",
       "      <td>102.00</td>\n",
       "      <td>106.00</td>\n",
       "      <td>316.00</td>\n",
       "      <td>203.50</td>\n",
       "      <td>205.75</td>\n",
       "      <td>205.00</td>\n",
       "    </tr>\n",
       "    <tr>\n",
       "      <th>max</th>\n",
       "      <td>3241.00</td>\n",
       "      <td>185.00</td>\n",
       "      <td>325.00</td>\n",
       "      <td>454.00</td>\n",
       "      <td>281.00</td>\n",
       "      <td>603.00</td>\n",
       "      <td>503.00</td>\n",
       "      <td>772.00</td>\n",
       "      <td>49.0</td>\n",
       "      <td>147.00</td>\n",
       "      <td>159.00</td>\n",
       "      <td>313.00</td>\n",
       "      <td>1849.00</td>\n",
       "      <td>305.00</td>\n",
       "      <td>636.00</td>\n",
       "      <td>405.00</td>\n",
       "    </tr>\n",
       "  </tbody>\n",
       "</table>\n",
       "</div>"
      ],
      "text/plain": [
       "           key  bulk_1  bulk_2   bulk_3   bulk_4  bulk_5  bulk_6  bulk_7  \\\n",
       "count  3129.00  252.00   22.00  1298.00  1014.00   77.00  576.00   25.00   \n",
       "mean   1624.38   39.24  253.05   113.88   104.39  107.03  118.93  305.60   \n",
       "std     933.34   18.28   21.18    75.48    48.18   81.79   72.06  191.02   \n",
       "min       1.00   10.00  228.00     6.00    12.00   11.00   17.00   47.00   \n",
       "25%     816.00   27.00  242.00    58.00    72.00   70.00   69.75  155.00   \n",
       "50%    1622.00   31.00  251.50    97.50   102.00   86.00  100.00  298.00   \n",
       "75%    2431.00   46.00  257.75   152.00   133.00  132.00  157.00  406.00   \n",
       "max    3241.00  185.00  325.00   454.00   281.00  603.00  503.00  772.00   \n",
       "\n",
       "       bulk_8  bulk_9  bulk_10  bulk_11  bulk_12  bulk_13  bulk_14  bulk_15  \n",
       "count     1.0   19.00   176.00   177.00  2450.00    18.00  2806.00  2248.00  \n",
       "mean     49.0   76.32    83.28    76.82   260.47   181.11   170.28   160.51  \n",
       "std       NaN   21.72    26.06    59.66   120.65    46.09    65.87    51.77  \n",
       "min      49.0   63.00    24.00     8.00    53.00   151.00    16.00     1.00  \n",
       "25%      49.0   66.00    64.00    25.00   204.00   153.25   119.00   105.00  \n",
       "50%      49.0   68.00    86.50    64.00   208.00   155.50   151.00   160.00  \n",
       "75%      49.0   70.50   102.00   106.00   316.00   203.50   205.75   205.00  \n",
       "max      49.0  147.00   159.00   313.00  1849.00   305.00   636.00   405.00  "
      ]
     },
     "execution_count": 110,
     "metadata": {},
     "output_type": "execute_result"
    }
   ],
   "source": [
    "bulk.describe().round(2)"
   ]
  },
  {
   "cell_type": "markdown",
   "metadata": {},
   "source": [
    "Серьезных аномалий в объемах сыпучих добавок не прослеживается."
   ]
  },
  {
   "cell_type": "markdown",
   "metadata": {},
   "source": [
    "#### data_bulk_time_new"
   ]
  },
  {
   "cell_type": "code",
   "execution_count": 111,
   "metadata": {},
   "outputs": [
    {
     "data": {
      "text/html": [
       "<div>\n",
       "<style scoped>\n",
       "    .dataframe tbody tr th:only-of-type {\n",
       "        vertical-align: middle;\n",
       "    }\n",
       "\n",
       "    .dataframe tbody tr th {\n",
       "        vertical-align: top;\n",
       "    }\n",
       "\n",
       "    .dataframe thead th {\n",
       "        text-align: right;\n",
       "    }\n",
       "</style>\n",
       "<table border=\"1\" class=\"dataframe\">\n",
       "  <thead>\n",
       "    <tr style=\"text-align: right;\">\n",
       "      <th></th>\n",
       "      <th>key</th>\n",
       "      <th>Bulk 1</th>\n",
       "      <th>Bulk 2</th>\n",
       "      <th>Bulk 3</th>\n",
       "      <th>Bulk 4</th>\n",
       "      <th>Bulk 5</th>\n",
       "      <th>Bulk 6</th>\n",
       "      <th>Bulk 7</th>\n",
       "      <th>Bulk 8</th>\n",
       "      <th>Bulk 9</th>\n",
       "      <th>Bulk 10</th>\n",
       "      <th>Bulk 11</th>\n",
       "      <th>Bulk 12</th>\n",
       "      <th>Bulk 13</th>\n",
       "      <th>Bulk 14</th>\n",
       "      <th>Bulk 15</th>\n",
       "    </tr>\n",
       "  </thead>\n",
       "  <tbody>\n",
       "    <tr>\n",
       "      <th>0</th>\n",
       "      <td>1</td>\n",
       "      <td>NaN</td>\n",
       "      <td>NaN</td>\n",
       "      <td>NaN</td>\n",
       "      <td>2019-05-03 11:28:48</td>\n",
       "      <td>NaN</td>\n",
       "      <td>NaN</td>\n",
       "      <td>NaN</td>\n",
       "      <td>NaN</td>\n",
       "      <td>NaN</td>\n",
       "      <td>NaN</td>\n",
       "      <td>NaN</td>\n",
       "      <td>2019-05-03 11:24:31</td>\n",
       "      <td>NaN</td>\n",
       "      <td>2019-05-03 11:14:50</td>\n",
       "      <td>2019-05-03 11:10:43</td>\n",
       "    </tr>\n",
       "    <tr>\n",
       "      <th>1</th>\n",
       "      <td>2</td>\n",
       "      <td>NaN</td>\n",
       "      <td>NaN</td>\n",
       "      <td>NaN</td>\n",
       "      <td>2019-05-03 11:36:50</td>\n",
       "      <td>NaN</td>\n",
       "      <td>NaN</td>\n",
       "      <td>NaN</td>\n",
       "      <td>NaN</td>\n",
       "      <td>NaN</td>\n",
       "      <td>NaN</td>\n",
       "      <td>NaN</td>\n",
       "      <td>2019-05-03 11:53:30</td>\n",
       "      <td>NaN</td>\n",
       "      <td>2019-05-03 11:48:37</td>\n",
       "      <td>2019-05-03 11:44:39</td>\n",
       "    </tr>\n",
       "    <tr>\n",
       "      <th>2</th>\n",
       "      <td>3</td>\n",
       "      <td>NaN</td>\n",
       "      <td>NaN</td>\n",
       "      <td>NaN</td>\n",
       "      <td>2019-05-03 12:32:39</td>\n",
       "      <td>NaN</td>\n",
       "      <td>NaN</td>\n",
       "      <td>NaN</td>\n",
       "      <td>NaN</td>\n",
       "      <td>NaN</td>\n",
       "      <td>NaN</td>\n",
       "      <td>NaN</td>\n",
       "      <td>2019-05-03 12:27:13</td>\n",
       "      <td>NaN</td>\n",
       "      <td>2019-05-03 12:21:01</td>\n",
       "      <td>2019-05-03 12:16:16</td>\n",
       "    </tr>\n",
       "    <tr>\n",
       "      <th>3</th>\n",
       "      <td>4</td>\n",
       "      <td>NaN</td>\n",
       "      <td>NaN</td>\n",
       "      <td>NaN</td>\n",
       "      <td>2019-05-03 12:43:22</td>\n",
       "      <td>NaN</td>\n",
       "      <td>NaN</td>\n",
       "      <td>NaN</td>\n",
       "      <td>NaN</td>\n",
       "      <td>NaN</td>\n",
       "      <td>NaN</td>\n",
       "      <td>NaN</td>\n",
       "      <td>2019-05-03 12:58:00</td>\n",
       "      <td>NaN</td>\n",
       "      <td>2019-05-03 12:51:11</td>\n",
       "      <td>2019-05-03 12:46:36</td>\n",
       "    </tr>\n",
       "    <tr>\n",
       "      <th>4</th>\n",
       "      <td>5</td>\n",
       "      <td>NaN</td>\n",
       "      <td>NaN</td>\n",
       "      <td>NaN</td>\n",
       "      <td>2019-05-03 13:30:47</td>\n",
       "      <td>NaN</td>\n",
       "      <td>NaN</td>\n",
       "      <td>NaN</td>\n",
       "      <td>NaN</td>\n",
       "      <td>NaN</td>\n",
       "      <td>NaN</td>\n",
       "      <td>NaN</td>\n",
       "      <td>2019-05-03 13:30:47</td>\n",
       "      <td>NaN</td>\n",
       "      <td>2019-05-03 13:34:12</td>\n",
       "      <td>2019-05-03 13:30:47</td>\n",
       "    </tr>\n",
       "    <tr>\n",
       "      <th>5</th>\n",
       "      <td>6</td>\n",
       "      <td>NaN</td>\n",
       "      <td>NaN</td>\n",
       "      <td>NaN</td>\n",
       "      <td>2019-05-03 13:57:27</td>\n",
       "      <td>NaN</td>\n",
       "      <td>NaN</td>\n",
       "      <td>NaN</td>\n",
       "      <td>NaN</td>\n",
       "      <td>NaN</td>\n",
       "      <td>NaN</td>\n",
       "      <td>NaN</td>\n",
       "      <td>2019-05-03 13:48:52</td>\n",
       "      <td>NaN</td>\n",
       "      <td>2019-05-03 14:09:42</td>\n",
       "      <td>2019-05-03 14:03:15</td>\n",
       "    </tr>\n",
       "    <tr>\n",
       "      <th>6</th>\n",
       "      <td>7</td>\n",
       "      <td>NaN</td>\n",
       "      <td>NaN</td>\n",
       "      <td>NaN</td>\n",
       "      <td>2019-05-03 14:18:58</td>\n",
       "      <td>NaN</td>\n",
       "      <td>NaN</td>\n",
       "      <td>NaN</td>\n",
       "      <td>NaN</td>\n",
       "      <td>NaN</td>\n",
       "      <td>NaN</td>\n",
       "      <td>NaN</td>\n",
       "      <td>2019-05-03 14:41:26</td>\n",
       "      <td>NaN</td>\n",
       "      <td>2019-05-03 14:30:50</td>\n",
       "      <td>2019-05-03 14:27:16</td>\n",
       "    </tr>\n",
       "    <tr>\n",
       "      <th>7</th>\n",
       "      <td>8</td>\n",
       "      <td>NaN</td>\n",
       "      <td>NaN</td>\n",
       "      <td>NaN</td>\n",
       "      <td>2019-05-03 15:17:58</td>\n",
       "      <td>NaN</td>\n",
       "      <td>NaN</td>\n",
       "      <td>NaN</td>\n",
       "      <td>NaN</td>\n",
       "      <td>NaN</td>\n",
       "      <td>NaN</td>\n",
       "      <td>NaN</td>\n",
       "      <td>2019-05-03 15:17:58</td>\n",
       "      <td>NaN</td>\n",
       "      <td>2019-05-03 15:13:18</td>\n",
       "      <td>2019-05-03 15:05:33</td>\n",
       "    </tr>\n",
       "    <tr>\n",
       "      <th>8</th>\n",
       "      <td>9</td>\n",
       "      <td>NaN</td>\n",
       "      <td>NaN</td>\n",
       "      <td>NaN</td>\n",
       "      <td>2019-05-03 16:03:08</td>\n",
       "      <td>NaN</td>\n",
       "      <td>NaN</td>\n",
       "      <td>NaN</td>\n",
       "      <td>NaN</td>\n",
       "      <td>NaN</td>\n",
       "      <td>NaN</td>\n",
       "      <td>NaN</td>\n",
       "      <td>2019-05-03 16:03:08</td>\n",
       "      <td>NaN</td>\n",
       "      <td>2019-05-03 16:00:16</td>\n",
       "      <td>2019-05-03 15:52:39</td>\n",
       "    </tr>\n",
       "    <tr>\n",
       "      <th>9</th>\n",
       "      <td>10</td>\n",
       "      <td>NaN</td>\n",
       "      <td>NaN</td>\n",
       "      <td>NaN</td>\n",
       "      <td>NaN</td>\n",
       "      <td>NaN</td>\n",
       "      <td>NaN</td>\n",
       "      <td>NaN</td>\n",
       "      <td>NaN</td>\n",
       "      <td>NaN</td>\n",
       "      <td>NaN</td>\n",
       "      <td>NaN</td>\n",
       "      <td>2019-05-03 16:38:11</td>\n",
       "      <td>NaN</td>\n",
       "      <td>2019-05-03 16:34:24</td>\n",
       "      <td>2019-05-03 16:29:56</td>\n",
       "    </tr>\n",
       "  </tbody>\n",
       "</table>\n",
       "</div>"
      ],
      "text/plain": [
       "   key Bulk 1 Bulk 2 Bulk 3               Bulk 4 Bulk 5 Bulk 6 Bulk 7 Bulk 8  \\\n",
       "0    1    NaN    NaN    NaN  2019-05-03 11:28:48    NaN    NaN    NaN    NaN   \n",
       "1    2    NaN    NaN    NaN  2019-05-03 11:36:50    NaN    NaN    NaN    NaN   \n",
       "2    3    NaN    NaN    NaN  2019-05-03 12:32:39    NaN    NaN    NaN    NaN   \n",
       "3    4    NaN    NaN    NaN  2019-05-03 12:43:22    NaN    NaN    NaN    NaN   \n",
       "4    5    NaN    NaN    NaN  2019-05-03 13:30:47    NaN    NaN    NaN    NaN   \n",
       "5    6    NaN    NaN    NaN  2019-05-03 13:57:27    NaN    NaN    NaN    NaN   \n",
       "6    7    NaN    NaN    NaN  2019-05-03 14:18:58    NaN    NaN    NaN    NaN   \n",
       "7    8    NaN    NaN    NaN  2019-05-03 15:17:58    NaN    NaN    NaN    NaN   \n",
       "8    9    NaN    NaN    NaN  2019-05-03 16:03:08    NaN    NaN    NaN    NaN   \n",
       "9   10    NaN    NaN    NaN                  NaN    NaN    NaN    NaN    NaN   \n",
       "\n",
       "  Bulk 9 Bulk 10 Bulk 11              Bulk 12 Bulk 13              Bulk 14  \\\n",
       "0    NaN     NaN     NaN  2019-05-03 11:24:31     NaN  2019-05-03 11:14:50   \n",
       "1    NaN     NaN     NaN  2019-05-03 11:53:30     NaN  2019-05-03 11:48:37   \n",
       "2    NaN     NaN     NaN  2019-05-03 12:27:13     NaN  2019-05-03 12:21:01   \n",
       "3    NaN     NaN     NaN  2019-05-03 12:58:00     NaN  2019-05-03 12:51:11   \n",
       "4    NaN     NaN     NaN  2019-05-03 13:30:47     NaN  2019-05-03 13:34:12   \n",
       "5    NaN     NaN     NaN  2019-05-03 13:48:52     NaN  2019-05-03 14:09:42   \n",
       "6    NaN     NaN     NaN  2019-05-03 14:41:26     NaN  2019-05-03 14:30:50   \n",
       "7    NaN     NaN     NaN  2019-05-03 15:17:58     NaN  2019-05-03 15:13:18   \n",
       "8    NaN     NaN     NaN  2019-05-03 16:03:08     NaN  2019-05-03 16:00:16   \n",
       "9    NaN     NaN     NaN  2019-05-03 16:38:11     NaN  2019-05-03 16:34:24   \n",
       "\n",
       "               Bulk 15  \n",
       "0  2019-05-03 11:10:43  \n",
       "1  2019-05-03 11:44:39  \n",
       "2  2019-05-03 12:16:16  \n",
       "3  2019-05-03 12:46:36  \n",
       "4  2019-05-03 13:30:47  \n",
       "5  2019-05-03 14:03:15  \n",
       "6  2019-05-03 14:27:16  \n",
       "7  2019-05-03 15:05:33  \n",
       "8  2019-05-03 15:52:39  \n",
       "9  2019-05-03 16:29:56  "
      ]
     },
     "execution_count": 111,
     "metadata": {},
     "output_type": "execute_result"
    }
   ],
   "source": [
    "bulk_time.head(10)"
   ]
  },
  {
   "cell_type": "markdown",
   "metadata": {},
   "source": [
    "Таблица `data_bulk_time_new` содержит информацию о времени добавления сыпучих материалов, объемы которых описаны в `data_bulk_new`. Отсутствующие значения говорят о том, что в данной партии конкретный материал не добавлялся. Изучим таблицу аналогично `data_bulk_new`:"
   ]
  },
  {
   "cell_type": "code",
   "execution_count": 112,
   "metadata": {},
   "outputs": [],
   "source": [
    "bulk_time.columns = bulk_cols"
   ]
  },
  {
   "cell_type": "code",
   "execution_count": 113,
   "metadata": {},
   "outputs": [
    {
     "name": "stdout",
     "output_type": "stream",
     "text": [
      "<class 'pandas.core.frame.DataFrame'>\n",
      "RangeIndex: 3129 entries, 0 to 3128\n",
      "Data columns (total 16 columns):\n",
      " #   Column   Non-Null Count  Dtype \n",
      "---  ------   --------------  ----- \n",
      " 0   key      3129 non-null   int64 \n",
      " 1   bulk_1   252 non-null    object\n",
      " 2   bulk_2   22 non-null     object\n",
      " 3   bulk_3   1298 non-null   object\n",
      " 4   bulk_4   1014 non-null   object\n",
      " 5   bulk_5   77 non-null     object\n",
      " 6   bulk_6   576 non-null    object\n",
      " 7   bulk_7   25 non-null     object\n",
      " 8   bulk_8   1 non-null      object\n",
      " 9   bulk_9   19 non-null     object\n",
      " 10  bulk_10  176 non-null    object\n",
      " 11  bulk_11  177 non-null    object\n",
      " 12  bulk_12  2450 non-null   object\n",
      " 13  bulk_13  18 non-null     object\n",
      " 14  bulk_14  2806 non-null   object\n",
      " 15  bulk_15  2248 non-null   object\n",
      "dtypes: int64(1), object(15)\n",
      "memory usage: 391.2+ KB\n"
     ]
    }
   ],
   "source": [
    "bulk_time.info()"
   ]
  },
  {
   "cell_type": "markdown",
   "metadata": {},
   "source": [
    "Изменим тип столбцов со временем на `datetime`:"
   ]
  },
  {
   "cell_type": "code",
   "execution_count": 114,
   "metadata": {},
   "outputs": [],
   "source": [
    "for col in bulk_time.columns.drop('key'):\n",
    "    bulk_time[col] = pd.to_datetime(bulk_time[col])"
   ]
  },
  {
   "cell_type": "code",
   "execution_count": 115,
   "metadata": {},
   "outputs": [
    {
     "data": {
      "text/plain": [
       "3129"
      ]
     },
     "execution_count": 115,
     "metadata": {},
     "output_type": "execute_result"
    }
   ],
   "source": [
    "len(bulk_time['key'].unique())"
   ]
  },
  {
   "cell_type": "markdown",
   "metadata": {},
   "source": [
    "Убедимся, что пропуски в обеих таблицах совпадают:"
   ]
  },
  {
   "cell_type": "code",
   "execution_count": 116,
   "metadata": {},
   "outputs": [
    {
     "data": {
      "text/plain": [
       "0"
      ]
     },
     "execution_count": 116,
     "metadata": {},
     "output_type": "execute_result"
    }
   ],
   "source": [
    "(bulk.isna() != bulk_time.isna()).sum().sum()"
   ]
  },
  {
   "cell_type": "markdown",
   "metadata": {},
   "source": [
    "Обе таблицы однозначно связаны друг с другом."
   ]
  },
  {
   "cell_type": "markdown",
   "metadata": {},
   "source": [
    "#### data_gas_new"
   ]
  },
  {
   "cell_type": "code",
   "execution_count": 117,
   "metadata": {},
   "outputs": [
    {
     "data": {
      "text/html": [
       "<div>\n",
       "<style scoped>\n",
       "    .dataframe tbody tr th:only-of-type {\n",
       "        vertical-align: middle;\n",
       "    }\n",
       "\n",
       "    .dataframe tbody tr th {\n",
       "        vertical-align: top;\n",
       "    }\n",
       "\n",
       "    .dataframe thead th {\n",
       "        text-align: right;\n",
       "    }\n",
       "</style>\n",
       "<table border=\"1\" class=\"dataframe\">\n",
       "  <thead>\n",
       "    <tr style=\"text-align: right;\">\n",
       "      <th></th>\n",
       "      <th>key</th>\n",
       "      <th>Газ 1</th>\n",
       "    </tr>\n",
       "  </thead>\n",
       "  <tbody>\n",
       "    <tr>\n",
       "      <th>0</th>\n",
       "      <td>1</td>\n",
       "      <td>29.749986</td>\n",
       "    </tr>\n",
       "    <tr>\n",
       "      <th>1</th>\n",
       "      <td>2</td>\n",
       "      <td>12.555561</td>\n",
       "    </tr>\n",
       "    <tr>\n",
       "      <th>2</th>\n",
       "      <td>3</td>\n",
       "      <td>28.554793</td>\n",
       "    </tr>\n",
       "    <tr>\n",
       "      <th>3</th>\n",
       "      <td>4</td>\n",
       "      <td>18.841219</td>\n",
       "    </tr>\n",
       "    <tr>\n",
       "      <th>4</th>\n",
       "      <td>5</td>\n",
       "      <td>5.413692</td>\n",
       "    </tr>\n",
       "    <tr>\n",
       "      <th>5</th>\n",
       "      <td>6</td>\n",
       "      <td>11.273392</td>\n",
       "    </tr>\n",
       "    <tr>\n",
       "      <th>6</th>\n",
       "      <td>7</td>\n",
       "      <td>9.836267</td>\n",
       "    </tr>\n",
       "    <tr>\n",
       "      <th>7</th>\n",
       "      <td>8</td>\n",
       "      <td>15.171553</td>\n",
       "    </tr>\n",
       "    <tr>\n",
       "      <th>8</th>\n",
       "      <td>9</td>\n",
       "      <td>8.216623</td>\n",
       "    </tr>\n",
       "    <tr>\n",
       "      <th>9</th>\n",
       "      <td>10</td>\n",
       "      <td>6.529891</td>\n",
       "    </tr>\n",
       "  </tbody>\n",
       "</table>\n",
       "</div>"
      ],
      "text/plain": [
       "   key      Газ 1\n",
       "0    1  29.749986\n",
       "1    2  12.555561\n",
       "2    3  28.554793\n",
       "3    4  18.841219\n",
       "4    5   5.413692\n",
       "5    6  11.273392\n",
       "6    7   9.836267\n",
       "7    8  15.171553\n",
       "8    9   8.216623\n",
       "9   10   6.529891"
      ]
     },
     "execution_count": 117,
     "metadata": {},
     "output_type": "execute_result"
    }
   ],
   "source": [
    "gas.head(10)"
   ]
  },
  {
   "cell_type": "markdown",
   "metadata": {},
   "source": [
    "Таблица `data_gas_new` содержит информацию о продувке сплава инертным газом."
   ]
  },
  {
   "cell_type": "code",
   "execution_count": 118,
   "metadata": {},
   "outputs": [],
   "source": [
    "gas.columns = ['key', 'gas']"
   ]
  },
  {
   "cell_type": "code",
   "execution_count": 119,
   "metadata": {},
   "outputs": [
    {
     "name": "stdout",
     "output_type": "stream",
     "text": [
      "<class 'pandas.core.frame.DataFrame'>\n",
      "RangeIndex: 3239 entries, 0 to 3238\n",
      "Data columns (total 2 columns):\n",
      " #   Column  Non-Null Count  Dtype  \n",
      "---  ------  --------------  -----  \n",
      " 0   key     3239 non-null   int64  \n",
      " 1   gas     3239 non-null   float64\n",
      "dtypes: float64(1), int64(1)\n",
      "memory usage: 50.7 KB\n"
     ]
    }
   ],
   "source": [
    "gas.info()"
   ]
  },
  {
   "cell_type": "code",
   "execution_count": 120,
   "metadata": {},
   "outputs": [
    {
     "data": {
      "text/plain": [
       "3239"
      ]
     },
     "execution_count": 120,
     "metadata": {},
     "output_type": "execute_result"
    }
   ],
   "source": [
    "len(gas['key'].unique())"
   ]
  },
  {
   "cell_type": "markdown",
   "metadata": {},
   "source": [
    "Одна запись - одна партия."
   ]
  },
  {
   "cell_type": "code",
   "execution_count": 121,
   "metadata": {},
   "outputs": [
    {
     "data": {
      "text/html": [
       "<div>\n",
       "<style scoped>\n",
       "    .dataframe tbody tr th:only-of-type {\n",
       "        vertical-align: middle;\n",
       "    }\n",
       "\n",
       "    .dataframe tbody tr th {\n",
       "        vertical-align: top;\n",
       "    }\n",
       "\n",
       "    .dataframe thead th {\n",
       "        text-align: right;\n",
       "    }\n",
       "</style>\n",
       "<table border=\"1\" class=\"dataframe\">\n",
       "  <thead>\n",
       "    <tr style=\"text-align: right;\">\n",
       "      <th></th>\n",
       "      <th>key</th>\n",
       "      <th>gas</th>\n",
       "    </tr>\n",
       "  </thead>\n",
       "  <tbody>\n",
       "    <tr>\n",
       "      <th>count</th>\n",
       "      <td>3239.000000</td>\n",
       "      <td>3239.000000</td>\n",
       "    </tr>\n",
       "    <tr>\n",
       "      <th>mean</th>\n",
       "      <td>1621.861377</td>\n",
       "      <td>11.002062</td>\n",
       "    </tr>\n",
       "    <tr>\n",
       "      <th>std</th>\n",
       "      <td>935.386334</td>\n",
       "      <td>6.220327</td>\n",
       "    </tr>\n",
       "    <tr>\n",
       "      <th>min</th>\n",
       "      <td>1.000000</td>\n",
       "      <td>0.008399</td>\n",
       "    </tr>\n",
       "    <tr>\n",
       "      <th>25%</th>\n",
       "      <td>812.500000</td>\n",
       "      <td>7.043089</td>\n",
       "    </tr>\n",
       "    <tr>\n",
       "      <th>50%</th>\n",
       "      <td>1622.000000</td>\n",
       "      <td>9.836267</td>\n",
       "    </tr>\n",
       "    <tr>\n",
       "      <th>75%</th>\n",
       "      <td>2431.500000</td>\n",
       "      <td>13.769915</td>\n",
       "    </tr>\n",
       "    <tr>\n",
       "      <th>max</th>\n",
       "      <td>3241.000000</td>\n",
       "      <td>77.995040</td>\n",
       "    </tr>\n",
       "  </tbody>\n",
       "</table>\n",
       "</div>"
      ],
      "text/plain": [
       "               key          gas\n",
       "count  3239.000000  3239.000000\n",
       "mean   1621.861377    11.002062\n",
       "std     935.386334     6.220327\n",
       "min       1.000000     0.008399\n",
       "25%     812.500000     7.043089\n",
       "50%    1622.000000     9.836267\n",
       "75%    2431.500000    13.769915\n",
       "max    3241.000000    77.995040"
      ]
     },
     "execution_count": 121,
     "metadata": {},
     "output_type": "execute_result"
    }
   ],
   "source": [
    "gas.describe()"
   ]
  },
  {
   "cell_type": "code",
   "execution_count": 122,
   "metadata": {},
   "outputs": [
    {
     "data": {
      "text/plain": [
       "319     77.995040\n",
       "277     60.935689\n",
       "2107    52.142373\n",
       "2567    51.380229\n",
       "116     50.581035\n",
       "2105    45.638999\n",
       "1461    43.655411\n",
       "660     41.854643\n",
       "525     39.728826\n",
       "610     39.425706\n",
       "Name: gas, dtype: float64"
      ]
     },
     "execution_count": 122,
     "metadata": {},
     "output_type": "execute_result"
    }
   ],
   "source": [
    "gas['gas'].sort_values(ascending=False).head(10)"
   ]
  },
  {
   "cell_type": "markdown",
   "metadata": {},
   "source": [
    "Отдельные значения сильно выше других, но говорить об аномалиях пока рано."
   ]
  },
  {
   "cell_type": "markdown",
   "metadata": {},
   "source": [
    "Проверим на графике:"
   ]
  },
  {
   "cell_type": "code",
   "execution_count": 123,
   "metadata": {},
   "outputs": [
    {
     "data": {
      "image/png": "[encoded data removed]",
      "text/plain": [
       "<Figure size 576x144 with 1 Axes>"
      ]
     },
     "metadata": {
      "needs_background": "light"
     },
     "output_type": "display_data"
    }
   ],
   "source": [
    "gas['gas'].plot(kind='hist', bins=20, figsize=(8, 2),\n",
    "                title='Распределени объемов продувки газом',\n",
    "                xlabel='Объем', ylabel='Кол-во партий');"
   ]
  },
  {
   "cell_type": "markdown",
   "metadata": {},
   "source": [
    "Значения в таблице выглядят нормально, за исключением нескольких высоких значений."
   ]
  },
  {
   "cell_type": "markdown",
   "metadata": {},
   "source": [
    "#### data_temp_new"
   ]
  },
  {
   "cell_type": "code",
   "execution_count": 124,
   "metadata": {},
   "outputs": [
    {
     "data": {
      "text/html": [
       "<div>\n",
       "<style scoped>\n",
       "    .dataframe tbody tr th:only-of-type {\n",
       "        vertical-align: middle;\n",
       "    }\n",
       "\n",
       "    .dataframe tbody tr th {\n",
       "        vertical-align: top;\n",
       "    }\n",
       "\n",
       "    .dataframe thead th {\n",
       "        text-align: right;\n",
       "    }\n",
       "</style>\n",
       "<table border=\"1\" class=\"dataframe\">\n",
       "  <thead>\n",
       "    <tr style=\"text-align: right;\">\n",
       "      <th></th>\n",
       "      <th>key</th>\n",
       "      <th>Время замера</th>\n",
       "      <th>Температура</th>\n",
       "    </tr>\n",
       "  </thead>\n",
       "  <tbody>\n",
       "    <tr>\n",
       "      <th>0</th>\n",
       "      <td>1</td>\n",
       "      <td>2019-05-03 11:02:04</td>\n",
       "      <td>1571.0</td>\n",
       "    </tr>\n",
       "    <tr>\n",
       "      <th>1</th>\n",
       "      <td>1</td>\n",
       "      <td>2019-05-03 11:07:18</td>\n",
       "      <td>1604.0</td>\n",
       "    </tr>\n",
       "    <tr>\n",
       "      <th>2</th>\n",
       "      <td>1</td>\n",
       "      <td>2019-05-03 11:11:34</td>\n",
       "      <td>1618.0</td>\n",
       "    </tr>\n",
       "    <tr>\n",
       "      <th>3</th>\n",
       "      <td>1</td>\n",
       "      <td>2019-05-03 11:18:04</td>\n",
       "      <td>1601.0</td>\n",
       "    </tr>\n",
       "    <tr>\n",
       "      <th>4</th>\n",
       "      <td>1</td>\n",
       "      <td>2019-05-03 11:25:59</td>\n",
       "      <td>1606.0</td>\n",
       "    </tr>\n",
       "    <tr>\n",
       "      <th>5</th>\n",
       "      <td>1</td>\n",
       "      <td>2019-05-03 11:30:38</td>\n",
       "      <td>1613.0</td>\n",
       "    </tr>\n",
       "    <tr>\n",
       "      <th>6</th>\n",
       "      <td>2</td>\n",
       "      <td>2019-05-03 11:34:04</td>\n",
       "      <td>1581.0</td>\n",
       "    </tr>\n",
       "    <tr>\n",
       "      <th>7</th>\n",
       "      <td>2</td>\n",
       "      <td>2019-05-03 11:38:40</td>\n",
       "      <td>1577.0</td>\n",
       "    </tr>\n",
       "    <tr>\n",
       "      <th>8</th>\n",
       "      <td>2</td>\n",
       "      <td>2019-05-03 11:46:09</td>\n",
       "      <td>1589.0</td>\n",
       "    </tr>\n",
       "    <tr>\n",
       "      <th>9</th>\n",
       "      <td>2</td>\n",
       "      <td>2019-05-03 11:49:38</td>\n",
       "      <td>1604.0</td>\n",
       "    </tr>\n",
       "  </tbody>\n",
       "</table>\n",
       "</div>"
      ],
      "text/plain": [
       "   key         Время замера  Температура\n",
       "0    1  2019-05-03 11:02:04       1571.0\n",
       "1    1  2019-05-03 11:07:18       1604.0\n",
       "2    1  2019-05-03 11:11:34       1618.0\n",
       "3    1  2019-05-03 11:18:04       1601.0\n",
       "4    1  2019-05-03 11:25:59       1606.0\n",
       "5    1  2019-05-03 11:30:38       1613.0\n",
       "6    2  2019-05-03 11:34:04       1581.0\n",
       "7    2  2019-05-03 11:38:40       1577.0\n",
       "8    2  2019-05-03 11:46:09       1589.0\n",
       "9    2  2019-05-03 11:49:38       1604.0"
      ]
     },
     "execution_count": 124,
     "metadata": {},
     "output_type": "execute_result"
    }
   ],
   "source": [
    "temp.head(10)"
   ]
  },
  {
   "cell_type": "markdown",
   "metadata": {},
   "source": [
    "Таблица `data_temp_new` содержит информацию о температуре сплавов в определенные моменты времени. Измерений температуры в каждой партии может быть несколько."
   ]
  },
  {
   "cell_type": "code",
   "execution_count": 125,
   "metadata": {},
   "outputs": [],
   "source": [
    "temp.columns = ['key', 'time', 'temp']"
   ]
  },
  {
   "cell_type": "code",
   "execution_count": 126,
   "metadata": {},
   "outputs": [
    {
     "name": "stdout",
     "output_type": "stream",
     "text": [
      "<class 'pandas.core.frame.DataFrame'>\n",
      "RangeIndex: 18092 entries, 0 to 18091\n",
      "Data columns (total 3 columns):\n",
      " #   Column  Non-Null Count  Dtype  \n",
      "---  ------  --------------  -----  \n",
      " 0   key     18092 non-null  int64  \n",
      " 1   time    18092 non-null  object \n",
      " 2   temp    14665 non-null  float64\n",
      "dtypes: float64(1), int64(1), object(1)\n",
      "memory usage: 424.2+ KB\n"
     ]
    }
   ],
   "source": [
    "temp.info()"
   ]
  },
  {
   "cell_type": "markdown",
   "metadata": {},
   "source": [
    "Присутствует множество пропусков в значениях температур. По условию задачи, конечная температура является целевым признаком, и при ее отсутствии вся партия не может участвовать в обучении модели."
   ]
  },
  {
   "cell_type": "code",
   "execution_count": 127,
   "metadata": {},
   "outputs": [],
   "source": [
    "temp['time'] = pd.to_datetime(temp['time'])"
   ]
  },
  {
   "cell_type": "markdown",
   "metadata": {},
   "source": [
    "Посмотрим на распределение пропусков в данных:"
   ]
  },
  {
   "cell_type": "code",
   "execution_count": 128,
   "metadata": {},
   "outputs": [
    {
     "data": {
      "image/png": "[encoded data removed]",
      "text/plain": [
       "<Figure size 576x144 with 1 Axes>"
      ]
     },
     "metadata": {
      "needs_background": "light"
     },
     "output_type": "display_data"
    }
   ],
   "source": [
    "temp[['time', 'temp']].set_index('time').isna().resample('6h').max().plot(\n",
    "    include_bool=True, figsize=(8, 2), title='Распределение пропусков по времени',\n",
    "    xlabel='Дата', ylabel='Наличие пропуска', yticks=[0, 1]);"
   ]
  },
  {
   "cell_type": "code",
   "execution_count": 129,
   "metadata": {},
   "outputs": [
    {
     "data": {
      "text/html": [
       "<div>\n",
       "<style scoped>\n",
       "    .dataframe tbody tr th:only-of-type {\n",
       "        vertical-align: middle;\n",
       "    }\n",
       "\n",
       "    .dataframe tbody tr th {\n",
       "        vertical-align: top;\n",
       "    }\n",
       "\n",
       "    .dataframe thead th {\n",
       "        text-align: right;\n",
       "    }\n",
       "</style>\n",
       "<table border=\"1\" class=\"dataframe\">\n",
       "  <thead>\n",
       "    <tr style=\"text-align: right;\">\n",
       "      <th></th>\n",
       "      <th>key</th>\n",
       "      <th>time</th>\n",
       "      <th>temp</th>\n",
       "    </tr>\n",
       "  </thead>\n",
       "  <tbody>\n",
       "    <tr>\n",
       "      <th>13927</th>\n",
       "      <td>2500</td>\n",
       "      <td>2019-08-10 14:13:11</td>\n",
       "      <td>NaN</td>\n",
       "    </tr>\n",
       "    <tr>\n",
       "      <th>13928</th>\n",
       "      <td>2500</td>\n",
       "      <td>2019-08-10 14:18:12</td>\n",
       "      <td>NaN</td>\n",
       "    </tr>\n",
       "    <tr>\n",
       "      <th>13929</th>\n",
       "      <td>2500</td>\n",
       "      <td>2019-08-10 14:25:53</td>\n",
       "      <td>NaN</td>\n",
       "    </tr>\n",
       "    <tr>\n",
       "      <th>13930</th>\n",
       "      <td>2500</td>\n",
       "      <td>2019-08-10 14:29:39</td>\n",
       "      <td>NaN</td>\n",
       "    </tr>\n",
       "    <tr>\n",
       "      <th>13931</th>\n",
       "      <td>2501</td>\n",
       "      <td>2019-08-10 14:41:14</td>\n",
       "      <td>1587.0</td>\n",
       "    </tr>\n",
       "    <tr>\n",
       "      <th>13932</th>\n",
       "      <td>2501</td>\n",
       "      <td>2019-08-10 14:49:15</td>\n",
       "      <td>NaN</td>\n",
       "    </tr>\n",
       "    <tr>\n",
       "      <th>13933</th>\n",
       "      <td>2501</td>\n",
       "      <td>2019-08-10 15:02:56</td>\n",
       "      <td>NaN</td>\n",
       "    </tr>\n",
       "    <tr>\n",
       "      <th>13934</th>\n",
       "      <td>2501</td>\n",
       "      <td>2019-08-10 15:07:47</td>\n",
       "      <td>NaN</td>\n",
       "    </tr>\n",
       "    <tr>\n",
       "      <th>13935</th>\n",
       "      <td>2501</td>\n",
       "      <td>2019-08-10 15:16:53</td>\n",
       "      <td>NaN</td>\n",
       "    </tr>\n",
       "    <tr>\n",
       "      <th>13936</th>\n",
       "      <td>2501</td>\n",
       "      <td>2019-08-10 15:22:50</td>\n",
       "      <td>NaN</td>\n",
       "    </tr>\n",
       "    <tr>\n",
       "      <th>13937</th>\n",
       "      <td>2501</td>\n",
       "      <td>2019-08-10 15:29:00</td>\n",
       "      <td>NaN</td>\n",
       "    </tr>\n",
       "    <tr>\n",
       "      <th>13938</th>\n",
       "      <td>2502</td>\n",
       "      <td>2019-08-10 15:39:39</td>\n",
       "      <td>1583.0</td>\n",
       "    </tr>\n",
       "    <tr>\n",
       "      <th>13939</th>\n",
       "      <td>2502</td>\n",
       "      <td>2019-08-10 15:47:31</td>\n",
       "      <td>NaN</td>\n",
       "    </tr>\n",
       "    <tr>\n",
       "      <th>13940</th>\n",
       "      <td>2502</td>\n",
       "      <td>2019-08-10 15:53:16</td>\n",
       "      <td>NaN</td>\n",
       "    </tr>\n",
       "    <tr>\n",
       "      <th>13941</th>\n",
       "      <td>2502</td>\n",
       "      <td>2019-08-10 15:59:29</td>\n",
       "      <td>NaN</td>\n",
       "    </tr>\n",
       "    <tr>\n",
       "      <th>13942</th>\n",
       "      <td>2502</td>\n",
       "      <td>2019-08-10 16:04:55</td>\n",
       "      <td>NaN</td>\n",
       "    </tr>\n",
       "    <tr>\n",
       "      <th>13943</th>\n",
       "      <td>2503</td>\n",
       "      <td>2019-08-10 16:27:44</td>\n",
       "      <td>1603.0</td>\n",
       "    </tr>\n",
       "    <tr>\n",
       "      <th>13944</th>\n",
       "      <td>2503</td>\n",
       "      <td>2019-08-10 16:38:49</td>\n",
       "      <td>NaN</td>\n",
       "    </tr>\n",
       "    <tr>\n",
       "      <th>13945</th>\n",
       "      <td>2503</td>\n",
       "      <td>2019-08-10 16:51:14</td>\n",
       "      <td>NaN</td>\n",
       "    </tr>\n",
       "    <tr>\n",
       "      <th>13946</th>\n",
       "      <td>2503</td>\n",
       "      <td>2019-08-10 17:03:21</td>\n",
       "      <td>NaN</td>\n",
       "    </tr>\n",
       "  </tbody>\n",
       "</table>\n",
       "</div>"
      ],
      "text/plain": [
       "        key                time    temp\n",
       "13927  2500 2019-08-10 14:13:11     NaN\n",
       "13928  2500 2019-08-10 14:18:12     NaN\n",
       "13929  2500 2019-08-10 14:25:53     NaN\n",
       "13930  2500 2019-08-10 14:29:39     NaN\n",
       "13931  2501 2019-08-10 14:41:14  1587.0\n",
       "13932  2501 2019-08-10 14:49:15     NaN\n",
       "13933  2501 2019-08-10 15:02:56     NaN\n",
       "13934  2501 2019-08-10 15:07:47     NaN\n",
       "13935  2501 2019-08-10 15:16:53     NaN\n",
       "13936  2501 2019-08-10 15:22:50     NaN\n",
       "13937  2501 2019-08-10 15:29:00     NaN\n",
       "13938  2502 2019-08-10 15:39:39  1583.0\n",
       "13939  2502 2019-08-10 15:47:31     NaN\n",
       "13940  2502 2019-08-10 15:53:16     NaN\n",
       "13941  2502 2019-08-10 15:59:29     NaN\n",
       "13942  2502 2019-08-10 16:04:55     NaN\n",
       "13943  2503 2019-08-10 16:27:44  1603.0\n",
       "13944  2503 2019-08-10 16:38:49     NaN\n",
       "13945  2503 2019-08-10 16:51:14     NaN\n",
       "13946  2503 2019-08-10 17:03:21     NaN"
      ]
     },
     "execution_count": 129,
     "metadata": {},
     "output_type": "execute_result"
    }
   ],
   "source": [
    "temp.loc[temp[temp['temp'].isna()].head(1).index[0]:].head(20)"
   ]
  },
  {
   "cell_type": "markdown",
   "metadata": {},
   "source": [
    "Начиная с определенной даты `2019-08-10 14:13:11` информация о партиях содержит только первое измерение температуры. Так как нам в качестве целевого признака нужно последнее измерение температуры, данные партии не могут использоваться для обучения и тестирования модели. От многих данных начиная с 2500 партии придется избавиться."
   ]
  },
  {
   "cell_type": "code",
   "execution_count": 130,
   "metadata": {},
   "outputs": [
    {
     "data": {
      "text/html": [
       "<div>\n",
       "<style scoped>\n",
       "    .dataframe tbody tr th:only-of-type {\n",
       "        vertical-align: middle;\n",
       "    }\n",
       "\n",
       "    .dataframe tbody tr th {\n",
       "        vertical-align: top;\n",
       "    }\n",
       "\n",
       "    .dataframe thead th {\n",
       "        text-align: right;\n",
       "    }\n",
       "</style>\n",
       "<table border=\"1\" class=\"dataframe\">\n",
       "  <thead>\n",
       "    <tr style=\"text-align: right;\">\n",
       "      <th></th>\n",
       "      <th>key</th>\n",
       "      <th>temp</th>\n",
       "    </tr>\n",
       "  </thead>\n",
       "  <tbody>\n",
       "    <tr>\n",
       "      <th>count</th>\n",
       "      <td>18092.00</td>\n",
       "      <td>14665.00</td>\n",
       "    </tr>\n",
       "    <tr>\n",
       "      <th>mean</th>\n",
       "      <td>1616.46</td>\n",
       "      <td>1590.72</td>\n",
       "    </tr>\n",
       "    <tr>\n",
       "      <th>std</th>\n",
       "      <td>934.64</td>\n",
       "      <td>20.39</td>\n",
       "    </tr>\n",
       "    <tr>\n",
       "      <th>min</th>\n",
       "      <td>1.00</td>\n",
       "      <td>1191.00</td>\n",
       "    </tr>\n",
       "    <tr>\n",
       "      <th>25%</th>\n",
       "      <td>807.75</td>\n",
       "      <td>1580.00</td>\n",
       "    </tr>\n",
       "    <tr>\n",
       "      <th>50%</th>\n",
       "      <td>1618.00</td>\n",
       "      <td>1590.00</td>\n",
       "    </tr>\n",
       "    <tr>\n",
       "      <th>75%</th>\n",
       "      <td>2429.00</td>\n",
       "      <td>1599.00</td>\n",
       "    </tr>\n",
       "    <tr>\n",
       "      <th>max</th>\n",
       "      <td>3241.00</td>\n",
       "      <td>1705.00</td>\n",
       "    </tr>\n",
       "  </tbody>\n",
       "</table>\n",
       "</div>"
      ],
      "text/plain": [
       "            key      temp\n",
       "count  18092.00  14665.00\n",
       "mean    1616.46   1590.72\n",
       "std      934.64     20.39\n",
       "min        1.00   1191.00\n",
       "25%      807.75   1580.00\n",
       "50%     1618.00   1590.00\n",
       "75%     2429.00   1599.00\n",
       "max     3241.00   1705.00"
      ]
     },
     "execution_count": 130,
     "metadata": {},
     "output_type": "execute_result"
    }
   ],
   "source": [
    "temp.describe().round(2)"
   ]
  },
  {
   "cell_type": "code",
   "execution_count": 131,
   "metadata": {},
   "outputs": [
    {
     "data": {
      "text/plain": [
       "4883     1191.0\n",
       "14283    1204.0\n",
       "6784     1208.0\n",
       "9050     1218.0\n",
       "11495    1227.0\n",
       "11499    1515.0\n",
       "9359     1519.0\n",
       "5117     1520.0\n",
       "2881     1520.0\n",
       "4889     1521.0\n",
       "Name: temp, dtype: float64"
      ]
     },
     "execution_count": 131,
     "metadata": {},
     "output_type": "execute_result"
    }
   ],
   "source": [
    "temp['temp'].sort_values().head(10)"
   ]
  },
  {
   "cell_type": "code",
   "execution_count": 132,
   "metadata": {},
   "outputs": [
    {
     "data": {
      "text/html": [
       "<div>\n",
       "<style scoped>\n",
       "    .dataframe tbody tr th:only-of-type {\n",
       "        vertical-align: middle;\n",
       "    }\n",
       "\n",
       "    .dataframe tbody tr th {\n",
       "        vertical-align: top;\n",
       "    }\n",
       "\n",
       "    .dataframe thead th {\n",
       "        text-align: right;\n",
       "    }\n",
       "</style>\n",
       "<table border=\"1\" class=\"dataframe\">\n",
       "  <thead>\n",
       "    <tr style=\"text-align: right;\">\n",
       "      <th></th>\n",
       "      <th>key</th>\n",
       "      <th>time</th>\n",
       "      <th>temp</th>\n",
       "    </tr>\n",
       "  </thead>\n",
       "  <tbody>\n",
       "    <tr>\n",
       "      <th>4883</th>\n",
       "      <td>867</td>\n",
       "      <td>2019-06-06 08:03:39</td>\n",
       "      <td>1191.0</td>\n",
       "    </tr>\n",
       "    <tr>\n",
       "      <th>4884</th>\n",
       "      <td>867</td>\n",
       "      <td>2019-06-06 08:18:52</td>\n",
       "      <td>1575.0</td>\n",
       "    </tr>\n",
       "    <tr>\n",
       "      <th>4885</th>\n",
       "      <td>867</td>\n",
       "      <td>2019-06-06 08:22:38</td>\n",
       "      <td>1576.0</td>\n",
       "    </tr>\n",
       "    <tr>\n",
       "      <th>4886</th>\n",
       "      <td>867</td>\n",
       "      <td>2019-06-06 08:25:11</td>\n",
       "      <td>1571.0</td>\n",
       "    </tr>\n",
       "    <tr>\n",
       "      <th>4887</th>\n",
       "      <td>867</td>\n",
       "      <td>2019-06-06 08:29:49</td>\n",
       "      <td>1600.0</td>\n",
       "    </tr>\n",
       "    <tr>\n",
       "      <th>4888</th>\n",
       "      <td>867</td>\n",
       "      <td>2019-06-06 08:36:49</td>\n",
       "      <td>1522.0</td>\n",
       "    </tr>\n",
       "    <tr>\n",
       "      <th>4889</th>\n",
       "      <td>867</td>\n",
       "      <td>2019-06-06 08:43:02</td>\n",
       "      <td>1521.0</td>\n",
       "    </tr>\n",
       "    <tr>\n",
       "      <th>4890</th>\n",
       "      <td>867</td>\n",
       "      <td>2019-06-06 08:48:23</td>\n",
       "      <td>1599.0</td>\n",
       "    </tr>\n",
       "  </tbody>\n",
       "</table>\n",
       "</div>"
      ],
      "text/plain": [
       "      key                time    temp\n",
       "4883  867 2019-06-06 08:03:39  1191.0\n",
       "4884  867 2019-06-06 08:18:52  1575.0\n",
       "4885  867 2019-06-06 08:22:38  1576.0\n",
       "4886  867 2019-06-06 08:25:11  1571.0\n",
       "4887  867 2019-06-06 08:29:49  1600.0\n",
       "4888  867 2019-06-06 08:36:49  1522.0\n",
       "4889  867 2019-06-06 08:43:02  1521.0\n",
       "4890  867 2019-06-06 08:48:23  1599.0"
      ]
     },
     "execution_count": 132,
     "metadata": {},
     "output_type": "execute_result"
    }
   ],
   "source": [
    "temp[temp['key'] == temp.loc[4883]['key']]"
   ]
  },
  {
   "cell_type": "code",
   "execution_count": 133,
   "metadata": {},
   "outputs": [
    {
     "data": {
      "text/html": [
       "<div>\n",
       "<style scoped>\n",
       "    .dataframe tbody tr th:only-of-type {\n",
       "        vertical-align: middle;\n",
       "    }\n",
       "\n",
       "    .dataframe tbody tr th {\n",
       "        vertical-align: top;\n",
       "    }\n",
       "\n",
       "    .dataframe thead th {\n",
       "        text-align: right;\n",
       "    }\n",
       "</style>\n",
       "<table border=\"1\" class=\"dataframe\">\n",
       "  <thead>\n",
       "    <tr style=\"text-align: right;\">\n",
       "      <th></th>\n",
       "      <th>key</th>\n",
       "      <th>time</th>\n",
       "      <th>temp</th>\n",
       "    </tr>\n",
       "  </thead>\n",
       "  <tbody>\n",
       "    <tr>\n",
       "      <th>14283</th>\n",
       "      <td>2561</td>\n",
       "      <td>2019-08-12 18:49:29</td>\n",
       "      <td>1204.0</td>\n",
       "    </tr>\n",
       "    <tr>\n",
       "      <th>14284</th>\n",
       "      <td>2561</td>\n",
       "      <td>2019-08-12 18:59:23</td>\n",
       "      <td>NaN</td>\n",
       "    </tr>\n",
       "    <tr>\n",
       "      <th>14285</th>\n",
       "      <td>2561</td>\n",
       "      <td>2019-08-12 19:06:26</td>\n",
       "      <td>NaN</td>\n",
       "    </tr>\n",
       "    <tr>\n",
       "      <th>14286</th>\n",
       "      <td>2561</td>\n",
       "      <td>2019-08-12 19:11:13</td>\n",
       "      <td>NaN</td>\n",
       "    </tr>\n",
       "    <tr>\n",
       "      <th>14287</th>\n",
       "      <td>2561</td>\n",
       "      <td>2019-08-12 19:17:08</td>\n",
       "      <td>NaN</td>\n",
       "    </tr>\n",
       "    <tr>\n",
       "      <th>14288</th>\n",
       "      <td>2561</td>\n",
       "      <td>2019-08-12 19:21:45</td>\n",
       "      <td>NaN</td>\n",
       "    </tr>\n",
       "  </tbody>\n",
       "</table>\n",
       "</div>"
      ],
      "text/plain": [
       "        key                time    temp\n",
       "14283  2561 2019-08-12 18:49:29  1204.0\n",
       "14284  2561 2019-08-12 18:59:23     NaN\n",
       "14285  2561 2019-08-12 19:06:26     NaN\n",
       "14286  2561 2019-08-12 19:11:13     NaN\n",
       "14287  2561 2019-08-12 19:17:08     NaN\n",
       "14288  2561 2019-08-12 19:21:45     NaN"
      ]
     },
     "execution_count": 133,
     "metadata": {},
     "output_type": "execute_result"
    }
   ],
   "source": [
    "temp[temp['key'] == temp.loc[14283]['key']]"
   ]
  },
  {
   "cell_type": "code",
   "execution_count": 134,
   "metadata": {},
   "outputs": [
    {
     "data": {
      "text/html": [
       "<div>\n",
       "<style scoped>\n",
       "    .dataframe tbody tr th:only-of-type {\n",
       "        vertical-align: middle;\n",
       "    }\n",
       "\n",
       "    .dataframe tbody tr th {\n",
       "        vertical-align: top;\n",
       "    }\n",
       "\n",
       "    .dataframe thead th {\n",
       "        text-align: right;\n",
       "    }\n",
       "</style>\n",
       "<table border=\"1\" class=\"dataframe\">\n",
       "  <thead>\n",
       "    <tr style=\"text-align: right;\">\n",
       "      <th></th>\n",
       "      <th>key</th>\n",
       "      <th>time</th>\n",
       "      <th>temp</th>\n",
       "    </tr>\n",
       "  </thead>\n",
       "  <tbody>\n",
       "    <tr>\n",
       "      <th>6784</th>\n",
       "      <td>1214</td>\n",
       "      <td>2019-06-18 08:01:03</td>\n",
       "      <td>1208.0</td>\n",
       "    </tr>\n",
       "    <tr>\n",
       "      <th>6785</th>\n",
       "      <td>1214</td>\n",
       "      <td>2019-06-18 08:17:56</td>\n",
       "      <td>1608.0</td>\n",
       "    </tr>\n",
       "    <tr>\n",
       "      <th>6786</th>\n",
       "      <td>1214</td>\n",
       "      <td>2019-06-18 08:31:10</td>\n",
       "      <td>1608.0</td>\n",
       "    </tr>\n",
       "    <tr>\n",
       "      <th>6787</th>\n",
       "      <td>1214</td>\n",
       "      <td>2019-06-18 08:43:56</td>\n",
       "      <td>1591.0</td>\n",
       "    </tr>\n",
       "  </tbody>\n",
       "</table>\n",
       "</div>"
      ],
      "text/plain": [
       "       key                time    temp\n",
       "6784  1214 2019-06-18 08:01:03  1208.0\n",
       "6785  1214 2019-06-18 08:17:56  1608.0\n",
       "6786  1214 2019-06-18 08:31:10  1608.0\n",
       "6787  1214 2019-06-18 08:43:56  1591.0"
      ]
     },
     "execution_count": 134,
     "metadata": {},
     "output_type": "execute_result"
    }
   ],
   "source": [
    "temp[temp['key'] == temp.loc[6784]['key']]"
   ]
  },
  {
   "cell_type": "markdown",
   "metadata": {},
   "source": [
    "Несколько температур аномально низкие и находятся в начале обработки партии. Начальные значения температур будут включены в признаки, поэтому от таких партий лучше избавиться."
   ]
  },
  {
   "cell_type": "code",
   "execution_count": 135,
   "metadata": {},
   "outputs": [],
   "source": [
    "temp = temp.drop(temp[temp['key'].isin(temp[temp['temp'] < 1500]['key'])].index)"
   ]
  },
  {
   "cell_type": "code",
   "execution_count": 136,
   "metadata": {},
   "outputs": [
    {
     "data": {
      "image/png": "[encoded data removed]",
      "text/plain": [
       "<Figure size 576x144 with 1 Axes>"
      ]
     },
     "metadata": {
      "needs_background": "light"
     },
     "output_type": "display_data"
    }
   ],
   "source": [
    "temp['temp'].plot(kind='hist', bins=30, figsize=(8, 2), xlim=(1500, 1700),\n",
    "                  title='Распределение температур',\n",
    "                  xlabel='Температура', ylabel='Кол-во записей');"
   ]
  },
  {
   "cell_type": "markdown",
   "metadata": {},
   "source": [
    "Других аномалий в таблице не наблюдается."
   ]
  },
  {
   "cell_type": "markdown",
   "metadata": {},
   "source": [
    "#### data_wire_new"
   ]
  },
  {
   "cell_type": "code",
   "execution_count": 137,
   "metadata": {},
   "outputs": [
    {
     "data": {
      "text/html": [
       "<div>\n",
       "<style scoped>\n",
       "    .dataframe tbody tr th:only-of-type {\n",
       "        vertical-align: middle;\n",
       "    }\n",
       "\n",
       "    .dataframe tbody tr th {\n",
       "        vertical-align: top;\n",
       "    }\n",
       "\n",
       "    .dataframe thead th {\n",
       "        text-align: right;\n",
       "    }\n",
       "</style>\n",
       "<table border=\"1\" class=\"dataframe\">\n",
       "  <thead>\n",
       "    <tr style=\"text-align: right;\">\n",
       "      <th></th>\n",
       "      <th>key</th>\n",
       "      <th>Wire 1</th>\n",
       "      <th>Wire 2</th>\n",
       "      <th>Wire 3</th>\n",
       "      <th>Wire 4</th>\n",
       "      <th>Wire 5</th>\n",
       "      <th>Wire 6</th>\n",
       "      <th>Wire 7</th>\n",
       "      <th>Wire 8</th>\n",
       "      <th>Wire 9</th>\n",
       "    </tr>\n",
       "  </thead>\n",
       "  <tbody>\n",
       "    <tr>\n",
       "      <th>0</th>\n",
       "      <td>1</td>\n",
       "      <td>60.059998</td>\n",
       "      <td>NaN</td>\n",
       "      <td>NaN</td>\n",
       "      <td>NaN</td>\n",
       "      <td>NaN</td>\n",
       "      <td>NaN</td>\n",
       "      <td>NaN</td>\n",
       "      <td>NaN</td>\n",
       "      <td>NaN</td>\n",
       "    </tr>\n",
       "    <tr>\n",
       "      <th>1</th>\n",
       "      <td>2</td>\n",
       "      <td>96.052315</td>\n",
       "      <td>NaN</td>\n",
       "      <td>NaN</td>\n",
       "      <td>NaN</td>\n",
       "      <td>NaN</td>\n",
       "      <td>NaN</td>\n",
       "      <td>NaN</td>\n",
       "      <td>NaN</td>\n",
       "      <td>NaN</td>\n",
       "    </tr>\n",
       "    <tr>\n",
       "      <th>2</th>\n",
       "      <td>3</td>\n",
       "      <td>91.160157</td>\n",
       "      <td>NaN</td>\n",
       "      <td>NaN</td>\n",
       "      <td>NaN</td>\n",
       "      <td>NaN</td>\n",
       "      <td>NaN</td>\n",
       "      <td>NaN</td>\n",
       "      <td>NaN</td>\n",
       "      <td>NaN</td>\n",
       "    </tr>\n",
       "    <tr>\n",
       "      <th>3</th>\n",
       "      <td>4</td>\n",
       "      <td>89.063515</td>\n",
       "      <td>NaN</td>\n",
       "      <td>NaN</td>\n",
       "      <td>NaN</td>\n",
       "      <td>NaN</td>\n",
       "      <td>NaN</td>\n",
       "      <td>NaN</td>\n",
       "      <td>NaN</td>\n",
       "      <td>NaN</td>\n",
       "    </tr>\n",
       "    <tr>\n",
       "      <th>4</th>\n",
       "      <td>5</td>\n",
       "      <td>89.238236</td>\n",
       "      <td>9.114560</td>\n",
       "      <td>NaN</td>\n",
       "      <td>NaN</td>\n",
       "      <td>NaN</td>\n",
       "      <td>NaN</td>\n",
       "      <td>NaN</td>\n",
       "      <td>NaN</td>\n",
       "      <td>NaN</td>\n",
       "    </tr>\n",
       "    <tr>\n",
       "      <th>5</th>\n",
       "      <td>6</td>\n",
       "      <td>99.109917</td>\n",
       "      <td>9.114560</td>\n",
       "      <td>NaN</td>\n",
       "      <td>NaN</td>\n",
       "      <td>NaN</td>\n",
       "      <td>NaN</td>\n",
       "      <td>NaN</td>\n",
       "      <td>NaN</td>\n",
       "      <td>NaN</td>\n",
       "    </tr>\n",
       "    <tr>\n",
       "      <th>6</th>\n",
       "      <td>7</td>\n",
       "      <td>98.061600</td>\n",
       "      <td>NaN</td>\n",
       "      <td>NaN</td>\n",
       "      <td>NaN</td>\n",
       "      <td>NaN</td>\n",
       "      <td>NaN</td>\n",
       "      <td>NaN</td>\n",
       "      <td>NaN</td>\n",
       "      <td>NaN</td>\n",
       "    </tr>\n",
       "    <tr>\n",
       "      <th>7</th>\n",
       "      <td>8</td>\n",
       "      <td>155.282394</td>\n",
       "      <td>NaN</td>\n",
       "      <td>NaN</td>\n",
       "      <td>NaN</td>\n",
       "      <td>NaN</td>\n",
       "      <td>NaN</td>\n",
       "      <td>NaN</td>\n",
       "      <td>NaN</td>\n",
       "      <td>NaN</td>\n",
       "    </tr>\n",
       "    <tr>\n",
       "      <th>8</th>\n",
       "      <td>9</td>\n",
       "      <td>113.393279</td>\n",
       "      <td>9.143681</td>\n",
       "      <td>NaN</td>\n",
       "      <td>NaN</td>\n",
       "      <td>NaN</td>\n",
       "      <td>NaN</td>\n",
       "      <td>NaN</td>\n",
       "      <td>NaN</td>\n",
       "      <td>NaN</td>\n",
       "    </tr>\n",
       "    <tr>\n",
       "      <th>9</th>\n",
       "      <td>10</td>\n",
       "      <td>81.244796</td>\n",
       "      <td>12.376000</td>\n",
       "      <td>NaN</td>\n",
       "      <td>NaN</td>\n",
       "      <td>NaN</td>\n",
       "      <td>NaN</td>\n",
       "      <td>NaN</td>\n",
       "      <td>NaN</td>\n",
       "      <td>NaN</td>\n",
       "    </tr>\n",
       "  </tbody>\n",
       "</table>\n",
       "</div>"
      ],
      "text/plain": [
       "   key      Wire 1     Wire 2  Wire 3  Wire 4  Wire 5  Wire 6  Wire 7  Wire 8  \\\n",
       "0    1   60.059998        NaN     NaN     NaN     NaN     NaN     NaN     NaN   \n",
       "1    2   96.052315        NaN     NaN     NaN     NaN     NaN     NaN     NaN   \n",
       "2    3   91.160157        NaN     NaN     NaN     NaN     NaN     NaN     NaN   \n",
       "3    4   89.063515        NaN     NaN     NaN     NaN     NaN     NaN     NaN   \n",
       "4    5   89.238236   9.114560     NaN     NaN     NaN     NaN     NaN     NaN   \n",
       "5    6   99.109917   9.114560     NaN     NaN     NaN     NaN     NaN     NaN   \n",
       "6    7   98.061600        NaN     NaN     NaN     NaN     NaN     NaN     NaN   \n",
       "7    8  155.282394        NaN     NaN     NaN     NaN     NaN     NaN     NaN   \n",
       "8    9  113.393279   9.143681     NaN     NaN     NaN     NaN     NaN     NaN   \n",
       "9   10   81.244796  12.376000     NaN     NaN     NaN     NaN     NaN     NaN   \n",
       "\n",
       "   Wire 9  \n",
       "0     NaN  \n",
       "1     NaN  \n",
       "2     NaN  \n",
       "3     NaN  \n",
       "4     NaN  \n",
       "5     NaN  \n",
       "6     NaN  \n",
       "7     NaN  \n",
       "8     NaN  \n",
       "9     NaN  "
      ]
     },
     "execution_count": 137,
     "metadata": {},
     "output_type": "execute_result"
    }
   ],
   "source": [
    "wire.head(10)"
   ]
  },
  {
   "cell_type": "code",
   "execution_count": 138,
   "metadata": {},
   "outputs": [],
   "source": [
    "wire_cols = ['key']\n",
    "for col in wire.columns.drop('key'):\n",
    "    wire_cols.append(col.lower().replace(' ', '_'))\n",
    "wire.columns = wire_cols"
   ]
  },
  {
   "cell_type": "markdown",
   "metadata": {},
   "source": [
    "Таблица `data_wire_new` содержит данные о добавлении проволоки аналогично таблице `data_bulk_new`."
   ]
  },
  {
   "cell_type": "code",
   "execution_count": 139,
   "metadata": {},
   "outputs": [
    {
     "name": "stdout",
     "output_type": "stream",
     "text": [
      "<class 'pandas.core.frame.DataFrame'>\n",
      "RangeIndex: 3081 entries, 0 to 3080\n",
      "Data columns (total 10 columns):\n",
      " #   Column  Non-Null Count  Dtype  \n",
      "---  ------  --------------  -----  \n",
      " 0   key     3081 non-null   int64  \n",
      " 1   wire_1  3055 non-null   float64\n",
      " 2   wire_2  1079 non-null   float64\n",
      " 3   wire_3  63 non-null     float64\n",
      " 4   wire_4  14 non-null     float64\n",
      " 5   wire_5  1 non-null      float64\n",
      " 6   wire_6  73 non-null     float64\n",
      " 7   wire_7  11 non-null     float64\n",
      " 8   wire_8  19 non-null     float64\n",
      " 9   wire_9  29 non-null     float64\n",
      "dtypes: float64(9), int64(1)\n",
      "memory usage: 240.8 KB\n"
     ]
    }
   ],
   "source": [
    "wire.info()"
   ]
  },
  {
   "cell_type": "code",
   "execution_count": 140,
   "metadata": {},
   "outputs": [
    {
     "data": {
      "text/plain": [
       "3081"
      ]
     },
     "execution_count": 140,
     "metadata": {},
     "output_type": "execute_result"
    }
   ],
   "source": [
    "len(wire['key'].unique())"
   ]
  },
  {
   "cell_type": "code",
   "execution_count": 141,
   "metadata": {},
   "outputs": [
    {
     "data": {
      "text/html": [
       "<div>\n",
       "<style scoped>\n",
       "    .dataframe tbody tr th:only-of-type {\n",
       "        vertical-align: middle;\n",
       "    }\n",
       "\n",
       "    .dataframe tbody tr th {\n",
       "        vertical-align: top;\n",
       "    }\n",
       "\n",
       "    .dataframe thead th {\n",
       "        text-align: right;\n",
       "    }\n",
       "</style>\n",
       "<table border=\"1\" class=\"dataframe\">\n",
       "  <thead>\n",
       "    <tr style=\"text-align: right;\">\n",
       "      <th></th>\n",
       "      <th>key</th>\n",
       "      <th>wire_1</th>\n",
       "      <th>wire_2</th>\n",
       "      <th>wire_3</th>\n",
       "      <th>wire_4</th>\n",
       "      <th>wire_5</th>\n",
       "      <th>wire_6</th>\n",
       "      <th>wire_7</th>\n",
       "      <th>wire_8</th>\n",
       "      <th>wire_9</th>\n",
       "    </tr>\n",
       "  </thead>\n",
       "  <tbody>\n",
       "    <tr>\n",
       "      <th>count</th>\n",
       "      <td>3081.00</td>\n",
       "      <td>3055.00</td>\n",
       "      <td>1079.00</td>\n",
       "      <td>63.00</td>\n",
       "      <td>14.00</td>\n",
       "      <td>1.00</td>\n",
       "      <td>73.00</td>\n",
       "      <td>11.00</td>\n",
       "      <td>19.00</td>\n",
       "      <td>29.00</td>\n",
       "    </tr>\n",
       "    <tr>\n",
       "      <th>mean</th>\n",
       "      <td>1623.43</td>\n",
       "      <td>100.90</td>\n",
       "      <td>50.58</td>\n",
       "      <td>189.48</td>\n",
       "      <td>57.44</td>\n",
       "      <td>15.13</td>\n",
       "      <td>48.02</td>\n",
       "      <td>10.04</td>\n",
       "      <td>53.63</td>\n",
       "      <td>34.16</td>\n",
       "    </tr>\n",
       "    <tr>\n",
       "      <th>std</th>\n",
       "      <td>933.00</td>\n",
       "      <td>42.01</td>\n",
       "      <td>39.32</td>\n",
       "      <td>99.51</td>\n",
       "      <td>28.82</td>\n",
       "      <td>NaN</td>\n",
       "      <td>33.92</td>\n",
       "      <td>8.61</td>\n",
       "      <td>16.88</td>\n",
       "      <td>19.93</td>\n",
       "    </tr>\n",
       "    <tr>\n",
       "      <th>min</th>\n",
       "      <td>1.00</td>\n",
       "      <td>1.92</td>\n",
       "      <td>0.03</td>\n",
       "      <td>0.14</td>\n",
       "      <td>24.15</td>\n",
       "      <td>15.13</td>\n",
       "      <td>0.03</td>\n",
       "      <td>0.23</td>\n",
       "      <td>45.08</td>\n",
       "      <td>4.62</td>\n",
       "    </tr>\n",
       "    <tr>\n",
       "      <th>25%</th>\n",
       "      <td>823.00</td>\n",
       "      <td>72.12</td>\n",
       "      <td>20.19</td>\n",
       "      <td>95.14</td>\n",
       "      <td>40.81</td>\n",
       "      <td>15.13</td>\n",
       "      <td>25.05</td>\n",
       "      <td>6.76</td>\n",
       "      <td>46.09</td>\n",
       "      <td>22.06</td>\n",
       "    </tr>\n",
       "    <tr>\n",
       "      <th>50%</th>\n",
       "      <td>1619.00</td>\n",
       "      <td>100.16</td>\n",
       "      <td>40.14</td>\n",
       "      <td>235.19</td>\n",
       "      <td>45.23</td>\n",
       "      <td>15.13</td>\n",
       "      <td>42.08</td>\n",
       "      <td>9.02</td>\n",
       "      <td>46.28</td>\n",
       "      <td>30.07</td>\n",
       "    </tr>\n",
       "    <tr>\n",
       "      <th>75%</th>\n",
       "      <td>2434.00</td>\n",
       "      <td>126.06</td>\n",
       "      <td>70.23</td>\n",
       "      <td>276.25</td>\n",
       "      <td>76.12</td>\n",
       "      <td>15.13</td>\n",
       "      <td>64.21</td>\n",
       "      <td>11.89</td>\n",
       "      <td>48.09</td>\n",
       "      <td>43.86</td>\n",
       "    </tr>\n",
       "    <tr>\n",
       "      <th>max</th>\n",
       "      <td>3241.00</td>\n",
       "      <td>330.31</td>\n",
       "      <td>282.78</td>\n",
       "      <td>385.01</td>\n",
       "      <td>113.23</td>\n",
       "      <td>15.13</td>\n",
       "      <td>180.45</td>\n",
       "      <td>32.85</td>\n",
       "      <td>102.76</td>\n",
       "      <td>90.05</td>\n",
       "    </tr>\n",
       "  </tbody>\n",
       "</table>\n",
       "</div>"
      ],
      "text/plain": [
       "           key   wire_1   wire_2  wire_3  wire_4  wire_5  wire_6  wire_7  \\\n",
       "count  3081.00  3055.00  1079.00   63.00   14.00    1.00   73.00   11.00   \n",
       "mean   1623.43   100.90    50.58  189.48   57.44   15.13   48.02   10.04   \n",
       "std     933.00    42.01    39.32   99.51   28.82     NaN   33.92    8.61   \n",
       "min       1.00     1.92     0.03    0.14   24.15   15.13    0.03    0.23   \n",
       "25%     823.00    72.12    20.19   95.14   40.81   15.13   25.05    6.76   \n",
       "50%    1619.00   100.16    40.14  235.19   45.23   15.13   42.08    9.02   \n",
       "75%    2434.00   126.06    70.23  276.25   76.12   15.13   64.21   11.89   \n",
       "max    3241.00   330.31   282.78  385.01  113.23   15.13  180.45   32.85   \n",
       "\n",
       "       wire_8  wire_9  \n",
       "count   19.00   29.00  \n",
       "mean    53.63   34.16  \n",
       "std     16.88   19.93  \n",
       "min     45.08    4.62  \n",
       "25%     46.09   22.06  \n",
       "50%     46.28   30.07  \n",
       "75%     48.09   43.86  \n",
       "max    102.76   90.05  "
      ]
     },
     "execution_count": 141,
     "metadata": {},
     "output_type": "execute_result"
    }
   ],
   "source": [
    "wire.describe().round(2)"
   ]
  },
  {
   "cell_type": "markdown",
   "metadata": {},
   "source": [
    "Серьезных аномалий в объемах проволочных добавок не прослеживается."
   ]
  },
  {
   "cell_type": "markdown",
   "metadata": {},
   "source": [
    "#### data_wire_time_new"
   ]
  },
  {
   "cell_type": "code",
   "execution_count": 142,
   "metadata": {},
   "outputs": [
    {
     "data": {
      "text/html": [
       "<div>\n",
       "<style scoped>\n",
       "    .dataframe tbody tr th:only-of-type {\n",
       "        vertical-align: middle;\n",
       "    }\n",
       "\n",
       "    .dataframe tbody tr th {\n",
       "        vertical-align: top;\n",
       "    }\n",
       "\n",
       "    .dataframe thead th {\n",
       "        text-align: right;\n",
       "    }\n",
       "</style>\n",
       "<table border=\"1\" class=\"dataframe\">\n",
       "  <thead>\n",
       "    <tr style=\"text-align: right;\">\n",
       "      <th></th>\n",
       "      <th>key</th>\n",
       "      <th>Wire 1</th>\n",
       "      <th>Wire 2</th>\n",
       "      <th>Wire 3</th>\n",
       "      <th>Wire 4</th>\n",
       "      <th>Wire 5</th>\n",
       "      <th>Wire 6</th>\n",
       "      <th>Wire 7</th>\n",
       "      <th>Wire 8</th>\n",
       "      <th>Wire 9</th>\n",
       "    </tr>\n",
       "  </thead>\n",
       "  <tbody>\n",
       "    <tr>\n",
       "      <th>0</th>\n",
       "      <td>1</td>\n",
       "      <td>2019-05-03 11:06:19</td>\n",
       "      <td>NaN</td>\n",
       "      <td>NaN</td>\n",
       "      <td>NaN</td>\n",
       "      <td>NaN</td>\n",
       "      <td>NaN</td>\n",
       "      <td>NaN</td>\n",
       "      <td>NaN</td>\n",
       "      <td>NaN</td>\n",
       "    </tr>\n",
       "    <tr>\n",
       "      <th>1</th>\n",
       "      <td>2</td>\n",
       "      <td>2019-05-03 11:36:50</td>\n",
       "      <td>NaN</td>\n",
       "      <td>NaN</td>\n",
       "      <td>NaN</td>\n",
       "      <td>NaN</td>\n",
       "      <td>NaN</td>\n",
       "      <td>NaN</td>\n",
       "      <td>NaN</td>\n",
       "      <td>NaN</td>\n",
       "    </tr>\n",
       "    <tr>\n",
       "      <th>2</th>\n",
       "      <td>3</td>\n",
       "      <td>2019-05-03 12:11:46</td>\n",
       "      <td>NaN</td>\n",
       "      <td>NaN</td>\n",
       "      <td>NaN</td>\n",
       "      <td>NaN</td>\n",
       "      <td>NaN</td>\n",
       "      <td>NaN</td>\n",
       "      <td>NaN</td>\n",
       "      <td>NaN</td>\n",
       "    </tr>\n",
       "    <tr>\n",
       "      <th>3</th>\n",
       "      <td>4</td>\n",
       "      <td>2019-05-03 12:43:22</td>\n",
       "      <td>NaN</td>\n",
       "      <td>NaN</td>\n",
       "      <td>NaN</td>\n",
       "      <td>NaN</td>\n",
       "      <td>NaN</td>\n",
       "      <td>NaN</td>\n",
       "      <td>NaN</td>\n",
       "      <td>NaN</td>\n",
       "    </tr>\n",
       "    <tr>\n",
       "      <th>4</th>\n",
       "      <td>5</td>\n",
       "      <td>2019-05-03 13:20:44</td>\n",
       "      <td>2019-05-03 13:15:34</td>\n",
       "      <td>NaN</td>\n",
       "      <td>NaN</td>\n",
       "      <td>NaN</td>\n",
       "      <td>NaN</td>\n",
       "      <td>NaN</td>\n",
       "      <td>NaN</td>\n",
       "      <td>NaN</td>\n",
       "    </tr>\n",
       "    <tr>\n",
       "      <th>5</th>\n",
       "      <td>6</td>\n",
       "      <td>2019-05-03 13:57:27</td>\n",
       "      <td>2019-05-03 13:48:52</td>\n",
       "      <td>NaN</td>\n",
       "      <td>NaN</td>\n",
       "      <td>NaN</td>\n",
       "      <td>NaN</td>\n",
       "      <td>NaN</td>\n",
       "      <td>NaN</td>\n",
       "      <td>NaN</td>\n",
       "    </tr>\n",
       "    <tr>\n",
       "      <th>6</th>\n",
       "      <td>7</td>\n",
       "      <td>2019-05-03 14:18:58</td>\n",
       "      <td>NaN</td>\n",
       "      <td>NaN</td>\n",
       "      <td>NaN</td>\n",
       "      <td>NaN</td>\n",
       "      <td>NaN</td>\n",
       "      <td>NaN</td>\n",
       "      <td>NaN</td>\n",
       "      <td>NaN</td>\n",
       "    </tr>\n",
       "    <tr>\n",
       "      <th>7</th>\n",
       "      <td>8</td>\n",
       "      <td>2019-05-03 15:01:30</td>\n",
       "      <td>NaN</td>\n",
       "      <td>NaN</td>\n",
       "      <td>NaN</td>\n",
       "      <td>NaN</td>\n",
       "      <td>NaN</td>\n",
       "      <td>NaN</td>\n",
       "      <td>NaN</td>\n",
       "      <td>NaN</td>\n",
       "    </tr>\n",
       "    <tr>\n",
       "      <th>8</th>\n",
       "      <td>9</td>\n",
       "      <td>2019-05-03 15:45:44</td>\n",
       "      <td>2019-05-03 15:39:37</td>\n",
       "      <td>NaN</td>\n",
       "      <td>NaN</td>\n",
       "      <td>NaN</td>\n",
       "      <td>NaN</td>\n",
       "      <td>NaN</td>\n",
       "      <td>NaN</td>\n",
       "      <td>NaN</td>\n",
       "    </tr>\n",
       "    <tr>\n",
       "      <th>9</th>\n",
       "      <td>10</td>\n",
       "      <td>2019-05-03 16:27:00</td>\n",
       "      <td>2019-05-03 16:22:36</td>\n",
       "      <td>NaN</td>\n",
       "      <td>NaN</td>\n",
       "      <td>NaN</td>\n",
       "      <td>NaN</td>\n",
       "      <td>NaN</td>\n",
       "      <td>NaN</td>\n",
       "      <td>NaN</td>\n",
       "    </tr>\n",
       "  </tbody>\n",
       "</table>\n",
       "</div>"
      ],
      "text/plain": [
       "   key               Wire 1               Wire 2 Wire 3 Wire 4 Wire 5 Wire 6  \\\n",
       "0    1  2019-05-03 11:06:19                  NaN    NaN    NaN    NaN    NaN   \n",
       "1    2  2019-05-03 11:36:50                  NaN    NaN    NaN    NaN    NaN   \n",
       "2    3  2019-05-03 12:11:46                  NaN    NaN    NaN    NaN    NaN   \n",
       "3    4  2019-05-03 12:43:22                  NaN    NaN    NaN    NaN    NaN   \n",
       "4    5  2019-05-03 13:20:44  2019-05-03 13:15:34    NaN    NaN    NaN    NaN   \n",
       "5    6  2019-05-03 13:57:27  2019-05-03 13:48:52    NaN    NaN    NaN    NaN   \n",
       "6    7  2019-05-03 14:18:58                  NaN    NaN    NaN    NaN    NaN   \n",
       "7    8  2019-05-03 15:01:30                  NaN    NaN    NaN    NaN    NaN   \n",
       "8    9  2019-05-03 15:45:44  2019-05-03 15:39:37    NaN    NaN    NaN    NaN   \n",
       "9   10  2019-05-03 16:27:00  2019-05-03 16:22:36    NaN    NaN    NaN    NaN   \n",
       "\n",
       "  Wire 7 Wire 8 Wire 9  \n",
       "0    NaN    NaN    NaN  \n",
       "1    NaN    NaN    NaN  \n",
       "2    NaN    NaN    NaN  \n",
       "3    NaN    NaN    NaN  \n",
       "4    NaN    NaN    NaN  \n",
       "5    NaN    NaN    NaN  \n",
       "6    NaN    NaN    NaN  \n",
       "7    NaN    NaN    NaN  \n",
       "8    NaN    NaN    NaN  \n",
       "9    NaN    NaN    NaN  "
      ]
     },
     "execution_count": 142,
     "metadata": {},
     "output_type": "execute_result"
    }
   ],
   "source": [
    "wire_time.head(10)"
   ]
  },
  {
   "cell_type": "code",
   "execution_count": 143,
   "metadata": {},
   "outputs": [],
   "source": [
    "wire_time.columns = wire_cols"
   ]
  },
  {
   "cell_type": "markdown",
   "metadata": {},
   "source": [
    "Таблица `data_wire_time_new` аналогична `data_bulk_time_new`."
   ]
  },
  {
   "cell_type": "code",
   "execution_count": 144,
   "metadata": {},
   "outputs": [
    {
     "name": "stdout",
     "output_type": "stream",
     "text": [
      "<class 'pandas.core.frame.DataFrame'>\n",
      "RangeIndex: 3081 entries, 0 to 3080\n",
      "Data columns (total 10 columns):\n",
      " #   Column  Non-Null Count  Dtype \n",
      "---  ------  --------------  ----- \n",
      " 0   key     3081 non-null   int64 \n",
      " 1   wire_1  3055 non-null   object\n",
      " 2   wire_2  1079 non-null   object\n",
      " 3   wire_3  63 non-null     object\n",
      " 4   wire_4  14 non-null     object\n",
      " 5   wire_5  1 non-null      object\n",
      " 6   wire_6  73 non-null     object\n",
      " 7   wire_7  11 non-null     object\n",
      " 8   wire_8  19 non-null     object\n",
      " 9   wire_9  29 non-null     object\n",
      "dtypes: int64(1), object(9)\n",
      "memory usage: 240.8+ KB\n"
     ]
    }
   ],
   "source": [
    "wire_time.info()"
   ]
  },
  {
   "cell_type": "code",
   "execution_count": 145,
   "metadata": {},
   "outputs": [],
   "source": [
    "for col in wire_time.columns.drop('key'):\n",
    "    wire_time[col] = pd.to_datetime(wire_time[col])"
   ]
  },
  {
   "cell_type": "code",
   "execution_count": 146,
   "metadata": {},
   "outputs": [
    {
     "data": {
      "text/plain": [
       "3081"
      ]
     },
     "execution_count": 146,
     "metadata": {},
     "output_type": "execute_result"
    }
   ],
   "source": [
    "len(wire_time['key'].unique())"
   ]
  },
  {
   "cell_type": "code",
   "execution_count": 147,
   "metadata": {},
   "outputs": [
    {
     "data": {
      "text/plain": [
       "0"
      ]
     },
     "execution_count": 147,
     "metadata": {},
     "output_type": "execute_result"
    }
   ],
   "source": [
    "(wire.isna() != wire_time.isna()).sum().sum()"
   ]
  },
  {
   "cell_type": "markdown",
   "metadata": {},
   "source": [
    "Аномалий не замечено."
   ]
  },
  {
   "cell_type": "markdown",
   "metadata": {},
   "source": [
    "### Восстановление технологического процесса"
   ]
  },
  {
   "cell_type": "markdown",
   "metadata": {},
   "source": [
    "Исходные данные распределены по разным таблицам, что затрудняет изучение взаимосвязей процессов, происходящих с каждой партией. Объеденим все события в одну одну, восстановив хронологию технологического процесса для каждой партии."
   ]
  },
  {
   "cell_type": "markdown",
   "metadata": {},
   "source": [
    "Таблицы объема и времени добавления легирующих элементов развернуты в виде сводных таблиц, их необходимо свернуть. Затем добавим все события в единую хронологическую таблицу:"
   ]
  },
  {
   "cell_type": "code",
   "execution_count": 148,
   "metadata": {},
   "outputs": [
    {
     "data": {
      "text/html": [
       "<div>\n",
       "<style scoped>\n",
       "    .dataframe tbody tr th:only-of-type {\n",
       "        vertical-align: middle;\n",
       "    }\n",
       "\n",
       "    .dataframe tbody tr th {\n",
       "        vertical-align: top;\n",
       "    }\n",
       "\n",
       "    .dataframe thead th {\n",
       "        text-align: right;\n",
       "    }\n",
       "</style>\n",
       "<table border=\"1\" class=\"dataframe\">\n",
       "  <thead>\n",
       "    <tr style=\"text-align: right;\">\n",
       "      <th></th>\n",
       "      <th>key</th>\n",
       "      <th>time</th>\n",
       "      <th>value</th>\n",
       "      <th>variable</th>\n",
       "    </tr>\n",
       "  </thead>\n",
       "  <tbody>\n",
       "    <tr>\n",
       "      <th>0</th>\n",
       "      <td>1</td>\n",
       "      <td>2019-05-03 11:02:04</td>\n",
       "      <td>1571.000000</td>\n",
       "      <td>temp</td>\n",
       "    </tr>\n",
       "    <tr>\n",
       "      <th>1</th>\n",
       "      <td>1</td>\n",
       "      <td>2019-05-03 11:02:14</td>\n",
       "      <td>0.516383</td>\n",
       "      <td>heating_start</td>\n",
       "    </tr>\n",
       "    <tr>\n",
       "      <th>2</th>\n",
       "      <td>1</td>\n",
       "      <td>2019-05-03 11:06:02</td>\n",
       "      <td>0.516383</td>\n",
       "      <td>heating_end</td>\n",
       "    </tr>\n",
       "    <tr>\n",
       "      <th>3</th>\n",
       "      <td>1</td>\n",
       "      <td>2019-05-03 11:06:19</td>\n",
       "      <td>60.059998</td>\n",
       "      <td>wire_1</td>\n",
       "    </tr>\n",
       "    <tr>\n",
       "      <th>4</th>\n",
       "      <td>1</td>\n",
       "      <td>2019-05-03 11:07:18</td>\n",
       "      <td>1604.000000</td>\n",
       "      <td>temp</td>\n",
       "    </tr>\n",
       "    <tr>\n",
       "      <th>5</th>\n",
       "      <td>1</td>\n",
       "      <td>2019-05-03 11:07:28</td>\n",
       "      <td>1.243096</td>\n",
       "      <td>heating_start</td>\n",
       "    </tr>\n",
       "    <tr>\n",
       "      <th>6</th>\n",
       "      <td>1</td>\n",
       "      <td>2019-05-03 11:10:33</td>\n",
       "      <td>1.243096</td>\n",
       "      <td>heating_end</td>\n",
       "    </tr>\n",
       "    <tr>\n",
       "      <th>7</th>\n",
       "      <td>1</td>\n",
       "      <td>2019-05-03 11:10:43</td>\n",
       "      <td>154.000000</td>\n",
       "      <td>bulk_15</td>\n",
       "    </tr>\n",
       "    <tr>\n",
       "      <th>8</th>\n",
       "      <td>1</td>\n",
       "      <td>2019-05-03 11:11:34</td>\n",
       "      <td>1618.000000</td>\n",
       "      <td>temp</td>\n",
       "    </tr>\n",
       "    <tr>\n",
       "      <th>9</th>\n",
       "      <td>1</td>\n",
       "      <td>2019-05-03 11:11:44</td>\n",
       "      <td>1.010773</td>\n",
       "      <td>heating_start</td>\n",
       "    </tr>\n",
       "    <tr>\n",
       "      <th>10</th>\n",
       "      <td>1</td>\n",
       "      <td>2019-05-03 11:14:36</td>\n",
       "      <td>1.010773</td>\n",
       "      <td>heating_end</td>\n",
       "    </tr>\n",
       "    <tr>\n",
       "      <th>11</th>\n",
       "      <td>1</td>\n",
       "      <td>2019-05-03 11:14:50</td>\n",
       "      <td>150.000000</td>\n",
       "      <td>bulk_14</td>\n",
       "    </tr>\n",
       "    <tr>\n",
       "      <th>12</th>\n",
       "      <td>1</td>\n",
       "      <td>2019-05-03 11:18:04</td>\n",
       "      <td>1601.000000</td>\n",
       "      <td>temp</td>\n",
       "    </tr>\n",
       "    <tr>\n",
       "      <th>13</th>\n",
       "      <td>1</td>\n",
       "      <td>2019-05-03 11:18:14</td>\n",
       "      <td>0.898475</td>\n",
       "      <td>heating_start</td>\n",
       "    </tr>\n",
       "    <tr>\n",
       "      <th>14</th>\n",
       "      <td>1</td>\n",
       "      <td>2019-05-03 11:24:19</td>\n",
       "      <td>0.898475</td>\n",
       "      <td>heating_end</td>\n",
       "    </tr>\n",
       "    <tr>\n",
       "      <th>15</th>\n",
       "      <td>1</td>\n",
       "      <td>2019-05-03 11:24:31</td>\n",
       "      <td>206.000000</td>\n",
       "      <td>bulk_12</td>\n",
       "    </tr>\n",
       "    <tr>\n",
       "      <th>16</th>\n",
       "      <td>1</td>\n",
       "      <td>2019-05-03 11:25:59</td>\n",
       "      <td>1606.000000</td>\n",
       "      <td>temp</td>\n",
       "    </tr>\n",
       "    <tr>\n",
       "      <th>17</th>\n",
       "      <td>1</td>\n",
       "      <td>2019-05-03 11:26:09</td>\n",
       "      <td>1.510824</td>\n",
       "      <td>heating_start</td>\n",
       "    </tr>\n",
       "    <tr>\n",
       "      <th>18</th>\n",
       "      <td>1</td>\n",
       "      <td>2019-05-03 11:28:37</td>\n",
       "      <td>1.510824</td>\n",
       "      <td>heating_end</td>\n",
       "    </tr>\n",
       "    <tr>\n",
       "      <th>19</th>\n",
       "      <td>1</td>\n",
       "      <td>2019-05-03 11:28:48</td>\n",
       "      <td>43.000000</td>\n",
       "      <td>bulk_4</td>\n",
       "    </tr>\n",
       "    <tr>\n",
       "      <th>20</th>\n",
       "      <td>1</td>\n",
       "      <td>2019-05-03 11:30:38</td>\n",
       "      <td>1613.000000</td>\n",
       "      <td>temp</td>\n",
       "    </tr>\n",
       "    <tr>\n",
       "      <th>21</th>\n",
       "      <td>2</td>\n",
       "      <td>2019-05-03 11:34:04</td>\n",
       "      <td>1581.000000</td>\n",
       "      <td>temp</td>\n",
       "    </tr>\n",
       "    <tr>\n",
       "      <th>22</th>\n",
       "      <td>2</td>\n",
       "      <td>2019-05-03 11:34:14</td>\n",
       "      <td>0.601475</td>\n",
       "      <td>heating_start</td>\n",
       "    </tr>\n",
       "    <tr>\n",
       "      <th>23</th>\n",
       "      <td>2</td>\n",
       "      <td>2019-05-03 11:36:31</td>\n",
       "      <td>0.601475</td>\n",
       "      <td>heating_end</td>\n",
       "    </tr>\n",
       "    <tr>\n",
       "      <th>24</th>\n",
       "      <td>2</td>\n",
       "      <td>2019-05-03 11:36:50</td>\n",
       "      <td>73.000000</td>\n",
       "      <td>bulk_4</td>\n",
       "    </tr>\n",
       "    <tr>\n",
       "      <th>25</th>\n",
       "      <td>2</td>\n",
       "      <td>2019-05-03 11:36:50</td>\n",
       "      <td>96.052315</td>\n",
       "      <td>wire_1</td>\n",
       "    </tr>\n",
       "    <tr>\n",
       "      <th>26</th>\n",
       "      <td>2</td>\n",
       "      <td>2019-05-03 11:38:40</td>\n",
       "      <td>1577.000000</td>\n",
       "      <td>temp</td>\n",
       "    </tr>\n",
       "    <tr>\n",
       "      <th>27</th>\n",
       "      <td>2</td>\n",
       "      <td>2019-05-03 11:38:50</td>\n",
       "      <td>0.467192</td>\n",
       "      <td>heating_start</td>\n",
       "    </tr>\n",
       "    <tr>\n",
       "      <th>28</th>\n",
       "      <td>2</td>\n",
       "      <td>2019-05-03 11:44:28</td>\n",
       "      <td>0.467192</td>\n",
       "      <td>heating_end</td>\n",
       "    </tr>\n",
       "    <tr>\n",
       "      <th>29</th>\n",
       "      <td>2</td>\n",
       "      <td>2019-05-03 11:44:39</td>\n",
       "      <td>154.000000</td>\n",
       "      <td>bulk_15</td>\n",
       "    </tr>\n",
       "    <tr>\n",
       "      <th>30</th>\n",
       "      <td>2</td>\n",
       "      <td>2019-05-03 11:46:09</td>\n",
       "      <td>1589.000000</td>\n",
       "      <td>temp</td>\n",
       "    </tr>\n",
       "    <tr>\n",
       "      <th>31</th>\n",
       "      <td>2</td>\n",
       "      <td>2019-05-03 11:46:19</td>\n",
       "      <td>1.195259</td>\n",
       "      <td>heating_start</td>\n",
       "    </tr>\n",
       "    <tr>\n",
       "      <th>32</th>\n",
       "      <td>2</td>\n",
       "      <td>2019-05-03 11:48:25</td>\n",
       "      <td>1.195259</td>\n",
       "      <td>heating_end</td>\n",
       "    </tr>\n",
       "    <tr>\n",
       "      <th>33</th>\n",
       "      <td>2</td>\n",
       "      <td>2019-05-03 11:48:37</td>\n",
       "      <td>149.000000</td>\n",
       "      <td>bulk_14</td>\n",
       "    </tr>\n",
       "    <tr>\n",
       "      <th>34</th>\n",
       "      <td>2</td>\n",
       "      <td>2019-05-03 11:49:38</td>\n",
       "      <td>1604.000000</td>\n",
       "      <td>temp</td>\n",
       "    </tr>\n",
       "    <tr>\n",
       "      <th>35</th>\n",
       "      <td>2</td>\n",
       "      <td>2019-05-03 11:49:48</td>\n",
       "      <td>1.328839</td>\n",
       "      <td>heating_start</td>\n",
       "    </tr>\n",
       "    <tr>\n",
       "      <th>36</th>\n",
       "      <td>2</td>\n",
       "      <td>2019-05-03 11:53:18</td>\n",
       "      <td>1.328839</td>\n",
       "      <td>heating_end</td>\n",
       "    </tr>\n",
       "    <tr>\n",
       "      <th>37</th>\n",
       "      <td>2</td>\n",
       "      <td>2019-05-03 11:53:30</td>\n",
       "      <td>206.000000</td>\n",
       "      <td>bulk_12</td>\n",
       "    </tr>\n",
       "    <tr>\n",
       "      <th>38</th>\n",
       "      <td>2</td>\n",
       "      <td>2019-05-03 11:55:09</td>\n",
       "      <td>1602.000000</td>\n",
       "      <td>temp</td>\n",
       "    </tr>\n",
       "    <tr>\n",
       "      <th>39</th>\n",
       "      <td>3</td>\n",
       "      <td>2019-05-03 12:06:44</td>\n",
       "      <td>1596.000000</td>\n",
       "      <td>temp</td>\n",
       "    </tr>\n",
       "  </tbody>\n",
       "</table>\n",
       "</div>"
      ],
      "text/plain": [
       "    key                time        value       variable\n",
       "0     1 2019-05-03 11:02:04  1571.000000           temp\n",
       "1     1 2019-05-03 11:02:14     0.516383  heating_start\n",
       "2     1 2019-05-03 11:06:02     0.516383    heating_end\n",
       "3     1 2019-05-03 11:06:19    60.059998         wire_1\n",
       "4     1 2019-05-03 11:07:18  1604.000000           temp\n",
       "5     1 2019-05-03 11:07:28     1.243096  heating_start\n",
       "6     1 2019-05-03 11:10:33     1.243096    heating_end\n",
       "7     1 2019-05-03 11:10:43   154.000000        bulk_15\n",
       "8     1 2019-05-03 11:11:34  1618.000000           temp\n",
       "9     1 2019-05-03 11:11:44     1.010773  heating_start\n",
       "10    1 2019-05-03 11:14:36     1.010773    heating_end\n",
       "11    1 2019-05-03 11:14:50   150.000000        bulk_14\n",
       "12    1 2019-05-03 11:18:04  1601.000000           temp\n",
       "13    1 2019-05-03 11:18:14     0.898475  heating_start\n",
       "14    1 2019-05-03 11:24:19     0.898475    heating_end\n",
       "15    1 2019-05-03 11:24:31   206.000000        bulk_12\n",
       "16    1 2019-05-03 11:25:59  1606.000000           temp\n",
       "17    1 2019-05-03 11:26:09     1.510824  heating_start\n",
       "18    1 2019-05-03 11:28:37     1.510824    heating_end\n",
       "19    1 2019-05-03 11:28:48    43.000000         bulk_4\n",
       "20    1 2019-05-03 11:30:38  1613.000000           temp\n",
       "21    2 2019-05-03 11:34:04  1581.000000           temp\n",
       "22    2 2019-05-03 11:34:14     0.601475  heating_start\n",
       "23    2 2019-05-03 11:36:31     0.601475    heating_end\n",
       "24    2 2019-05-03 11:36:50    73.000000         bulk_4\n",
       "25    2 2019-05-03 11:36:50    96.052315         wire_1\n",
       "26    2 2019-05-03 11:38:40  1577.000000           temp\n",
       "27    2 2019-05-03 11:38:50     0.467192  heating_start\n",
       "28    2 2019-05-03 11:44:28     0.467192    heating_end\n",
       "29    2 2019-05-03 11:44:39   154.000000        bulk_15\n",
       "30    2 2019-05-03 11:46:09  1589.000000           temp\n",
       "31    2 2019-05-03 11:46:19     1.195259  heating_start\n",
       "32    2 2019-05-03 11:48:25     1.195259    heating_end\n",
       "33    2 2019-05-03 11:48:37   149.000000        bulk_14\n",
       "34    2 2019-05-03 11:49:38  1604.000000           temp\n",
       "35    2 2019-05-03 11:49:48     1.328839  heating_start\n",
       "36    2 2019-05-03 11:53:18     1.328839    heating_end\n",
       "37    2 2019-05-03 11:53:30   206.000000        bulk_12\n",
       "38    2 2019-05-03 11:55:09  1602.000000           temp\n",
       "39    3 2019-05-03 12:06:44  1596.000000           temp"
      ]
     },
     "execution_count": 148,
     "metadata": {},
     "output_type": "execute_result"
    }
   ],
   "source": [
    "# Добавим события начала и конца нагрева. Активную и реактивную мощность просуммируем\n",
    "arc['power_total'] = arc['power_active'] + arc['power_reactive']\n",
    "\n",
    "arc_start = arc[['key', 'heating_start', 'power_total']].rename(columns={'heating_start': 'time', 'power_total': 'value'})\n",
    "arc_start['variable'] = 'heating_start'\n",
    "\n",
    "arc_end = arc[['key', 'heating_end', 'power_total']].rename(columns={'heating_end': 'time', 'power_total': 'value'})\n",
    "arc_end['variable'] = 'heating_end'\n",
    "\n",
    "# Добавим события измерения температуры\n",
    "temp_full = temp.rename(columns={'temp': 'value'})\n",
    "temp_full['variable'] = 'temp'\n",
    "\n",
    "# Свернем сыпучие добавки\n",
    "bulk_full = pd.melt(bulk_time, id_vars=['key']).rename(columns={'value': 'time'}).join(\n",
    "    pd.melt(bulk, id_vars=['key'])['value'])\n",
    "\n",
    "# Свернем проволочные добавки\n",
    "wire_full = pd.melt(wire_time, id_vars=['key']).rename(columns={'value': 'time'}).join(\n",
    "    pd.melt(wire, id_vars=['key'])['value'])\n",
    "\n",
    "# Объединим все события в одну хронологическую таблицу\n",
    "events = pd.concat([arc_start, arc_end, bulk_full, wire_full, temp_full]) \\\n",
    "    .dropna().sort_values('time').reset_index(drop=True)\n",
    "events.head(40)"
   ]
  },
  {
   "cell_type": "markdown",
   "metadata": {},
   "source": [
    "Теперь мы можем восстановить хронологию обработки типичной партии сплава:\n",
    "1. Замер начальной температуры сплава.\n",
    "2. Нагрев сплава.\n",
    "3. Добавление легирующих элементов. Иногда не добавляется ничего.\n",
    "4. Контрольный замер температуры. Повторение цикла с пункта 2 до готовности сплава."
   ]
  },
  {
   "cell_type": "markdown",
   "metadata": {},
   "source": [
    "### Выводы по EDA"
   ]
  },
  {
   "cell_type": "markdown",
   "metadata": {},
   "source": [
    "Разведочный анализ данных показал, что данные о технологическом процессе распределены по нескольким таблицам. В таблицах присутствуют редкие аномалии. Есть значительное количество пропусков в данных об измерении температуры - обучить модель на партиях с пропусками температуры не получится, эти данные исключены.\n",
    "\n",
    "Данные могут быть использованы для формирования признаков для обучения модели. В данных присутсвует целевой признак - последнее измерение температуры в партии. Можно переходить к обучению предсказательной модели."
   ]
  },
  {
   "cell_type": "markdown",
   "metadata": {},
   "source": [
    "## Подготовка признаков к обучению"
   ]
  },
  {
   "cell_type": "markdown",
   "metadata": {},
   "source": [
    "### Определение признаков"
   ]
  },
  {
   "cell_type": "markdown",
   "metadata": {},
   "source": [
    "Для обучения модели необходимо выделить набор важных взаимно независимых признаков, чтобы не перегрузать модель параметрами и не переобучить. При этом допускается исключение некоторых малозначимых признаков.\n",
    "\n",
    "Исходя из известного нам технологического процесса и имеющихся данных, можно выделить следующие факторы, влияющие на конечную температуру сплава:\n",
    "- предыдущая температура\n",
    "- длительность и интенсивность итераций нагрева\n",
    "- состав сплава\n",
    "- объемы продувки газом\n",
    "- время обработки\n",
    "\n",
    "Данные факторы можно использовать как признаки для обучения модели. Извлечь их можно из исходных данных."
   ]
  },
  {
   "cell_type": "markdown",
   "metadata": {},
   "source": [
    "Как показал EDA, технологический процесс каждой партии состоит из нефиксированного количества одинаковых итераций: нагрев -> добавки -> измерение температуры. Таким образом можно декомпозировать обработку партий на отдельные итерации, на основе которых и обучить модель."
   ]
  },
  {
   "cell_type": "markdown",
   "metadata": {},
   "source": [
    "Какие признаки для каждой итерации возможно сформировать:\n",
    "- Изменение температуры. Любая из итераций имеет начальную и конечную температуры. Компонент целевого признака.\n",
    "- Мощность нагрева. Объем содержимого ковша-печи предполагается постоянным, поэтому температура тесно связана со скоростью нагрева.\n",
    "- Накопленный объем сыпучих материалов (15 признаков) и проволоки (9 признаков). Предполагается, что изначальный сплав всех партий одинаковый, и меняется только при добавлении легирующих элементов на разных этапах обработки партии.\n",
    "- Объем продувки инертными газами. Данный признак остается неизменным для любой итерации в партии.\n",
    "- Длительность итерации. Нельзя исключать фактор потери энергии на теплообмен с окружающей средой и другие скрытые временные факторы."
   ]
  },
  {
   "cell_type": "markdown",
   "metadata": {},
   "source": [
    "### Формирование признаков"
   ]
  },
  {
   "cell_type": "markdown",
   "metadata": {},
   "source": [
    "Напишем функции для преобразования исходных данных в признаки для обучения модели. Эти же функции будут использоваться для преобразования сырых тестовых данных для формирования предсказаний."
   ]
  },
  {
   "cell_type": "markdown",
   "metadata": {},
   "source": [
    "Функция загрузки данных. Потребуется для тестирования:"
   ]
  },
  {
   "cell_type": "code",
   "execution_count": 149,
   "metadata": {},
   "outputs": [],
   "source": [
    "def load_data(path):\n",
    "    arc         = pd.read_csv(path + 'data_arc_new.csv', parse_dates=[1, 2])\n",
    "    bulk        = pd.read_csv(path + 'data_bulk_new.csv')\n",
    "    bulk_time   = pd.read_csv(path + 'data_bulk_time_new.csv', parse_dates=[*range(1, 16)])\n",
    "    gas         = pd.read_csv(path + 'data_gas_new.csv')\n",
    "    temp        = pd.read_csv(path + 'data_temp_new.csv', parse_dates=[1])\n",
    "    wire        = pd.read_csv(path + 'data_wire_new.csv')\n",
    "    wire_time   = pd.read_csv(path + 'data_wire_time_new.csv', parse_dates=[*range(1, 10)])\n",
    "    return arc, bulk, bulk_time, gas, temp, wire, wire_time"
   ]
  },
  {
   "cell_type": "markdown",
   "metadata": {},
   "source": [
    "*НОВАЯ ФУНКЦИЯ после ревью v2*"
   ]
  },
  {
   "cell_type": "code",
   "execution_count": 151,
   "metadata": {},
   "outputs": [],
   "source": [
    "def create_features_new(raw_data):\n",
    "    arc, bulk, bulk_time, gas, temp, wire, wire_time = raw_data\n",
    "    \n",
    "    # Переименуем столбцы\n",
    "    arc.columns = ['key', 'heating_start', 'heating_end', 'power_active', 'power_reactive']\n",
    "    bulk_cols = ['key']\n",
    "    for col in bulk.columns.drop('key'):\n",
    "        bulk_cols.append(col.lower().replace(' ', '_'))\n",
    "    bulk.columns = bulk_cols\n",
    "    bulk_time.columns = bulk_cols\n",
    "    gas.columns = ['key', 'gas']\n",
    "    temp.columns = ['key', 'time', 'temp']\n",
    "    wire_cols = ['key']\n",
    "    for col in wire.columns.drop('key'):\n",
    "        wire_cols.append(col.lower().replace(' ', '_'))\n",
    "    wire.columns = wire_cols\n",
    "    wire_time.columns = wire_cols\n",
    "    \n",
    "    # Объедним обработку партий в одну таблицу. За основу возьмем таблицу с температурами.\n",
    "    # Исключим партии, в которых известны не все температуры\n",
    "    temp_clean = temp.drop(temp[temp['key'].isin(temp[temp.isna()['temp']]['key'])].index)\n",
    "    \n",
    "    # Выделим начальную и конечную температуры\n",
    "    batches = temp_clean.groupby('key', as_index=False).agg('first')\n",
    "    batches[['time_end', 'temp_end']] = temp.groupby('key', as_index=False).agg('last')[['time', 'temp']]\n",
    "    \n",
    "    # Определим общую длительность обработки партии в секундах\n",
    "    batches['time_passed'] = (batches['time_end'] - batches['time']).dt.seconds\n",
    "    \n",
    "    # Присоединим нагрев и найдем его суммарную энергию как \n",
    "    # произведение суммы мощностей на время нагрева\n",
    "    batches = batches.join(arc.set_index('key'), on='key', how='inner')\n",
    "    batches['power_total'] = batches['power_active'] + batches['power_reactive']\n",
    "    batches['heating_time'] = batches['heating_end'] - batches['heating_start']\n",
    "    batches['energy_total'] = batches['power_total'] * batches['heating_time'].dt.seconds\n",
    "    batches['energy_total'] = batches[['key', 'energy_total']].groupby('key', as_index=False).agg('cumsum')\n",
    "    batches = batches.groupby('key', as_index=False).agg('last')\n",
    "    \n",
    "    # Присоединим продувку газом\n",
    "    batches = batches.join(gas.set_index('key'), on='key', how='inner')\n",
    "    \n",
    "    # Присоединим сыпучие и проволочные добавки\n",
    "    batches = batches.join(pd.melt(bulk_time, id_vars=['key']).rename(columns={'value': 'time'}) \\\n",
    "                           .join(pd.melt(bulk, id_vars=['key'])['value'], how='inner') \\\n",
    "                           .pivot(index='key', columns='variable', values='value').fillna(0), \n",
    "                           on='key', how='inner')\n",
    "    batches = batches.join(pd.melt(wire_time, id_vars=['key']).rename(columns={'value': 'time'}) \\\n",
    "                           .join(pd.melt(wire, id_vars=['key'])['value'], how='inner') \\\n",
    "                           .pivot(index='key', columns='variable', values='value').fillna(0), \n",
    "                           on='key', how='inner')\n",
    "    \n",
    "    # Исключим лишние столбцы\n",
    "    batches = batches.drop(['time', 'time_end', 'power_active', 'power_reactive', 'power_total', \\\n",
    "                            'heating_end', 'heating_start', 'heating_time'], axis=1).set_index('key')\n",
    "\n",
    "    # Таблица обработки партий готова. Отделим целевой признак\n",
    "    features = batches.drop('temp_end', axis=1)\n",
    "    target = batches['temp_end']\n",
    "    \n",
    "    return features, target"
   ]
  },
  {
   "cell_type": "markdown",
   "metadata": {},
   "source": [
    "Функции готовы. Исследуем мультиколлинеарность. Посмотрим на корреляцию полученных признаков по всем данным:"
   ]
  },
  {
   "cell_type": "code",
   "execution_count": 154,
   "metadata": {},
   "outputs": [],
   "source": [
    "import matplotlib.pyplot as plt"
   ]
  },
  {
   "cell_type": "code",
   "execution_count": 155,
   "metadata": {
    "scrolled": false
   },
   "outputs": [
    {
     "data": {
      "image/png": "[encoded data removed]",
      "text/plain": [
       "<Figure size 1296x936 with 2 Axes>"
      ]
     },
     "metadata": {
      "needs_background": "light"
     },
     "output_type": "display_data"
    }
   ],
   "source": [
    "# Сбросим лишние столбцы с разведочного этапа\n",
    "try:\n",
    "    arc = arc.drop(['heating_time', 'power_total'], axis=1)\n",
    "except:\n",
    "    pass\n",
    "\n",
    "# ПРИМЕНЕНИЕ ФУНКЦИИ после ревью v2\n",
    "# Воспользуемся новой функцией для извлечения признаков\n",
    "features, target = create_features_new([arc, bulk, bulk_time, gas, temp, wire, wire_time])\n",
    "\n",
    "corr = features.copy()\n",
    "corr['temp_end'] = target.copy()\n",
    "\n",
    "f = plt.figure(figsize=(18, 13))\n",
    "plt.matshow(corr.corr(), fignum=f.number)\n",
    "plt.xticks(range(corr.shape[1]), corr, rotation=90)\n",
    "plt.yticks(range(corr.shape[1]), corr)\n",
    "cb = plt.colorbar()\n",
    "plt.title('Корреляционная матрица признаков')\n",
    "\n",
    "# ДОБАВЛЕНО ПОСЛЕ РЕВЬЮ v1\n",
    "# Добавим числовую аннотацию значений на графике\n",
    "corr = corr.corr()\n",
    "for i in range(corr.shape[1]):\n",
    "    for j in range(corr.shape[1]):\n",
    "        plt.annotate(corr.iloc[i, j].round(2), \n",
    "        xy=(i, j), ha='center', va='center',color='white');"
   ]
  },
  {
   "cell_type": "markdown",
   "metadata": {},
   "source": [
    "Исследуем данные на наличие мультиколлинерности. Используем коэфициент инфляции дисперции (VIF):"
   ]
  },
  {
   "cell_type": "code",
   "execution_count": 156,
   "metadata": {},
   "outputs": [],
   "source": [
    "from statsmodels.stats.outliers_influence import variance_inflation_factor"
   ]
  },
  {
   "cell_type": "code",
   "execution_count": 157,
   "metadata": {},
   "outputs": [
    {
     "name": "stderr",
     "output_type": "stream",
     "text": [
      "/opt/conda/lib/python3.9/site-packages/statsmodels/regression/linear_model.py:1738: RuntimeWarning: invalid value encountered in double_scalars\n",
      "  return 1 - self.ssr/self.uncentered_tss\n"
     ]
    }
   ],
   "source": [
    "vif_data = pd.DataFrame(index=features.columns)\n",
    "vif_data[\"VIF\"] = [variance_inflation_factor(features.values, i)\n",
    "                   for i in range(len(features.columns))]"
   ]
  },
  {
   "cell_type": "code",
   "execution_count": 158,
   "metadata": {},
   "outputs": [
    {
     "data": {
      "text/html": [
       "<div>\n",
       "<style scoped>\n",
       "    .dataframe tbody tr th:only-of-type {\n",
       "        vertical-align: middle;\n",
       "    }\n",
       "\n",
       "    .dataframe tbody tr th {\n",
       "        vertical-align: top;\n",
       "    }\n",
       "\n",
       "    .dataframe thead th {\n",
       "        text-align: right;\n",
       "    }\n",
       "</style>\n",
       "<table border=\"1\" class=\"dataframe\">\n",
       "  <thead>\n",
       "    <tr style=\"text-align: right;\">\n",
       "      <th></th>\n",
       "      <th>VIF</th>\n",
       "    </tr>\n",
       "  </thead>\n",
       "  <tbody>\n",
       "    <tr>\n",
       "      <th>bulk_9</th>\n",
       "      <td>67.896013</td>\n",
       "    </tr>\n",
       "    <tr>\n",
       "      <th>wire_8</th>\n",
       "      <td>57.292058</td>\n",
       "    </tr>\n",
       "    <tr>\n",
       "      <th>temp</th>\n",
       "      <td>14.764628</td>\n",
       "    </tr>\n",
       "    <tr>\n",
       "      <th>energy_total</th>\n",
       "      <td>9.404714</td>\n",
       "    </tr>\n",
       "    <tr>\n",
       "      <th>wire_1</th>\n",
       "      <td>9.107832</td>\n",
       "    </tr>\n",
       "    <tr>\n",
       "      <th>bulk_14</th>\n",
       "      <td>7.677575</td>\n",
       "    </tr>\n",
       "    <tr>\n",
       "      <th>bulk_12</th>\n",
       "      <td>7.236606</td>\n",
       "    </tr>\n",
       "    <tr>\n",
       "      <th>time_passed</th>\n",
       "      <td>6.886660</td>\n",
       "    </tr>\n",
       "    <tr>\n",
       "      <th>gas</th>\n",
       "      <td>6.162091</td>\n",
       "    </tr>\n",
       "    <tr>\n",
       "      <th>bulk_15</th>\n",
       "      <td>5.364978</td>\n",
       "    </tr>\n",
       "    <tr>\n",
       "      <th>bulk_8</th>\n",
       "      <td>3.726115</td>\n",
       "    </tr>\n",
       "    <tr>\n",
       "      <th>wire_4</th>\n",
       "      <td>3.493811</td>\n",
       "    </tr>\n",
       "    <tr>\n",
       "      <th>bulk_2</th>\n",
       "      <td>2.923291</td>\n",
       "    </tr>\n",
       "    <tr>\n",
       "      <th>bulk_7</th>\n",
       "      <td>2.710182</td>\n",
       "    </tr>\n",
       "    <tr>\n",
       "      <th>bulk_4</th>\n",
       "      <td>2.003884</td>\n",
       "    </tr>\n",
       "    <tr>\n",
       "      <th>wire_7</th>\n",
       "      <td>1.623620</td>\n",
       "    </tr>\n",
       "    <tr>\n",
       "      <th>bulk_3</th>\n",
       "      <td>1.617668</td>\n",
       "    </tr>\n",
       "    <tr>\n",
       "      <th>wire_2</th>\n",
       "      <td>1.550390</td>\n",
       "    </tr>\n",
       "    <tr>\n",
       "      <th>wire_6</th>\n",
       "      <td>1.532357</td>\n",
       "    </tr>\n",
       "    <tr>\n",
       "      <th>bulk_6</th>\n",
       "      <td>1.531275</td>\n",
       "    </tr>\n",
       "    <tr>\n",
       "      <th>bulk_1</th>\n",
       "      <td>1.464403</td>\n",
       "    </tr>\n",
       "    <tr>\n",
       "      <th>bulk_5</th>\n",
       "      <td>1.182010</td>\n",
       "    </tr>\n",
       "    <tr>\n",
       "      <th>wire_3</th>\n",
       "      <td>1.143830</td>\n",
       "    </tr>\n",
       "    <tr>\n",
       "      <th>bulk_10</th>\n",
       "      <td>1.135031</td>\n",
       "    </tr>\n",
       "    <tr>\n",
       "      <th>bulk_13</th>\n",
       "      <td>1.114436</td>\n",
       "    </tr>\n",
       "    <tr>\n",
       "      <th>bulk_11</th>\n",
       "      <td>1.100981</td>\n",
       "    </tr>\n",
       "    <tr>\n",
       "      <th>wire_9</th>\n",
       "      <td>1.070228</td>\n",
       "    </tr>\n",
       "    <tr>\n",
       "      <th>wire_5</th>\n",
       "      <td>NaN</td>\n",
       "    </tr>\n",
       "  </tbody>\n",
       "</table>\n",
       "</div>"
      ],
      "text/plain": [
       "                    VIF\n",
       "bulk_9        67.896013\n",
       "wire_8        57.292058\n",
       "temp          14.764628\n",
       "energy_total   9.404714\n",
       "wire_1         9.107832\n",
       "bulk_14        7.677575\n",
       "bulk_12        7.236606\n",
       "time_passed    6.886660\n",
       "gas            6.162091\n",
       "bulk_15        5.364978\n",
       "bulk_8         3.726115\n",
       "wire_4         3.493811\n",
       "bulk_2         2.923291\n",
       "bulk_7         2.710182\n",
       "bulk_4         2.003884\n",
       "wire_7         1.623620\n",
       "bulk_3         1.617668\n",
       "wire_2         1.550390\n",
       "wire_6         1.532357\n",
       "bulk_6         1.531275\n",
       "bulk_1         1.464403\n",
       "bulk_5         1.182010\n",
       "wire_3         1.143830\n",
       "bulk_10        1.135031\n",
       "bulk_13        1.114436\n",
       "bulk_11        1.100981\n",
       "wire_9         1.070228\n",
       "wire_5              NaN"
      ]
     },
     "execution_count": 158,
     "metadata": {},
     "output_type": "execute_result"
    }
   ],
   "source": [
    "vif_data.sort_values('VIF', ascending=False)"
   ]
  },
  {
   "cell_type": "markdown",
   "metadata": {},
   "source": [
    "Сразу 10 признаков имеют высокий VIF > 5, а для признака `wire_5` коэфициент вообще не может быть расчитан. Избавимся от него и от признака с наибольшим коэфициентом - `bulk_9`."
   ]
  },
  {
   "cell_type": "code",
   "execution_count": 159,
   "metadata": {},
   "outputs": [],
   "source": [
    "features_vif = features.drop(['wire_5', 'bulk_9'], axis=1)"
   ]
  },
  {
   "cell_type": "code",
   "execution_count": 160,
   "metadata": {},
   "outputs": [
    {
     "data": {
      "text/html": [
       "<div>\n",
       "<style scoped>\n",
       "    .dataframe tbody tr th:only-of-type {\n",
       "        vertical-align: middle;\n",
       "    }\n",
       "\n",
       "    .dataframe tbody tr th {\n",
       "        vertical-align: top;\n",
       "    }\n",
       "\n",
       "    .dataframe thead th {\n",
       "        text-align: right;\n",
       "    }\n",
       "</style>\n",
       "<table border=\"1\" class=\"dataframe\">\n",
       "  <thead>\n",
       "    <tr style=\"text-align: right;\">\n",
       "      <th></th>\n",
       "      <th>VIF</th>\n",
       "    </tr>\n",
       "  </thead>\n",
       "  <tbody>\n",
       "    <tr>\n",
       "      <th>temp</th>\n",
       "      <td>14.762862</td>\n",
       "    </tr>\n",
       "    <tr>\n",
       "      <th>energy_total</th>\n",
       "      <td>9.404481</td>\n",
       "    </tr>\n",
       "    <tr>\n",
       "      <th>wire_1</th>\n",
       "      <td>9.100725</td>\n",
       "    </tr>\n",
       "    <tr>\n",
       "      <th>bulk_14</th>\n",
       "      <td>7.645186</td>\n",
       "    </tr>\n",
       "    <tr>\n",
       "      <th>bulk_12</th>\n",
       "      <td>7.236055</td>\n",
       "    </tr>\n",
       "    <tr>\n",
       "      <th>time_passed</th>\n",
       "      <td>6.861710</td>\n",
       "    </tr>\n",
       "    <tr>\n",
       "      <th>gas</th>\n",
       "      <td>6.118922</td>\n",
       "    </tr>\n",
       "    <tr>\n",
       "      <th>bulk_15</th>\n",
       "      <td>5.353841</td>\n",
       "    </tr>\n",
       "    <tr>\n",
       "      <th>wire_4</th>\n",
       "      <td>3.493628</td>\n",
       "    </tr>\n",
       "    <tr>\n",
       "      <th>bulk_2</th>\n",
       "      <td>2.923037</td>\n",
       "    </tr>\n",
       "  </tbody>\n",
       "</table>\n",
       "</div>"
      ],
      "text/plain": [
       "                    VIF\n",
       "temp          14.762862\n",
       "energy_total   9.404481\n",
       "wire_1         9.100725\n",
       "bulk_14        7.645186\n",
       "bulk_12        7.236055\n",
       "time_passed    6.861710\n",
       "gas            6.118922\n",
       "bulk_15        5.353841\n",
       "wire_4         3.493628\n",
       "bulk_2         2.923037"
      ]
     },
     "execution_count": 160,
     "metadata": {},
     "output_type": "execute_result"
    }
   ],
   "source": [
    "vif_data = pd.DataFrame(index=features_vif.columns)\n",
    "vif_data[\"VIF\"] = [variance_inflation_factor(features_vif.values, i)\n",
    "                   for i in range(len(features_vif.columns))]\n",
    "vif_data.sort_values('VIF', ascending=False).head(10)"
   ]
  },
  {
   "cell_type": "markdown",
   "metadata": {},
   "source": [
    "VIF значительно снизился, но еще далек от идеала."
   ]
  },
  {
   "cell_type": "markdown",
   "metadata": {},
   "source": [
    "Полное удаление признаков с высоким VIF - решение грубое, но, в отличие от метода анализа главных компонент (PCA) и метода частичных наименьших квадратов (PLS), сохраняет исходные переменные, позволяя однозначнее интерпретировать влияение исходных данных на предсказания."
   ]
  },
  {
   "cell_type": "markdown",
   "metadata": {},
   "source": [
    "Удалим признак начальной температуры:"
   ]
  },
  {
   "cell_type": "code",
   "execution_count": 161,
   "metadata": {},
   "outputs": [],
   "source": [
    "features_vif = features.drop(['wire_5', 'bulk_9', 'temp'], axis=1)"
   ]
  },
  {
   "cell_type": "code",
   "execution_count": 162,
   "metadata": {},
   "outputs": [
    {
     "data": {
      "text/html": [
       "<div>\n",
       "<style scoped>\n",
       "    .dataframe tbody tr th:only-of-type {\n",
       "        vertical-align: middle;\n",
       "    }\n",
       "\n",
       "    .dataframe tbody tr th {\n",
       "        vertical-align: top;\n",
       "    }\n",
       "\n",
       "    .dataframe thead th {\n",
       "        text-align: right;\n",
       "    }\n",
       "</style>\n",
       "<table border=\"1\" class=\"dataframe\">\n",
       "  <thead>\n",
       "    <tr style=\"text-align: right;\">\n",
       "      <th></th>\n",
       "      <th>VIF</th>\n",
       "    </tr>\n",
       "  </thead>\n",
       "  <tbody>\n",
       "    <tr>\n",
       "      <th>energy_total</th>\n",
       "      <td>9.133779</td>\n",
       "    </tr>\n",
       "    <tr>\n",
       "      <th>bulk_12</th>\n",
       "      <td>7.047815</td>\n",
       "    </tr>\n",
       "    <tr>\n",
       "      <th>time_passed</th>\n",
       "      <td>6.853110</td>\n",
       "    </tr>\n",
       "    <tr>\n",
       "      <th>bulk_14</th>\n",
       "      <td>6.699284</td>\n",
       "    </tr>\n",
       "    <tr>\n",
       "      <th>wire_1</th>\n",
       "      <td>6.339513</td>\n",
       "    </tr>\n",
       "    <tr>\n",
       "      <th>gas</th>\n",
       "      <td>6.025606</td>\n",
       "    </tr>\n",
       "    <tr>\n",
       "      <th>bulk_15</th>\n",
       "      <td>5.125104</td>\n",
       "    </tr>\n",
       "    <tr>\n",
       "      <th>wire_4</th>\n",
       "      <td>3.486813</td>\n",
       "    </tr>\n",
       "    <tr>\n",
       "      <th>bulk_2</th>\n",
       "      <td>2.902138</td>\n",
       "    </tr>\n",
       "    <tr>\n",
       "      <th>bulk_7</th>\n",
       "      <td>2.709443</td>\n",
       "    </tr>\n",
       "  </tbody>\n",
       "</table>\n",
       "</div>"
      ],
      "text/plain": [
       "                   VIF\n",
       "energy_total  9.133779\n",
       "bulk_12       7.047815\n",
       "time_passed   6.853110\n",
       "bulk_14       6.699284\n",
       "wire_1        6.339513\n",
       "gas           6.025606\n",
       "bulk_15       5.125104\n",
       "wire_4        3.486813\n",
       "bulk_2        2.902138\n",
       "bulk_7        2.709443"
      ]
     },
     "execution_count": 162,
     "metadata": {},
     "output_type": "execute_result"
    }
   ],
   "source": [
    "vif_data = pd.DataFrame(index=features_vif.columns)\n",
    "vif_data[\"VIF\"] = [variance_inflation_factor(features_vif.values, i)\n",
    "                   for i in range(len(features_vif.columns))]\n",
    "vif_data.sort_values('VIF', ascending=False).head(10)"
   ]
  },
  {
   "cell_type": "markdown",
   "metadata": {},
   "source": [
    "Инфляция признаков снизилась и не превышает VIF = 10. В дальнейшем при обучении модели будем исключать данные признаки."
   ]
  },
  {
   "cell_type": "markdown",
   "metadata": {},
   "source": [
    "### Обучение моделей"
   ]
  },
  {
   "cell_type": "markdown",
   "metadata": {},
   "source": [
    "Обучим разные модели и найдем лучшую. Обучать будем на наборе по циклам."
   ]
  },
  {
   "cell_type": "code",
   "execution_count": 178,
   "metadata": {},
   "outputs": [],
   "source": [
    "from sklearn.preprocessing import StandardScaler\n",
    "from sklearn.linear_model import LinearRegression\n",
    "from sklearn.ensemble import RandomForestRegressor\n",
    "from sklearn.model_selection import KFold, cross_val_score, GridSearchCV\n",
    "from sklearn.pipeline import Pipeline\n",
    "from sklearn.metrics import mean_absolute_error\n",
    "from sklearn.model_selection import train_test_split"
   ]
  },
  {
   "cell_type": "markdown",
   "metadata": {},
   "source": [
    "Подготовим признаки, их масштабирование и кросс-валидацию:"
   ]
  },
  {
   "cell_type": "code",
   "execution_count": 179,
   "metadata": {},
   "outputs": [],
   "source": [
    "# Для подбора моделей возьмем только обучающую выборку\n",
    "features, target = create_features_new([arc, bulk, bulk_time, gas, temp, wire, wire_time])\n",
    "\n",
    "X_train, _, y_train, _ = train_test_split(\n",
    "    features, target, test_size=0.25, random_state=310723)\n",
    "\n",
    "scaler = StandardScaler()\n",
    "cv = KFold(n_splits=5, shuffle=True, random_state=310723)"
   ]
  },
  {
   "cell_type": "markdown",
   "metadata": {},
   "source": [
    "Устраним коррелирующие столбцы:"
   ]
  },
  {
   "cell_type": "code",
   "execution_count": 180,
   "metadata": {},
   "outputs": [],
   "source": [
    "X_train = X_train.drop(['wire_5', 'bulk_9', 'temp'], axis=1)"
   ]
  },
  {
   "cell_type": "markdown",
   "metadata": {},
   "source": [
    "#### LinearRegression"
   ]
  },
  {
   "cell_type": "code",
   "execution_count": 181,
   "metadata": {},
   "outputs": [
    {
     "data": {
      "text/plain": [
       "7.662419434292813"
      ]
     },
     "execution_count": 181,
     "metadata": {},
     "output_type": "execute_result"
    }
   ],
   "source": [
    "lr = LinearRegression()\n",
    "\n",
    "pipe = Pipeline([('transformer', scaler), ('estimator', lr)])\n",
    "scores = cross_val_score(pipe, X_train, y_train, cv = cv, scoring='neg_mean_absolute_error')\n",
    "-scores.mean()"
   ]
  },
  {
   "cell_type": "markdown",
   "metadata": {},
   "source": [
    "MAE линейной регрессии на этапе кросс-валидации: 7.66"
   ]
  },
  {
   "cell_type": "markdown",
   "metadata": {},
   "source": [
    "#### RandomForestRegressor"
   ]
  },
  {
   "cell_type": "markdown",
   "metadata": {},
   "source": [
    "Для случайного леса переберем несколько наборов гиперпараметров и найдем лучший:"
   ]
  },
  {
   "cell_type": "code",
   "execution_count": 182,
   "metadata": {},
   "outputs": [
    {
     "name": "stdout",
     "output_type": "stream",
     "text": [
      "CPU times: user 4min 33s, sys: 1.42 s, total: 4min 34s\n",
      "Wall time: 4min 35s\n"
     ]
    },
    {
     "data": {
      "text/plain": [
       "GridSearchCV(cv=5,\n",
       "             estimator=Pipeline(steps=[('transformer', StandardScaler()),\n",
       "                                       ('estimator',\n",
       "                                        RandomForestRegressor(random_state=310723))]),\n",
       "             n_jobs=-1,\n",
       "             param_grid={'estimator__max_depth': [20, 30, 40],\n",
       "                         'estimator__max_features': [None, 'sqrt', 'log2'],\n",
       "                         'estimator__n_estimators': [200, 400, 600]},\n",
       "             scoring='neg_mean_absolute_error')"
      ]
     },
     "execution_count": 182,
     "metadata": {},
     "output_type": "execute_result"
    }
   ],
   "source": [
    "%%time\n",
    "rfr = RandomForestRegressor(random_state=310723)\n",
    "\n",
    "param_grid = { \n",
    "    'estimator__n_estimators': [200, 400, 600],\n",
    "    'estimator__max_features': [None, 'sqrt', 'log2'],\n",
    "    'estimator__max_depth' : [20, 30, 40] }\n",
    "\n",
    "pipe = Pipeline([('transformer', scaler), ('estimator', rfr)])\n",
    "searcher = GridSearchCV(pipe, param_grid, scoring='neg_mean_absolute_error', cv=5, n_jobs = -1)\n",
    "searcher.fit(X_train, y_train)"
   ]
  },
  {
   "cell_type": "code",
   "execution_count": 183,
   "metadata": {},
   "outputs": [
    {
     "data": {
      "text/plain": [
       "{'estimator__max_depth': 20,\n",
       " 'estimator__max_features': 'log2',\n",
       " 'estimator__n_estimators': 200}"
      ]
     },
     "execution_count": 183,
     "metadata": {},
     "output_type": "execute_result"
    }
   ],
   "source": [
    "searcher.best_params_"
   ]
  },
  {
   "cell_type": "code",
   "execution_count": 184,
   "metadata": {},
   "outputs": [
    {
     "data": {
      "text/plain": [
       "7.248067973414349"
      ]
     },
     "execution_count": 184,
     "metadata": {},
     "output_type": "execute_result"
    }
   ],
   "source": [
    "-searcher.best_score_"
   ]
  },
  {
   "cell_type": "markdown",
   "metadata": {},
   "source": [
    "Лучшее значение MAE случайного леса на этапе кросс-валидации: 7.25\n",
    "\n",
    "Лучшие гиперпараметры: max_depth: 20, max_features: log2, n_estimators: 200"
   ]
  },
  {
   "cell_type": "markdown",
   "metadata": {},
   "source": [
    "### Тестирование лучшей модели"
   ]
  },
  {
   "cell_type": "markdown",
   "metadata": {},
   "source": [
    "Лучшая модель: RandomForestRegressor. Протестируем её."
   ]
  },
  {
   "cell_type": "markdown",
   "metadata": {},
   "source": [
    "Для обучения воспользуемся предобработанными данными, а для тестирования - оригинальными из файла:"
   ]
  },
  {
   "cell_type": "code",
   "execution_count": 185,
   "metadata": {},
   "outputs": [],
   "source": [
    "# Предобработанные данные (обучающие)\n",
    "features, target = create_features_new([arc, bulk, bulk_time, gas, temp, wire, wire_time])\n",
    "\n",
    "X_train, _, y_train, _ = train_test_split(\n",
    "    features, target, test_size=0.25, random_state=310723)\n",
    "\n",
    "# Данные из файла (тестовые, без предобработки)\n",
    "X, y = create_features_new(load_data('/datasets/'))\n",
    "\n",
    "_, X_test, _, y_test = train_test_split(\n",
    "    X, y, test_size=0.25, random_state=310723)"
   ]
  },
  {
   "cell_type": "markdown",
   "metadata": {},
   "source": [
    "Устраним коррелирующие столбцы:"
   ]
  },
  {
   "cell_type": "code",
   "execution_count": 186,
   "metadata": {},
   "outputs": [],
   "source": [
    "X_train = X_train.drop(['wire_5', 'bulk_9', 'temp'], axis=1)\n",
    "X_test = X_test.drop(['wire_5', 'bulk_9', 'temp'], axis=1)"
   ]
  },
  {
   "cell_type": "markdown",
   "metadata": {},
   "source": [
    "Обучим модель:"
   ]
  },
  {
   "cell_type": "code",
   "execution_count": 187,
   "metadata": {},
   "outputs": [
    {
     "data": {
      "text/plain": [
       "Pipeline(steps=[('transformer', StandardScaler()),\n",
       "                ('estimator',\n",
       "                 RandomForestRegressor(max_depth=20, max_features='log2',\n",
       "                                       n_estimators=200,\n",
       "                                       random_state=310723))])"
      ]
     },
     "execution_count": 187,
     "metadata": {},
     "output_type": "execute_result"
    }
   ],
   "source": [
    "rfr = RandomForestRegressor(n_estimators=200, max_features='log2', max_depth=20, random_state=310723)\n",
    "pipe = Pipeline([('transformer', scaler), ('estimator', rfr)])\n",
    "pipe.fit(X_train, y_train)"
   ]
  },
  {
   "cell_type": "code",
   "execution_count": 188,
   "metadata": {},
   "outputs": [
    {
     "data": {
      "text/plain": [
       "4.818195774970045"
      ]
     },
     "execution_count": 188,
     "metadata": {},
     "output_type": "execute_result"
    }
   ],
   "source": [
    "y_pred = pipe.predict(X_test)\n",
    "mean_absolute_error(y_test, y_pred)"
   ]
  },
  {
   "cell_type": "markdown",
   "metadata": {},
   "source": [
    "Лучшая модель показала результат MAE = 4.82. Порог точности = 6.8 преодолен."
   ]
  },
  {
   "cell_type": "markdown",
   "metadata": {},
   "source": [
    "### Проверка модели на адекватность"
   ]
  },
  {
   "cell_type": "markdown",
   "metadata": {},
   "source": [
    "Проверим, что наша модель справляется лучше, чем константные модели."
   ]
  },
  {
   "cell_type": "markdown",
   "metadata": {},
   "source": [
    "#### Константная модель"
   ]
  },
  {
   "cell_type": "markdown",
   "metadata": {},
   "source": [
    "Рассмотрим модель, всегда предсказывающую одинаковое значение - медиану обучающей выборки."
   ]
  },
  {
   "cell_type": "code",
   "execution_count": 100,
   "metadata": {},
   "outputs": [
    {
     "data": {
      "text/plain": [
       "7.499142367066895"
      ]
     },
     "execution_count": 100,
     "metadata": {},
     "output_type": "execute_result"
    }
   ],
   "source": [
    "mean_absolute_error(y_test, [y_train.median()] * len(y_test))"
   ]
  },
  {
   "cell_type": "markdown",
   "metadata": {},
   "source": [
    "MAE константной модели (медиана) = 7.5 и не преодолевает порог = 6.8.\n",
    "\n",
    "Построенная нами модель прошла проверку на адекватность."
   ]
  },
  {
   "cell_type": "markdown",
   "metadata": {},
   "source": [
    "\n",
    "Изучим значимость признаков в полученной модели:"
   ]
  },
  {
   "cell_type": "code",
   "execution_count": 102,
   "metadata": {
    "scrolled": true
   },
   "outputs": [
    {
     "data": {
      "image/png": "[encoded data removed]",
      "text/plain": [
       "<Figure size 1080x216 with 1 Axes>"
      ]
     },
     "metadata": {
      "needs_background": "light"
     },
     "output_type": "display_data"
    }
   ],
   "source": [
    "pd.DataFrame({'importance': rfr.feature_importances_},\n",
    "             index=X_train.columns).sort_values('importance', ascending=False).plot(\n",
    "    kind='bar', grid=True, figsize=(15, 3),\n",
    "    title='Значимость признаков в полученной модели',\n",
    "    ylabel='Значимость');"
   ]
  },
  {
   "cell_type": "markdown",
   "metadata": {},
   "source": [
    "Наибольшее влияние на предсказания модели оказывают элемент `wire_1` и энергия нагрева. Также важно учитывать время, объемы продувки газом, и другие часто добавляемые легирующие элементы, такие как `bulk_12`, `bulk_15`, `bulk_14`. Наименее важный вклад в предсказания вносят редко добавляемые легирующие элементы."
   ]
  },
  {
   "cell_type": "markdown",
   "metadata": {},
   "source": [
    "## Отчет по проекту"
   ]
  },
  {
   "cell_type": "markdown",
   "metadata": {},
   "source": [
    "### Разведочный анализ данных (EDA)"
   ]
  },
  {
   "cell_type": "markdown",
   "metadata": {},
   "source": [
    "После первичной постановки задачи и предоставления данных был проведен разведочный анализ данных (EDA). В ходе анализа установлено, что данные заказчика о технологическом процессе нормализованы, разные этапы разделены на несколько разных таблиц. В каждой из таблиц отсутствовала информация о некоторых партиях, что не позволяло восстановить все этапы обработки всех партий. Все партии начиная с #2500 имели только начальную температуру и не имели конечной. Остальная имеющаяся информация сохраняла полноту и достаточность для восстановления партий и решения задачи. Всего принято в работу информация о 2325 партиях.\n",
    "\n",
    "На этапе предобработки выявлены аномально низкие (на ~300° ниже) начальные температуры в 5-ти партиях, которые были исключены из работы из-за трудностей восстановления этой ключевой информации. Исправлено аномальное отрицательное значение реактивной мощности в одной из партий методом линейной регрессии на основе других значений в партии. Данные приведены к единому формату для дальнейшего выделения признаков.\n",
    "\n",
    "Предобработанные данные были объединены в единую таблицу с восстановлением хронологии технологического процесса. Были выявлены схожие циклические этапы измерения температуры, нагрева и добавления легирующих элементов в каждой партии."
   ]
  },
  {
   "cell_type": "markdown",
   "metadata": {},
   "source": [
    "### Уточнение задачи с заказчиком"
   ]
  },
  {
   "cell_type": "markdown",
   "metadata": {},
   "source": [
    "Задача уточнена с заказчиком после разведочного анализа данных. Конечным потребителем являются сотрудники компании, планирующие использовать информацию о прогнозируемой температуре для регуляции энергопотребления и сокращения производственных расходов.\n",
    "\n",
    "К числу первоначальных технических требований к модели добавились:\n",
    "- Необходимость использования исключительно начальной и конечной температуры партии.\n",
    "- Требование использовать только полные партии, т.е. содержащих информацию об этапах измерения температур, нагрева, продувки газом, добавления сыпучих и проволочных материалов.\n",
    "- Соотношение тренировочной и тестовой выборок - 3:1.\n",
    "- На этапе подбора модели использовать кросс-валидауцию.\n",
    "- На тестовой выборке проверять только одну (лучшую) модель.\n",
    "- Проверить модель на адекватность на тесте с константной моделью.\n",
    "- Продемонстрировать значимость признаков и их влияние на предсказания.\n",
    "- Метрикой качества модели использовать MAE как наиболее просто интерпретируемую метрику потерь.\n",
    "\n",
    "Критерием оценки проекта является соблюдение технических требований и значение метрики MAE модели на тестовых данных. Чем MAE ниже, тем лучше. MAE модели не должна превышать значение = 6.8."
   ]
  },
  {
   "cell_type": "markdown",
   "metadata": {},
   "source": [
    "### Обучение модели"
   ]
  },
  {
   "cell_type": "markdown",
   "metadata": {},
   "source": [
    "Целевым признаком модели стала конечная температура партии. В качестве признаков-предикторов были выделены 28 признаков:\n",
    "1. Начальная температура партии. 1 признак.\n",
    "2. Энергия нагрева. Рассчитана как произведение суммы активной и пассивной мощностей на время нагрева. 1 признак.\n",
    "3. Время обработки партии. Рассчитано как интервал между начальным и конечным измерением температуры. 1 признак.\n",
    "4. Объемы продувки газом. 1 признак.\n",
    "5. Объемы сыпучих добавок. 15 признаков.\n",
    "6. Объемы проволочных добавок. 9 признаков.\n",
    "\n",
    "Написаны функции для удобного быстрого извлечения признаков из исходных таблиц.\n",
    "\n",
    "Исследование взаимных корреляций признаков показало наличие мультиколлинеарности между признаками. Коэфициент инфляции дисперсии (VIF) некоторых признаков превышал значение = 10. Во избежание ошибок обучения модели от мультиколлинеарности было необходимо избавиться, однако такие качественные методы как анализ основных компонентов (RCA) и частичная регрессия методом наименьших квадратов (PLS) нем не подошли, так как линейные преобразования признаков хоть и решали проблему их мультиколлинеарности, но делали их неинтерпретируемыми, что нарушает техническое требование нашей задачи. Поэтому было принято решение удалить признаки с наибольшим VIF > 10. Так были исключены признаки сыпучей добавки №9 и начальной температуры партии, а также признак проволочной добавки №5 ввиду малого количества партий с ней. Количество признаков-предикторов сократилось до 25.\n",
    "\n",
    "Для обучения использованы модели линейной регрессии и случайного леса из библиотеки Scikit-learn. Перед обучением признаки нормализовались (масштабировались), обучение производилось с кросс-валидацией на тренировочных данных. Линейная модель показала значения метрики MAE = 7.66, случайный лес после перебора гиперпараметров - MAE = 7.25 при параметрах max_depth=20, max_features=log2, n_estimators=200.\n",
    "\n",
    "На тестовой выборке случайный лес показал значение MAE = 4.82, что ниже максимального порога = 6.8. При этом константная модель по медиане конечной температуры на обучающей выборке показала MAE = 7.5. Построенная модель прошла проверку на адекватность.\n",
    "\n",
    "Наибольшее влияние на предсказания построенной модели оказывают проволочная добавка №1 и энергия нагрева. Также важно учитывать время, объемы продувки газом, и другие часто добавляемые легирующие элементы, такие как сыпучие материалы №12, №14 и №15. Наименее важный вклад в предсказания вносят редко добавляемые легирующие элементы."
   ]
  },
  {
   "cell_type": "markdown",
   "metadata": {},
   "source": [
    "### Выводы"
   ]
  },
  {
   "cell_type": "markdown",
   "metadata": {},
   "source": [
    "Построена модель предсказания температуры стали. \n",
    "<br>Средняя абсолютная ошибка (MAE) модели составляет 4.82 и не превышает порога в 6.8.\n",
    "<br>Модель готова к внедрению в производство и эксплуатации.\n",
    "\n",
    "<b>Цель проекта достигнута.</b>"
   ]
  },
  {
   "cell_type": "markdown",
   "metadata": {},
   "source": [
    "### Что можно улучшить"
   ]
  },
  {
   "cell_type": "markdown",
   "metadata": {},
   "source": [
    "Можно улучшить конвеер (pipeline) и превратить в коробочное решение для предсказания."
   ]
  },
  {
   "cell_type": "code",
   "execution_count": null,
   "metadata": {},
   "outputs": [],
   "source": []
  }
 ],
 "metadata": {
  "ExecuteTimeLog": [
   {
    "duration": 422,
    "start_time": "2023-08-04T13:54:58.950Z"
   },
   {
    "duration": 194,
    "start_time": "2023-08-04T13:54:59.495Z"
   },
   {
    "duration": 18,
    "start_time": "2023-08-04T13:55:02.694Z"
   },
   {
    "duration": 2,
    "start_time": "2023-08-04T13:55:06.392Z"
   },
   {
    "duration": 14,
    "start_time": "2023-08-04T13:55:07.013Z"
   },
   {
    "duration": 10,
    "start_time": "2023-08-04T13:55:08.783Z"
   },
   {
    "duration": 18,
    "start_time": "2023-08-04T13:55:10.687Z"
   },
   {
    "duration": 13,
    "start_time": "2023-08-04T13:55:19.496Z"
   },
   {
    "duration": 52,
    "start_time": "2023-08-04T13:55:19.942Z"
   },
   {
    "duration": 502,
    "start_time": "2023-08-04T13:55:31.368Z"
   },
   {
    "duration": 11,
    "start_time": "2023-08-04T13:55:50.413Z"
   },
   {
    "duration": 4,
    "start_time": "2023-08-04T13:55:50.891Z"
   },
   {
    "duration": 475,
    "start_time": "2023-08-04T13:55:52.912Z"
   },
   {
    "duration": 264,
    "start_time": "2023-08-04T13:55:54.191Z"
   },
   {
    "duration": 26,
    "start_time": "2023-08-04T13:55:59.556Z"
   },
   {
    "duration": 4,
    "start_time": "2023-08-04T13:56:00.416Z"
   },
   {
    "duration": 12,
    "start_time": "2023-08-04T13:56:00.781Z"
   },
   {
    "duration": 4,
    "start_time": "2023-08-04T13:56:01.092Z"
   },
   {
    "duration": 61,
    "start_time": "2023-08-04T13:56:01.804Z"
   },
   {
    "duration": 15,
    "start_time": "2023-08-04T13:56:03.339Z"
   },
   {
    "duration": 3,
    "start_time": "2023-08-04T13:56:03.785Z"
   },
   {
    "duration": 22,
    "start_time": "2023-08-04T13:56:03.970Z"
   },
   {
    "duration": 33,
    "start_time": "2023-08-04T13:56:04.373Z"
   },
   {
    "duration": 5,
    "start_time": "2023-08-04T13:56:04.586Z"
   },
   {
    "duration": 10,
    "start_time": "2023-08-04T13:56:05.349Z"
   },
   {
    "duration": 8,
    "start_time": "2023-08-04T13:56:05.842Z"
   },
   {
    "duration": 3,
    "start_time": "2023-08-04T13:56:06.249Z"
   },
   {
    "duration": 10,
    "start_time": "2023-08-04T13:56:06.497Z"
   },
   {
    "duration": 5,
    "start_time": "2023-08-04T13:56:06.709Z"
   },
   {
    "duration": 15,
    "start_time": "2023-08-04T13:56:07.134Z"
   },
   {
    "duration": 6,
    "start_time": "2023-08-04T13:56:07.345Z"
   },
   {
    "duration": 154,
    "start_time": "2023-08-04T13:56:08.286Z"
   },
   {
    "duration": 9,
    "start_time": "2023-08-04T13:56:09.509Z"
   },
   {
    "duration": 4,
    "start_time": "2023-08-04T13:56:10.346Z"
   },
   {
    "duration": 17,
    "start_time": "2023-08-04T13:56:10.687Z"
   },
   {
    "duration": 10,
    "start_time": "2023-08-04T13:56:11.424Z"
   },
   {
    "duration": 189,
    "start_time": "2023-08-04T13:56:12.154Z"
   },
   {
    "duration": 16,
    "start_time": "2023-08-04T13:56:18.046Z"
   },
   {
    "duration": 19,
    "start_time": "2023-08-04T13:56:19.101Z"
   },
   {
    "duration": 18,
    "start_time": "2023-08-04T13:56:19.556Z"
   },
   {
    "duration": 10,
    "start_time": "2023-08-04T13:56:21.008Z"
   },
   {
    "duration": 12,
    "start_time": "2023-08-04T13:56:21.470Z"
   },
   {
    "duration": 10,
    "start_time": "2023-08-04T13:56:22.089Z"
   },
   {
    "duration": 250,
    "start_time": "2023-08-04T13:56:28.803Z"
   },
   {
    "duration": 14,
    "start_time": "2023-08-04T13:56:33.310Z"
   },
   {
    "duration": 6,
    "start_time": "2023-08-04T13:56:33.570Z"
   },
   {
    "duration": 16,
    "start_time": "2023-08-04T13:56:34.037Z"
   },
   {
    "duration": 5,
    "start_time": "2023-08-04T13:56:34.429Z"
   },
   {
    "duration": 46,
    "start_time": "2023-08-04T13:56:34.946Z"
   },
   {
    "duration": 12,
    "start_time": "2023-08-04T13:56:35.736Z"
   },
   {
    "duration": 3,
    "start_time": "2023-08-04T13:56:36.010Z"
   },
   {
    "duration": 12,
    "start_time": "2023-08-04T13:56:36.440Z"
   },
   {
    "duration": 26,
    "start_time": "2023-08-04T13:56:36.659Z"
   },
   {
    "duration": 5,
    "start_time": "2023-08-04T13:56:36.886Z"
   },
   {
    "duration": 12,
    "start_time": "2023-08-04T13:56:37.152Z"
   },
   {
    "duration": 76,
    "start_time": "2023-08-04T13:56:45.696Z"
   },
   {
    "duration": 16,
    "start_time": "2023-08-04T13:57:02.788Z"
   },
   {
    "duration": 27,
    "start_time": "2023-08-04T13:57:05.018Z"
   },
   {
    "duration": 6,
    "start_time": "2023-08-04T13:57:05.212Z"
   },
   {
    "duration": 6,
    "start_time": "2023-08-04T13:57:05.444Z"
   },
   {
    "duration": 10,
    "start_time": "2023-08-04T13:57:05.655Z"
   },
   {
    "duration": 140,
    "start_time": "2023-08-05T06:58:07.358Z"
   },
   {
    "duration": 1192,
    "start_time": "2023-08-05T07:02:44.937Z"
   },
   {
    "duration": 125,
    "start_time": "2023-08-05T07:08:13.405Z"
   },
   {
    "duration": 3,
    "start_time": "2023-08-05T07:08:35.582Z"
   },
   {
    "duration": 657,
    "start_time": "2023-08-05T07:08:35.587Z"
   },
   {
    "duration": 21,
    "start_time": "2023-08-05T07:08:36.246Z"
   },
   {
    "duration": 3,
    "start_time": "2023-08-05T07:08:36.269Z"
   },
   {
    "duration": 28,
    "start_time": "2023-08-05T07:08:36.276Z"
   },
   {
    "duration": 11,
    "start_time": "2023-08-05T07:08:36.306Z"
   },
   {
    "duration": 22,
    "start_time": "2023-08-05T07:08:36.319Z"
   },
   {
    "duration": 25,
    "start_time": "2023-08-05T07:08:36.343Z"
   },
   {
    "duration": 43,
    "start_time": "2023-08-05T07:08:36.372Z"
   },
   {
    "duration": 20,
    "start_time": "2023-08-05T07:08:36.417Z"
   },
   {
    "duration": 30,
    "start_time": "2023-08-05T07:08:36.438Z"
   },
   {
    "duration": 9,
    "start_time": "2023-08-05T07:08:36.471Z"
   },
   {
    "duration": 726,
    "start_time": "2023-08-05T07:08:36.481Z"
   },
   {
    "duration": 250,
    "start_time": "2023-08-05T07:08:37.211Z"
   },
   {
    "duration": 27,
    "start_time": "2023-08-05T07:08:37.463Z"
   },
   {
    "duration": 5,
    "start_time": "2023-08-05T07:08:37.492Z"
   },
   {
    "duration": 22,
    "start_time": "2023-08-05T07:08:37.499Z"
   },
   {
    "duration": 8,
    "start_time": "2023-08-05T07:08:37.523Z"
   },
   {
    "duration": 120,
    "start_time": "2023-08-05T07:08:37.533Z"
   },
   {
    "duration": 23,
    "start_time": "2023-08-05T07:08:37.656Z"
   },
   {
    "duration": 3,
    "start_time": "2023-08-05T07:08:37.683Z"
   },
   {
    "duration": 17,
    "start_time": "2023-08-05T07:08:37.688Z"
   },
   {
    "duration": 39,
    "start_time": "2023-08-05T07:08:37.707Z"
   },
   {
    "duration": 18,
    "start_time": "2023-08-05T07:08:37.748Z"
   },
   {
    "duration": 21,
    "start_time": "2023-08-05T07:08:37.771Z"
   },
   {
    "duration": 9,
    "start_time": "2023-08-05T07:08:37.794Z"
   },
   {
    "duration": 11,
    "start_time": "2023-08-05T07:08:37.805Z"
   },
   {
    "duration": 12,
    "start_time": "2023-08-05T07:08:37.819Z"
   },
   {
    "duration": 9,
    "start_time": "2023-08-05T07:08:37.834Z"
   },
   {
    "duration": 30,
    "start_time": "2023-08-05T07:08:37.863Z"
   },
   {
    "duration": 18,
    "start_time": "2023-08-05T07:08:37.896Z"
   },
   {
    "duration": 173,
    "start_time": "2023-08-05T07:08:37.915Z"
   },
   {
    "duration": 11,
    "start_time": "2023-08-05T07:08:38.090Z"
   },
   {
    "duration": 4,
    "start_time": "2023-08-05T07:08:38.104Z"
   },
   {
    "duration": 18,
    "start_time": "2023-08-05T07:08:38.110Z"
   },
   {
    "duration": 11,
    "start_time": "2023-08-05T07:08:38.130Z"
   },
   {
    "duration": 228,
    "start_time": "2023-08-05T07:08:38.167Z"
   },
   {
    "duration": 12,
    "start_time": "2023-08-05T07:08:38.397Z"
   },
   {
    "duration": 25,
    "start_time": "2023-08-05T07:08:38.410Z"
   },
   {
    "duration": 25,
    "start_time": "2023-08-05T07:08:38.437Z"
   },
   {
    "duration": 15,
    "start_time": "2023-08-05T07:08:38.468Z"
   },
   {
    "duration": 18,
    "start_time": "2023-08-05T07:08:38.486Z"
   },
   {
    "duration": 12,
    "start_time": "2023-08-05T07:08:38.506Z"
   },
   {
    "duration": 271,
    "start_time": "2023-08-05T07:08:38.520Z"
   },
   {
    "duration": 29,
    "start_time": "2023-08-05T07:08:38.795Z"
   },
   {
    "duration": 5,
    "start_time": "2023-08-05T07:08:38.826Z"
   },
   {
    "duration": 18,
    "start_time": "2023-08-05T07:08:38.833Z"
   },
   {
    "duration": 8,
    "start_time": "2023-08-05T07:08:38.853Z"
   },
   {
    "duration": 174,
    "start_time": "2023-08-05T07:08:38.863Z"
   },
   {
    "duration": 20,
    "start_time": "2023-08-05T07:08:39.040Z"
   },
   {
    "duration": 11,
    "start_time": "2023-08-05T07:08:39.062Z"
   },
   {
    "duration": 32,
    "start_time": "2023-08-05T07:08:39.075Z"
   },
   {
    "duration": 32,
    "start_time": "2023-08-05T07:08:39.109Z"
   },
   {
    "duration": 7,
    "start_time": "2023-08-05T07:08:39.143Z"
   },
   {
    "duration": 28,
    "start_time": "2023-08-05T07:08:39.152Z"
   },
   {
    "duration": 96,
    "start_time": "2023-08-05T07:08:39.182Z"
   },
   {
    "duration": 19,
    "start_time": "2023-08-05T07:08:42.805Z"
   },
   {
    "duration": 32,
    "start_time": "2023-08-05T07:08:45.505Z"
   },
   {
    "duration": 19,
    "start_time": "2023-08-05T07:09:00.505Z"
   },
   {
    "duration": 23,
    "start_time": "2023-08-05T07:09:14.918Z"
   },
   {
    "duration": 24,
    "start_time": "2023-08-05T07:09:29.390Z"
   },
   {
    "duration": 15,
    "start_time": "2023-08-05T07:09:46.425Z"
   },
   {
    "duration": 11,
    "start_time": "2023-08-05T07:10:39.826Z"
   },
   {
    "duration": 19,
    "start_time": "2023-08-05T07:11:10.115Z"
   },
   {
    "duration": 11,
    "start_time": "2023-08-05T07:11:16.130Z"
   },
   {
    "duration": 41,
    "start_time": "2023-08-05T07:12:16.081Z"
   },
   {
    "duration": 14,
    "start_time": "2023-08-05T07:18:40.874Z"
   },
   {
    "duration": 7,
    "start_time": "2023-08-05T07:20:11.100Z"
   },
   {
    "duration": 30,
    "start_time": "2023-08-05T07:23:30.057Z"
   },
   {
    "duration": 2053,
    "start_time": "2023-08-05T07:23:32.892Z"
   },
   {
    "duration": 8,
    "start_time": "2023-08-05T07:23:54.435Z"
   },
   {
    "duration": 12,
    "start_time": "2023-08-05T07:24:02.113Z"
   },
   {
    "duration": 20,
    "start_time": "2023-08-05T07:24:05.788Z"
   },
   {
    "duration": 8,
    "start_time": "2023-08-05T07:24:08.556Z"
   },
   {
    "duration": 10,
    "start_time": "2023-08-05T07:24:11.281Z"
   },
   {
    "duration": 7,
    "start_time": "2023-08-05T07:24:13.375Z"
   },
   {
    "duration": 26,
    "start_time": "2023-08-05T07:24:56.561Z"
   },
   {
    "duration": 6,
    "start_time": "2023-08-05T07:27:24.486Z"
   },
   {
    "duration": 12,
    "start_time": "2023-08-05T07:27:58.868Z"
   },
   {
    "duration": 6,
    "start_time": "2023-08-05T07:27:59.518Z"
   },
   {
    "duration": 10,
    "start_time": "2023-08-05T07:28:00.668Z"
   },
   {
    "duration": 12,
    "start_time": "2023-08-05T07:28:01.175Z"
   },
   {
    "duration": 6,
    "start_time": "2023-08-05T07:28:07.839Z"
   },
   {
    "duration": 8,
    "start_time": "2023-08-05T07:35:16.798Z"
   },
   {
    "duration": 7,
    "start_time": "2023-08-05T07:35:22.347Z"
   },
   {
    "duration": 22,
    "start_time": "2023-08-05T07:51:23.928Z"
   },
   {
    "duration": 9,
    "start_time": "2023-08-05T07:51:25.893Z"
   },
   {
    "duration": 6,
    "start_time": "2023-08-05T07:51:48.104Z"
   },
   {
    "duration": 6,
    "start_time": "2023-08-05T07:51:49.784Z"
   },
   {
    "duration": 5,
    "start_time": "2023-08-05T07:51:51.525Z"
   },
   {
    "duration": 3,
    "start_time": "2023-08-05T07:57:14.587Z"
   },
   {
    "duration": 1181,
    "start_time": "2023-08-05T08:05:47.219Z"
   },
   {
    "duration": 196,
    "start_time": "2023-08-05T08:05:48.402Z"
   },
   {
    "duration": 20,
    "start_time": "2023-08-05T08:05:48.600Z"
   },
   {
    "duration": 3,
    "start_time": "2023-08-05T08:05:48.622Z"
   },
   {
    "duration": 40,
    "start_time": "2023-08-05T08:05:48.626Z"
   },
   {
    "duration": 15,
    "start_time": "2023-08-05T08:05:48.672Z"
   },
   {
    "duration": 19,
    "start_time": "2023-08-05T08:05:48.690Z"
   },
   {
    "duration": 11,
    "start_time": "2023-08-05T08:05:48.711Z"
   },
   {
    "duration": 19,
    "start_time": "2023-08-05T08:05:48.724Z"
   },
   {
    "duration": 27,
    "start_time": "2023-08-05T08:05:48.746Z"
   },
   {
    "duration": 23,
    "start_time": "2023-08-05T08:05:48.776Z"
   },
   {
    "duration": 5,
    "start_time": "2023-08-05T08:05:48.800Z"
   },
   {
    "duration": 473,
    "start_time": "2023-08-05T08:05:48.806Z"
   },
   {
    "duration": 224,
    "start_time": "2023-08-05T08:05:49.281Z"
   },
   {
    "duration": 19,
    "start_time": "2023-08-05T08:05:49.506Z"
   },
   {
    "duration": 6,
    "start_time": "2023-08-05T08:05:49.527Z"
   },
   {
    "duration": 38,
    "start_time": "2023-08-05T08:05:49.534Z"
   },
   {
    "duration": 6,
    "start_time": "2023-08-05T08:05:49.574Z"
   },
   {
    "duration": 68,
    "start_time": "2023-08-05T08:05:49.581Z"
   },
   {
    "duration": 27,
    "start_time": "2023-08-05T08:05:49.651Z"
   },
   {
    "duration": 16,
    "start_time": "2023-08-05T08:05:49.680Z"
   },
   {
    "duration": 17,
    "start_time": "2023-08-05T08:05:49.698Z"
   },
   {
    "duration": 42,
    "start_time": "2023-08-05T08:05:49.716Z"
   },
   {
    "duration": 13,
    "start_time": "2023-08-05T08:05:49.760Z"
   },
   {
    "duration": 10,
    "start_time": "2023-08-05T08:05:49.775Z"
   },
   {
    "duration": 8,
    "start_time": "2023-08-05T08:05:49.786Z"
   },
   {
    "duration": 7,
    "start_time": "2023-08-05T08:05:49.795Z"
   },
   {
    "duration": 18,
    "start_time": "2023-08-05T08:05:49.805Z"
   },
   {
    "duration": 7,
    "start_time": "2023-08-05T08:05:49.825Z"
   },
   {
    "duration": 43,
    "start_time": "2023-08-05T08:05:49.834Z"
   },
   {
    "duration": 6,
    "start_time": "2023-08-05T08:05:49.879Z"
   },
   {
    "duration": 168,
    "start_time": "2023-08-05T08:05:49.887Z"
   },
   {
    "duration": 12,
    "start_time": "2023-08-05T08:05:50.059Z"
   },
   {
    "duration": 56,
    "start_time": "2023-08-05T08:05:50.076Z"
   },
   {
    "duration": 50,
    "start_time": "2023-08-05T08:05:50.134Z"
   },
   {
    "duration": 21,
    "start_time": "2023-08-05T08:05:50.186Z"
   },
   {
    "duration": 172,
    "start_time": "2023-08-05T08:05:50.208Z"
   },
   {
    "duration": 12,
    "start_time": "2023-08-05T08:05:50.382Z"
   },
   {
    "duration": 40,
    "start_time": "2023-08-05T08:05:50.396Z"
   },
   {
    "duration": 35,
    "start_time": "2023-08-05T08:05:50.438Z"
   },
   {
    "duration": 26,
    "start_time": "2023-08-05T08:05:50.475Z"
   },
   {
    "duration": 32,
    "start_time": "2023-08-05T08:05:50.503Z"
   },
   {
    "duration": 17,
    "start_time": "2023-08-05T08:05:50.537Z"
   },
   {
    "duration": 266,
    "start_time": "2023-08-05T08:05:50.557Z"
   },
   {
    "duration": 14,
    "start_time": "2023-08-05T08:05:50.824Z"
   },
   {
    "duration": 52,
    "start_time": "2023-08-05T08:05:50.840Z"
   },
   {
    "duration": 44,
    "start_time": "2023-08-05T08:05:50.894Z"
   },
   {
    "duration": 50,
    "start_time": "2023-08-05T08:05:50.940Z"
   },
   {
    "duration": 61,
    "start_time": "2023-08-05T08:05:50.992Z"
   },
   {
    "duration": 26,
    "start_time": "2023-08-05T08:05:51.055Z"
   },
   {
    "duration": 65,
    "start_time": "2023-08-05T08:05:51.083Z"
   },
   {
    "duration": 69,
    "start_time": "2023-08-05T08:05:51.150Z"
   },
   {
    "duration": 21,
    "start_time": "2023-08-05T08:05:51.221Z"
   },
   {
    "duration": 35,
    "start_time": "2023-08-05T08:05:51.244Z"
   },
   {
    "duration": 40,
    "start_time": "2023-08-05T08:05:51.281Z"
   },
   {
    "duration": 74,
    "start_time": "2023-08-05T08:05:51.324Z"
   },
   {
    "duration": 12,
    "start_time": "2023-08-05T08:05:51.400Z"
   },
   {
    "duration": 20,
    "start_time": "2023-08-05T08:05:51.413Z"
   },
   {
    "duration": 28,
    "start_time": "2023-08-05T08:05:51.434Z"
   },
   {
    "duration": 12,
    "start_time": "2023-08-05T08:05:51.464Z"
   },
   {
    "duration": 7,
    "start_time": "2023-08-05T08:05:51.477Z"
   },
   {
    "duration": 413,
    "start_time": "2023-08-12T10:36:57.642Z"
   },
   {
    "duration": 523,
    "start_time": "2023-08-12T10:36:58.057Z"
   },
   {
    "duration": 18,
    "start_time": "2023-08-12T10:36:58.581Z"
   },
   {
    "duration": 4,
    "start_time": "2023-08-12T10:36:58.600Z"
   },
   {
    "duration": 12,
    "start_time": "2023-08-12T10:36:58.607Z"
   },
   {
    "duration": 10,
    "start_time": "2023-08-12T10:36:58.622Z"
   },
   {
    "duration": 21,
    "start_time": "2023-08-12T10:36:58.634Z"
   },
   {
    "duration": 42,
    "start_time": "2023-08-12T10:36:58.657Z"
   },
   {
    "duration": 12,
    "start_time": "2023-08-12T10:36:58.701Z"
   },
   {
    "duration": 517,
    "start_time": "2023-08-12T10:36:58.715Z"
   },
   {
    "duration": 10,
    "start_time": "2023-08-12T10:36:59.234Z"
   },
   {
    "duration": 8,
    "start_time": "2023-08-12T10:36:59.246Z"
   },
   {
    "duration": 12,
    "start_time": "2023-08-12T10:36:59.256Z"
   },
   {
    "duration": 640,
    "start_time": "2023-08-12T10:36:59.272Z"
   },
   {
    "duration": 219,
    "start_time": "2023-08-12T10:36:59.914Z"
   },
   {
    "duration": 19,
    "start_time": "2023-08-12T10:37:00.135Z"
   },
   {
    "duration": 23,
    "start_time": "2023-08-12T10:37:00.156Z"
   },
   {
    "duration": 37,
    "start_time": "2023-08-12T10:37:00.181Z"
   },
   {
    "duration": 44,
    "start_time": "2023-08-12T10:37:00.220Z"
   },
   {
    "duration": 73,
    "start_time": "2023-08-12T10:37:00.266Z"
   },
   {
    "duration": 16,
    "start_time": "2023-08-12T10:37:00.341Z"
   },
   {
    "duration": 24,
    "start_time": "2023-08-12T10:37:00.359Z"
   },
   {
    "duration": 36,
    "start_time": "2023-08-12T10:37:00.385Z"
   },
   {
    "duration": 46,
    "start_time": "2023-08-12T10:37:00.423Z"
   },
   {
    "duration": 12,
    "start_time": "2023-08-12T10:37:00.472Z"
   },
   {
    "duration": 26,
    "start_time": "2023-08-12T10:37:00.486Z"
   },
   {
    "duration": 28,
    "start_time": "2023-08-12T10:37:00.514Z"
   },
   {
    "duration": 25,
    "start_time": "2023-08-12T10:37:00.543Z"
   },
   {
    "duration": 40,
    "start_time": "2023-08-12T10:37:00.570Z"
   },
   {
    "duration": 49,
    "start_time": "2023-08-12T10:37:00.612Z"
   },
   {
    "duration": 38,
    "start_time": "2023-08-12T10:37:00.663Z"
   },
   {
    "duration": 34,
    "start_time": "2023-08-12T10:37:00.703Z"
   },
   {
    "duration": 178,
    "start_time": "2023-08-12T10:37:00.739Z"
   },
   {
    "duration": 9,
    "start_time": "2023-08-12T10:37:00.919Z"
   },
   {
    "duration": 47,
    "start_time": "2023-08-12T10:37:00.929Z"
   },
   {
    "duration": 44,
    "start_time": "2023-08-12T10:37:00.978Z"
   },
   {
    "duration": 23,
    "start_time": "2023-08-12T10:37:01.023Z"
   },
   {
    "duration": 214,
    "start_time": "2023-08-12T10:37:01.048Z"
   },
   {
    "duration": 11,
    "start_time": "2023-08-12T10:37:01.263Z"
   },
   {
    "duration": 90,
    "start_time": "2023-08-12T10:37:01.276Z"
   },
   {
    "duration": 28,
    "start_time": "2023-08-12T10:37:01.370Z"
   },
   {
    "duration": 41,
    "start_time": "2023-08-12T10:37:01.399Z"
   },
   {
    "duration": 33,
    "start_time": "2023-08-12T10:37:01.441Z"
   },
   {
    "duration": 47,
    "start_time": "2023-08-12T10:37:01.476Z"
   },
   {
    "duration": 287,
    "start_time": "2023-08-12T10:37:01.524Z"
   },
   {
    "duration": 13,
    "start_time": "2023-08-12T10:37:01.812Z"
   },
   {
    "duration": 26,
    "start_time": "2023-08-12T10:37:01.826Z"
   },
   {
    "duration": 24,
    "start_time": "2023-08-12T10:37:01.853Z"
   },
   {
    "duration": 28,
    "start_time": "2023-08-12T10:37:01.879Z"
   },
   {
    "duration": 80,
    "start_time": "2023-08-12T10:37:01.908Z"
   },
   {
    "duration": 11,
    "start_time": "2023-08-12T10:37:01.989Z"
   },
   {
    "duration": 45,
    "start_time": "2023-08-12T10:37:02.002Z"
   },
   {
    "duration": 56,
    "start_time": "2023-08-12T10:37:02.049Z"
   },
   {
    "duration": 55,
    "start_time": "2023-08-12T10:37:02.107Z"
   },
   {
    "duration": 36,
    "start_time": "2023-08-12T10:37:02.164Z"
   },
   {
    "duration": 40,
    "start_time": "2023-08-12T10:37:02.201Z"
   },
   {
    "duration": 146,
    "start_time": "2023-08-12T10:37:02.243Z"
   },
   {
    "duration": 5,
    "start_time": "2023-08-12T10:37:02.391Z"
   },
   {
    "duration": 53,
    "start_time": "2023-08-12T10:37:02.398Z"
   },
   {
    "duration": 50,
    "start_time": "2023-08-12T10:37:02.452Z"
   },
   {
    "duration": 44,
    "start_time": "2023-08-12T10:37:02.504Z"
   },
   {
    "duration": 1364,
    "start_time": "2023-08-12T10:37:02.550Z"
   },
   {
    "duration": 509,
    "start_time": "2023-08-12T10:37:03.917Z"
   },
   {
    "duration": 5,
    "start_time": "2023-08-12T10:37:04.428Z"
   },
   {
    "duration": 34,
    "start_time": "2023-08-12T10:37:14.375Z"
   },
   {
    "duration": 38,
    "start_time": "2023-08-12T10:37:20.234Z"
   },
   {
    "duration": 34,
    "start_time": "2023-08-12T10:39:46.366Z"
   },
   {
    "duration": 4,
    "start_time": "2023-08-12T10:40:00.789Z"
   },
   {
    "duration": 7,
    "start_time": "2023-08-12T10:40:35.601Z"
   },
   {
    "duration": 11,
    "start_time": "2023-08-12T10:40:53.306Z"
   },
   {
    "duration": 14,
    "start_time": "2023-08-12T10:41:15.311Z"
   },
   {
    "duration": 5,
    "start_time": "2023-08-12T10:42:04.943Z"
   },
   {
    "duration": 72,
    "start_time": "2023-08-12T11:47:04.151Z"
   },
   {
    "duration": 538,
    "start_time": "2023-08-12T11:47:36.852Z"
   },
   {
    "duration": 764,
    "start_time": "2023-08-12T11:47:37.395Z"
   },
   {
    "duration": 32,
    "start_time": "2023-08-12T11:47:38.166Z"
   },
   {
    "duration": 3,
    "start_time": "2023-08-12T11:47:38.201Z"
   },
   {
    "duration": 20,
    "start_time": "2023-08-12T11:47:38.206Z"
   },
   {
    "duration": 13,
    "start_time": "2023-08-12T11:47:38.228Z"
   },
   {
    "duration": 27,
    "start_time": "2023-08-12T11:47:38.244Z"
   },
   {
    "duration": 15,
    "start_time": "2023-08-12T11:47:38.277Z"
   },
   {
    "duration": 21,
    "start_time": "2023-08-12T11:47:38.294Z"
   },
   {
    "duration": 546,
    "start_time": "2023-08-12T11:47:38.318Z"
   },
   {
    "duration": 20,
    "start_time": "2023-08-12T11:47:38.871Z"
   },
   {
    "duration": 17,
    "start_time": "2023-08-12T11:47:38.900Z"
   },
   {
    "duration": 12,
    "start_time": "2023-08-12T11:47:38.919Z"
   },
   {
    "duration": 806,
    "start_time": "2023-08-12T11:47:38.933Z"
   },
   {
    "duration": 260,
    "start_time": "2023-08-12T11:47:39.741Z"
   },
   {
    "duration": 36,
    "start_time": "2023-08-12T11:47:40.003Z"
   },
   {
    "duration": 20,
    "start_time": "2023-08-12T11:47:40.041Z"
   },
   {
    "duration": 36,
    "start_time": "2023-08-12T11:47:40.066Z"
   },
   {
    "duration": 7,
    "start_time": "2023-08-12T11:47:40.104Z"
   },
   {
    "duration": 97,
    "start_time": "2023-08-12T11:47:40.113Z"
   },
   {
    "duration": 24,
    "start_time": "2023-08-12T11:47:40.214Z"
   },
   {
    "duration": 6,
    "start_time": "2023-08-12T11:47:40.240Z"
   },
   {
    "duration": 34,
    "start_time": "2023-08-12T11:47:40.264Z"
   },
   {
    "duration": 46,
    "start_time": "2023-08-12T11:47:40.301Z"
   },
   {
    "duration": 5,
    "start_time": "2023-08-12T11:47:40.350Z"
   },
   {
    "duration": 20,
    "start_time": "2023-08-12T11:47:40.358Z"
   },
   {
    "duration": 14,
    "start_time": "2023-08-12T11:47:40.380Z"
   },
   {
    "duration": 4,
    "start_time": "2023-08-12T11:47:40.400Z"
   },
   {
    "duration": 22,
    "start_time": "2023-08-12T11:47:40.407Z"
   },
   {
    "duration": 37,
    "start_time": "2023-08-12T11:47:40.431Z"
   },
   {
    "duration": 24,
    "start_time": "2023-08-12T11:47:40.471Z"
   },
   {
    "duration": 8,
    "start_time": "2023-08-12T11:47:40.497Z"
   },
   {
    "duration": 206,
    "start_time": "2023-08-12T11:47:40.508Z"
   },
   {
    "duration": 10,
    "start_time": "2023-08-12T11:47:40.717Z"
   },
   {
    "duration": 16,
    "start_time": "2023-08-12T11:47:40.729Z"
   },
   {
    "duration": 34,
    "start_time": "2023-08-12T11:47:40.747Z"
   },
   {
    "duration": 11,
    "start_time": "2023-08-12T11:47:40.784Z"
   },
   {
    "duration": 214,
    "start_time": "2023-08-12T11:47:40.798Z"
   },
   {
    "duration": 14,
    "start_time": "2023-08-12T11:47:41.015Z"
   },
   {
    "duration": 41,
    "start_time": "2023-08-12T11:47:41.031Z"
   },
   {
    "duration": 9,
    "start_time": "2023-08-12T11:47:41.081Z"
   },
   {
    "duration": 12,
    "start_time": "2023-08-12T11:47:41.092Z"
   },
   {
    "duration": 15,
    "start_time": "2023-08-12T11:47:41.106Z"
   },
   {
    "duration": 43,
    "start_time": "2023-08-12T11:47:41.123Z"
   },
   {
    "duration": 323,
    "start_time": "2023-08-12T11:47:41.169Z"
   },
   {
    "duration": 23,
    "start_time": "2023-08-12T11:47:41.494Z"
   },
   {
    "duration": 6,
    "start_time": "2023-08-12T11:47:41.519Z"
   },
   {
    "duration": 16,
    "start_time": "2023-08-12T11:47:41.526Z"
   },
   {
    "duration": 6,
    "start_time": "2023-08-12T11:47:41.566Z"
   },
   {
    "duration": 47,
    "start_time": "2023-08-12T11:47:41.573Z"
   },
   {
    "duration": 14,
    "start_time": "2023-08-12T11:47:41.621Z"
   },
   {
    "duration": 6,
    "start_time": "2023-08-12T11:47:41.637Z"
   },
   {
    "duration": 13,
    "start_time": "2023-08-12T11:47:41.664Z"
   },
   {
    "duration": 28,
    "start_time": "2023-08-12T11:47:41.680Z"
   },
   {
    "duration": 5,
    "start_time": "2023-08-12T11:47:41.710Z"
   },
   {
    "duration": 9,
    "start_time": "2023-08-12T11:47:41.717Z"
   },
   {
    "duration": 106,
    "start_time": "2023-08-12T11:47:41.728Z"
   },
   {
    "duration": 5,
    "start_time": "2023-08-12T11:47:41.836Z"
   },
   {
    "duration": 48,
    "start_time": "2023-08-12T11:47:41.843Z"
   },
   {
    "duration": 10,
    "start_time": "2023-08-12T11:47:41.894Z"
   },
   {
    "duration": 11,
    "start_time": "2023-08-12T11:47:41.906Z"
   },
   {
    "duration": 4,
    "start_time": "2023-08-12T11:47:41.919Z"
   },
   {
    "duration": 128,
    "start_time": "2023-08-12T11:47:41.925Z"
   },
   {
    "duration": 0,
    "start_time": "2023-08-12T11:47:42.055Z"
   },
   {
    "duration": 0,
    "start_time": "2023-08-12T11:47:42.057Z"
   },
   {
    "duration": 0,
    "start_time": "2023-08-12T11:47:42.058Z"
   },
   {
    "duration": 1367,
    "start_time": "2023-08-12T11:48:18.977Z"
   },
   {
    "duration": 12,
    "start_time": "2023-08-12T11:48:31.879Z"
   },
   {
    "duration": 43,
    "start_time": "2023-08-12T11:51:27.007Z"
   },
   {
    "duration": 3831,
    "start_time": "2023-08-12T11:52:04.389Z"
   },
   {
    "duration": 2422,
    "start_time": "2023-08-12T11:52:33.637Z"
   },
   {
    "duration": 2378,
    "start_time": "2023-08-12T11:52:41.237Z"
   },
   {
    "duration": 2428,
    "start_time": "2023-08-12T11:52:52.790Z"
   },
   {
    "duration": 15,
    "start_time": "2023-08-12T11:53:17.214Z"
   },
   {
    "duration": 21,
    "start_time": "2023-08-12T11:53:21.492Z"
   },
   {
    "duration": 1362,
    "start_time": "2023-08-12T11:53:35.621Z"
   },
   {
    "duration": 19332,
    "start_time": "2023-08-12T11:54:49.981Z"
   },
   {
    "duration": 19914,
    "start_time": "2023-08-12T11:56:45.455Z"
   },
   {
    "duration": 31,
    "start_time": "2023-08-12T11:57:06.983Z"
   },
   {
    "duration": 14166,
    "start_time": "2023-08-12T11:58:02.839Z"
   },
   {
    "duration": 16704,
    "start_time": "2023-08-12T12:00:56.523Z"
   },
   {
    "duration": 15859,
    "start_time": "2023-08-12T12:01:35.137Z"
   },
   {
    "duration": 14359,
    "start_time": "2023-08-12T12:03:52.057Z"
   },
   {
    "duration": 161,
    "start_time": "2023-08-12T12:04:30.261Z"
   },
   {
    "duration": 7162,
    "start_time": "2023-08-12T12:04:35.446Z"
   },
   {
    "duration": 9,
    "start_time": "2023-08-12T12:04:58.402Z"
   },
   {
    "duration": 47,
    "start_time": "2023-08-12T12:05:08.242Z"
   },
   {
    "duration": 25,
    "start_time": "2023-08-12T12:10:29.414Z"
   },
   {
    "duration": 6,
    "start_time": "2023-08-12T12:10:45.720Z"
   },
   {
    "duration": 605,
    "start_time": "2023-08-12T12:11:42.637Z"
   },
   {
    "duration": 7,
    "start_time": "2023-08-12T12:11:44.315Z"
   },
   {
    "duration": 1248,
    "start_time": "2023-08-12T12:11:46.527Z"
   },
   {
    "duration": 231,
    "start_time": "2023-08-12T12:27:28.387Z"
   },
   {
    "duration": 226,
    "start_time": "2023-08-12T12:27:32.799Z"
   },
   {
    "duration": 297,
    "start_time": "2023-08-12T12:27:42.692Z"
   },
   {
    "duration": 259,
    "start_time": "2023-08-12T12:28:22.848Z"
   },
   {
    "duration": 277,
    "start_time": "2023-08-12T12:28:51.450Z"
   },
   {
    "duration": 235,
    "start_time": "2023-08-12T12:29:06.904Z"
   },
   {
    "duration": 460,
    "start_time": "2023-08-12T12:33:14.247Z"
   },
   {
    "duration": 584,
    "start_time": "2023-08-12T12:34:19.239Z"
   },
   {
    "duration": 14,
    "start_time": "2023-08-12T12:35:49.831Z"
   },
   {
    "duration": 5,
    "start_time": "2023-08-12T12:41:49.277Z"
   },
   {
    "duration": 140,
    "start_time": "2023-08-12T12:42:37.133Z"
   },
   {
    "duration": 48,
    "start_time": "2023-08-12T12:42:50.785Z"
   },
   {
    "duration": 23,
    "start_time": "2023-08-12T12:43:04.111Z"
   },
   {
    "duration": 84,
    "start_time": "2023-08-12T12:43:23.689Z"
   },
   {
    "duration": 213,
    "start_time": "2023-08-12T12:45:07.302Z"
   },
   {
    "duration": 195,
    "start_time": "2023-08-12T12:45:42.521Z"
   },
   {
    "duration": 4,
    "start_time": "2023-08-12T12:46:12.219Z"
   },
   {
    "duration": 212,
    "start_time": "2023-08-12T12:46:15.138Z"
   },
   {
    "duration": 5,
    "start_time": "2023-08-12T12:46:30.512Z"
   },
   {
    "duration": 247,
    "start_time": "2023-08-12T12:46:32.555Z"
   },
   {
    "duration": 6563,
    "start_time": "2023-08-12T12:48:13.684Z"
   },
   {
    "duration": 7,
    "start_time": "2023-08-12T12:52:50.453Z"
   },
   {
    "duration": 7,
    "start_time": "2023-08-12T12:52:51.686Z"
   },
   {
    "duration": 1008,
    "start_time": "2023-08-12T12:52:53.655Z"
   },
   {
    "duration": 199933,
    "start_time": "2023-08-12T12:53:33.617Z"
   },
   {
    "duration": 6,
    "start_time": "2023-08-12T13:08:00.605Z"
   },
   {
    "duration": 6,
    "start_time": "2023-08-12T13:08:08.265Z"
   },
   {
    "duration": 1545,
    "start_time": "2023-08-12T13:08:27.677Z"
   },
   {
    "duration": 834,
    "start_time": "2023-08-12T13:08:43.890Z"
   },
   {
    "duration": 6300,
    "start_time": "2023-08-12T13:08:54.771Z"
   },
   {
    "duration": 140,
    "start_time": "2023-08-12T13:09:09.424Z"
   },
   {
    "duration": 466324,
    "start_time": "2023-08-12T13:12:51.505Z"
   },
   {
    "duration": 5,
    "start_time": "2023-08-12T13:21:24.006Z"
   },
   {
    "duration": 5,
    "start_time": "2023-08-12T13:21:25.926Z"
   },
   {
    "duration": 14,
    "start_time": "2023-08-12T13:22:00.576Z"
   },
   {
    "duration": 11,
    "start_time": "2023-08-12T13:24:21.996Z"
   },
   {
    "duration": 15,
    "start_time": "2023-08-12T13:24:39.681Z"
   },
   {
    "duration": 49,
    "start_time": "2023-08-12T13:25:07.741Z"
   },
   {
    "duration": 709,
    "start_time": "2023-08-12T13:26:17.990Z"
   },
   {
    "duration": 53,
    "start_time": "2023-08-12T13:26:25.167Z"
   },
   {
    "duration": 63,
    "start_time": "2023-08-12T13:26:41.555Z"
   },
   {
    "duration": 14651,
    "start_time": "2023-08-12T13:27:05.537Z"
   },
   {
    "duration": 231,
    "start_time": "2023-08-12T13:27:26.835Z"
   },
   {
    "duration": 48,
    "start_time": "2023-08-12T14:25:50.156Z"
   },
   {
    "duration": 21,
    "start_time": "2023-08-12T14:26:07.756Z"
   },
   {
    "duration": 15,
    "start_time": "2023-08-12T14:26:47.590Z"
   },
   {
    "duration": 41,
    "start_time": "2023-08-12T14:27:05.578Z"
   },
   {
    "duration": 11,
    "start_time": "2023-08-12T14:27:18.914Z"
   },
   {
    "duration": 15,
    "start_time": "2023-08-12T14:27:46.856Z"
   },
   {
    "duration": 10,
    "start_time": "2023-08-12T14:28:05.636Z"
   },
   {
    "duration": 1179,
    "start_time": "2023-08-12T14:28:13.694Z"
   },
   {
    "duration": 14774,
    "start_time": "2023-08-12T14:28:36.598Z"
   },
   {
    "duration": 248,
    "start_time": "2023-08-12T14:29:30.058Z"
   },
   {
    "duration": 9,
    "start_time": "2023-08-12T14:33:16.302Z"
   },
   {
    "duration": 6,
    "start_time": "2023-08-12T14:33:25.019Z"
   },
   {
    "duration": 156,
    "start_time": "2023-08-12T14:34:28.983Z"
   },
   {
    "duration": 19,
    "start_time": "2023-08-12T14:34:37.583Z"
   },
   {
    "duration": 24,
    "start_time": "2023-08-12T14:34:53.675Z"
   },
   {
    "duration": 15,
    "start_time": "2023-08-12T14:35:04.494Z"
   },
   {
    "duration": 17,
    "start_time": "2023-08-12T14:35:12.576Z"
   },
   {
    "duration": 273,
    "start_time": "2023-08-12T14:35:16.812Z"
   },
   {
    "duration": 202,
    "start_time": "2023-08-12T14:35:25.433Z"
   },
   {
    "duration": 278,
    "start_time": "2023-08-12T14:35:30.693Z"
   },
   {
    "duration": 173,
    "start_time": "2023-08-12T14:35:40.120Z"
   },
   {
    "duration": 89,
    "start_time": "2023-08-12T14:36:02.484Z"
   },
   {
    "duration": 18,
    "start_time": "2023-08-12T14:37:10.935Z"
   },
   {
    "duration": 5,
    "start_time": "2023-08-12T14:37:12.504Z"
   },
   {
    "duration": 9,
    "start_time": "2023-08-12T14:37:13.786Z"
   },
   {
    "duration": 560,
    "start_time": "2023-08-12T14:38:08.924Z"
   },
   {
    "duration": 667,
    "start_time": "2023-08-12T14:40:20.398Z"
   },
   {
    "duration": 12,
    "start_time": "2023-08-12T14:41:19.525Z"
   },
   {
    "duration": 6436,
    "start_time": "2023-08-12T14:42:03.702Z"
   },
   {
    "duration": 6,
    "start_time": "2023-08-12T14:43:04.539Z"
   },
   {
    "duration": 861,
    "start_time": "2023-08-12T14:43:07.322Z"
   },
   {
    "duration": 340291,
    "start_time": "2023-08-12T14:43:31.451Z"
   },
   {
    "duration": 4,
    "start_time": "2023-08-12T14:49:31.434Z"
   },
   {
    "duration": 12,
    "start_time": "2023-08-12T14:49:35.679Z"
   },
   {
    "duration": 703,
    "start_time": "2023-08-12T14:49:53.430Z"
   },
   {
    "duration": 5635,
    "start_time": "2023-08-12T14:50:06.142Z"
   },
   {
    "duration": 101,
    "start_time": "2023-08-12T14:50:20.182Z"
   },
   {
    "duration": 29,
    "start_time": "2023-08-12T14:50:44.454Z"
   },
   {
    "duration": 35,
    "start_time": "2023-08-12T14:50:48.056Z"
   },
   {
    "duration": 7,
    "start_time": "2023-08-12T14:50:49.210Z"
   },
   {
    "duration": 5,
    "start_time": "2023-08-12T14:50:50.339Z"
   },
   {
    "duration": 6,
    "start_time": "2023-08-12T14:50:51.852Z"
   },
   {
    "duration": 6,
    "start_time": "2023-08-12T14:52:56.905Z"
   },
   {
    "duration": 47,
    "start_time": "2023-08-12T15:07:27.592Z"
   },
   {
    "duration": 48,
    "start_time": "2023-08-12T15:07:51.501Z"
   },
   {
    "duration": 13,
    "start_time": "2023-08-12T15:08:34.585Z"
   },
   {
    "duration": 4,
    "start_time": "2023-08-12T15:09:14.714Z"
   },
   {
    "duration": 8,
    "start_time": "2023-08-12T15:10:41.387Z"
   },
   {
    "duration": 52,
    "start_time": "2023-08-12T15:10:49.920Z"
   },
   {
    "duration": 196,
    "start_time": "2023-08-12T15:11:14.226Z"
   },
   {
    "duration": 325,
    "start_time": "2023-08-12T15:11:21.594Z"
   },
   {
    "duration": 387,
    "start_time": "2023-08-12T15:11:57.889Z"
   },
   {
    "duration": 342,
    "start_time": "2023-08-12T15:12:05.208Z"
   },
   {
    "duration": 211,
    "start_time": "2023-08-12T15:13:44.413Z"
   },
   {
    "duration": 532,
    "start_time": "2023-08-12T15:13:54.569Z"
   },
   {
    "duration": 193,
    "start_time": "2023-08-12T15:14:10.493Z"
   },
   {
    "duration": 239,
    "start_time": "2023-08-12T15:16:28.981Z"
   },
   {
    "duration": 437,
    "start_time": "2023-08-12T15:16:37.077Z"
   },
   {
    "duration": 433,
    "start_time": "2023-08-12T15:16:43.229Z"
   },
   {
    "duration": 64,
    "start_time": "2023-08-12T15:17:06.772Z"
   },
   {
    "duration": 536,
    "start_time": "2023-08-12T15:17:32.878Z"
   },
   {
    "duration": 480,
    "start_time": "2023-08-12T15:17:49.822Z"
   },
   {
    "duration": 408,
    "start_time": "2023-08-12T15:21:02.422Z"
   },
   {
    "duration": 361,
    "start_time": "2023-08-12T15:21:21.885Z"
   },
   {
    "duration": 379,
    "start_time": "2023-08-12T15:29:50.009Z"
   },
   {
    "duration": 322,
    "start_time": "2023-08-12T15:30:49.260Z"
   },
   {
    "duration": 4,
    "start_time": "2023-08-12T15:31:00.799Z"
   },
   {
    "duration": 229,
    "start_time": "2023-08-12T15:31:18.530Z"
   },
   {
    "duration": 323,
    "start_time": "2023-08-12T15:32:22.729Z"
   },
   {
    "duration": 329,
    "start_time": "2023-08-12T15:32:28.106Z"
   },
   {
    "duration": 356,
    "start_time": "2023-08-12T15:32:38.214Z"
   },
   {
    "duration": 3,
    "start_time": "2023-08-12T15:32:54.100Z"
   },
   {
    "duration": 8,
    "start_time": "2023-08-12T15:33:25.857Z"
   },
   {
    "duration": 6,
    "start_time": "2023-08-12T15:33:52.372Z"
   },
   {
    "duration": 231,
    "start_time": "2023-08-12T15:34:02.746Z"
   },
   {
    "duration": 6,
    "start_time": "2023-08-12T15:34:21.527Z"
   },
   {
    "duration": 230,
    "start_time": "2023-08-12T15:34:33.302Z"
   },
   {
    "duration": 227,
    "start_time": "2023-08-12T15:41:38.893Z"
   },
   {
    "duration": 11,
    "start_time": "2023-08-12T15:41:49.113Z"
   },
   {
    "duration": 4,
    "start_time": "2023-08-12T15:43:11.952Z"
   },
   {
    "duration": 5,
    "start_time": "2023-08-12T15:43:18.703Z"
   },
   {
    "duration": 5,
    "start_time": "2023-08-12T15:43:20.829Z"
   },
   {
    "duration": 7,
    "start_time": "2023-08-12T15:44:51.815Z"
   },
   {
    "duration": 6,
    "start_time": "2023-08-12T15:45:00.316Z"
   },
   {
    "duration": 227,
    "start_time": "2023-08-12T15:45:10.951Z"
   },
   {
    "duration": 3,
    "start_time": "2023-08-12T15:45:28.044Z"
   },
   {
    "duration": 4,
    "start_time": "2023-08-12T15:45:32.547Z"
   },
   {
    "duration": 226,
    "start_time": "2023-08-12T15:45:46.176Z"
   },
   {
    "duration": 241,
    "start_time": "2023-08-12T15:46:16.722Z"
   },
   {
    "duration": 207,
    "start_time": "2023-08-12T15:46:26.305Z"
   },
   {
    "duration": 220,
    "start_time": "2023-08-12T15:46:36.988Z"
   },
   {
    "duration": 4,
    "start_time": "2023-08-12T15:51:35.149Z"
   },
   {
    "duration": 5,
    "start_time": "2023-08-12T15:52:40.478Z"
   },
   {
    "duration": 283,
    "start_time": "2023-08-12T15:52:48.764Z"
   },
   {
    "duration": 220,
    "start_time": "2023-08-12T15:53:01.382Z"
   },
   {
    "duration": 261,
    "start_time": "2023-08-12T15:53:27.481Z"
   },
   {
    "duration": 227,
    "start_time": "2023-08-12T15:53:34.568Z"
   },
   {
    "duration": 174,
    "start_time": "2023-08-12T15:55:43.979Z"
   },
   {
    "duration": 180,
    "start_time": "2023-08-12T15:56:10.522Z"
   },
   {
    "duration": 382,
    "start_time": "2023-08-12T15:56:15.143Z"
   },
   {
    "duration": 291,
    "start_time": "2023-08-12T15:57:46.348Z"
   },
   {
    "duration": 45,
    "start_time": "2023-08-12T15:59:38.071Z"
   },
   {
    "duration": 108,
    "start_time": "2023-08-12T16:04:01.351Z"
   },
   {
    "duration": 50,
    "start_time": "2023-08-12T16:04:21.515Z"
   },
   {
    "duration": 110,
    "start_time": "2023-08-12T16:04:36.075Z"
   },
   {
    "duration": 106,
    "start_time": "2023-08-12T16:04:45.270Z"
   },
   {
    "duration": 320,
    "start_time": "2023-08-12T16:04:49.838Z"
   },
   {
    "duration": 264,
    "start_time": "2023-08-12T16:07:24.653Z"
   },
   {
    "duration": 283,
    "start_time": "2023-08-12T16:07:42.646Z"
   },
   {
    "duration": 322,
    "start_time": "2023-08-12T16:08:47.225Z"
   },
   {
    "duration": 304,
    "start_time": "2023-08-12T16:08:50.827Z"
   },
   {
    "duration": 316,
    "start_time": "2023-08-12T16:08:55.289Z"
   },
   {
    "duration": 509,
    "start_time": "2023-08-12T16:09:00.366Z"
   },
   {
    "duration": 295,
    "start_time": "2023-08-12T16:09:06.175Z"
   },
   {
    "duration": 266,
    "start_time": "2023-08-12T16:11:17.367Z"
   },
   {
    "duration": 142,
    "start_time": "2023-08-12T16:11:59.786Z"
   },
   {
    "duration": 318,
    "start_time": "2023-08-12T16:12:05.512Z"
   },
   {
    "duration": 247,
    "start_time": "2023-08-12T16:15:28.983Z"
   },
   {
    "duration": 219,
    "start_time": "2023-08-12T16:15:50.998Z"
   },
   {
    "duration": 234,
    "start_time": "2023-08-12T16:16:35.317Z"
   },
   {
    "duration": 378,
    "start_time": "2023-08-12T16:18:46.696Z"
   },
   {
    "duration": 559,
    "start_time": "2023-08-12T16:19:29.084Z"
   },
   {
    "duration": 330,
    "start_time": "2023-08-12T16:20:30.132Z"
   },
   {
    "duration": 352,
    "start_time": "2023-08-12T16:20:41.172Z"
   },
   {
    "duration": 6,
    "start_time": "2023-08-12T16:21:18.572Z"
   },
   {
    "duration": 14,
    "start_time": "2023-08-12T16:21:46.207Z"
   },
   {
    "duration": 10,
    "start_time": "2023-08-12T16:22:19.370Z"
   },
   {
    "duration": 9,
    "start_time": "2023-08-12T16:22:32.797Z"
   },
   {
    "duration": 9,
    "start_time": "2023-08-12T16:22:45.969Z"
   },
   {
    "duration": 11,
    "start_time": "2023-08-12T16:22:53.075Z"
   },
   {
    "duration": 132,
    "start_time": "2023-08-12T16:23:16.378Z"
   },
   {
    "duration": 3,
    "start_time": "2023-08-12T16:23:34.870Z"
   },
   {
    "duration": 45,
    "start_time": "2023-08-12T16:23:38.936Z"
   },
   {
    "duration": 17,
    "start_time": "2023-08-12T16:23:45.177Z"
   },
   {
    "duration": 7,
    "start_time": "2023-08-12T16:23:55.528Z"
   },
   {
    "duration": 3,
    "start_time": "2023-08-12T21:13:51.496Z"
   },
   {
    "duration": 215,
    "start_time": "2023-08-12T21:13:51.502Z"
   },
   {
    "duration": 10,
    "start_time": "2023-08-12T21:13:51.719Z"
   },
   {
    "duration": 20,
    "start_time": "2023-08-12T21:13:51.731Z"
   },
   {
    "duration": 32,
    "start_time": "2023-08-12T21:13:51.753Z"
   },
   {
    "duration": 17,
    "start_time": "2023-08-12T21:13:51.787Z"
   },
   {
    "duration": 44,
    "start_time": "2023-08-12T21:13:51.806Z"
   },
   {
    "duration": 25,
    "start_time": "2023-08-12T21:13:51.852Z"
   },
   {
    "duration": 11,
    "start_time": "2023-08-12T21:13:51.880Z"
   },
   {
    "duration": 31,
    "start_time": "2023-08-12T21:13:51.893Z"
   },
   {
    "duration": 22,
    "start_time": "2023-08-12T21:13:51.926Z"
   },
   {
    "duration": 16,
    "start_time": "2023-08-12T21:13:51.950Z"
   },
   {
    "duration": 9,
    "start_time": "2023-08-12T21:13:51.967Z"
   },
   {
    "duration": 165,
    "start_time": "2023-08-12T21:13:51.978Z"
   },
   {
    "duration": 221,
    "start_time": "2023-08-12T21:13:52.145Z"
   },
   {
    "duration": 18,
    "start_time": "2023-08-12T21:13:52.368Z"
   },
   {
    "duration": 17,
    "start_time": "2023-08-12T21:13:52.396Z"
   },
   {
    "duration": 32,
    "start_time": "2023-08-12T21:13:52.415Z"
   },
   {
    "duration": 4,
    "start_time": "2023-08-12T21:13:52.449Z"
   },
   {
    "duration": 59,
    "start_time": "2023-08-12T21:13:52.455Z"
   },
   {
    "duration": 17,
    "start_time": "2023-08-12T21:13:52.516Z"
   },
   {
    "duration": 8,
    "start_time": "2023-08-12T21:13:52.535Z"
   },
   {
    "duration": 25,
    "start_time": "2023-08-12T21:13:52.545Z"
   },
   {
    "duration": 38,
    "start_time": "2023-08-12T21:13:52.575Z"
   },
   {
    "duration": 5,
    "start_time": "2023-08-12T21:13:52.614Z"
   },
   {
    "duration": 14,
    "start_time": "2023-08-12T21:13:52.620Z"
   },
   {
    "duration": 14,
    "start_time": "2023-08-12T21:13:52.636Z"
   },
   {
    "duration": 5,
    "start_time": "2023-08-12T21:13:52.652Z"
   },
   {
    "duration": 13,
    "start_time": "2023-08-12T21:13:52.658Z"
   },
   {
    "duration": 5,
    "start_time": "2023-08-12T21:13:52.672Z"
   },
   {
    "duration": 16,
    "start_time": "2023-08-12T21:13:52.695Z"
   },
   {
    "duration": 15,
    "start_time": "2023-08-12T21:13:52.719Z"
   },
   {
    "duration": 162,
    "start_time": "2023-08-12T21:13:52.735Z"
   },
   {
    "duration": 8,
    "start_time": "2023-08-12T21:13:52.899Z"
   },
   {
    "duration": 19,
    "start_time": "2023-08-12T21:13:52.908Z"
   },
   {
    "duration": 27,
    "start_time": "2023-08-12T21:13:52.929Z"
   },
   {
    "duration": 8,
    "start_time": "2023-08-12T21:13:52.958Z"
   },
   {
    "duration": 167,
    "start_time": "2023-08-12T21:13:52.968Z"
   },
   {
    "duration": 11,
    "start_time": "2023-08-12T21:13:53.136Z"
   },
   {
    "duration": 20,
    "start_time": "2023-08-12T21:13:53.148Z"
   },
   {
    "duration": 27,
    "start_time": "2023-08-12T21:13:53.169Z"
   },
   {
    "duration": 10,
    "start_time": "2023-08-12T21:13:53.197Z"
   },
   {
    "duration": 26,
    "start_time": "2023-08-12T21:13:53.209Z"
   },
   {
    "duration": 9,
    "start_time": "2023-08-12T21:13:53.237Z"
   },
   {
    "duration": 11,
    "start_time": "2023-08-12T21:13:53.248Z"
   },
   {
    "duration": 163,
    "start_time": "2023-08-12T21:13:53.261Z"
   },
   {
    "duration": 13,
    "start_time": "2023-08-12T21:13:53.425Z"
   },
   {
    "duration": 12,
    "start_time": "2023-08-12T21:13:53.439Z"
   },
   {
    "duration": 16,
    "start_time": "2023-08-12T21:13:53.452Z"
   },
   {
    "duration": 3,
    "start_time": "2023-08-12T21:13:53.470Z"
   },
   {
    "duration": 62,
    "start_time": "2023-08-12T21:13:53.474Z"
   },
   {
    "duration": 13,
    "start_time": "2023-08-12T21:13:53.538Z"
   },
   {
    "duration": 8,
    "start_time": "2023-08-12T21:13:53.553Z"
   },
   {
    "duration": 34,
    "start_time": "2023-08-12T21:13:53.562Z"
   },
   {
    "duration": 27,
    "start_time": "2023-08-12T21:13:53.598Z"
   },
   {
    "duration": 5,
    "start_time": "2023-08-12T21:13:53.627Z"
   },
   {
    "duration": 14,
    "start_time": "2023-08-12T21:13:53.634Z"
   },
   {
    "duration": 83,
    "start_time": "2023-08-12T21:13:53.651Z"
   },
   {
    "duration": 5,
    "start_time": "2023-08-12T21:13:53.736Z"
   },
   {
    "duration": 18,
    "start_time": "2023-08-12T21:13:53.743Z"
   },
   {
    "duration": 16,
    "start_time": "2023-08-12T21:13:53.763Z"
   },
   {
    "duration": 13,
    "start_time": "2023-08-12T21:13:53.780Z"
   },
   {
    "duration": 8,
    "start_time": "2023-08-12T21:13:53.795Z"
   },
   {
    "duration": 6202,
    "start_time": "2023-08-12T21:13:53.805Z"
   },
   {
    "duration": 6,
    "start_time": "2023-08-12T21:14:00.009Z"
   },
   {
    "duration": 58,
    "start_time": "2023-08-12T21:14:00.017Z"
   },
   {
    "duration": 37,
    "start_time": "2023-08-12T21:15:49.596Z"
   },
   {
    "duration": 15,
    "start_time": "2023-08-12T21:16:02.839Z"
   },
   {
    "duration": 118,
    "start_time": "2023-08-12T21:16:06.351Z"
   },
   {
    "duration": 31,
    "start_time": "2023-08-12T21:16:14.083Z"
   },
   {
    "duration": 11,
    "start_time": "2023-08-12T21:16:36.271Z"
   },
   {
    "duration": 11,
    "start_time": "2023-08-12T21:16:40.848Z"
   },
   {
    "duration": 24,
    "start_time": "2023-08-12T21:16:53.769Z"
   },
   {
    "duration": 33,
    "start_time": "2023-08-12T21:17:00.690Z"
   },
   {
    "duration": 13,
    "start_time": "2023-08-12T21:17:08.511Z"
   },
   {
    "duration": 20,
    "start_time": "2023-08-12T21:19:16.743Z"
   },
   {
    "duration": 20,
    "start_time": "2023-08-12T21:19:27.455Z"
   },
   {
    "duration": 16,
    "start_time": "2023-08-12T21:20:44.054Z"
   },
   {
    "duration": 53,
    "start_time": "2023-08-12T21:25:18.760Z"
   },
   {
    "duration": 578,
    "start_time": "2023-08-12T21:25:35.431Z"
   },
   {
    "duration": 647,
    "start_time": "2023-08-12T21:25:36.012Z"
   },
   {
    "duration": 25,
    "start_time": "2023-08-12T21:25:36.661Z"
   },
   {
    "duration": 5,
    "start_time": "2023-08-12T21:25:36.689Z"
   },
   {
    "duration": 38,
    "start_time": "2023-08-12T21:25:36.696Z"
   },
   {
    "duration": 22,
    "start_time": "2023-08-12T21:25:36.738Z"
   },
   {
    "duration": 42,
    "start_time": "2023-08-12T21:25:36.764Z"
   },
   {
    "duration": 20,
    "start_time": "2023-08-12T21:25:36.808Z"
   },
   {
    "duration": 20,
    "start_time": "2023-08-12T21:25:36.831Z"
   },
   {
    "duration": 609,
    "start_time": "2023-08-12T21:25:36.856Z"
   },
   {
    "duration": 14,
    "start_time": "2023-08-12T21:25:37.467Z"
   },
   {
    "duration": 34,
    "start_time": "2023-08-12T21:25:37.483Z"
   },
   {
    "duration": 20,
    "start_time": "2023-08-12T21:25:37.519Z"
   },
   {
    "duration": 733,
    "start_time": "2023-08-12T21:25:37.541Z"
   },
   {
    "duration": 247,
    "start_time": "2023-08-12T21:25:38.276Z"
   },
   {
    "duration": 22,
    "start_time": "2023-08-12T21:25:38.524Z"
   },
   {
    "duration": 10,
    "start_time": "2023-08-12T21:25:38.548Z"
   },
   {
    "duration": 16,
    "start_time": "2023-08-12T21:25:38.561Z"
   },
   {
    "duration": 36,
    "start_time": "2023-08-12T21:25:38.580Z"
   },
   {
    "duration": 111,
    "start_time": "2023-08-12T21:25:38.620Z"
   },
   {
    "duration": 19,
    "start_time": "2023-08-12T21:25:38.733Z"
   },
   {
    "duration": 16,
    "start_time": "2023-08-12T21:25:38.755Z"
   },
   {
    "duration": 23,
    "start_time": "2023-08-12T21:25:38.773Z"
   },
   {
    "duration": 38,
    "start_time": "2023-08-12T21:25:38.808Z"
   },
   {
    "duration": 5,
    "start_time": "2023-08-12T21:25:38.848Z"
   },
   {
    "duration": 14,
    "start_time": "2023-08-12T21:25:38.855Z"
   },
   {
    "duration": 39,
    "start_time": "2023-08-12T21:25:38.871Z"
   },
   {
    "duration": 13,
    "start_time": "2023-08-12T21:25:38.915Z"
   },
   {
    "duration": 15,
    "start_time": "2023-08-12T21:25:38.930Z"
   },
   {
    "duration": 8,
    "start_time": "2023-08-12T21:25:38.947Z"
   },
   {
    "duration": 20,
    "start_time": "2023-08-12T21:25:38.957Z"
   },
   {
    "duration": 35,
    "start_time": "2023-08-12T21:25:38.979Z"
   },
   {
    "duration": 195,
    "start_time": "2023-08-12T21:25:39.017Z"
   },
   {
    "duration": 10,
    "start_time": "2023-08-12T21:25:39.213Z"
   },
   {
    "duration": 9,
    "start_time": "2023-08-12T21:25:39.225Z"
   },
   {
    "duration": 14,
    "start_time": "2023-08-12T21:25:39.236Z"
   },
   {
    "duration": 8,
    "start_time": "2023-08-12T21:25:39.252Z"
   },
   {
    "duration": 229,
    "start_time": "2023-08-12T21:25:39.262Z"
   },
   {
    "duration": 28,
    "start_time": "2023-08-12T21:25:39.493Z"
   },
   {
    "duration": 35,
    "start_time": "2023-08-12T21:25:39.523Z"
   },
   {
    "duration": 9,
    "start_time": "2023-08-12T21:25:39.560Z"
   },
   {
    "duration": 12,
    "start_time": "2023-08-12T21:25:39.570Z"
   },
   {
    "duration": 43,
    "start_time": "2023-08-12T21:25:39.584Z"
   },
   {
    "duration": 19,
    "start_time": "2023-08-12T21:25:39.629Z"
   },
   {
    "duration": 11,
    "start_time": "2023-08-12T21:25:39.650Z"
   },
   {
    "duration": 200,
    "start_time": "2023-08-12T21:25:39.663Z"
   },
   {
    "duration": 15,
    "start_time": "2023-08-12T21:25:39.865Z"
   },
   {
    "duration": 7,
    "start_time": "2023-08-12T21:25:39.883Z"
   },
   {
    "duration": 31,
    "start_time": "2023-08-12T21:25:39.892Z"
   },
   {
    "duration": 6,
    "start_time": "2023-08-12T21:25:39.924Z"
   },
   {
    "duration": 46,
    "start_time": "2023-08-12T21:25:39.932Z"
   },
   {
    "duration": 35,
    "start_time": "2023-08-12T21:25:39.980Z"
   },
   {
    "duration": 20,
    "start_time": "2023-08-12T21:25:40.018Z"
   },
   {
    "duration": 19,
    "start_time": "2023-08-12T21:25:40.040Z"
   },
   {
    "duration": 23,
    "start_time": "2023-08-12T21:25:40.061Z"
   },
   {
    "duration": 23,
    "start_time": "2023-08-12T21:25:40.086Z"
   },
   {
    "duration": 9,
    "start_time": "2023-08-12T21:25:40.111Z"
   },
   {
    "duration": 99,
    "start_time": "2023-08-12T21:25:40.121Z"
   },
   {
    "duration": 5,
    "start_time": "2023-08-12T21:25:40.222Z"
   },
   {
    "duration": 28,
    "start_time": "2023-08-12T21:25:40.229Z"
   },
   {
    "duration": 13,
    "start_time": "2023-08-12T21:25:40.260Z"
   },
   {
    "duration": 35,
    "start_time": "2023-08-12T21:25:40.276Z"
   },
   {
    "duration": 7,
    "start_time": "2023-08-12T21:25:40.313Z"
   },
   {
    "duration": 6801,
    "start_time": "2023-08-12T21:25:40.322Z"
   },
   {
    "duration": 18,
    "start_time": "2023-08-12T21:25:47.124Z"
   },
   {
    "duration": 7,
    "start_time": "2023-08-12T21:25:47.144Z"
   },
   {
    "duration": 30,
    "start_time": "2023-08-12T21:25:47.153Z"
   },
   {
    "duration": 359,
    "start_time": "2023-08-12T21:25:47.185Z"
   },
   {
    "duration": 10,
    "start_time": "2023-08-12T21:25:47.546Z"
   },
   {
    "duration": 1060,
    "start_time": "2023-08-12T21:25:47.559Z"
   },
   {
    "duration": 92,
    "start_time": "2023-08-12T21:29:08.059Z"
   },
   {
    "duration": 19,
    "start_time": "2023-08-12T21:29:17.328Z"
   },
   {
    "duration": 15,
    "start_time": "2023-08-12T21:29:22.273Z"
   },
   {
    "duration": 18,
    "start_time": "2023-08-12T21:29:28.321Z"
   },
   {
    "duration": 18,
    "start_time": "2023-08-12T21:29:49.168Z"
   },
   {
    "duration": 19,
    "start_time": "2023-08-12T21:30:01.266Z"
   },
   {
    "duration": 28,
    "start_time": "2023-08-12T21:31:09.604Z"
   },
   {
    "duration": 19,
    "start_time": "2023-08-12T21:31:20.720Z"
   },
   {
    "duration": 39,
    "start_time": "2023-08-12T21:31:59.519Z"
   },
   {
    "duration": 40,
    "start_time": "2023-08-12T21:32:04.413Z"
   },
   {
    "duration": 37,
    "start_time": "2023-08-12T21:32:15.326Z"
   },
   {
    "duration": 24,
    "start_time": "2023-08-12T21:33:07.863Z"
   },
   {
    "duration": 87,
    "start_time": "2023-08-12T21:33:32.556Z"
   },
   {
    "duration": 32,
    "start_time": "2023-08-12T21:33:36.152Z"
   },
   {
    "duration": 33,
    "start_time": "2023-08-12T21:33:45.142Z"
   },
   {
    "duration": 33,
    "start_time": "2023-08-12T21:34:31.054Z"
   },
   {
    "duration": 14,
    "start_time": "2023-08-12T21:35:03.824Z"
   },
   {
    "duration": 15,
    "start_time": "2023-08-12T21:35:11.702Z"
   },
   {
    "duration": 7,
    "start_time": "2023-08-12T21:36:21.453Z"
   },
   {
    "duration": 6,
    "start_time": "2023-08-12T21:36:36.626Z"
   },
   {
    "duration": 5,
    "start_time": "2023-08-12T21:36:44.177Z"
   },
   {
    "duration": 6,
    "start_time": "2023-08-12T21:36:53.692Z"
   },
   {
    "duration": 6,
    "start_time": "2023-08-12T21:37:07.183Z"
   },
   {
    "duration": 19,
    "start_time": "2023-08-12T21:39:21.915Z"
   },
   {
    "duration": 13,
    "start_time": "2023-08-12T21:40:38.531Z"
   },
   {
    "duration": 17,
    "start_time": "2023-08-12T21:40:42.625Z"
   },
   {
    "duration": 21,
    "start_time": "2023-08-12T21:40:48.885Z"
   },
   {
    "duration": 20,
    "start_time": "2023-08-12T21:40:54.773Z"
   },
   {
    "duration": 16,
    "start_time": "2023-08-12T21:41:05.785Z"
   },
   {
    "duration": 12,
    "start_time": "2023-08-12T21:41:34.676Z"
   },
   {
    "duration": 9,
    "start_time": "2023-08-12T21:41:39.816Z"
   },
   {
    "duration": 13,
    "start_time": "2023-08-12T21:44:37.216Z"
   },
   {
    "duration": 10,
    "start_time": "2023-08-12T21:44:41.115Z"
   },
   {
    "duration": 21,
    "start_time": "2023-08-12T21:45:08.196Z"
   },
   {
    "duration": 22,
    "start_time": "2023-08-12T21:45:19.529Z"
   },
   {
    "duration": 18,
    "start_time": "2023-08-12T21:45:25.934Z"
   },
   {
    "duration": 19,
    "start_time": "2023-08-12T21:46:03.867Z"
   },
   {
    "duration": 1113,
    "start_time": "2023-08-12T21:46:14.107Z"
   },
   {
    "duration": 19,
    "start_time": "2023-08-12T21:46:31.787Z"
   },
   {
    "duration": 15,
    "start_time": "2023-08-12T21:46:52.557Z"
   },
   {
    "duration": 17,
    "start_time": "2023-08-12T21:46:58.057Z"
   },
   {
    "duration": 17,
    "start_time": "2023-08-12T21:47:32.268Z"
   },
   {
    "duration": 15,
    "start_time": "2023-08-12T21:47:37.370Z"
   },
   {
    "duration": 24,
    "start_time": "2023-08-12T21:47:46.949Z"
   },
   {
    "duration": 14,
    "start_time": "2023-08-12T21:48:03.867Z"
   },
   {
    "duration": 7,
    "start_time": "2023-08-12T21:48:20.560Z"
   },
   {
    "duration": 12,
    "start_time": "2023-08-12T21:48:28.357Z"
   },
   {
    "duration": 9,
    "start_time": "2023-08-12T21:48:42.318Z"
   },
   {
    "duration": 7,
    "start_time": "2023-08-12T21:48:56.088Z"
   },
   {
    "duration": 30,
    "start_time": "2023-08-12T21:51:14.301Z"
   },
   {
    "duration": 39,
    "start_time": "2023-08-12T21:52:00.659Z"
   },
   {
    "duration": 44,
    "start_time": "2023-08-12T21:54:28.861Z"
   },
   {
    "duration": 5,
    "start_time": "2023-08-12T21:56:05.311Z"
   },
   {
    "duration": 5,
    "start_time": "2023-08-12T21:56:12.711Z"
   },
   {
    "duration": 18,
    "start_time": "2023-08-12T21:56:38.692Z"
   },
   {
    "duration": 41,
    "start_time": "2023-08-12T21:57:03.787Z"
   },
   {
    "duration": 16,
    "start_time": "2023-08-12T21:57:30.714Z"
   },
   {
    "duration": 42,
    "start_time": "2023-08-12T21:57:50.805Z"
   },
   {
    "duration": 42,
    "start_time": "2023-08-12T21:57:55.196Z"
   },
   {
    "duration": 19,
    "start_time": "2023-08-12T21:58:23.401Z"
   },
   {
    "duration": 15,
    "start_time": "2023-08-12T21:58:39.203Z"
   },
   {
    "duration": 21,
    "start_time": "2023-08-12T22:00:47.344Z"
   },
   {
    "duration": 40,
    "start_time": "2023-08-12T22:01:37.838Z"
   },
   {
    "duration": 53,
    "start_time": "2023-08-12T22:01:44.566Z"
   },
   {
    "duration": 48,
    "start_time": "2023-08-12T22:01:54.699Z"
   },
   {
    "duration": 12,
    "start_time": "2023-08-12T22:02:26.005Z"
   },
   {
    "duration": 10,
    "start_time": "2023-08-12T22:02:48.325Z"
   },
   {
    "duration": 39,
    "start_time": "2023-08-12T22:03:30.018Z"
   },
   {
    "duration": 53,
    "start_time": "2023-08-12T22:03:37.365Z"
   },
   {
    "duration": 43,
    "start_time": "2023-08-12T22:03:50.979Z"
   },
   {
    "duration": 52,
    "start_time": "2023-08-12T22:04:01.667Z"
   },
   {
    "duration": 41,
    "start_time": "2023-08-12T22:04:28.196Z"
   },
   {
    "duration": 23,
    "start_time": "2023-08-12T22:04:36.902Z"
   },
   {
    "duration": 39,
    "start_time": "2023-08-12T22:04:46.556Z"
   },
   {
    "duration": 14,
    "start_time": "2023-08-12T22:04:58.845Z"
   },
   {
    "duration": 41,
    "start_time": "2023-08-12T22:05:15.511Z"
   },
   {
    "duration": 43,
    "start_time": "2023-08-12T22:05:24.298Z"
   },
   {
    "duration": 50,
    "start_time": "2023-08-12T22:05:30.139Z"
   },
   {
    "duration": 46,
    "start_time": "2023-08-12T22:05:46.259Z"
   },
   {
    "duration": 24,
    "start_time": "2023-08-12T22:06:16.439Z"
   },
   {
    "duration": 40,
    "start_time": "2023-08-12T22:06:53.530Z"
   },
   {
    "duration": 18,
    "start_time": "2023-08-12T22:07:34.290Z"
   },
   {
    "duration": 48,
    "start_time": "2023-08-12T22:08:19.155Z"
   },
   {
    "duration": 43,
    "start_time": "2023-08-12T22:08:25.598Z"
   },
   {
    "duration": 32,
    "start_time": "2023-08-12T22:15:17.263Z"
   },
   {
    "duration": 42,
    "start_time": "2023-08-12T22:17:04.903Z"
   },
   {
    "duration": 38,
    "start_time": "2023-08-12T22:32:44.499Z"
   },
   {
    "duration": 5,
    "start_time": "2023-08-12T22:32:57.105Z"
   },
   {
    "duration": 4,
    "start_time": "2023-08-12T22:33:02.657Z"
   },
   {
    "duration": 10,
    "start_time": "2023-08-12T22:33:09.168Z"
   },
   {
    "duration": 11,
    "start_time": "2023-08-12T22:33:15.501Z"
   },
   {
    "duration": 146,
    "start_time": "2023-08-12T22:33:24.197Z"
   },
   {
    "duration": 11,
    "start_time": "2023-08-12T22:33:28.147Z"
   },
   {
    "duration": 126,
    "start_time": "2023-08-12T22:34:02.449Z"
   },
   {
    "duration": 4,
    "start_time": "2023-08-12T22:34:11.798Z"
   },
   {
    "duration": 3,
    "start_time": "2023-08-12T22:34:16.468Z"
   },
   {
    "duration": 4,
    "start_time": "2023-08-12T22:34:22.929Z"
   },
   {
    "duration": 4,
    "start_time": "2023-08-12T22:34:40.230Z"
   },
   {
    "duration": 5,
    "start_time": "2023-08-12T22:36:33.147Z"
   },
   {
    "duration": 2026,
    "start_time": "2023-08-12T22:37:26.141Z"
   },
   {
    "duration": 52,
    "start_time": "2023-08-12T22:37:45.232Z"
   },
   {
    "duration": 50,
    "start_time": "2023-08-12T22:38:01.017Z"
   },
   {
    "duration": 18,
    "start_time": "2023-08-12T22:38:33.788Z"
   },
   {
    "duration": 29,
    "start_time": "2023-08-12T22:38:54.189Z"
   },
   {
    "duration": 20,
    "start_time": "2023-08-12T22:38:58.941Z"
   },
   {
    "duration": 11,
    "start_time": "2023-08-12T22:39:13.463Z"
   },
   {
    "duration": 8,
    "start_time": "2023-08-12T22:39:18.829Z"
   },
   {
    "duration": 21,
    "start_time": "2023-08-12T22:39:24.358Z"
   },
   {
    "duration": 5,
    "start_time": "2023-08-12T22:42:41.606Z"
   },
   {
    "duration": 36,
    "start_time": "2023-08-12T22:43:31.660Z"
   },
   {
    "duration": 42,
    "start_time": "2023-08-12T22:43:45.951Z"
   },
   {
    "duration": 39,
    "start_time": "2023-08-12T22:44:03.810Z"
   },
   {
    "duration": 34,
    "start_time": "2023-08-12T22:44:24.366Z"
   },
   {
    "duration": 1931,
    "start_time": "2023-08-12T22:44:39.652Z"
   },
   {
    "duration": 20,
    "start_time": "2023-08-12T22:44:49.634Z"
   },
   {
    "duration": 10,
    "start_time": "2023-08-12T22:45:04.463Z"
   },
   {
    "duration": 10,
    "start_time": "2023-08-12T22:45:07.871Z"
   },
   {
    "duration": 10,
    "start_time": "2023-08-12T22:45:27.134Z"
   },
   {
    "duration": 11,
    "start_time": "2023-08-12T22:45:52.825Z"
   },
   {
    "duration": 30,
    "start_time": "2023-08-12T22:46:03.602Z"
   },
   {
    "duration": 29,
    "start_time": "2023-08-12T22:46:49.262Z"
   },
   {
    "duration": 36,
    "start_time": "2023-08-12T22:47:21.024Z"
   },
   {
    "duration": 38,
    "start_time": "2023-08-12T22:47:30.032Z"
   },
   {
    "duration": 38,
    "start_time": "2023-08-12T22:48:04.192Z"
   },
   {
    "duration": 37,
    "start_time": "2023-08-12T22:48:26.713Z"
   },
   {
    "duration": 11,
    "start_time": "2023-08-12T22:48:41.783Z"
   },
   {
    "duration": 8,
    "start_time": "2023-08-12T22:49:11.543Z"
   },
   {
    "duration": 7,
    "start_time": "2023-08-12T22:49:19.752Z"
   },
   {
    "duration": 20,
    "start_time": "2023-08-12T22:50:12.671Z"
   },
   {
    "duration": 33,
    "start_time": "2023-08-12T22:50:39.193Z"
   },
   {
    "duration": 7,
    "start_time": "2023-08-12T22:53:23.564Z"
   },
   {
    "duration": 5999,
    "start_time": "2023-08-12T22:54:00.864Z"
   },
   {
    "duration": 8,
    "start_time": "2023-08-12T22:54:16.404Z"
   },
   {
    "duration": 8,
    "start_time": "2023-08-12T22:54:35.313Z"
   },
   {
    "duration": 20,
    "start_time": "2023-08-12T22:55:55.719Z"
   },
   {
    "duration": 6082,
    "start_time": "2023-08-12T22:56:02.287Z"
   },
   {
    "duration": 8,
    "start_time": "2023-08-12T22:57:51.458Z"
   },
   {
    "duration": 20,
    "start_time": "2023-08-12T22:58:28.986Z"
   },
   {
    "duration": 20,
    "start_time": "2023-08-12T22:59:07.099Z"
   },
   {
    "duration": 6123,
    "start_time": "2023-08-12T22:59:11.146Z"
   },
   {
    "duration": 8,
    "start_time": "2023-08-12T22:59:32.786Z"
   },
   {
    "duration": 18,
    "start_time": "2023-08-12T22:59:51.234Z"
   },
   {
    "duration": 480,
    "start_time": "2023-08-12T23:00:22.981Z"
   },
   {
    "duration": 195,
    "start_time": "2023-08-12T23:00:23.463Z"
   },
   {
    "duration": 19,
    "start_time": "2023-08-12T23:00:23.660Z"
   },
   {
    "duration": 64,
    "start_time": "2023-08-12T23:00:23.681Z"
   },
   {
    "duration": 63,
    "start_time": "2023-08-12T23:00:23.747Z"
   },
   {
    "duration": 27,
    "start_time": "2023-08-12T23:00:23.813Z"
   },
   {
    "duration": 52,
    "start_time": "2023-08-12T23:00:23.842Z"
   },
   {
    "duration": 74,
    "start_time": "2023-08-12T23:00:23.896Z"
   },
   {
    "duration": 25,
    "start_time": "2023-08-12T23:00:23.972Z"
   },
   {
    "duration": 552,
    "start_time": "2023-08-12T23:00:23.999Z"
   },
   {
    "duration": 11,
    "start_time": "2023-08-12T23:00:24.553Z"
   },
   {
    "duration": 35,
    "start_time": "2023-08-12T23:00:24.566Z"
   },
   {
    "duration": 22,
    "start_time": "2023-08-12T23:00:24.602Z"
   },
   {
    "duration": 521,
    "start_time": "2023-08-12T23:00:24.627Z"
   },
   {
    "duration": 227,
    "start_time": "2023-08-12T23:00:25.150Z"
   },
   {
    "duration": 31,
    "start_time": "2023-08-12T23:00:25.379Z"
   },
   {
    "duration": 19,
    "start_time": "2023-08-12T23:00:25.412Z"
   },
   {
    "duration": 29,
    "start_time": "2023-08-12T23:00:25.433Z"
   },
   {
    "duration": 4,
    "start_time": "2023-08-12T23:00:25.464Z"
   },
   {
    "duration": 85,
    "start_time": "2023-08-12T23:00:25.471Z"
   },
   {
    "duration": 17,
    "start_time": "2023-08-12T23:00:25.559Z"
   },
   {
    "duration": 15,
    "start_time": "2023-08-12T23:00:25.578Z"
   },
   {
    "duration": 34,
    "start_time": "2023-08-12T23:00:25.595Z"
   },
   {
    "duration": 43,
    "start_time": "2023-08-12T23:00:25.631Z"
   },
   {
    "duration": 5,
    "start_time": "2023-08-12T23:00:25.676Z"
   },
   {
    "duration": 17,
    "start_time": "2023-08-12T23:00:25.682Z"
   },
   {
    "duration": 37,
    "start_time": "2023-08-12T23:00:25.701Z"
   },
   {
    "duration": 31,
    "start_time": "2023-08-12T23:00:25.740Z"
   },
   {
    "duration": 29,
    "start_time": "2023-08-12T23:00:25.773Z"
   },
   {
    "duration": 20,
    "start_time": "2023-08-12T23:00:25.804Z"
   },
   {
    "duration": 41,
    "start_time": "2023-08-12T23:00:25.827Z"
   },
   {
    "duration": 64,
    "start_time": "2023-08-12T23:00:25.872Z"
   },
   {
    "duration": 216,
    "start_time": "2023-08-12T23:00:25.939Z"
   },
   {
    "duration": 14,
    "start_time": "2023-08-12T23:00:26.157Z"
   },
   {
    "duration": 13,
    "start_time": "2023-08-12T23:00:26.173Z"
   },
   {
    "duration": 25,
    "start_time": "2023-08-12T23:00:26.188Z"
   },
   {
    "duration": 40,
    "start_time": "2023-08-12T23:00:26.216Z"
   },
   {
    "duration": 191,
    "start_time": "2023-08-12T23:00:26.258Z"
   },
   {
    "duration": 12,
    "start_time": "2023-08-12T23:00:26.451Z"
   },
   {
    "duration": 38,
    "start_time": "2023-08-12T23:00:26.465Z"
   },
   {
    "duration": 9,
    "start_time": "2023-08-12T23:00:26.507Z"
   },
   {
    "duration": 14,
    "start_time": "2023-08-12T23:00:26.518Z"
   },
   {
    "duration": 26,
    "start_time": "2023-08-12T23:00:26.534Z"
   },
   {
    "duration": 31,
    "start_time": "2023-08-12T23:00:26.562Z"
   },
   {
    "duration": 22,
    "start_time": "2023-08-12T23:00:26.595Z"
   },
   {
    "duration": 169,
    "start_time": "2023-08-12T23:00:26.619Z"
   },
   {
    "duration": 20,
    "start_time": "2023-08-12T23:00:26.790Z"
   },
   {
    "duration": 19,
    "start_time": "2023-08-12T23:00:26.811Z"
   },
   {
    "duration": 17,
    "start_time": "2023-08-12T23:00:26.832Z"
   },
   {
    "duration": 7,
    "start_time": "2023-08-12T23:00:26.851Z"
   },
   {
    "duration": 50,
    "start_time": "2023-08-12T23:00:26.859Z"
   },
   {
    "duration": 13,
    "start_time": "2023-08-12T23:00:26.911Z"
   },
   {
    "duration": 21,
    "start_time": "2023-08-12T23:00:26.926Z"
   },
   {
    "duration": 30,
    "start_time": "2023-08-12T23:00:26.948Z"
   },
   {
    "duration": 27,
    "start_time": "2023-08-12T23:00:26.980Z"
   },
   {
    "duration": 22,
    "start_time": "2023-08-12T23:00:27.008Z"
   },
   {
    "duration": 13,
    "start_time": "2023-08-12T23:00:27.032Z"
   },
   {
    "duration": 113,
    "start_time": "2023-08-12T23:00:27.048Z"
   },
   {
    "duration": 5,
    "start_time": "2023-08-12T23:00:27.164Z"
   },
   {
    "duration": 34,
    "start_time": "2023-08-12T23:00:27.171Z"
   },
   {
    "duration": 129,
    "start_time": "2023-08-12T23:00:27.207Z"
   },
   {
    "duration": 0,
    "start_time": "2023-08-12T23:00:27.338Z"
   },
   {
    "duration": 0,
    "start_time": "2023-08-12T23:00:27.340Z"
   },
   {
    "duration": 0,
    "start_time": "2023-08-12T23:00:27.341Z"
   },
   {
    "duration": 0,
    "start_time": "2023-08-12T23:00:27.342Z"
   },
   {
    "duration": 0,
    "start_time": "2023-08-12T23:00:27.343Z"
   },
   {
    "duration": 3,
    "start_time": "2023-08-12T23:00:58.977Z"
   },
   {
    "duration": 3,
    "start_time": "2023-08-12T23:01:00.146Z"
   },
   {
    "duration": 4,
    "start_time": "2023-08-12T23:01:00.760Z"
   },
   {
    "duration": 5,
    "start_time": "2023-08-12T23:01:02.398Z"
   },
   {
    "duration": 3,
    "start_time": "2023-08-12T23:01:03.678Z"
   },
   {
    "duration": 2,
    "start_time": "2023-08-12T23:01:05.328Z"
   },
   {
    "duration": 6164,
    "start_time": "2023-08-12T23:01:07.187Z"
   },
   {
    "duration": 1802,
    "start_time": "2023-08-12T23:11:01.423Z"
   },
   {
    "duration": 20,
    "start_time": "2023-08-12T23:11:25.253Z"
   },
   {
    "duration": 10,
    "start_time": "2023-08-12T23:11:36.785Z"
   },
   {
    "duration": 25,
    "start_time": "2023-08-12T23:11:46.574Z"
   },
   {
    "duration": 1736,
    "start_time": "2023-08-12T23:12:14.635Z"
   },
   {
    "duration": 18,
    "start_time": "2023-08-12T23:12:19.236Z"
   },
   {
    "duration": 26,
    "start_time": "2023-08-12T23:12:46.245Z"
   },
   {
    "duration": 16,
    "start_time": "2023-08-12T23:12:57.334Z"
   },
   {
    "duration": 30,
    "start_time": "2023-08-12T23:14:18.967Z"
   },
   {
    "duration": 33,
    "start_time": "2023-08-12T23:16:29.195Z"
   },
   {
    "duration": 38,
    "start_time": "2023-08-12T23:16:36.097Z"
   },
   {
    "duration": 53,
    "start_time": "2023-08-12T23:20:05.720Z"
   },
   {
    "duration": 130,
    "start_time": "2023-08-12T23:20:41.949Z"
   },
   {
    "duration": 48,
    "start_time": "2023-08-12T23:20:45.724Z"
   },
   {
    "duration": 35,
    "start_time": "2023-08-12T23:21:31.709Z"
   },
   {
    "duration": 43,
    "start_time": "2023-08-12T23:21:37.740Z"
   },
   {
    "duration": 56,
    "start_time": "2023-08-12T23:22:25.850Z"
   },
   {
    "duration": 30,
    "start_time": "2023-08-12T23:22:37.430Z"
   },
   {
    "duration": 44,
    "start_time": "2023-08-12T23:22:51.756Z"
   },
   {
    "duration": 43,
    "start_time": "2023-08-12T23:23:14.030Z"
   },
   {
    "duration": 40,
    "start_time": "2023-08-12T23:23:46.759Z"
   },
   {
    "duration": 33,
    "start_time": "2023-08-12T23:24:20.860Z"
   },
   {
    "duration": 39,
    "start_time": "2023-08-12T23:24:30.950Z"
   },
   {
    "duration": 31,
    "start_time": "2023-08-12T23:26:48.983Z"
   },
   {
    "duration": 40,
    "start_time": "2023-08-12T23:26:56.272Z"
   },
   {
    "duration": 36,
    "start_time": "2023-08-12T23:27:14.021Z"
   },
   {
    "duration": 14,
    "start_time": "2023-08-12T23:27:26.213Z"
   },
   {
    "duration": 44,
    "start_time": "2023-08-12T23:27:36.732Z"
   },
   {
    "duration": 16,
    "start_time": "2023-08-12T23:27:39.941Z"
   },
   {
    "duration": 37,
    "start_time": "2023-08-12T23:27:44.543Z"
   },
   {
    "duration": 14,
    "start_time": "2023-08-12T23:27:47.078Z"
   },
   {
    "duration": 14,
    "start_time": "2023-08-12T23:28:30.863Z"
   },
   {
    "duration": 12,
    "start_time": "2023-08-12T23:31:13.793Z"
   },
   {
    "duration": 12,
    "start_time": "2023-08-12T23:31:26.474Z"
   },
   {
    "duration": 15,
    "start_time": "2023-08-12T23:31:42.014Z"
   },
   {
    "duration": 13,
    "start_time": "2023-08-12T23:31:44.893Z"
   },
   {
    "duration": 14,
    "start_time": "2023-08-12T23:31:50.623Z"
   },
   {
    "duration": 15,
    "start_time": "2023-08-12T23:32:06.713Z"
   },
   {
    "duration": 12,
    "start_time": "2023-08-12T23:32:14.483Z"
   },
   {
    "duration": 42,
    "start_time": "2023-08-12T23:32:42.694Z"
   },
   {
    "duration": 45,
    "start_time": "2023-08-12T23:33:21.965Z"
   },
   {
    "duration": 44,
    "start_time": "2023-08-12T23:33:33.326Z"
   },
   {
    "duration": 37,
    "start_time": "2023-08-12T23:33:46.851Z"
   },
   {
    "duration": 44,
    "start_time": "2023-08-12T23:33:54.245Z"
   },
   {
    "duration": 37,
    "start_time": "2023-08-12T23:34:07.509Z"
   },
   {
    "duration": 48,
    "start_time": "2023-08-12T23:34:27.218Z"
   },
   {
    "duration": 37,
    "start_time": "2023-08-12T23:34:40.617Z"
   },
   {
    "duration": 176,
    "start_time": "2023-08-12T23:34:45.905Z"
   },
   {
    "duration": 43,
    "start_time": "2023-08-12T23:34:53.954Z"
   },
   {
    "duration": 49,
    "start_time": "2023-08-12T23:34:57.355Z"
   },
   {
    "duration": 37,
    "start_time": "2023-08-12T23:35:04.657Z"
   },
   {
    "duration": 25,
    "start_time": "2023-08-12T23:35:13.720Z"
   },
   {
    "duration": 28,
    "start_time": "2023-08-12T23:35:17.986Z"
   },
   {
    "duration": 44,
    "start_time": "2023-08-12T23:35:26.662Z"
   },
   {
    "duration": 34,
    "start_time": "2023-08-12T23:36:41.398Z"
   },
   {
    "duration": 40,
    "start_time": "2023-08-12T23:36:49.496Z"
   },
   {
    "duration": 44,
    "start_time": "2023-08-12T23:36:58.788Z"
   },
   {
    "duration": 75,
    "start_time": "2023-08-12T23:37:33.018Z"
   },
   {
    "duration": 56,
    "start_time": "2023-08-12T23:37:58.598Z"
   },
   {
    "duration": 50,
    "start_time": "2023-08-12T23:41:05.100Z"
   },
   {
    "duration": 88,
    "start_time": "2023-08-12T23:42:14.573Z"
   },
   {
    "duration": 47,
    "start_time": "2023-08-12T23:42:21.065Z"
   },
   {
    "duration": 55,
    "start_time": "2023-08-12T23:42:28.822Z"
   },
   {
    "duration": 66,
    "start_time": "2023-08-12T23:42:39.431Z"
   },
   {
    "duration": 71,
    "start_time": "2023-08-12T23:42:51.697Z"
   },
   {
    "duration": 71,
    "start_time": "2023-08-12T23:43:18.912Z"
   },
   {
    "duration": 28,
    "start_time": "2023-08-12T23:44:28.010Z"
   },
   {
    "duration": 55,
    "start_time": "2023-08-12T23:44:54.577Z"
   },
   {
    "duration": 70,
    "start_time": "2023-08-12T23:45:22.551Z"
   },
   {
    "duration": 53,
    "start_time": "2023-08-12T23:46:07.513Z"
   },
   {
    "duration": 16,
    "start_time": "2023-08-12T23:47:00.150Z"
   },
   {
    "duration": 25,
    "start_time": "2023-08-12T23:47:34.373Z"
   },
   {
    "duration": 31,
    "start_time": "2023-08-12T23:47:48.555Z"
   },
   {
    "duration": 29,
    "start_time": "2023-08-12T23:48:05.406Z"
   },
   {
    "duration": 66,
    "start_time": "2023-08-12T23:48:27.733Z"
   },
   {
    "duration": 60,
    "start_time": "2023-08-12T23:49:08.752Z"
   },
   {
    "duration": 44,
    "start_time": "2023-08-12T23:49:22.523Z"
   },
   {
    "duration": 52,
    "start_time": "2023-08-12T23:50:01.979Z"
   },
   {
    "duration": 43,
    "start_time": "2023-08-12T23:50:06.893Z"
   },
   {
    "duration": 47,
    "start_time": "2023-08-12T23:50:13.626Z"
   },
   {
    "duration": 93,
    "start_time": "2023-08-12T23:51:23.423Z"
   },
   {
    "duration": 99,
    "start_time": "2023-08-12T23:51:43.825Z"
   },
   {
    "duration": 122,
    "start_time": "2023-08-12T23:52:34.796Z"
   },
   {
    "duration": 126,
    "start_time": "2023-08-12T23:53:06.471Z"
   },
   {
    "duration": 126,
    "start_time": "2023-08-12T23:53:36.145Z"
   },
   {
    "duration": 90,
    "start_time": "2023-08-12T23:54:38.408Z"
   },
   {
    "duration": 124,
    "start_time": "2023-08-12T23:54:44.975Z"
   },
   {
    "duration": 12,
    "start_time": "2023-08-12T23:57:18.193Z"
   },
   {
    "duration": 5590,
    "start_time": "2023-08-13T00:00:34.718Z"
   },
   {
    "duration": 455,
    "start_time": "2023-08-13T00:03:29.169Z"
   },
   {
    "duration": 106,
    "start_time": "2023-08-13T00:03:35.879Z"
   },
   {
    "duration": 83,
    "start_time": "2023-08-13T00:04:40.608Z"
   },
   {
    "duration": 657,
    "start_time": "2023-08-13T00:04:47.459Z"
   },
   {
    "duration": 263905,
    "start_time": "2023-08-13T00:05:04.077Z"
   },
   {
    "duration": 4,
    "start_time": "2023-08-13T00:11:07.151Z"
   },
   {
    "duration": 5,
    "start_time": "2023-08-13T00:11:09.671Z"
   },
   {
    "duration": 388,
    "start_time": "2023-08-13T00:11:44.272Z"
   },
   {
    "duration": 6611,
    "start_time": "2023-08-13T00:11:53.502Z"
   },
   {
    "duration": 130,
    "start_time": "2023-08-13T00:13:01.532Z"
   },
   {
    "duration": 6,
    "start_time": "2023-08-13T00:13:42.103Z"
   },
   {
    "duration": 12,
    "start_time": "2023-08-13T00:13:52.582Z"
   },
   {
    "duration": 37,
    "start_time": "2023-08-13T00:14:56.832Z"
   },
   {
    "duration": 7,
    "start_time": "2023-08-13T00:15:04.348Z"
   },
   {
    "duration": 35,
    "start_time": "2023-08-13T00:15:07.492Z"
   },
   {
    "duration": 6,
    "start_time": "2023-08-13T00:16:38.023Z"
   },
   {
    "duration": 6,
    "start_time": "2023-08-13T00:17:44.504Z"
   },
   {
    "duration": 6,
    "start_time": "2023-08-13T00:17:49.815Z"
   },
   {
    "duration": 403,
    "start_time": "2023-08-13T00:18:05.683Z"
   },
   {
    "duration": 433,
    "start_time": "2023-08-13T00:23:10.524Z"
   },
   {
    "duration": 187,
    "start_time": "2023-08-13T00:23:10.959Z"
   },
   {
    "duration": 19,
    "start_time": "2023-08-13T00:23:11.148Z"
   },
   {
    "duration": 3,
    "start_time": "2023-08-13T00:23:11.170Z"
   },
   {
    "duration": 31,
    "start_time": "2023-08-13T00:23:11.175Z"
   },
   {
    "duration": 15,
    "start_time": "2023-08-13T00:23:11.208Z"
   },
   {
    "duration": 20,
    "start_time": "2023-08-13T00:23:11.225Z"
   },
   {
    "duration": 12,
    "start_time": "2023-08-13T00:23:11.247Z"
   },
   {
    "duration": 14,
    "start_time": "2023-08-13T00:23:11.260Z"
   },
   {
    "duration": 467,
    "start_time": "2023-08-13T00:23:11.277Z"
   },
   {
    "duration": 11,
    "start_time": "2023-08-13T00:23:11.746Z"
   },
   {
    "duration": 11,
    "start_time": "2023-08-13T00:23:11.759Z"
   },
   {
    "duration": 4,
    "start_time": "2023-08-13T00:23:11.771Z"
   },
   {
    "duration": 464,
    "start_time": "2023-08-13T00:23:11.777Z"
   },
   {
    "duration": 211,
    "start_time": "2023-08-13T00:23:12.243Z"
   },
   {
    "duration": 19,
    "start_time": "2023-08-13T00:23:12.456Z"
   },
   {
    "duration": 5,
    "start_time": "2023-08-13T00:23:12.477Z"
   },
   {
    "duration": 25,
    "start_time": "2023-08-13T00:23:12.484Z"
   },
   {
    "duration": 18,
    "start_time": "2023-08-13T00:23:12.511Z"
   },
   {
    "duration": 63,
    "start_time": "2023-08-13T00:23:12.530Z"
   },
   {
    "duration": 18,
    "start_time": "2023-08-13T00:23:12.595Z"
   },
   {
    "duration": 14,
    "start_time": "2023-08-13T00:23:12.615Z"
   },
   {
    "duration": 38,
    "start_time": "2023-08-13T00:23:12.631Z"
   },
   {
    "duration": 30,
    "start_time": "2023-08-13T00:23:12.671Z"
   },
   {
    "duration": 5,
    "start_time": "2023-08-13T00:23:12.703Z"
   },
   {
    "duration": 18,
    "start_time": "2023-08-13T00:23:12.709Z"
   },
   {
    "duration": 9,
    "start_time": "2023-08-13T00:23:12.728Z"
   },
   {
    "duration": 14,
    "start_time": "2023-08-13T00:23:12.741Z"
   },
   {
    "duration": 24,
    "start_time": "2023-08-13T00:23:12.757Z"
   },
   {
    "duration": 14,
    "start_time": "2023-08-13T00:23:12.783Z"
   },
   {
    "duration": 25,
    "start_time": "2023-08-13T00:23:12.799Z"
   },
   {
    "duration": 9,
    "start_time": "2023-08-13T00:23:12.826Z"
   },
   {
    "duration": 178,
    "start_time": "2023-08-13T00:23:12.837Z"
   },
   {
    "duration": 10,
    "start_time": "2023-08-13T00:23:13.017Z"
   },
   {
    "duration": 35,
    "start_time": "2023-08-13T00:23:13.028Z"
   },
   {
    "duration": 16,
    "start_time": "2023-08-13T00:23:13.065Z"
   },
   {
    "duration": 8,
    "start_time": "2023-08-13T00:23:13.082Z"
   },
   {
    "duration": 176,
    "start_time": "2023-08-13T00:23:13.092Z"
   },
   {
    "duration": 12,
    "start_time": "2023-08-13T00:23:13.270Z"
   },
   {
    "duration": 31,
    "start_time": "2023-08-13T00:23:13.284Z"
   },
   {
    "duration": 8,
    "start_time": "2023-08-13T00:23:13.317Z"
   },
   {
    "duration": 11,
    "start_time": "2023-08-13T00:23:13.327Z"
   },
   {
    "duration": 14,
    "start_time": "2023-08-13T00:23:13.339Z"
   },
   {
    "duration": 16,
    "start_time": "2023-08-13T00:23:13.355Z"
   },
   {
    "duration": 36,
    "start_time": "2023-08-13T00:23:13.373Z"
   },
   {
    "duration": 158,
    "start_time": "2023-08-13T00:23:13.411Z"
   },
   {
    "duration": 14,
    "start_time": "2023-08-13T00:23:13.570Z"
   },
   {
    "duration": 6,
    "start_time": "2023-08-13T00:23:13.586Z"
   },
   {
    "duration": 31,
    "start_time": "2023-08-13T00:23:13.593Z"
   },
   {
    "duration": 55,
    "start_time": "2023-08-13T00:23:13.626Z"
   },
   {
    "duration": 68,
    "start_time": "2023-08-13T00:23:13.683Z"
   },
   {
    "duration": 11,
    "start_time": "2023-08-13T00:23:13.753Z"
   },
   {
    "duration": 37,
    "start_time": "2023-08-13T00:23:13.766Z"
   },
   {
    "duration": 35,
    "start_time": "2023-08-13T00:23:13.806Z"
   },
   {
    "duration": 26,
    "start_time": "2023-08-13T00:23:13.843Z"
   },
   {
    "duration": 5,
    "start_time": "2023-08-13T00:23:13.870Z"
   },
   {
    "duration": 39,
    "start_time": "2023-08-13T00:23:13.876Z"
   },
   {
    "duration": 74,
    "start_time": "2023-08-13T00:23:13.917Z"
   },
   {
    "duration": 16,
    "start_time": "2023-08-13T00:23:13.993Z"
   },
   {
    "duration": 16,
    "start_time": "2023-08-13T00:23:14.011Z"
   },
   {
    "duration": 74,
    "start_time": "2023-08-13T00:23:14.029Z"
   },
   {
    "duration": 38,
    "start_time": "2023-08-13T00:23:14.104Z"
   },
   {
    "duration": 26,
    "start_time": "2023-08-13T00:23:14.144Z"
   },
   {
    "duration": 11,
    "start_time": "2023-08-13T00:23:14.172Z"
   },
   {
    "duration": 5403,
    "start_time": "2023-08-13T00:23:14.184Z"
   },
   {
    "duration": 16,
    "start_time": "2023-08-13T00:23:19.588Z"
   },
   {
    "duration": 104,
    "start_time": "2023-08-13T00:23:19.605Z"
   },
   {
    "duration": 58,
    "start_time": "2023-08-13T00:23:19.711Z"
   },
   {
    "duration": 21,
    "start_time": "2023-08-13T00:23:19.771Z"
   },
   {
    "duration": 55,
    "start_time": "2023-08-13T00:23:19.793Z"
   },
   {
    "duration": 20,
    "start_time": "2023-08-13T00:23:19.850Z"
   },
   {
    "duration": 11,
    "start_time": "2023-08-13T00:23:19.872Z"
   },
   {
    "duration": 6,
    "start_time": "2023-08-13T00:23:19.884Z"
   },
   {
    "duration": 12,
    "start_time": "2023-08-13T00:23:19.892Z"
   },
   {
    "duration": 37,
    "start_time": "2023-08-13T00:23:19.906Z"
   },
   {
    "duration": 13,
    "start_time": "2023-08-13T00:23:19.945Z"
   },
   {
    "duration": 59,
    "start_time": "2023-08-13T00:23:19.960Z"
   },
   {
    "duration": 41,
    "start_time": "2023-08-13T00:23:20.021Z"
   },
   {
    "duration": 19,
    "start_time": "2023-08-13T00:23:20.064Z"
   },
   {
    "duration": 72,
    "start_time": "2023-08-13T00:23:20.084Z"
   },
   {
    "duration": 436,
    "start_time": "2023-08-13T00:23:20.158Z"
   },
   {
    "duration": 91,
    "start_time": "2023-08-13T00:23:20.600Z"
   },
   {
    "duration": 515,
    "start_time": "2023-08-13T00:23:20.693Z"
   },
   {
    "duration": 264066,
    "start_time": "2023-08-13T00:23:21.210Z"
   },
   {
    "duration": 4,
    "start_time": "2023-08-13T00:27:45.278Z"
   },
   {
    "duration": 12,
    "start_time": "2023-08-13T00:27:45.284Z"
   },
   {
    "duration": 403,
    "start_time": "2023-08-13T00:27:45.298Z"
   },
   {
    "duration": 6473,
    "start_time": "2023-08-13T00:27:45.703Z"
   },
   {
    "duration": 138,
    "start_time": "2023-08-13T00:27:52.178Z"
   },
   {
    "duration": 6,
    "start_time": "2023-08-13T00:27:52.318Z"
   },
   {
    "duration": 8,
    "start_time": "2023-08-13T00:27:52.326Z"
   },
   {
    "duration": 383,
    "start_time": "2023-08-13T00:27:52.336Z"
   },
   {
    "duration": 460,
    "start_time": "2023-08-13T09:54:52.051Z"
   },
   {
    "duration": 587,
    "start_time": "2023-08-13T09:54:52.513Z"
   },
   {
    "duration": 18,
    "start_time": "2023-08-13T09:54:53.102Z"
   },
   {
    "duration": 3,
    "start_time": "2023-08-13T09:54:53.122Z"
   },
   {
    "duration": 61,
    "start_time": "2023-08-13T09:54:53.128Z"
   },
   {
    "duration": 12,
    "start_time": "2023-08-13T09:54:53.191Z"
   },
   {
    "duration": 37,
    "start_time": "2023-08-13T09:54:53.204Z"
   },
   {
    "duration": 14,
    "start_time": "2023-08-13T09:54:53.243Z"
   },
   {
    "duration": 23,
    "start_time": "2023-08-13T09:54:53.262Z"
   },
   {
    "duration": 514,
    "start_time": "2023-08-13T09:54:53.287Z"
   },
   {
    "duration": 12,
    "start_time": "2023-08-13T09:54:53.804Z"
   },
   {
    "duration": 11,
    "start_time": "2023-08-13T09:54:53.818Z"
   },
   {
    "duration": 31,
    "start_time": "2023-08-13T09:54:53.831Z"
   },
   {
    "duration": 688,
    "start_time": "2023-08-13T09:54:53.867Z"
   },
   {
    "duration": 239,
    "start_time": "2023-08-13T09:54:54.559Z"
   },
   {
    "duration": 22,
    "start_time": "2023-08-13T09:54:54.800Z"
   },
   {
    "duration": 9,
    "start_time": "2023-08-13T09:54:54.824Z"
   },
   {
    "duration": 33,
    "start_time": "2023-08-13T09:54:54.834Z"
   },
   {
    "duration": 6,
    "start_time": "2023-08-13T09:54:54.875Z"
   },
   {
    "duration": 62,
    "start_time": "2023-08-13T09:54:54.884Z"
   },
   {
    "duration": 20,
    "start_time": "2023-08-13T09:54:54.960Z"
   },
   {
    "duration": 7,
    "start_time": "2023-08-13T09:54:54.982Z"
   },
   {
    "duration": 20,
    "start_time": "2023-08-13T09:54:54.990Z"
   },
   {
    "duration": 118,
    "start_time": "2023-08-13T09:54:55.012Z"
   },
   {
    "duration": 5,
    "start_time": "2023-08-13T09:54:55.132Z"
   },
   {
    "duration": 61,
    "start_time": "2023-08-13T09:54:55.138Z"
   },
   {
    "duration": 27,
    "start_time": "2023-08-13T09:54:55.202Z"
   },
   {
    "duration": 57,
    "start_time": "2023-08-13T09:54:55.231Z"
   },
   {
    "duration": 51,
    "start_time": "2023-08-13T09:54:55.290Z"
   },
   {
    "duration": 67,
    "start_time": "2023-08-13T09:54:55.344Z"
   },
   {
    "duration": 44,
    "start_time": "2023-08-13T09:54:55.413Z"
   },
   {
    "duration": 31,
    "start_time": "2023-08-13T09:54:55.459Z"
   },
   {
    "duration": 186,
    "start_time": "2023-08-13T09:54:55.491Z"
   },
   {
    "duration": 10,
    "start_time": "2023-08-13T09:54:55.679Z"
   },
   {
    "duration": 7,
    "start_time": "2023-08-13T09:54:55.691Z"
   },
   {
    "duration": 19,
    "start_time": "2023-08-13T09:54:55.700Z"
   },
   {
    "duration": 8,
    "start_time": "2023-08-13T09:54:55.721Z"
   },
   {
    "duration": 216,
    "start_time": "2023-08-13T09:54:55.730Z"
   },
   {
    "duration": 32,
    "start_time": "2023-08-13T09:54:55.948Z"
   },
   {
    "duration": 51,
    "start_time": "2023-08-13T09:54:55.983Z"
   },
   {
    "duration": 16,
    "start_time": "2023-08-13T09:54:56.040Z"
   },
   {
    "duration": 25,
    "start_time": "2023-08-13T09:54:56.060Z"
   },
   {
    "duration": 46,
    "start_time": "2023-08-13T09:54:56.087Z"
   },
   {
    "duration": 44,
    "start_time": "2023-08-13T09:54:56.134Z"
   },
   {
    "duration": 11,
    "start_time": "2023-08-13T09:54:56.179Z"
   },
   {
    "duration": 190,
    "start_time": "2023-08-13T09:54:56.191Z"
   },
   {
    "duration": 14,
    "start_time": "2023-08-13T09:54:56.383Z"
   },
   {
    "duration": 15,
    "start_time": "2023-08-13T09:54:56.398Z"
   },
   {
    "duration": 40,
    "start_time": "2023-08-13T09:54:56.415Z"
   },
   {
    "duration": 35,
    "start_time": "2023-08-13T09:54:56.457Z"
   },
   {
    "duration": 59,
    "start_time": "2023-08-13T09:54:56.493Z"
   },
   {
    "duration": 22,
    "start_time": "2023-08-13T09:54:56.554Z"
   },
   {
    "duration": 13,
    "start_time": "2023-08-13T09:54:56.578Z"
   },
   {
    "duration": 35,
    "start_time": "2023-08-13T09:54:56.594Z"
   },
   {
    "duration": 36,
    "start_time": "2023-08-13T09:54:56.631Z"
   },
   {
    "duration": 11,
    "start_time": "2023-08-13T09:54:56.669Z"
   },
   {
    "duration": 16,
    "start_time": "2023-08-13T09:54:56.681Z"
   },
   {
    "duration": 86,
    "start_time": "2023-08-13T09:54:56.699Z"
   },
   {
    "duration": 4,
    "start_time": "2023-08-13T09:54:56.787Z"
   },
   {
    "duration": 18,
    "start_time": "2023-08-13T09:54:56.793Z"
   },
   {
    "duration": 28,
    "start_time": "2023-08-13T09:54:56.813Z"
   },
   {
    "duration": 23,
    "start_time": "2023-08-13T09:54:56.843Z"
   },
   {
    "duration": 30,
    "start_time": "2023-08-13T09:54:56.868Z"
   },
   {
    "duration": 11,
    "start_time": "2023-08-13T09:54:56.900Z"
   },
   {
    "duration": 6087,
    "start_time": "2023-08-13T09:54:56.913Z"
   },
   {
    "duration": 18,
    "start_time": "2023-08-13T09:55:03.002Z"
   },
   {
    "duration": 72,
    "start_time": "2023-08-13T09:55:03.022Z"
   },
   {
    "duration": 7,
    "start_time": "2023-08-13T09:55:03.096Z"
   },
   {
    "duration": 17,
    "start_time": "2023-08-13T09:55:03.105Z"
   },
   {
    "duration": 16,
    "start_time": "2023-08-13T09:55:03.124Z"
   },
   {
    "duration": 44,
    "start_time": "2023-08-13T09:55:03.141Z"
   },
   {
    "duration": 30,
    "start_time": "2023-08-13T09:55:03.186Z"
   },
   {
    "duration": 15,
    "start_time": "2023-08-13T09:55:03.218Z"
   },
   {
    "duration": 60,
    "start_time": "2023-08-13T09:55:03.236Z"
   },
   {
    "duration": 65,
    "start_time": "2023-08-13T09:55:03.299Z"
   },
   {
    "duration": 20,
    "start_time": "2023-08-13T09:55:03.370Z"
   },
   {
    "duration": 86,
    "start_time": "2023-08-13T09:55:03.392Z"
   },
   {
    "duration": 42,
    "start_time": "2023-08-13T09:55:03.481Z"
   },
   {
    "duration": 6,
    "start_time": "2023-08-13T09:55:03.526Z"
   },
   {
    "duration": 39,
    "start_time": "2023-08-13T09:55:03.533Z"
   },
   {
    "duration": 455,
    "start_time": "2023-08-13T09:55:03.574Z"
   },
   {
    "duration": 96,
    "start_time": "2023-08-13T09:55:04.030Z"
   },
   {
    "duration": 851,
    "start_time": "2023-08-13T09:55:04.128Z"
   },
   {
    "duration": 421,
    "start_time": "2023-08-13T09:56:08.673Z"
   },
   {
    "duration": 7240,
    "start_time": "2023-08-13T09:56:09.191Z"
   },
   {
    "duration": 145,
    "start_time": "2023-08-13T09:56:16.433Z"
   },
   {
    "duration": 131,
    "start_time": "2023-08-13T09:56:47.143Z"
   },
   {
    "duration": 35,
    "start_time": "2023-08-13T09:56:50.775Z"
   },
   {
    "duration": 7230,
    "start_time": "2023-08-13T09:57:03.075Z"
   },
   {
    "duration": 148,
    "start_time": "2023-08-13T09:57:10.307Z"
   },
   {
    "duration": 4,
    "start_time": "2023-08-13T09:57:21.040Z"
   },
   {
    "duration": 7,
    "start_time": "2023-08-13T09:57:30.444Z"
   },
   {
    "duration": 5,
    "start_time": "2023-08-13T09:57:37.927Z"
   },
   {
    "duration": 908,
    "start_time": "2023-08-13T10:26:44.171Z"
   },
   {
    "duration": 3,
    "start_time": "2023-08-13T10:26:45.474Z"
   },
   {
    "duration": 116,
    "start_time": "2023-08-13T10:27:38.186Z"
   },
   {
    "duration": 3,
    "start_time": "2023-08-13T10:27:59.871Z"
   },
   {
    "duration": 572,
    "start_time": "2023-08-13T10:27:59.876Z"
   },
   {
    "duration": 23,
    "start_time": "2023-08-13T10:28:00.449Z"
   },
   {
    "duration": 34,
    "start_time": "2023-08-13T10:28:00.474Z"
   },
   {
    "duration": 32,
    "start_time": "2023-08-13T10:28:00.510Z"
   },
   {
    "duration": 36,
    "start_time": "2023-08-13T10:28:00.544Z"
   },
   {
    "duration": 62,
    "start_time": "2023-08-13T10:28:00.582Z"
   },
   {
    "duration": 18,
    "start_time": "2023-08-13T10:28:00.646Z"
   },
   {
    "duration": 13,
    "start_time": "2023-08-13T10:28:00.671Z"
   },
   {
    "duration": 30,
    "start_time": "2023-08-13T10:28:00.686Z"
   },
   {
    "duration": 18,
    "start_time": "2023-08-13T10:28:00.717Z"
   },
   {
    "duration": 24,
    "start_time": "2023-08-13T10:28:00.737Z"
   },
   {
    "duration": 28,
    "start_time": "2023-08-13T10:28:00.762Z"
   },
   {
    "duration": 735,
    "start_time": "2023-08-13T10:28:00.791Z"
   },
   {
    "duration": 226,
    "start_time": "2023-08-13T10:28:01.529Z"
   },
   {
    "duration": 25,
    "start_time": "2023-08-13T10:28:01.759Z"
   },
   {
    "duration": 43,
    "start_time": "2023-08-13T10:28:01.786Z"
   },
   {
    "duration": 51,
    "start_time": "2023-08-13T10:28:01.831Z"
   },
   {
    "duration": 60,
    "start_time": "2023-08-13T10:28:01.884Z"
   },
   {
    "duration": 128,
    "start_time": "2023-08-13T10:28:01.945Z"
   },
   {
    "duration": 17,
    "start_time": "2023-08-13T10:28:02.076Z"
   },
   {
    "duration": 33,
    "start_time": "2023-08-13T10:28:02.095Z"
   },
   {
    "duration": 53,
    "start_time": "2023-08-13T10:28:02.130Z"
   },
   {
    "duration": 61,
    "start_time": "2023-08-13T10:28:02.188Z"
   },
   {
    "duration": 5,
    "start_time": "2023-08-13T10:28:02.251Z"
   },
   {
    "duration": 70,
    "start_time": "2023-08-13T10:28:02.260Z"
   },
   {
    "duration": 39,
    "start_time": "2023-08-13T10:28:02.332Z"
   },
   {
    "duration": 27,
    "start_time": "2023-08-13T10:28:02.375Z"
   },
   {
    "duration": 46,
    "start_time": "2023-08-13T10:28:02.404Z"
   },
   {
    "duration": 50,
    "start_time": "2023-08-13T10:28:02.452Z"
   },
   {
    "duration": 63,
    "start_time": "2023-08-13T10:28:02.504Z"
   },
   {
    "duration": 21,
    "start_time": "2023-08-13T10:28:02.570Z"
   },
   {
    "duration": 182,
    "start_time": "2023-08-13T10:28:02.593Z"
   },
   {
    "duration": 9,
    "start_time": "2023-08-13T10:28:02.778Z"
   },
   {
    "duration": 31,
    "start_time": "2023-08-13T10:28:02.789Z"
   },
   {
    "duration": 35,
    "start_time": "2023-08-13T10:28:02.822Z"
   },
   {
    "duration": 38,
    "start_time": "2023-08-13T10:28:02.867Z"
   },
   {
    "duration": 215,
    "start_time": "2023-08-13T10:28:02.907Z"
   },
   {
    "duration": 12,
    "start_time": "2023-08-13T10:28:03.124Z"
   },
   {
    "duration": 38,
    "start_time": "2023-08-13T10:28:03.137Z"
   },
   {
    "duration": 7,
    "start_time": "2023-08-13T10:28:03.177Z"
   },
   {
    "duration": 18,
    "start_time": "2023-08-13T10:28:03.185Z"
   },
   {
    "duration": 23,
    "start_time": "2023-08-13T10:28:03.204Z"
   },
   {
    "duration": 13,
    "start_time": "2023-08-13T10:28:03.228Z"
   },
   {
    "duration": 15,
    "start_time": "2023-08-13T10:28:03.242Z"
   },
   {
    "duration": 205,
    "start_time": "2023-08-13T10:28:03.263Z"
   },
   {
    "duration": 13,
    "start_time": "2023-08-13T10:28:03.474Z"
   },
   {
    "duration": 13,
    "start_time": "2023-08-13T10:28:03.488Z"
   },
   {
    "duration": 31,
    "start_time": "2023-08-13T10:28:03.503Z"
   },
   {
    "duration": 9,
    "start_time": "2023-08-13T10:28:03.536Z"
   },
   {
    "duration": 50,
    "start_time": "2023-08-13T10:28:03.547Z"
   },
   {
    "duration": 11,
    "start_time": "2023-08-13T10:28:03.599Z"
   },
   {
    "duration": 8,
    "start_time": "2023-08-13T10:28:03.612Z"
   },
   {
    "duration": 49,
    "start_time": "2023-08-13T10:28:03.622Z"
   },
   {
    "duration": 30,
    "start_time": "2023-08-13T10:28:03.673Z"
   },
   {
    "duration": 5,
    "start_time": "2023-08-13T10:28:03.705Z"
   },
   {
    "duration": 16,
    "start_time": "2023-08-13T10:28:03.711Z"
   },
   {
    "duration": 69,
    "start_time": "2023-08-13T10:28:03.729Z"
   },
   {
    "duration": 5,
    "start_time": "2023-08-13T10:28:03.800Z"
   },
   {
    "duration": 29,
    "start_time": "2023-08-13T10:28:03.806Z"
   },
   {
    "duration": 12,
    "start_time": "2023-08-13T10:28:03.837Z"
   },
   {
    "duration": 14,
    "start_time": "2023-08-13T10:28:03.864Z"
   },
   {
    "duration": 10,
    "start_time": "2023-08-13T10:28:03.880Z"
   },
   {
    "duration": 21,
    "start_time": "2023-08-13T10:28:03.892Z"
   },
   {
    "duration": 5891,
    "start_time": "2023-08-13T10:28:03.915Z"
   },
   {
    "duration": 3,
    "start_time": "2023-08-13T10:28:09.808Z"
   },
   {
    "duration": 13,
    "start_time": "2023-08-13T10:28:09.813Z"
   },
   {
    "duration": 25,
    "start_time": "2023-08-13T10:28:09.828Z"
   },
   {
    "duration": 13,
    "start_time": "2023-08-13T10:28:09.858Z"
   },
   {
    "duration": 10,
    "start_time": "2023-08-13T10:28:09.873Z"
   },
   {
    "duration": 7,
    "start_time": "2023-08-13T10:28:09.885Z"
   },
   {
    "duration": 12,
    "start_time": "2023-08-13T10:28:09.893Z"
   },
   {
    "duration": 20,
    "start_time": "2023-08-13T10:28:09.906Z"
   },
   {
    "duration": 10,
    "start_time": "2023-08-13T10:28:09.928Z"
   },
   {
    "duration": 14,
    "start_time": "2023-08-13T10:28:09.940Z"
   },
   {
    "duration": 23,
    "start_time": "2023-08-13T10:28:09.956Z"
   },
   {
    "duration": 36,
    "start_time": "2023-08-13T10:28:09.981Z"
   },
   {
    "duration": 14,
    "start_time": "2023-08-13T10:28:10.018Z"
   },
   {
    "duration": 57,
    "start_time": "2023-08-13T10:28:10.033Z"
   },
   {
    "duration": 38,
    "start_time": "2023-08-13T10:28:10.092Z"
   },
   {
    "duration": 6,
    "start_time": "2023-08-13T10:28:10.131Z"
   },
   {
    "duration": 36,
    "start_time": "2023-08-13T10:28:10.139Z"
   },
   {
    "duration": 334,
    "start_time": "2023-08-13T10:28:10.177Z"
   },
   {
    "duration": 98,
    "start_time": "2023-08-13T10:28:10.513Z"
   },
   {
    "duration": 4,
    "start_time": "2023-08-13T10:28:31.531Z"
   },
   {
    "duration": 6001,
    "start_time": "2023-08-13T10:29:29.580Z"
   },
   {
    "duration": 8,
    "start_time": "2023-08-13T10:29:47.810Z"
   },
   {
    "duration": 33,
    "start_time": "2023-08-13T10:30:14.180Z"
   },
   {
    "duration": 10,
    "start_time": "2023-08-13T10:30:25.180Z"
   },
   {
    "duration": 282,
    "start_time": "2023-08-13T10:30:37.671Z"
   },
   {
    "duration": 17,
    "start_time": "2023-08-13T10:30:53.150Z"
   },
   {
    "duration": 16,
    "start_time": "2023-08-13T10:53:55.404Z"
   },
   {
    "duration": 17,
    "start_time": "2023-08-13T10:54:08.186Z"
   },
   {
    "duration": 20,
    "start_time": "2023-08-13T10:54:43.554Z"
   },
   {
    "duration": 5362,
    "start_time": "2023-08-13T10:58:39.056Z"
   },
   {
    "duration": 5804,
    "start_time": "2023-08-13T11:07:29.274Z"
   },
   {
    "duration": 10,
    "start_time": "2023-08-13T11:07:35.583Z"
   },
   {
    "duration": 5,
    "start_time": "2023-08-13T11:11:58.287Z"
   },
   {
    "duration": 7019,
    "start_time": "2023-08-13T11:12:00.056Z"
   },
   {
    "duration": 5355,
    "start_time": "2023-08-13T11:12:11.836Z"
   },
   {
    "duration": 4,
    "start_time": "2023-08-13T11:13:10.087Z"
   },
   {
    "duration": 3659,
    "start_time": "2023-08-13T11:13:12.617Z"
   },
   {
    "duration": 2748,
    "start_time": "2023-08-13T11:13:45.118Z"
   },
   {
    "duration": 3388,
    "start_time": "2023-08-13T11:13:54.376Z"
   },
   {
    "duration": 101,
    "start_time": "2023-08-13T11:14:28.048Z"
   },
   {
    "duration": 3412,
    "start_time": "2023-08-13T11:15:08.548Z"
   },
   {
    "duration": 5,
    "start_time": "2023-08-13T11:15:45.371Z"
   },
   {
    "duration": 4640,
    "start_time": "2023-08-13T11:16:26.270Z"
   },
   {
    "duration": 7,
    "start_time": "2023-08-13T11:18:30.656Z"
   },
   {
    "duration": 2853,
    "start_time": "2023-08-13T11:18:32.614Z"
   },
   {
    "duration": 6,
    "start_time": "2023-08-13T11:18:52.263Z"
   },
   {
    "duration": 3022,
    "start_time": "2023-08-13T11:18:53.946Z"
   },
   {
    "duration": 4,
    "start_time": "2023-08-13T11:19:05.990Z"
   },
   {
    "duration": 3010,
    "start_time": "2023-08-13T11:19:07.763Z"
   },
   {
    "duration": 24,
    "start_time": "2023-08-13T11:19:45.950Z"
   },
   {
    "duration": 3,
    "start_time": "2023-08-13T11:22:06.291Z"
   },
   {
    "duration": 69,
    "start_time": "2023-08-13T11:23:16.600Z"
   },
   {
    "duration": 90,
    "start_time": "2023-08-13T11:23:31.876Z"
   },
   {
    "duration": 103,
    "start_time": "2023-08-13T11:23:41.674Z"
   },
   {
    "duration": 4,
    "start_time": "2023-08-13T11:34:11.676Z"
   },
   {
    "duration": 88,
    "start_time": "2023-08-13T11:35:40.787Z"
   },
   {
    "duration": 115,
    "start_time": "2023-08-13T11:35:46.749Z"
   },
   {
    "duration": 179,
    "start_time": "2023-08-13T11:35:49.987Z"
   },
   {
    "duration": 50,
    "start_time": "2023-08-13T11:36:04.218Z"
   },
   {
    "duration": 3,
    "start_time": "2023-08-13T11:36:13.938Z"
   },
   {
    "duration": 78,
    "start_time": "2023-08-13T11:36:16.287Z"
   },
   {
    "duration": 5,
    "start_time": "2023-08-13T11:36:22.147Z"
   },
   {
    "duration": 26,
    "start_time": "2023-08-13T11:36:31.773Z"
   },
   {
    "duration": 56,
    "start_time": "2023-08-13T11:36:44.517Z"
   },
   {
    "duration": 12,
    "start_time": "2023-08-13T11:42:00.380Z"
   },
   {
    "duration": 3,
    "start_time": "2023-08-13T11:42:12.930Z"
   },
   {
    "duration": 13,
    "start_time": "2023-08-13T11:42:24.106Z"
   },
   {
    "duration": 30,
    "start_time": "2023-08-13T11:42:41.744Z"
   },
   {
    "duration": 866331,
    "start_time": "2023-08-13T11:42:50.254Z"
   },
   {
    "duration": 3,
    "start_time": "2023-08-13T11:57:29.899Z"
   },
   {
    "duration": 206,
    "start_time": "2023-08-13T11:57:29.907Z"
   },
   {
    "duration": 10,
    "start_time": "2023-08-13T11:57:30.115Z"
   },
   {
    "duration": 50,
    "start_time": "2023-08-13T11:57:30.127Z"
   },
   {
    "duration": 35,
    "start_time": "2023-08-13T11:57:30.179Z"
   },
   {
    "duration": 25,
    "start_time": "2023-08-13T11:57:30.216Z"
   },
   {
    "duration": 59,
    "start_time": "2023-08-13T11:57:30.243Z"
   },
   {
    "duration": 22,
    "start_time": "2023-08-13T11:57:30.304Z"
   },
   {
    "duration": 28,
    "start_time": "2023-08-13T11:57:30.328Z"
   },
   {
    "duration": 58,
    "start_time": "2023-08-13T11:57:30.358Z"
   },
   {
    "duration": 51,
    "start_time": "2023-08-13T11:57:30.421Z"
   },
   {
    "duration": 37,
    "start_time": "2023-08-13T11:57:30.475Z"
   },
   {
    "duration": 34,
    "start_time": "2023-08-13T11:57:30.514Z"
   },
   {
    "duration": 188,
    "start_time": "2023-08-13T11:57:30.550Z"
   },
   {
    "duration": 230,
    "start_time": "2023-08-13T11:57:30.740Z"
   },
   {
    "duration": 18,
    "start_time": "2023-08-13T11:57:30.972Z"
   },
   {
    "duration": 38,
    "start_time": "2023-08-13T11:57:30.992Z"
   },
   {
    "duration": 93,
    "start_time": "2023-08-13T11:57:31.031Z"
   },
   {
    "duration": 56,
    "start_time": "2023-08-13T11:57:31.126Z"
   },
   {
    "duration": 118,
    "start_time": "2023-08-13T11:57:31.184Z"
   },
   {
    "duration": 16,
    "start_time": "2023-08-13T11:57:31.304Z"
   },
   {
    "duration": 53,
    "start_time": "2023-08-13T11:57:31.322Z"
   },
   {
    "duration": 53,
    "start_time": "2023-08-13T11:57:31.377Z"
   },
   {
    "duration": 68,
    "start_time": "2023-08-13T11:57:31.432Z"
   },
   {
    "duration": 17,
    "start_time": "2023-08-13T11:57:31.502Z"
   },
   {
    "duration": 32,
    "start_time": "2023-08-13T11:57:31.521Z"
   },
   {
    "duration": 50,
    "start_time": "2023-08-13T11:57:31.555Z"
   },
   {
    "duration": 33,
    "start_time": "2023-08-13T11:57:31.607Z"
   },
   {
    "duration": 57,
    "start_time": "2023-08-13T11:57:31.645Z"
   },
   {
    "duration": 53,
    "start_time": "2023-08-13T11:57:31.704Z"
   },
   {
    "duration": 32,
    "start_time": "2023-08-13T11:57:31.769Z"
   },
   {
    "duration": 29,
    "start_time": "2023-08-13T11:57:31.803Z"
   },
   {
    "duration": 176,
    "start_time": "2023-08-13T11:57:31.834Z"
   },
   {
    "duration": 9,
    "start_time": "2023-08-13T11:57:32.013Z"
   },
   {
    "duration": 74,
    "start_time": "2023-08-13T11:57:32.023Z"
   },
   {
    "duration": 43,
    "start_time": "2023-08-13T11:57:32.099Z"
   },
   {
    "duration": 49,
    "start_time": "2023-08-13T11:57:32.144Z"
   },
   {
    "duration": 194,
    "start_time": "2023-08-13T11:57:32.194Z"
   },
   {
    "duration": 13,
    "start_time": "2023-08-13T11:57:32.390Z"
   },
   {
    "duration": 48,
    "start_time": "2023-08-13T11:57:32.404Z"
   },
   {
    "duration": 55,
    "start_time": "2023-08-13T11:57:32.454Z"
   },
   {
    "duration": 59,
    "start_time": "2023-08-13T11:57:32.511Z"
   },
   {
    "duration": 30,
    "start_time": "2023-08-13T11:57:32.572Z"
   },
   {
    "duration": 60,
    "start_time": "2023-08-13T11:57:32.604Z"
   },
   {
    "duration": 34,
    "start_time": "2023-08-13T11:57:32.666Z"
   },
   {
    "duration": 181,
    "start_time": "2023-08-13T11:57:32.701Z"
   },
   {
    "duration": 12,
    "start_time": "2023-08-13T11:57:32.884Z"
   },
   {
    "duration": 25,
    "start_time": "2023-08-13T11:57:32.897Z"
   },
   {
    "duration": 33,
    "start_time": "2023-08-13T11:57:32.924Z"
   },
   {
    "duration": 27,
    "start_time": "2023-08-13T11:57:32.961Z"
   },
   {
    "duration": 184,
    "start_time": "2023-08-13T11:57:32.990Z"
   },
   {
    "duration": 12,
    "start_time": "2023-08-13T11:57:33.178Z"
   },
   {
    "duration": 81,
    "start_time": "2023-08-13T11:57:33.192Z"
   },
   {
    "duration": 27,
    "start_time": "2023-08-13T11:57:33.275Z"
   },
   {
    "duration": 50,
    "start_time": "2023-08-13T11:57:33.304Z"
   },
   {
    "duration": 38,
    "start_time": "2023-08-13T11:57:33.356Z"
   },
   {
    "duration": 25,
    "start_time": "2023-08-13T11:57:33.395Z"
   },
   {
    "duration": 84,
    "start_time": "2023-08-13T11:57:33.422Z"
   },
   {
    "duration": 5,
    "start_time": "2023-08-13T11:57:33.507Z"
   },
   {
    "duration": 28,
    "start_time": "2023-08-13T11:57:33.514Z"
   },
   {
    "duration": 43,
    "start_time": "2023-08-13T11:57:33.544Z"
   },
   {
    "duration": 13,
    "start_time": "2023-08-13T11:57:33.589Z"
   },
   {
    "duration": 20,
    "start_time": "2023-08-13T11:57:33.605Z"
   },
   {
    "duration": 10,
    "start_time": "2023-08-13T11:57:33.627Z"
   },
   {
    "duration": 5754,
    "start_time": "2023-08-13T11:57:33.639Z"
   },
   {
    "duration": 4,
    "start_time": "2023-08-13T11:57:39.395Z"
   },
   {
    "duration": 4681,
    "start_time": "2023-08-13T11:57:39.401Z"
   },
   {
    "duration": 90,
    "start_time": "2023-08-13T11:57:44.173Z"
   },
   {
    "duration": 28,
    "start_time": "2023-08-13T11:57:44.266Z"
   },
   {
    "duration": 3973,
    "start_time": "2023-08-13T11:57:44.295Z"
   },
   {
    "duration": 4,
    "start_time": "2023-08-13T11:57:48.272Z"
   },
   {
    "duration": 196,
    "start_time": "2023-08-13T11:57:48.277Z"
   },
   {
    "duration": 175,
    "start_time": "2023-08-13T11:58:04.251Z"
   },
   {
    "duration": 154,
    "start_time": "2023-08-13T11:58:11.611Z"
   },
   {
    "duration": 165,
    "start_time": "2023-08-13T11:58:29.409Z"
   },
   {
    "duration": 294,
    "start_time": "2023-08-13T11:58:37.188Z"
   },
   {
    "duration": 500,
    "start_time": "2023-08-13T11:58:45.242Z"
   },
   {
    "duration": 423,
    "start_time": "2023-08-13T11:59:00.430Z"
   },
   {
    "duration": 674,
    "start_time": "2023-08-13T11:59:12.110Z"
   },
   {
    "duration": 1382,
    "start_time": "2023-08-13T11:59:20.580Z"
   },
   {
    "duration": 2969,
    "start_time": "2023-08-13T12:00:08.918Z"
   },
   {
    "duration": 5351,
    "start_time": "2023-08-13T12:00:21.042Z"
   },
   {
    "duration": 1246,
    "start_time": "2023-08-13T12:00:36.937Z"
   },
   {
    "duration": 8,
    "start_time": "2023-08-13T12:01:07.258Z"
   },
   {
    "duration": 3,
    "start_time": "2023-08-13T12:01:57.507Z"
   },
   {
    "duration": 1005,
    "start_time": "2023-08-13T12:02:17.709Z"
   },
   {
    "duration": 1033,
    "start_time": "2023-08-13T12:02:38.703Z"
   },
   {
    "duration": 928,
    "start_time": "2023-08-13T12:02:44.591Z"
   },
   {
    "duration": 95,
    "start_time": "2023-08-13T12:06:33.072Z"
   },
   {
    "duration": 678,
    "start_time": "2023-08-13T12:11:46.689Z"
   },
   {
    "duration": 1936,
    "start_time": "2023-08-13T12:11:51.043Z"
   },
   {
    "duration": 1530,
    "start_time": "2023-08-13T12:11:58.229Z"
   },
   {
    "duration": 813,
    "start_time": "2023-08-13T12:12:04.669Z"
   },
   {
    "duration": 2378,
    "start_time": "2023-08-13T12:15:09.413Z"
   },
   {
    "duration": 1674,
    "start_time": "2023-08-13T12:15:31.104Z"
   },
   {
    "duration": 1780,
    "start_time": "2023-08-13T12:17:54.283Z"
   },
   {
    "duration": 19,
    "start_time": "2023-08-13T12:22:35.017Z"
   },
   {
    "duration": 3518,
    "start_time": "2023-08-13T12:23:15.419Z"
   },
   {
    "duration": 4749,
    "start_time": "2023-08-13T12:23:43.403Z"
   },
   {
    "duration": 1967,
    "start_time": "2023-08-13T12:23:53.672Z"
   },
   {
    "duration": 1992,
    "start_time": "2023-08-13T12:24:57.360Z"
   },
   {
    "duration": 2057,
    "start_time": "2023-08-13T12:25:07.341Z"
   },
   {
    "duration": 10,
    "start_time": "2023-08-13T12:25:52.912Z"
   },
   {
    "duration": 2032,
    "start_time": "2023-08-13T12:26:32.471Z"
   },
   {
    "duration": 16,
    "start_time": "2023-08-13T12:26:44.331Z"
   },
   {
    "duration": 1884,
    "start_time": "2023-08-13T12:26:55.094Z"
   },
   {
    "duration": 630,
    "start_time": "2023-08-13T12:27:11.132Z"
   },
   {
    "duration": 576,
    "start_time": "2023-08-13T12:27:24.988Z"
   },
   {
    "duration": 62,
    "start_time": "2023-08-13T12:36:30.402Z"
   },
   {
    "duration": 43,
    "start_time": "2023-08-13T12:36:33.917Z"
   },
   {
    "duration": 83,
    "start_time": "2023-08-13T12:40:30.819Z"
   },
   {
    "duration": 3883,
    "start_time": "2023-08-13T12:40:51.279Z"
   },
   {
    "duration": 113,
    "start_time": "2023-08-13T12:41:28.338Z"
   },
   {
    "duration": 4569,
    "start_time": "2023-08-13T12:41:30.889Z"
   },
   {
    "duration": 82,
    "start_time": "2023-08-13T12:41:39.337Z"
   },
   {
    "duration": 279672,
    "start_time": "2023-08-13T12:42:01.769Z"
   },
   {
    "duration": 5,
    "start_time": "2023-08-13T12:50:21.143Z"
   },
   {
    "duration": 4,
    "start_time": "2023-08-13T12:50:23.095Z"
   },
   {
    "duration": 563966,
    "start_time": "2023-08-13T12:51:53.746Z"
   },
   {
    "duration": 6,
    "start_time": "2023-08-13T13:07:02.581Z"
   },
   {
    "duration": 4,
    "start_time": "2023-08-13T13:07:04.934Z"
   },
   {
    "duration": 11627,
    "start_time": "2023-08-13T13:09:12.598Z"
   },
   {
    "duration": 5,
    "start_time": "2023-08-13T13:14:07.191Z"
   },
   {
    "duration": 12,
    "start_time": "2023-08-13T13:14:49.626Z"
   },
   {
    "duration": 429,
    "start_time": "2023-08-13T13:14:55.007Z"
   },
   {
    "duration": 11680,
    "start_time": "2023-08-13T13:15:04.447Z"
   },
   {
    "duration": 137,
    "start_time": "2023-08-13T13:15:22.107Z"
   },
   {
    "duration": 83,
    "start_time": "2023-08-13T13:16:07.327Z"
   },
   {
    "duration": 70,
    "start_time": "2023-08-13T13:16:24.909Z"
   },
   {
    "duration": 76,
    "start_time": "2023-08-13T13:16:39.985Z"
   },
   {
    "duration": 292,
    "start_time": "2023-08-13T13:17:09.590Z"
   },
   {
    "duration": 11,
    "start_time": "2023-08-13T13:23:47.716Z"
   },
   {
    "duration": 292,
    "start_time": "2023-08-13T13:23:51.594Z"
   },
   {
    "duration": 56,
    "start_time": "2023-08-13T13:25:13.905Z"
   },
   {
    "duration": 18,
    "start_time": "2023-08-13T13:25:29.150Z"
   },
   {
    "duration": 6,
    "start_time": "2023-08-13T13:27:22.492Z"
   },
   {
    "duration": 6,
    "start_time": "2023-08-13T13:27:25.323Z"
   },
   {
    "duration": 4637,
    "start_time": "2023-08-13T13:34:24.658Z"
   },
   {
    "duration": 4657,
    "start_time": "2023-08-13T13:34:36.284Z"
   },
   {
    "duration": 4568,
    "start_time": "2023-08-13T13:34:44.740Z"
   },
   {
    "duration": 4,
    "start_time": "2023-08-13T13:35:23.426Z"
   },
   {
    "duration": 5924,
    "start_time": "2023-08-13T13:35:35.848Z"
   },
   {
    "duration": 6,
    "start_time": "2023-08-13T13:36:17.356Z"
   },
   {
    "duration": 1449,
    "start_time": "2023-08-13T13:36:22.116Z"
   },
   {
    "duration": 4,
    "start_time": "2023-08-13T13:36:41.537Z"
   },
   {
    "duration": 1333,
    "start_time": "2023-08-13T13:36:43.327Z"
   },
   {
    "duration": 5,
    "start_time": "2023-08-13T13:37:05.917Z"
   },
   {
    "duration": 1389,
    "start_time": "2023-08-13T13:37:09.371Z"
   },
   {
    "duration": 3947,
    "start_time": "2023-08-13T13:37:29.146Z"
   },
   {
    "duration": 4,
    "start_time": "2023-08-13T13:38:27.427Z"
   },
   {
    "duration": 92,
    "start_time": "2023-08-13T13:38:30.198Z"
   },
   {
    "duration": 5,
    "start_time": "2023-08-13T13:38:32.426Z"
   },
   {
    "duration": 8143,
    "start_time": "2023-08-13T13:38:35.017Z"
   },
   {
    "duration": 897,
    "start_time": "2023-08-13T13:38:44.870Z"
   },
   {
    "duration": 88,
    "start_time": "2023-08-13T13:39:18.048Z"
   },
   {
    "duration": 5,
    "start_time": "2023-08-13T13:39:19.998Z"
   },
   {
    "duration": 1032,
    "start_time": "2023-08-13T13:39:21.728Z"
   },
   {
    "duration": 282308,
    "start_time": "2023-08-13T13:39:32.597Z"
   },
   {
    "duration": 5,
    "start_time": "2023-08-13T13:45:20.546Z"
   },
   {
    "duration": 5,
    "start_time": "2023-08-13T13:45:25.010Z"
   },
   {
    "duration": 112,
    "start_time": "2023-08-13T13:46:10.359Z"
   },
   {
    "duration": 4,
    "start_time": "2023-08-13T13:46:12.102Z"
   },
   {
    "duration": 900,
    "start_time": "2023-08-13T13:46:14.761Z"
   },
   {
    "duration": 88,
    "start_time": "2023-08-13T13:46:40.001Z"
   },
   {
    "duration": 5,
    "start_time": "2023-08-13T13:46:41.889Z"
   },
   {
    "duration": 384,
    "start_time": "2023-08-13T13:46:43.682Z"
   },
   {
    "duration": 17,
    "start_time": "2023-08-13T13:46:49.992Z"
   },
   {
    "duration": 93,
    "start_time": "2023-08-13T13:46:52.582Z"
   },
   {
    "duration": 5,
    "start_time": "2023-08-13T13:46:54.683Z"
   },
   {
    "duration": 282,
    "start_time": "2023-08-13T13:47:08.185Z"
   },
   {
    "duration": 414,
    "start_time": "2023-08-13T13:48:16.112Z"
   },
   {
    "duration": 7,
    "start_time": "2023-08-13T13:48:18.121Z"
   },
   {
    "duration": 13743,
    "start_time": "2023-08-13T13:48:20.544Z"
   },
   {
    "duration": 138,
    "start_time": "2023-08-13T13:48:34.290Z"
   },
   {
    "duration": 393,
    "start_time": "2023-08-13T13:48:59.232Z"
   },
   {
    "duration": 6,
    "start_time": "2023-08-13T13:49:00.863Z"
   },
   {
    "duration": 12000,
    "start_time": "2023-08-13T13:49:03.752Z"
   },
   {
    "duration": 136,
    "start_time": "2023-08-13T13:49:15.754Z"
   },
   {
    "duration": 390,
    "start_time": "2023-08-13T13:49:41.884Z"
   },
   {
    "duration": 6,
    "start_time": "2023-08-13T13:49:42.975Z"
   },
   {
    "duration": 11550,
    "start_time": "2023-08-13T13:49:47.261Z"
   },
   {
    "duration": 136,
    "start_time": "2023-08-13T13:49:58.813Z"
   },
   {
    "duration": 90,
    "start_time": "2023-08-13T13:51:21.553Z"
   },
   {
    "duration": 4,
    "start_time": "2023-08-13T13:51:21.694Z"
   },
   {
    "duration": 377,
    "start_time": "2023-08-13T13:51:22.683Z"
   },
   {
    "duration": 281576,
    "start_time": "2023-08-13T13:51:34.410Z"
   },
   {
    "duration": 5,
    "start_time": "2023-08-13T13:56:15.988Z"
   },
   {
    "duration": 5481,
    "start_time": "2023-08-13T13:56:15.995Z"
   },
   {
    "duration": 6,
    "start_time": "2023-08-13T13:59:46.980Z"
   },
   {
    "duration": 4817,
    "start_time": "2023-08-13T13:59:48.955Z"
   },
   {
    "duration": 4830,
    "start_time": "2023-08-13T13:59:57.924Z"
   },
   {
    "duration": 4,
    "start_time": "2023-08-13T14:00:29.203Z"
   },
   {
    "duration": 4523,
    "start_time": "2023-08-13T14:00:29.941Z"
   },
   {
    "duration": 6,
    "start_time": "2023-08-13T14:00:34.467Z"
   },
   {
    "duration": 5881,
    "start_time": "2023-08-13T14:00:34.479Z"
   },
   {
    "duration": 5,
    "start_time": "2023-08-13T14:02:12.489Z"
   },
   {
    "duration": 4,
    "start_time": "2023-08-13T14:02:14.346Z"
   },
   {
    "duration": 525,
    "start_time": "2023-08-13T14:03:03.546Z"
   },
   {
    "duration": 212,
    "start_time": "2023-08-13T14:03:04.073Z"
   },
   {
    "duration": 24,
    "start_time": "2023-08-13T14:03:04.287Z"
   },
   {
    "duration": 10,
    "start_time": "2023-08-13T14:03:04.313Z"
   },
   {
    "duration": 39,
    "start_time": "2023-08-13T14:03:04.327Z"
   },
   {
    "duration": 21,
    "start_time": "2023-08-13T14:03:04.369Z"
   },
   {
    "duration": 40,
    "start_time": "2023-08-13T14:03:04.393Z"
   },
   {
    "duration": 20,
    "start_time": "2023-08-13T14:03:04.435Z"
   },
   {
    "duration": 26,
    "start_time": "2023-08-13T14:03:04.457Z"
   },
   {
    "duration": 522,
    "start_time": "2023-08-13T14:03:04.485Z"
   },
   {
    "duration": 12,
    "start_time": "2023-08-13T14:03:05.010Z"
   },
   {
    "duration": 14,
    "start_time": "2023-08-13T14:03:05.024Z"
   },
   {
    "duration": 19,
    "start_time": "2023-08-13T14:03:05.060Z"
   },
   {
    "duration": 538,
    "start_time": "2023-08-13T14:03:05.084Z"
   },
   {
    "duration": 243,
    "start_time": "2023-08-13T14:03:05.624Z"
   },
   {
    "duration": 24,
    "start_time": "2023-08-13T14:03:05.876Z"
   },
   {
    "duration": 12,
    "start_time": "2023-08-13T14:03:05.902Z"
   },
   {
    "duration": 18,
    "start_time": "2023-08-13T14:03:05.917Z"
   },
   {
    "duration": 5,
    "start_time": "2023-08-13T14:03:05.938Z"
   },
   {
    "duration": 68,
    "start_time": "2023-08-13T14:03:05.960Z"
   },
   {
    "duration": 30,
    "start_time": "2023-08-13T14:03:06.030Z"
   },
   {
    "duration": 25,
    "start_time": "2023-08-13T14:03:06.062Z"
   },
   {
    "duration": 36,
    "start_time": "2023-08-13T14:03:06.089Z"
   },
   {
    "duration": 45,
    "start_time": "2023-08-13T14:03:06.127Z"
   },
   {
    "duration": 7,
    "start_time": "2023-08-13T14:03:06.175Z"
   },
   {
    "duration": 31,
    "start_time": "2023-08-13T14:03:06.184Z"
   },
   {
    "duration": 9,
    "start_time": "2023-08-13T14:03:06.217Z"
   },
   {
    "duration": 19,
    "start_time": "2023-08-13T14:03:06.228Z"
   },
   {
    "duration": 21,
    "start_time": "2023-08-13T14:03:06.250Z"
   },
   {
    "duration": 21,
    "start_time": "2023-08-13T14:03:06.275Z"
   },
   {
    "duration": 32,
    "start_time": "2023-08-13T14:03:06.298Z"
   },
   {
    "duration": 8,
    "start_time": "2023-08-13T14:03:06.333Z"
   },
   {
    "duration": 184,
    "start_time": "2023-08-13T14:03:06.343Z"
   },
   {
    "duration": 10,
    "start_time": "2023-08-13T14:03:06.529Z"
   },
   {
    "duration": 26,
    "start_time": "2023-08-13T14:03:06.542Z"
   },
   {
    "duration": 39,
    "start_time": "2023-08-13T14:03:06.571Z"
   },
   {
    "duration": 7,
    "start_time": "2023-08-13T14:03:06.612Z"
   },
   {
    "duration": 190,
    "start_time": "2023-08-13T14:03:06.621Z"
   },
   {
    "duration": 14,
    "start_time": "2023-08-13T14:03:06.813Z"
   },
   {
    "duration": 49,
    "start_time": "2023-08-13T14:03:06.829Z"
   },
   {
    "duration": 10,
    "start_time": "2023-08-13T14:03:06.889Z"
   },
   {
    "duration": 18,
    "start_time": "2023-08-13T14:03:06.902Z"
   },
   {
    "duration": 35,
    "start_time": "2023-08-13T14:03:06.922Z"
   },
   {
    "duration": 37,
    "start_time": "2023-08-13T14:03:06.959Z"
   },
   {
    "duration": 9,
    "start_time": "2023-08-13T14:03:06.997Z"
   },
   {
    "duration": 186,
    "start_time": "2023-08-13T14:03:07.008Z"
   },
   {
    "duration": 23,
    "start_time": "2023-08-13T14:03:07.197Z"
   },
   {
    "duration": 21,
    "start_time": "2023-08-13T14:03:07.223Z"
   },
   {
    "duration": 20,
    "start_time": "2023-08-13T14:03:07.246Z"
   },
   {
    "duration": 22,
    "start_time": "2023-08-13T14:03:07.269Z"
   },
   {
    "duration": 86,
    "start_time": "2023-08-13T14:03:07.294Z"
   },
   {
    "duration": 29,
    "start_time": "2023-08-13T14:03:07.385Z"
   },
   {
    "duration": 9,
    "start_time": "2023-08-13T14:03:07.416Z"
   },
   {
    "duration": 24,
    "start_time": "2023-08-13T14:03:07.427Z"
   },
   {
    "duration": 41,
    "start_time": "2023-08-13T14:03:07.453Z"
   },
   {
    "duration": 9,
    "start_time": "2023-08-13T14:03:07.497Z"
   },
   {
    "duration": 14,
    "start_time": "2023-08-13T14:03:07.509Z"
   },
   {
    "duration": 113,
    "start_time": "2023-08-13T14:03:07.527Z"
   },
   {
    "duration": 5,
    "start_time": "2023-08-13T14:03:07.642Z"
   },
   {
    "duration": 20,
    "start_time": "2023-08-13T14:03:07.672Z"
   },
   {
    "duration": 26,
    "start_time": "2023-08-13T14:03:07.694Z"
   },
   {
    "duration": 21,
    "start_time": "2023-08-13T14:03:07.722Z"
   },
   {
    "duration": 12,
    "start_time": "2023-08-13T14:03:07.745Z"
   },
   {
    "duration": 24,
    "start_time": "2023-08-13T14:03:07.759Z"
   },
   {
    "duration": 6353,
    "start_time": "2023-08-13T14:03:07.786Z"
   },
   {
    "duration": 35,
    "start_time": "2023-08-13T14:03:14.142Z"
   },
   {
    "duration": 9796,
    "start_time": "2023-08-13T14:03:14.179Z"
   },
   {
    "duration": 188,
    "start_time": "2023-08-13T14:03:23.979Z"
   },
   {
    "duration": 27,
    "start_time": "2023-08-13T14:03:24.170Z"
   },
   {
    "duration": 7280,
    "start_time": "2023-08-13T14:03:24.200Z"
   },
   {
    "duration": 14,
    "start_time": "2023-08-13T14:03:31.565Z"
   },
   {
    "duration": 3592,
    "start_time": "2023-08-13T14:03:31.582Z"
   },
   {
    "duration": 99,
    "start_time": "2023-08-13T14:03:35.176Z"
   },
   {
    "duration": 65,
    "start_time": "2023-08-13T14:03:35.280Z"
   },
   {
    "duration": 19,
    "start_time": "2023-08-13T14:03:35.347Z"
   },
   {
    "duration": 34,
    "start_time": "2023-08-13T14:03:35.370Z"
   },
   {
    "duration": 25,
    "start_time": "2023-08-13T14:03:35.410Z"
   },
   {
    "duration": 15,
    "start_time": "2023-08-13T14:03:35.437Z"
   },
   {
    "duration": 63,
    "start_time": "2023-08-13T14:03:35.454Z"
   },
   {
    "duration": 38,
    "start_time": "2023-08-13T14:03:35.518Z"
   },
   {
    "duration": 27,
    "start_time": "2023-08-13T14:03:35.557Z"
   },
   {
    "duration": 72,
    "start_time": "2023-08-13T14:03:35.585Z"
   },
   {
    "duration": 20,
    "start_time": "2023-08-13T14:03:35.659Z"
   },
   {
    "duration": 60,
    "start_time": "2023-08-13T14:03:35.681Z"
   },
   {
    "duration": 48,
    "start_time": "2023-08-13T14:03:35.743Z"
   },
   {
    "duration": 7,
    "start_time": "2023-08-13T14:03:35.794Z"
   },
   {
    "duration": 48,
    "start_time": "2023-08-13T14:03:35.802Z"
   },
   {
    "duration": 435,
    "start_time": "2023-08-13T14:03:35.852Z"
   },
   {
    "duration": 100,
    "start_time": "2023-08-13T14:03:36.289Z"
   },
   {
    "duration": 6,
    "start_time": "2023-08-13T14:03:36.391Z"
   },
   {
    "duration": 463,
    "start_time": "2023-08-13T14:03:36.399Z"
   },
   {
    "duration": 293149,
    "start_time": "2023-08-13T14:03:36.869Z"
   },
   {
    "duration": 5,
    "start_time": "2023-08-13T14:08:30.019Z"
   },
   {
    "duration": 49,
    "start_time": "2023-08-13T14:08:30.027Z"
   },
   {
    "duration": 460,
    "start_time": "2023-08-13T14:08:30.078Z"
   },
   {
    "duration": 4,
    "start_time": "2023-08-13T14:08:30.540Z"
   },
   {
    "duration": 194,
    "start_time": "2023-08-13T14:08:30.546Z"
   },
   {
    "duration": 0,
    "start_time": "2023-08-13T14:08:30.742Z"
   },
   {
    "duration": 0,
    "start_time": "2023-08-13T14:08:30.743Z"
   },
   {
    "duration": 0,
    "start_time": "2023-08-13T14:08:30.744Z"
   },
   {
    "duration": 0,
    "start_time": "2023-08-13T14:08:30.746Z"
   },
   {
    "duration": 622,
    "start_time": "2023-08-13T14:14:10.549Z"
   },
   {
    "duration": 62,
    "start_time": "2023-08-13T14:18:34.092Z"
   },
   {
    "duration": 8,
    "start_time": "2023-08-13T14:18:52.921Z"
   },
   {
    "duration": 1586,
    "start_time": "2023-08-13T14:18:55.102Z"
   },
   {
    "duration": 349,
    "start_time": "2023-08-13T14:20:17.424Z"
   },
   {
    "duration": 418,
    "start_time": "2023-08-13T15:35:12.203Z"
   },
   {
    "duration": 585,
    "start_time": "2023-08-13T15:35:12.623Z"
   },
   {
    "duration": 22,
    "start_time": "2023-08-13T15:35:13.210Z"
   },
   {
    "duration": 4,
    "start_time": "2023-08-13T15:35:13.234Z"
   },
   {
    "duration": 25,
    "start_time": "2023-08-13T15:35:13.241Z"
   },
   {
    "duration": 16,
    "start_time": "2023-08-13T15:35:13.269Z"
   },
   {
    "duration": 31,
    "start_time": "2023-08-13T15:35:13.288Z"
   },
   {
    "duration": 13,
    "start_time": "2023-08-13T15:35:13.321Z"
   },
   {
    "duration": 18,
    "start_time": "2023-08-13T15:35:13.358Z"
   },
   {
    "duration": 512,
    "start_time": "2023-08-13T15:35:13.379Z"
   },
   {
    "duration": 15,
    "start_time": "2023-08-13T15:35:13.893Z"
   },
   {
    "duration": 10,
    "start_time": "2023-08-13T15:35:13.910Z"
   },
   {
    "duration": 5,
    "start_time": "2023-08-13T15:35:13.922Z"
   },
   {
    "duration": 781,
    "start_time": "2023-08-13T15:35:13.960Z"
   },
   {
    "duration": 220,
    "start_time": "2023-08-13T15:35:14.744Z"
   },
   {
    "duration": 22,
    "start_time": "2023-08-13T15:35:14.966Z"
   },
   {
    "duration": 88,
    "start_time": "2023-08-13T15:35:14.991Z"
   },
   {
    "duration": 17,
    "start_time": "2023-08-13T15:35:15.081Z"
   },
   {
    "duration": 7,
    "start_time": "2023-08-13T15:35:15.100Z"
   },
   {
    "duration": 70,
    "start_time": "2023-08-13T15:35:15.108Z"
   },
   {
    "duration": 18,
    "start_time": "2023-08-13T15:35:15.180Z"
   },
   {
    "duration": 5,
    "start_time": "2023-08-13T15:35:15.200Z"
   },
   {
    "duration": 18,
    "start_time": "2023-08-13T15:35:15.207Z"
   },
   {
    "duration": 69,
    "start_time": "2023-08-13T15:35:15.228Z"
   },
   {
    "duration": 9,
    "start_time": "2023-08-13T15:35:15.299Z"
   },
   {
    "duration": 13,
    "start_time": "2023-08-13T15:35:15.310Z"
   },
   {
    "duration": 12,
    "start_time": "2023-08-13T15:35:15.325Z"
   },
   {
    "duration": 22,
    "start_time": "2023-08-13T15:35:15.339Z"
   },
   {
    "duration": 46,
    "start_time": "2023-08-13T15:35:15.363Z"
   },
   {
    "duration": 8,
    "start_time": "2023-08-13T15:35:15.411Z"
   },
   {
    "duration": 21,
    "start_time": "2023-08-13T15:35:15.422Z"
   },
   {
    "duration": 16,
    "start_time": "2023-08-13T15:35:15.445Z"
   },
   {
    "duration": 172,
    "start_time": "2023-08-13T15:35:15.463Z"
   },
   {
    "duration": 13,
    "start_time": "2023-08-13T15:35:15.637Z"
   },
   {
    "duration": 9,
    "start_time": "2023-08-13T15:35:15.652Z"
   },
   {
    "duration": 21,
    "start_time": "2023-08-13T15:35:15.663Z"
   },
   {
    "duration": 10,
    "start_time": "2023-08-13T15:35:15.686Z"
   },
   {
    "duration": 209,
    "start_time": "2023-08-13T15:35:15.698Z"
   },
   {
    "duration": 18,
    "start_time": "2023-08-13T15:35:15.909Z"
   },
   {
    "duration": 39,
    "start_time": "2023-08-13T15:35:15.929Z"
   },
   {
    "duration": 9,
    "start_time": "2023-08-13T15:35:15.973Z"
   },
   {
    "duration": 12,
    "start_time": "2023-08-13T15:35:15.985Z"
   },
   {
    "duration": 12,
    "start_time": "2023-08-13T15:35:15.999Z"
   },
   {
    "duration": 15,
    "start_time": "2023-08-13T15:35:16.012Z"
   },
   {
    "duration": 9,
    "start_time": "2023-08-13T15:35:16.061Z"
   },
   {
    "duration": 188,
    "start_time": "2023-08-13T15:35:16.077Z"
   },
   {
    "duration": 18,
    "start_time": "2023-08-13T15:35:16.268Z"
   },
   {
    "duration": 11,
    "start_time": "2023-08-13T15:35:16.289Z"
   },
   {
    "duration": 14,
    "start_time": "2023-08-13T15:35:16.302Z"
   },
   {
    "duration": 6,
    "start_time": "2023-08-13T15:35:16.319Z"
   },
   {
    "duration": 86,
    "start_time": "2023-08-13T15:35:16.328Z"
   },
   {
    "duration": 14,
    "start_time": "2023-08-13T15:35:16.416Z"
   },
   {
    "duration": 5,
    "start_time": "2023-08-13T15:35:16.433Z"
   },
   {
    "duration": 30,
    "start_time": "2023-08-13T15:35:16.460Z"
   },
   {
    "duration": 42,
    "start_time": "2023-08-13T15:35:16.493Z"
   },
   {
    "duration": 5,
    "start_time": "2023-08-13T15:35:16.538Z"
   },
   {
    "duration": 16,
    "start_time": "2023-08-13T15:35:16.545Z"
   },
   {
    "duration": 112,
    "start_time": "2023-08-13T15:35:16.563Z"
   },
   {
    "duration": 6,
    "start_time": "2023-08-13T15:35:16.677Z"
   },
   {
    "duration": 27,
    "start_time": "2023-08-13T15:35:16.685Z"
   },
   {
    "duration": 17,
    "start_time": "2023-08-13T15:35:16.714Z"
   },
   {
    "duration": 30,
    "start_time": "2023-08-13T15:35:16.733Z"
   },
   {
    "duration": 10,
    "start_time": "2023-08-13T15:35:16.765Z"
   },
   {
    "duration": 8,
    "start_time": "2023-08-13T15:35:16.778Z"
   },
   {
    "duration": 6020,
    "start_time": "2023-08-13T15:35:16.789Z"
   },
   {
    "duration": 49,
    "start_time": "2023-08-13T15:35:22.812Z"
   },
   {
    "duration": 2108,
    "start_time": "2023-08-13T15:35:22.862Z"
   },
   {
    "duration": 96,
    "start_time": "2023-08-13T15:35:24.974Z"
   },
   {
    "duration": 89,
    "start_time": "2023-08-13T15:35:25.073Z"
   },
   {
    "duration": 2013,
    "start_time": "2023-08-13T15:35:25.163Z"
   },
   {
    "duration": 83,
    "start_time": "2023-08-13T15:35:27.181Z"
   },
   {
    "duration": 1703,
    "start_time": "2023-08-13T15:35:27.266Z"
   },
   {
    "duration": 98,
    "start_time": "2023-08-13T15:35:28.971Z"
   },
   {
    "duration": 6,
    "start_time": "2023-08-13T15:35:29.071Z"
   },
   {
    "duration": 39,
    "start_time": "2023-08-13T15:35:29.079Z"
   },
   {
    "duration": 26,
    "start_time": "2023-08-13T15:35:29.120Z"
   },
   {
    "duration": 6,
    "start_time": "2023-08-13T15:35:29.148Z"
   },
   {
    "duration": 6,
    "start_time": "2023-08-13T15:35:29.157Z"
   },
   {
    "duration": 19,
    "start_time": "2023-08-13T15:35:29.165Z"
   },
   {
    "duration": 7,
    "start_time": "2023-08-13T15:35:29.187Z"
   },
   {
    "duration": 9,
    "start_time": "2023-08-13T15:35:29.196Z"
   },
   {
    "duration": 77,
    "start_time": "2023-08-13T15:35:29.208Z"
   },
   {
    "duration": 21,
    "start_time": "2023-08-13T15:35:29.288Z"
   },
   {
    "duration": 61,
    "start_time": "2023-08-13T15:35:29.311Z"
   },
   {
    "duration": 39,
    "start_time": "2023-08-13T15:35:29.374Z"
   },
   {
    "duration": 7,
    "start_time": "2023-08-13T15:35:29.415Z"
   },
   {
    "duration": 42,
    "start_time": "2023-08-13T15:35:29.424Z"
   },
   {
    "duration": 502,
    "start_time": "2023-08-13T15:35:29.468Z"
   },
   {
    "duration": 112,
    "start_time": "2023-08-13T15:35:29.972Z"
   },
   {
    "duration": 59,
    "start_time": "2023-08-13T15:35:30.085Z"
   },
   {
    "duration": 4,
    "start_time": "2023-08-13T15:37:13.819Z"
   },
   {
    "duration": 218,
    "start_time": "2023-08-13T15:37:13.825Z"
   },
   {
    "duration": 15,
    "start_time": "2023-08-13T15:37:14.047Z"
   },
   {
    "duration": 4,
    "start_time": "2023-08-13T15:37:14.064Z"
   },
   {
    "duration": 17,
    "start_time": "2023-08-13T15:37:14.071Z"
   },
   {
    "duration": 18,
    "start_time": "2023-08-13T15:37:14.090Z"
   },
   {
    "duration": 59,
    "start_time": "2023-08-13T15:37:14.110Z"
   },
   {
    "duration": 17,
    "start_time": "2023-08-13T15:37:14.172Z"
   },
   {
    "duration": 14,
    "start_time": "2023-08-13T15:37:14.191Z"
   },
   {
    "duration": 32,
    "start_time": "2023-08-13T15:37:14.208Z"
   },
   {
    "duration": 13,
    "start_time": "2023-08-13T15:37:14.262Z"
   },
   {
    "duration": 12,
    "start_time": "2023-08-13T15:37:14.277Z"
   },
   {
    "duration": 5,
    "start_time": "2023-08-13T15:37:14.291Z"
   },
   {
    "duration": 237,
    "start_time": "2023-08-13T15:37:14.298Z"
   },
   {
    "duration": 235,
    "start_time": "2023-08-13T15:37:14.537Z"
   },
   {
    "duration": 21,
    "start_time": "2023-08-13T15:37:14.773Z"
   },
   {
    "duration": 10,
    "start_time": "2023-08-13T15:37:14.796Z"
   },
   {
    "duration": 34,
    "start_time": "2023-08-13T15:37:14.808Z"
   },
   {
    "duration": 14,
    "start_time": "2023-08-13T15:37:14.845Z"
   },
   {
    "duration": 98,
    "start_time": "2023-08-13T15:37:14.862Z"
   },
   {
    "duration": 17,
    "start_time": "2023-08-13T15:37:14.962Z"
   },
   {
    "duration": 4,
    "start_time": "2023-08-13T15:37:14.981Z"
   },
   {
    "duration": 20,
    "start_time": "2023-08-13T15:37:14.987Z"
   },
   {
    "duration": 71,
    "start_time": "2023-08-13T15:37:15.009Z"
   },
   {
    "duration": 5,
    "start_time": "2023-08-13T15:37:15.083Z"
   },
   {
    "duration": 27,
    "start_time": "2023-08-13T15:37:15.090Z"
   },
   {
    "duration": 13,
    "start_time": "2023-08-13T15:37:15.119Z"
   },
   {
    "duration": 17,
    "start_time": "2023-08-13T15:37:15.135Z"
   },
   {
    "duration": 16,
    "start_time": "2023-08-13T15:37:15.162Z"
   },
   {
    "duration": 5,
    "start_time": "2023-08-13T15:37:15.180Z"
   },
   {
    "duration": 21,
    "start_time": "2023-08-13T15:37:15.188Z"
   },
   {
    "duration": 8,
    "start_time": "2023-08-13T15:37:15.211Z"
   },
   {
    "duration": 203,
    "start_time": "2023-08-13T15:37:15.259Z"
   },
   {
    "duration": 10,
    "start_time": "2023-08-13T15:37:15.464Z"
   },
   {
    "duration": 4,
    "start_time": "2023-08-13T15:37:15.476Z"
   },
   {
    "duration": 17,
    "start_time": "2023-08-13T15:37:15.482Z"
   },
   {
    "duration": 9,
    "start_time": "2023-08-13T15:37:15.502Z"
   },
   {
    "duration": 207,
    "start_time": "2023-08-13T15:37:15.513Z"
   },
   {
    "duration": 14,
    "start_time": "2023-08-13T15:37:15.722Z"
   },
   {
    "duration": 37,
    "start_time": "2023-08-13T15:37:15.738Z"
   },
   {
    "duration": 8,
    "start_time": "2023-08-13T15:37:15.777Z"
   },
   {
    "duration": 11,
    "start_time": "2023-08-13T15:37:15.786Z"
   },
   {
    "duration": 11,
    "start_time": "2023-08-13T15:37:15.799Z"
   },
   {
    "duration": 46,
    "start_time": "2023-08-13T15:37:15.812Z"
   },
   {
    "duration": 8,
    "start_time": "2023-08-13T15:37:15.861Z"
   },
   {
    "duration": 308,
    "start_time": "2023-08-13T15:37:15.871Z"
   },
   {
    "duration": 16,
    "start_time": "2023-08-13T15:37:16.181Z"
   },
   {
    "duration": 8,
    "start_time": "2023-08-13T15:37:16.199Z"
   },
   {
    "duration": 16,
    "start_time": "2023-08-13T15:37:16.209Z"
   },
   {
    "duration": 34,
    "start_time": "2023-08-13T15:37:16.227Z"
   },
   {
    "duration": 54,
    "start_time": "2023-08-13T15:37:16.263Z"
   },
   {
    "duration": 12,
    "start_time": "2023-08-13T15:37:16.319Z"
   },
   {
    "duration": 27,
    "start_time": "2023-08-13T15:37:16.333Z"
   },
   {
    "duration": 17,
    "start_time": "2023-08-13T15:37:16.362Z"
   },
   {
    "duration": 25,
    "start_time": "2023-08-13T15:37:16.386Z"
   },
   {
    "duration": 4,
    "start_time": "2023-08-13T15:37:16.413Z"
   },
   {
    "duration": 11,
    "start_time": "2023-08-13T15:37:16.418Z"
   },
   {
    "duration": 75,
    "start_time": "2023-08-13T15:37:16.459Z"
   },
   {
    "duration": 7,
    "start_time": "2023-08-13T15:37:16.536Z"
   },
   {
    "duration": 29,
    "start_time": "2023-08-13T15:37:16.558Z"
   },
   {
    "duration": 18,
    "start_time": "2023-08-13T15:37:16.589Z"
   },
   {
    "duration": 29,
    "start_time": "2023-08-13T15:37:16.609Z"
   },
   {
    "duration": 17,
    "start_time": "2023-08-13T15:37:16.641Z"
   },
   {
    "duration": 5,
    "start_time": "2023-08-13T15:37:16.661Z"
   },
   {
    "duration": 5936,
    "start_time": "2023-08-13T15:37:16.668Z"
   },
   {
    "duration": 3,
    "start_time": "2023-08-13T15:37:22.606Z"
   },
   {
    "duration": 5962,
    "start_time": "2023-08-13T15:37:22.611Z"
   },
   {
    "duration": 100,
    "start_time": "2023-08-13T15:37:28.661Z"
   },
   {
    "duration": 8,
    "start_time": "2023-08-13T15:37:28.763Z"
   },
   {
    "duration": 1891,
    "start_time": "2023-08-13T15:37:28.774Z"
   },
   {
    "duration": 6,
    "start_time": "2023-08-13T15:37:30.667Z"
   },
   {
    "duration": 1491,
    "start_time": "2023-08-13T15:37:30.676Z"
   },
   {
    "duration": 104,
    "start_time": "2023-08-13T15:37:32.170Z"
   },
   {
    "duration": 24,
    "start_time": "2023-08-13T15:37:32.276Z"
   },
   {
    "duration": 17,
    "start_time": "2023-08-13T15:37:32.302Z"
   },
   {
    "duration": 20,
    "start_time": "2023-08-13T15:37:32.321Z"
   },
   {
    "duration": 13,
    "start_time": "2023-08-13T15:37:32.343Z"
   },
   {
    "duration": 23,
    "start_time": "2023-08-13T15:37:32.358Z"
   },
   {
    "duration": 21,
    "start_time": "2023-08-13T15:37:32.383Z"
   },
   {
    "duration": 19,
    "start_time": "2023-08-13T15:37:32.406Z"
   },
   {
    "duration": 17,
    "start_time": "2023-08-13T15:37:32.428Z"
   },
   {
    "duration": 42,
    "start_time": "2023-08-13T15:37:32.447Z"
   },
   {
    "duration": 17,
    "start_time": "2023-08-13T15:37:32.496Z"
   },
   {
    "duration": 65,
    "start_time": "2023-08-13T15:37:32.515Z"
   },
   {
    "duration": 61,
    "start_time": "2023-08-13T15:37:32.582Z"
   },
   {
    "duration": 19,
    "start_time": "2023-08-13T15:37:32.645Z"
   },
   {
    "duration": 18,
    "start_time": "2023-08-13T15:37:32.665Z"
   },
   {
    "duration": 5,
    "start_time": "2023-08-13T15:37:32.685Z"
   },
   {
    "duration": 123,
    "start_time": "2023-08-13T15:37:32.691Z"
   },
   {
    "duration": 4,
    "start_time": "2023-08-13T15:37:32.816Z"
   },
   {
    "duration": 350,
    "start_time": "2023-08-13T15:37:32.821Z"
   },
   {
    "duration": 275631,
    "start_time": "2023-08-13T15:37:33.172Z"
   },
   {
    "duration": 4,
    "start_time": "2023-08-13T15:42:08.805Z"
   },
   {
    "duration": 16,
    "start_time": "2023-08-13T15:42:08.811Z"
   },
   {
    "duration": 420,
    "start_time": "2023-08-13T15:42:08.829Z"
   },
   {
    "duration": 9,
    "start_time": "2023-08-13T15:42:09.251Z"
   },
   {
    "duration": 667,
    "start_time": "2023-08-13T15:42:09.262Z"
   },
   {
    "duration": 59,
    "start_time": "2023-08-13T15:42:09.931Z"
   }
  ],
  "kernelspec": {
   "display_name": "Python 3 (ipykernel)",
   "language": "python",
   "name": "python3"
  },
  "language_info": {
   "codemirror_mode": {
    "name": "ipython",
    "version": 3
   },
   "file_extension": ".py",
   "mimetype": "text/x-python",
   "name": "python",
   "nbconvert_exporter": "python",
   "pygments_lexer": "ipython3",
   "version": "3.9.5"
  },
  "toc": {
   "base_numbering": 1,
   "nav_menu": {},
   "number_sections": true,
   "sideBar": true,
   "skip_h1_title": true,
   "title_cell": "Table of Contents",
   "title_sidebar": "Contents",
   "toc_cell": false,
   "toc_position": {},
   "toc_section_display": true,
   "toc_window_display": false
  }
 },
 "nbformat": 4,
 "nbformat_minor": 2
}
